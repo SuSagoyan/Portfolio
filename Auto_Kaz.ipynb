{
 "cells": [
  {
   "cell_type": "markdown",
   "id": "ed0065ed",
   "metadata": {},
   "source": [
    "# Анализ автомобильного рынка Казахстана"
   ]
  },
  {
   "cell_type": "markdown",
   "id": "00056ec4",
   "metadata": {},
   "source": [
    "В датасете представлены данные о продажах автомобилей на территории Казахстана в январе-сентябре 2019 года всеми официальными автодилерами, которые собрала статистическая компания-агрегатор.\n",
    "\n",
    "Данные содержат ошибки и в текущем виде не пригодны для анализа. Задача — очистить данные до состояния, когда их можно анализировать"
   ]
  },
  {
   "cell_type": "markdown",
   "id": "51250a40",
   "metadata": {},
   "source": [
    "Описание данных:\n",
    "\n",
    "Год – год продажи (2019),  \n",
    "Месяц – месяц продажи (январь - сентябрь),  \n",
    "Компания – название автоцентра,  \n",
    "Бренд – название продаваемой марки автомобиля,  \n",
    "Модель – название модели автомобиля,  \n",
    "Модификация – модификация модели автомобиля (удаляем),  \n",
    "Год выпуска – год производства автомобиля,  \n",
    "Страна-производитель – страна, где произведен автомобиль,  \n",
    "Вид топлива – бензин, дизель, электричество, гибрид,  \n",
    "Объём двиг, л – объем двигателя автомобиля в литрах,  \n",
    "Коробка передач – тип коробки переключения передач (оставляем два варианта: автоматическая, механическая, то есть все что не механика ставим автомат, на DSG, S-Tronic и прочее делить не надо, равно как и количество передач),  \n",
    "Тип привода – в итоге оставляем RWD – задний привод, FWD – передний привод, 4WD – полный привод, 2WD – все остальное (подключаемый полный привод и где нет четкого указания передний или задний это привод)  \n",
    "Сегмент – сегмент, к которому относится авто (удаляем)  \n",
    "Регион – регион продажи  \n",
    "Наименование дилерского центра – совпадает с компанией – можно удалить  \n",
    "Тип клиента – юридическое или физическое лицо (в рамках анализа не критично – можно удалить)  \n",
    "Форма расчета – наличный и безналичный расчет (много пропусков – можно удалять)  \n",
    "Количество – количество автомобилей в заказе  \n",
    "Цена USD – цена автомобиля  \n",
    "Продажа USD – цена заказа (цена авто умноженная на количество и за вычетом скидок если есть)  \n",
    "Область – область продажи  \n",
    "Сегментация 2013 – сегмент автомобиля актуальный  \n",
    "Класс 2013 – класс автомобиля актуальный  \n",
    "Сегментация Eng – английская сегментация (удаляем)  \n",
    "Локализация производства – удаляем (совпадает со страной производителем)  \n",
    "\n",
    "Признаки-категории:  \n",
    "сегмент  \n",
    "класс  \n",
    "тип привода  \n",
    "коробка передач  "
   ]
  },
  {
   "cell_type": "code",
   "execution_count": 1,
   "id": "54530147",
   "metadata": {},
   "outputs": [],
   "source": [
    "#импортируем бибилотеки\n",
    "import pandas as pd\n",
    "import numpy as np\n",
    "import matplotlib as mpl\n",
    "import matplotlib.pyplot as plt\n",
    "import seaborn as sns\n",
    "import plotly.graph_objects as go\n",
    "import plotly.express as px\n",
    "import statistics as st\n",
    "import math\n",
    "import warnings"
   ]
  },
  {
   "cell_type": "code",
   "execution_count": 2,
   "id": "cee2429d",
   "metadata": {},
   "outputs": [],
   "source": [
    "#отключаем вывод предупреждений\n",
    "warnings.filterwarnings(\"ignore\")"
   ]
  },
  {
   "cell_type": "code",
   "execution_count": 3,
   "id": "84a1a332",
   "metadata": {},
   "outputs": [],
   "source": [
    "# количество выводимых рядов\n",
    "pd.set_option('display.max_rows', 1000)\n",
    "# число столбцов\n",
    "pd.set_option('display.max_columns', 30)\n",
    "# оличество символов в записи\n",
    "pd.set_option('display.max_colwidth', None)\n",
    "# количество элементов в списке\n",
    "pd.set_option('display.max_seq_items', None)\n",
    "#количество знаков десятичных разрядов\n",
    "pd.set_option('display.float_format', '{:.2f}'.format)"
   ]
  },
  {
   "cell_type": "code",
   "execution_count": 4,
   "id": "76ff11e2",
   "metadata": {},
   "outputs": [],
   "source": [
    "#загрузим файл с данными\n",
    "import pandas as pd\n",
    "auto = pd.read_csv('C:/Users/mrsag/Desktop/данные для проекта/auto_kz_2019_датасет.csv', sep=';', decimal=',')"
   ]
  },
  {
   "cell_type": "code",
   "execution_count": 5,
   "id": "9d011d16",
   "metadata": {},
   "outputs": [
    {
     "data": {
      "text/html": [
       "<div>\n",
       "<style scoped>\n",
       "    .dataframe tbody tr th:only-of-type {\n",
       "        vertical-align: middle;\n",
       "    }\n",
       "\n",
       "    .dataframe tbody tr th {\n",
       "        vertical-align: top;\n",
       "    }\n",
       "\n",
       "    .dataframe thead th {\n",
       "        text-align: right;\n",
       "    }\n",
       "</style>\n",
       "<table border=\"1\" class=\"dataframe\">\n",
       "  <thead>\n",
       "    <tr style=\"text-align: right;\">\n",
       "      <th></th>\n",
       "      <th>Год</th>\n",
       "      <th>Месяц</th>\n",
       "      <th>Компания</th>\n",
       "      <th>Бренд</th>\n",
       "      <th>Модель</th>\n",
       "      <th>Модификация</th>\n",
       "      <th>Год выпуска</th>\n",
       "      <th>Страна-производитель</th>\n",
       "      <th>Вид топлива</th>\n",
       "      <th>Объём двиг, л,</th>\n",
       "      <th>Коробка передач</th>\n",
       "      <th>Тип привода</th>\n",
       "      <th>Сегмент</th>\n",
       "      <th>Регион</th>\n",
       "      <th>Наименование дилерского центра</th>\n",
       "      <th>Тип клиента</th>\n",
       "      <th>Форма расчета</th>\n",
       "      <th>Количество</th>\n",
       "      <th>Цена, USD</th>\n",
       "      <th>Продажа, USD</th>\n",
       "      <th>Область</th>\n",
       "      <th>Сегментация 2013</th>\n",
       "      <th>Класс 2013</th>\n",
       "      <th>Сегментация Eng</th>\n",
       "      <th>Локализация производства</th>\n",
       "    </tr>\n",
       "  </thead>\n",
       "  <tbody>\n",
       "    <tr>\n",
       "      <th>0</th>\n",
       "      <td>2019</td>\n",
       "      <td>Май</td>\n",
       "      <td>Mercur Auto</td>\n",
       "      <td>Audi</td>\n",
       "      <td>A3</td>\n",
       "      <td>TFSI</td>\n",
       "      <td>2018</td>\n",
       "      <td>Германия</td>\n",
       "      <td>Бензин</td>\n",
       "      <td>1,4</td>\n",
       "      <td>S-tronic</td>\n",
       "      <td>передний</td>\n",
       "      <td>Легковые автомобили Premium</td>\n",
       "      <td>Алматы</td>\n",
       "      <td>Mercur Auto Алматы</td>\n",
       "      <td>Физ. Лицо</td>\n",
       "      <td>безналичный</td>\n",
       "      <td>1.00</td>\n",
       "      <td>28115.00</td>\n",
       "      <td>28115.00</td>\n",
       "      <td>г.Алматы</td>\n",
       "      <td>Легковые автомобили</td>\n",
       "      <td>C класс</td>\n",
       "      <td>C</td>\n",
       "      <td>Импорт</td>\n",
       "    </tr>\n",
       "    <tr>\n",
       "      <th>1</th>\n",
       "      <td>2019</td>\n",
       "      <td>Август</td>\n",
       "      <td>Mercur Auto</td>\n",
       "      <td>Audi</td>\n",
       "      <td>A3</td>\n",
       "      <td>TFSI</td>\n",
       "      <td>2018</td>\n",
       "      <td>Германия</td>\n",
       "      <td>Бензин</td>\n",
       "      <td>1,4</td>\n",
       "      <td>S-tronic</td>\n",
       "      <td>передний</td>\n",
       "      <td>Легковые автомобили Premium</td>\n",
       "      <td>Алматы</td>\n",
       "      <td>Mercur Auto Алматы</td>\n",
       "      <td>Юр. Лицо</td>\n",
       "      <td>наличный</td>\n",
       "      <td>1.00</td>\n",
       "      <td>32246.99</td>\n",
       "      <td>32246.99</td>\n",
       "      <td>г.Алматы</td>\n",
       "      <td>Легковые автомобили</td>\n",
       "      <td>C класс</td>\n",
       "      <td>C</td>\n",
       "      <td>Импорт</td>\n",
       "    </tr>\n",
       "    <tr>\n",
       "      <th>2</th>\n",
       "      <td>2019</td>\n",
       "      <td>Апрель</td>\n",
       "      <td>Mercur Auto</td>\n",
       "      <td>Audi</td>\n",
       "      <td>A4</td>\n",
       "      <td>TFSI</td>\n",
       "      <td>2018</td>\n",
       "      <td>Германия</td>\n",
       "      <td>Бензин</td>\n",
       "      <td>1,4</td>\n",
       "      <td>S-Tronic</td>\n",
       "      <td>FWD</td>\n",
       "      <td>Легковые автомобили Premium</td>\n",
       "      <td>Алматы</td>\n",
       "      <td>Mercur Auto Алматы</td>\n",
       "      <td>Физ. Лицо</td>\n",
       "      <td>безналичный</td>\n",
       "      <td>1.00</td>\n",
       "      <td>32000.00</td>\n",
       "      <td>32000.00</td>\n",
       "      <td>г.Алматы</td>\n",
       "      <td>Легковые автомобили</td>\n",
       "      <td>D класс</td>\n",
       "      <td>D</td>\n",
       "      <td>Импорт</td>\n",
       "    </tr>\n",
       "    <tr>\n",
       "      <th>3</th>\n",
       "      <td>2019</td>\n",
       "      <td>Июль</td>\n",
       "      <td>Mercur Auto</td>\n",
       "      <td>Audi</td>\n",
       "      <td>A4</td>\n",
       "      <td>TFSI</td>\n",
       "      <td>2018</td>\n",
       "      <td>Германия</td>\n",
       "      <td>Бензин</td>\n",
       "      <td>1,4</td>\n",
       "      <td>S-tronic</td>\n",
       "      <td>передний</td>\n",
       "      <td>Легковые автомобили Premium</td>\n",
       "      <td>Алматы</td>\n",
       "      <td>Mercur Auto Алматы</td>\n",
       "      <td>Юр. Лицо</td>\n",
       "      <td>безналичный</td>\n",
       "      <td>1.00</td>\n",
       "      <td>31929.00</td>\n",
       "      <td>31929.00</td>\n",
       "      <td>г.Алматы</td>\n",
       "      <td>Легковые автомобили</td>\n",
       "      <td>D класс</td>\n",
       "      <td>D</td>\n",
       "      <td>Импорт</td>\n",
       "    </tr>\n",
       "    <tr>\n",
       "      <th>4</th>\n",
       "      <td>2019</td>\n",
       "      <td>Июль</td>\n",
       "      <td>Mercur Auto</td>\n",
       "      <td>Audi</td>\n",
       "      <td>A4</td>\n",
       "      <td>TFSI</td>\n",
       "      <td>2018</td>\n",
       "      <td>Германия</td>\n",
       "      <td>Бензин</td>\n",
       "      <td>1,4</td>\n",
       "      <td>S-tronic</td>\n",
       "      <td>передний</td>\n",
       "      <td>Легковые автомобили Premium</td>\n",
       "      <td>Алматы</td>\n",
       "      <td>Mercur Auto Алматы</td>\n",
       "      <td>Физ. Лицо</td>\n",
       "      <td>наличный</td>\n",
       "      <td>1.00</td>\n",
       "      <td>31929.00</td>\n",
       "      <td>31929.00</td>\n",
       "      <td>г.Алматы</td>\n",
       "      <td>Легковые автомобили</td>\n",
       "      <td>D класс</td>\n",
       "      <td>D</td>\n",
       "      <td>Импорт</td>\n",
       "    </tr>\n",
       "  </tbody>\n",
       "</table>\n",
       "</div>"
      ],
      "text/plain": [
       "    Год   Месяц     Компания Бренд Модель Модификация Год выпуска  \\\n",
       "0  2019     Май  Mercur Auto  Audi     A3        TFSI        2018   \n",
       "1  2019  Август  Mercur Auto  Audi     A3        TFSI        2018   \n",
       "2  2019  Апрель  Mercur Auto  Audi     A4        TFSI        2018   \n",
       "3  2019    Июль  Mercur Auto  Audi     A4        TFSI        2018   \n",
       "4  2019    Июль  Mercur Auto  Audi     A4        TFSI        2018   \n",
       "\n",
       "  Страна-производитель Вид топлива Объём двиг, л, Коробка передач Тип привода  \\\n",
       "0             Германия      Бензин            1,4        S-tronic    передний   \n",
       "1             Германия      Бензин            1,4        S-tronic    передний   \n",
       "2             Германия      Бензин            1,4        S-Tronic         FWD   \n",
       "3             Германия      Бензин            1,4        S-tronic    передний   \n",
       "4             Германия      Бензин            1,4        S-tronic    передний   \n",
       "\n",
       "                       Сегмент  Регион Наименование дилерского центра  \\\n",
       "0  Легковые автомобили Premium  Алматы             Mercur Auto Алматы   \n",
       "1  Легковые автомобили Premium  Алматы             Mercur Auto Алматы   \n",
       "2  Легковые автомобили Premium  Алматы             Mercur Auto Алматы   \n",
       "3  Легковые автомобили Premium  Алматы             Mercur Auto Алматы   \n",
       "4  Легковые автомобили Premium  Алматы             Mercur Auto Алматы   \n",
       "\n",
       "  Тип клиента Форма расчета  Количество  Цена, USD  Продажа, USD   Область  \\\n",
       "0   Физ. Лицо   безналичный        1.00   28115.00      28115.00  г.Алматы   \n",
       "1    Юр. Лицо      наличный        1.00   32246.99      32246.99  г.Алматы   \n",
       "2   Физ. Лицо   безналичный        1.00   32000.00      32000.00  г.Алматы   \n",
       "3    Юр. Лицо   безналичный        1.00   31929.00      31929.00  г.Алматы   \n",
       "4   Физ. Лицо      наличный        1.00   31929.00      31929.00  г.Алматы   \n",
       "\n",
       "      Сегментация 2013 Класс 2013 Сегментация Eng Локализация производства  \n",
       "0  Легковые автомобили    C класс               C                   Импорт  \n",
       "1  Легковые автомобили    C класс               C                   Импорт  \n",
       "2  Легковые автомобили    D класс               D                   Импорт  \n",
       "3  Легковые автомобили    D класс               D                   Импорт  \n",
       "4  Легковые автомобили    D класс               D                   Импорт  "
      ]
     },
     "execution_count": 5,
     "metadata": {},
     "output_type": "execute_result"
    }
   ],
   "source": [
    "#общая информация о датасете\n",
    "auto.head()"
   ]
  },
  {
   "cell_type": "code",
   "execution_count": 6,
   "id": "58f12b8c",
   "metadata": {},
   "outputs": [
    {
     "name": "stdout",
     "output_type": "stream",
     "text": [
      "Итого имеем 39966 наблюдений с 25 столбцами\n"
     ]
    }
   ],
   "source": [
    "#исходный размер датасета\n",
    "start_shape = auto.shape\n",
    "print(f'Итого имеем {start_shape[0]} наблюдений с {start_shape[1]} столбцами')"
   ]
  },
  {
   "cell_type": "code",
   "execution_count": 7,
   "id": "a262299a",
   "metadata": {},
   "outputs": [
    {
     "name": "stdout",
     "output_type": "stream",
     "text": [
      "['Год', 'Месяц', 'Компания', 'Бренд', 'Модель', 'Модификация', 'Год выпуска', 'Страна-производитель', 'Вид топлива', 'Объём двиг, л,', 'Коробка передач', 'Тип привода', 'Сегмент', 'Регион', 'Наименование дилерского центра', 'Тип клиента', 'Форма расчета', 'Количество', 'Цена, USD', 'Продажа, USD', 'Область', 'Сегментация 2013', 'Класс 2013', 'Сегментация Eng', 'Локализация производства']\n"
     ]
    }
   ],
   "source": [
    "#список колонок\n",
    "old_columns = auto.columns.tolist()\n",
    "print(old_columns)"
   ]
  },
  {
   "cell_type": "code",
   "execution_count": 8,
   "id": "8674fd28",
   "metadata": {},
   "outputs": [],
   "source": [
    "#список новых колонок\n",
    "new_columns = ['year', 'month', 'company', 'brand', 'model', 'modification', 'release_year', 'country', 'fuel_type',\n",
    "         'engine_volume', 'transmission_type', 'drive_type', 'segment', 'region', 'dealer', 'client_type', 'payment_type',\n",
    "         'quantity', 'price_usd', 'sell_price_usd', 'state', 'segment_2013', 'class_2013', 'segment_eng', 'product_localization']"
   ]
  },
  {
   "cell_type": "code",
   "execution_count": 9,
   "id": "50761d2d",
   "metadata": {},
   "outputs": [
    {
     "name": "stdout",
     "output_type": "stream",
     "text": [
      "Год : year\n",
      "Месяц : month\n",
      "Компания : company\n",
      "Бренд : brand\n",
      "Модель : model\n",
      "Модификация : modification\n",
      "Год выпуска : release_year\n",
      "Страна-производитель : country\n",
      "Вид топлива : fuel_type\n",
      "Объём двиг, л, : engine_volume\n",
      "Коробка передач : transmission_type\n",
      "Тип привода : drive_type\n",
      "Сегмент : segment\n",
      "Регион : region\n",
      "Наименование дилерского центра : dealer\n",
      "Тип клиента : client_type\n",
      "Форма расчета : payment_type\n",
      "Количество : quantity\n",
      "Цена, USD : price_usd\n",
      "Продажа, USD : sell_price_usd\n",
      "Область : state\n",
      "Сегментация 2013 : segment_2013\n",
      "Класс 2013 : class_2013\n",
      "Сегментация Eng : segment_eng\n",
      "Локализация производства : product_localization\n"
     ]
    }
   ],
   "source": [
    "#соответсивие двух списков\n",
    "list(zip(old_columns, new_columns))\n",
    "for key, value in zip(old_columns, new_columns):\n",
    "    print(key, ':', value)"
   ]
  },
  {
   "cell_type": "code",
   "execution_count": 10,
   "id": "50821d5f",
   "metadata": {},
   "outputs": [],
   "source": [
    "#замена названия колонок\n",
    "new_col_dict = dict(zip(old_columns, new_columns))\n",
    "auto = auto.rename(columns=new_col_dict)"
   ]
  },
  {
   "cell_type": "code",
   "execution_count": 11,
   "id": "d0cfc2e4",
   "metadata": {},
   "outputs": [
    {
     "data": {
      "text/html": [
       "<div>\n",
       "<style scoped>\n",
       "    .dataframe tbody tr th:only-of-type {\n",
       "        vertical-align: middle;\n",
       "    }\n",
       "\n",
       "    .dataframe tbody tr th {\n",
       "        vertical-align: top;\n",
       "    }\n",
       "\n",
       "    .dataframe thead th {\n",
       "        text-align: right;\n",
       "    }\n",
       "</style>\n",
       "<table border=\"1\" class=\"dataframe\">\n",
       "  <thead>\n",
       "    <tr style=\"text-align: right;\">\n",
       "      <th></th>\n",
       "      <th>year</th>\n",
       "      <th>month</th>\n",
       "      <th>company</th>\n",
       "      <th>brand</th>\n",
       "      <th>model</th>\n",
       "      <th>modification</th>\n",
       "      <th>release_year</th>\n",
       "      <th>country</th>\n",
       "      <th>fuel_type</th>\n",
       "      <th>engine_volume</th>\n",
       "      <th>transmission_type</th>\n",
       "      <th>drive_type</th>\n",
       "      <th>segment</th>\n",
       "      <th>region</th>\n",
       "      <th>dealer</th>\n",
       "      <th>client_type</th>\n",
       "      <th>payment_type</th>\n",
       "      <th>quantity</th>\n",
       "      <th>price_usd</th>\n",
       "      <th>sell_price_usd</th>\n",
       "      <th>state</th>\n",
       "      <th>segment_2013</th>\n",
       "      <th>class_2013</th>\n",
       "      <th>segment_eng</th>\n",
       "      <th>product_localization</th>\n",
       "    </tr>\n",
       "  </thead>\n",
       "  <tbody>\n",
       "    <tr>\n",
       "      <th>0</th>\n",
       "      <td>2019</td>\n",
       "      <td>Май</td>\n",
       "      <td>Mercur Auto</td>\n",
       "      <td>Audi</td>\n",
       "      <td>A3</td>\n",
       "      <td>TFSI</td>\n",
       "      <td>2018</td>\n",
       "      <td>Германия</td>\n",
       "      <td>Бензин</td>\n",
       "      <td>1,4</td>\n",
       "      <td>S-tronic</td>\n",
       "      <td>передний</td>\n",
       "      <td>Легковые автомобили Premium</td>\n",
       "      <td>Алматы</td>\n",
       "      <td>Mercur Auto Алматы</td>\n",
       "      <td>Физ. Лицо</td>\n",
       "      <td>безналичный</td>\n",
       "      <td>1.00</td>\n",
       "      <td>28115.00</td>\n",
       "      <td>28115.00</td>\n",
       "      <td>г.Алматы</td>\n",
       "      <td>Легковые автомобили</td>\n",
       "      <td>C класс</td>\n",
       "      <td>C</td>\n",
       "      <td>Импорт</td>\n",
       "    </tr>\n",
       "    <tr>\n",
       "      <th>1</th>\n",
       "      <td>2019</td>\n",
       "      <td>Август</td>\n",
       "      <td>Mercur Auto</td>\n",
       "      <td>Audi</td>\n",
       "      <td>A3</td>\n",
       "      <td>TFSI</td>\n",
       "      <td>2018</td>\n",
       "      <td>Германия</td>\n",
       "      <td>Бензин</td>\n",
       "      <td>1,4</td>\n",
       "      <td>S-tronic</td>\n",
       "      <td>передний</td>\n",
       "      <td>Легковые автомобили Premium</td>\n",
       "      <td>Алматы</td>\n",
       "      <td>Mercur Auto Алматы</td>\n",
       "      <td>Юр. Лицо</td>\n",
       "      <td>наличный</td>\n",
       "      <td>1.00</td>\n",
       "      <td>32246.99</td>\n",
       "      <td>32246.99</td>\n",
       "      <td>г.Алматы</td>\n",
       "      <td>Легковые автомобили</td>\n",
       "      <td>C класс</td>\n",
       "      <td>C</td>\n",
       "      <td>Импорт</td>\n",
       "    </tr>\n",
       "    <tr>\n",
       "      <th>2</th>\n",
       "      <td>2019</td>\n",
       "      <td>Апрель</td>\n",
       "      <td>Mercur Auto</td>\n",
       "      <td>Audi</td>\n",
       "      <td>A4</td>\n",
       "      <td>TFSI</td>\n",
       "      <td>2018</td>\n",
       "      <td>Германия</td>\n",
       "      <td>Бензин</td>\n",
       "      <td>1,4</td>\n",
       "      <td>S-Tronic</td>\n",
       "      <td>FWD</td>\n",
       "      <td>Легковые автомобили Premium</td>\n",
       "      <td>Алматы</td>\n",
       "      <td>Mercur Auto Алматы</td>\n",
       "      <td>Физ. Лицо</td>\n",
       "      <td>безналичный</td>\n",
       "      <td>1.00</td>\n",
       "      <td>32000.00</td>\n",
       "      <td>32000.00</td>\n",
       "      <td>г.Алматы</td>\n",
       "      <td>Легковые автомобили</td>\n",
       "      <td>D класс</td>\n",
       "      <td>D</td>\n",
       "      <td>Импорт</td>\n",
       "    </tr>\n",
       "    <tr>\n",
       "      <th>3</th>\n",
       "      <td>2019</td>\n",
       "      <td>Июль</td>\n",
       "      <td>Mercur Auto</td>\n",
       "      <td>Audi</td>\n",
       "      <td>A4</td>\n",
       "      <td>TFSI</td>\n",
       "      <td>2018</td>\n",
       "      <td>Германия</td>\n",
       "      <td>Бензин</td>\n",
       "      <td>1,4</td>\n",
       "      <td>S-tronic</td>\n",
       "      <td>передний</td>\n",
       "      <td>Легковые автомобили Premium</td>\n",
       "      <td>Алматы</td>\n",
       "      <td>Mercur Auto Алматы</td>\n",
       "      <td>Юр. Лицо</td>\n",
       "      <td>безналичный</td>\n",
       "      <td>1.00</td>\n",
       "      <td>31929.00</td>\n",
       "      <td>31929.00</td>\n",
       "      <td>г.Алматы</td>\n",
       "      <td>Легковые автомобили</td>\n",
       "      <td>D класс</td>\n",
       "      <td>D</td>\n",
       "      <td>Импорт</td>\n",
       "    </tr>\n",
       "    <tr>\n",
       "      <th>4</th>\n",
       "      <td>2019</td>\n",
       "      <td>Июль</td>\n",
       "      <td>Mercur Auto</td>\n",
       "      <td>Audi</td>\n",
       "      <td>A4</td>\n",
       "      <td>TFSI</td>\n",
       "      <td>2018</td>\n",
       "      <td>Германия</td>\n",
       "      <td>Бензин</td>\n",
       "      <td>1,4</td>\n",
       "      <td>S-tronic</td>\n",
       "      <td>передний</td>\n",
       "      <td>Легковые автомобили Premium</td>\n",
       "      <td>Алматы</td>\n",
       "      <td>Mercur Auto Алматы</td>\n",
       "      <td>Физ. Лицо</td>\n",
       "      <td>наличный</td>\n",
       "      <td>1.00</td>\n",
       "      <td>31929.00</td>\n",
       "      <td>31929.00</td>\n",
       "      <td>г.Алматы</td>\n",
       "      <td>Легковые автомобили</td>\n",
       "      <td>D класс</td>\n",
       "      <td>D</td>\n",
       "      <td>Импорт</td>\n",
       "    </tr>\n",
       "  </tbody>\n",
       "</table>\n",
       "</div>"
      ],
      "text/plain": [
       "   year   month      company brand model modification release_year   country  \\\n",
       "0  2019     Май  Mercur Auto  Audi    A3         TFSI         2018  Германия   \n",
       "1  2019  Август  Mercur Auto  Audi    A3         TFSI         2018  Германия   \n",
       "2  2019  Апрель  Mercur Auto  Audi    A4         TFSI         2018  Германия   \n",
       "3  2019    Июль  Mercur Auto  Audi    A4         TFSI         2018  Германия   \n",
       "4  2019    Июль  Mercur Auto  Audi    A4         TFSI         2018  Германия   \n",
       "\n",
       "  fuel_type engine_volume transmission_type drive_type  \\\n",
       "0    Бензин           1,4          S-tronic   передний   \n",
       "1    Бензин           1,4          S-tronic   передний   \n",
       "2    Бензин           1,4          S-Tronic        FWD   \n",
       "3    Бензин           1,4          S-tronic   передний   \n",
       "4    Бензин           1,4          S-tronic   передний   \n",
       "\n",
       "                       segment  region              dealer client_type  \\\n",
       "0  Легковые автомобили Premium  Алматы  Mercur Auto Алматы   Физ. Лицо   \n",
       "1  Легковые автомобили Premium  Алматы  Mercur Auto Алматы    Юр. Лицо   \n",
       "2  Легковые автомобили Premium  Алматы  Mercur Auto Алматы   Физ. Лицо   \n",
       "3  Легковые автомобили Premium  Алматы  Mercur Auto Алматы    Юр. Лицо   \n",
       "4  Легковые автомобили Premium  Алматы  Mercur Auto Алматы   Физ. Лицо   \n",
       "\n",
       "  payment_type  quantity  price_usd  sell_price_usd     state  \\\n",
       "0  безналичный      1.00   28115.00        28115.00  г.Алматы   \n",
       "1     наличный      1.00   32246.99        32246.99  г.Алматы   \n",
       "2  безналичный      1.00   32000.00        32000.00  г.Алматы   \n",
       "3  безналичный      1.00   31929.00        31929.00  г.Алматы   \n",
       "4     наличный      1.00   31929.00        31929.00  г.Алматы   \n",
       "\n",
       "          segment_2013 class_2013 segment_eng product_localization  \n",
       "0  Легковые автомобили    C класс           C               Импорт  \n",
       "1  Легковые автомобили    C класс           C               Импорт  \n",
       "2  Легковые автомобили    D класс           D               Импорт  \n",
       "3  Легковые автомобили    D класс           D               Импорт  \n",
       "4  Легковые автомобили    D класс           D               Импорт  "
      ]
     },
     "execution_count": 11,
     "metadata": {},
     "output_type": "execute_result"
    }
   ],
   "source": [
    "#общая информация\n",
    "auto.head()"
   ]
  },
  {
   "cell_type": "code",
   "execution_count": 12,
   "id": "63779128",
   "metadata": {
    "scrolled": false
   },
   "outputs": [
    {
     "name": "stdout",
     "output_type": "stream",
     "text": [
      "<class 'pandas.core.frame.DataFrame'>\n",
      "RangeIndex: 39966 entries, 0 to 39965\n",
      "Data columns (total 25 columns):\n",
      " #   Column                Non-Null Count  Dtype  \n",
      "---  ------                --------------  -----  \n",
      " 0   year                  39966 non-null  int64  \n",
      " 1   month                 39966 non-null  object \n",
      " 2   company               39966 non-null  object \n",
      " 3   brand                 39966 non-null  object \n",
      " 4   model                 39966 non-null  object \n",
      " 5   modification          36375 non-null  object \n",
      " 6   release_year          39465 non-null  object \n",
      " 7   country               39966 non-null  object \n",
      " 8   fuel_type             36826 non-null  object \n",
      " 9   engine_volume         35708 non-null  object \n",
      " 10  transmission_type     36711 non-null  object \n",
      " 11  drive_type            35677 non-null  object \n",
      " 12  segment               33205 non-null  object \n",
      " 13  region                39966 non-null  object \n",
      " 14  dealer                39966 non-null  object \n",
      " 15  client_type           32919 non-null  object \n",
      " 16  payment_type          14038 non-null  object \n",
      " 17  quantity              39960 non-null  float64\n",
      " 18  price_usd             39966 non-null  float64\n",
      " 19  sell_price_usd        39966 non-null  float64\n",
      " 20  state                 39966 non-null  object \n",
      " 21  segment_2013          39966 non-null  object \n",
      " 22  class_2013            39966 non-null  object \n",
      " 23  segment_eng           39966 non-null  object \n",
      " 24  product_localization  39966 non-null  object \n",
      "dtypes: float64(3), int64(1), object(21)\n",
      "memory usage: 7.6+ MB\n"
     ]
    }
   ],
   "source": [
    "auto.info()"
   ]
  },
  {
   "cell_type": "code",
   "execution_count": 13,
   "id": "a3806982",
   "metadata": {},
   "outputs": [],
   "source": [
    "#замена типа данных\n",
    "auto['engine_volume'] = auto['engine_volume'].astype('str')"
   ]
  },
  {
   "cell_type": "code",
   "execution_count": 14,
   "id": "39bb6248",
   "metadata": {},
   "outputs": [
    {
     "data": {
      "text/plain": [
       "year                        0\n",
       "class_2013                  0\n",
       "segment_2013                0\n",
       "state                       0\n",
       "sell_price_usd              0\n",
       "price_usd                   0\n",
       "dealer                      0\n",
       "region                      0\n",
       "segment_eng                 0\n",
       "product_localization        0\n",
       "country                     0\n",
       "model                       0\n",
       "brand                       0\n",
       "company                     0\n",
       "month                       0\n",
       "engine_volume               0\n",
       "quantity                    6\n",
       "release_year              501\n",
       "fuel_type                3140\n",
       "transmission_type        3255\n",
       "modification             3591\n",
       "drive_type               4289\n",
       "segment                  6761\n",
       "client_type              7047\n",
       "payment_type            25928\n",
       "dtype: int64"
      ]
     },
     "execution_count": 14,
     "metadata": {},
     "output_type": "execute_result"
    }
   ],
   "source": [
    "#количество пропусков\n",
    "auto.isna().sum().sort_values()"
   ]
  },
  {
   "cell_type": "code",
   "execution_count": 15,
   "id": "9712a17d",
   "metadata": {},
   "outputs": [
    {
     "data": {
      "text/plain": [
       "'% пропусков:'"
      ]
     },
     "metadata": {},
     "output_type": "display_data"
    },
    {
     "data": {
      "text/plain": [
       "year                    0.00\n",
       "class_2013              0.00\n",
       "segment_2013            0.00\n",
       "state                   0.00\n",
       "sell_price_usd          0.00\n",
       "price_usd               0.00\n",
       "dealer                  0.00\n",
       "region                  0.00\n",
       "segment_eng             0.00\n",
       "product_localization    0.00\n",
       "country                 0.00\n",
       "model                   0.00\n",
       "brand                   0.00\n",
       "company                 0.00\n",
       "month                   0.00\n",
       "engine_volume           0.00\n",
       "quantity                0.02\n",
       "release_year            1.25\n",
       "fuel_type               7.86\n",
       "transmission_type       8.14\n",
       "modification            8.99\n",
       "drive_type             10.73\n",
       "segment                16.92\n",
       "client_type            17.63\n",
       "payment_type           64.88\n",
       "dtype: float64"
      ]
     },
     "metadata": {},
     "output_type": "display_data"
    }
   ],
   "source": [
    "#процент пропусков\n",
    "display('% пропусков:',round(auto.isna().sum()/len(auto)*100,2).sort_values())"
   ]
  },
  {
   "cell_type": "code",
   "execution_count": 16,
   "id": "cac3ab29",
   "metadata": {},
   "outputs": [
    {
     "data": {
      "text/html": [
       "<div>\n",
       "<style scoped>\n",
       "    .dataframe tbody tr th:only-of-type {\n",
       "        vertical-align: middle;\n",
       "    }\n",
       "\n",
       "    .dataframe tbody tr th {\n",
       "        vertical-align: top;\n",
       "    }\n",
       "\n",
       "    .dataframe thead th {\n",
       "        text-align: right;\n",
       "    }\n",
       "</style>\n",
       "<table border=\"1\" class=\"dataframe\">\n",
       "  <thead>\n",
       "    <tr style=\"text-align: right;\">\n",
       "      <th></th>\n",
       "      <th>year</th>\n",
       "      <th>quantity</th>\n",
       "      <th>price_usd</th>\n",
       "      <th>sell_price_usd</th>\n",
       "    </tr>\n",
       "  </thead>\n",
       "  <tbody>\n",
       "    <tr>\n",
       "      <th>count</th>\n",
       "      <td>39966.00</td>\n",
       "      <td>39960.00</td>\n",
       "      <td>39966.00</td>\n",
       "      <td>39966.00</td>\n",
       "    </tr>\n",
       "    <tr>\n",
       "      <th>mean</th>\n",
       "      <td>2019.00</td>\n",
       "      <td>1.35</td>\n",
       "      <td>28250.16</td>\n",
       "      <td>33757.67</td>\n",
       "    </tr>\n",
       "    <tr>\n",
       "      <th>std</th>\n",
       "      <td>0.00</td>\n",
       "      <td>2.37</td>\n",
       "      <td>20005.76</td>\n",
       "      <td>50702.45</td>\n",
       "    </tr>\n",
       "    <tr>\n",
       "      <th>min</th>\n",
       "      <td>2019.00</td>\n",
       "      <td>-1.00</td>\n",
       "      <td>7100.00</td>\n",
       "      <td>-35588.25</td>\n",
       "    </tr>\n",
       "    <tr>\n",
       "      <th>25%</th>\n",
       "      <td>2019.00</td>\n",
       "      <td>1.00</td>\n",
       "      <td>15518.50</td>\n",
       "      <td>16601.93</td>\n",
       "    </tr>\n",
       "    <tr>\n",
       "      <th>50%</th>\n",
       "      <td>2019.00</td>\n",
       "      <td>1.00</td>\n",
       "      <td>24282.27</td>\n",
       "      <td>26248.96</td>\n",
       "    </tr>\n",
       "    <tr>\n",
       "      <th>75%</th>\n",
       "      <td>2019.00</td>\n",
       "      <td>1.00</td>\n",
       "      <td>32505.66</td>\n",
       "      <td>35000.00</td>\n",
       "    </tr>\n",
       "    <tr>\n",
       "      <th>max</th>\n",
       "      <td>2019.00</td>\n",
       "      <td>115.00</td>\n",
       "      <td>328510.97</td>\n",
       "      <td>3778206.26</td>\n",
       "    </tr>\n",
       "  </tbody>\n",
       "</table>\n",
       "</div>"
      ],
      "text/plain": [
       "          year  quantity  price_usd  sell_price_usd\n",
       "count 39966.00  39960.00   39966.00        39966.00\n",
       "mean   2019.00      1.35   28250.16        33757.67\n",
       "std       0.00      2.37   20005.76        50702.45\n",
       "min    2019.00     -1.00    7100.00       -35588.25\n",
       "25%    2019.00      1.00   15518.50        16601.93\n",
       "50%    2019.00      1.00   24282.27        26248.96\n",
       "75%    2019.00      1.00   32505.66        35000.00\n",
       "max    2019.00    115.00  328510.97      3778206.26"
      ]
     },
     "execution_count": 16,
     "metadata": {},
     "output_type": "execute_result"
    }
   ],
   "source": [
    "#информация о мин, макс, средних значениях\n",
    "auto.describe()"
   ]
  },
  {
   "cell_type": "markdown",
   "id": "2cbf9f1a",
   "metadata": {},
   "source": [
    "Проверка дубликатов"
   ]
  },
  {
   "cell_type": "code",
   "execution_count": 17,
   "id": "e8f94ca2",
   "metadata": {},
   "outputs": [
    {
     "data": {
      "text/plain": [
       "18698"
      ]
     },
     "execution_count": 17,
     "metadata": {},
     "output_type": "execute_result"
    }
   ],
   "source": [
    "#дубликаты\n",
    "auto.duplicated().sum()"
   ]
  },
  {
   "cell_type": "code",
   "execution_count": 18,
   "id": "7d1c9817",
   "metadata": {},
   "outputs": [],
   "source": [
    "#приведем названия к нижнему регистру\n",
    "auto['company'] = auto['company'].str.lower()"
   ]
  },
  {
   "cell_type": "code",
   "execution_count": 19,
   "id": "f83294c3",
   "metadata": {},
   "outputs": [
    {
     "data": {
      "text/plain": [
       "array(['mercur auto', 'автоцентр-бавария', 'бипэк авто', 'вираж',\n",
       "       'eurasia motor premium', 'daewoo bus kazakhstan', 'caspian motors',\n",
       "       'каспиан моторс', 'семаз', 'astana motors', 'astana motors ',\n",
       "       'hyundai com trans kazakhstan ', 'nissan manufacturing rus',\n",
       "       'свс-транс', 'allur auto', 'almaty motors premium', 'terra motors',\n",
       "       'тк камаз', 'toyota motor kazakhstan', 'лифан моторс рус',\n",
       "       'man truck & bus kazakhstan', 'автомир гк', 'autokapital',\n",
       "       'автокапитал', 'ммс рус', 'mmc rus', 'mercur autos',\n",
       "       'узавто-казахстан', 'равон моторс казахстан',\n",
       "       'ravon motors kazakstan', 'renault россия', 'scania central asia',\n",
       "       'subaru kazakhstan', 'volkswagen group rus', 'автодом motors kst',\n",
       "       'автомир-центр', 'тоо \"eurasia motor zhaik\"',\n",
       "       'scandinavian motors', 'хино моторс казахстан', 'hino motors '],\n",
       "      dtype=object)"
      ]
     },
     "execution_count": 19,
     "metadata": {},
     "output_type": "execute_result"
    }
   ],
   "source": [
    "#уникальные названия команий\n",
    "auto['company'].unique()"
   ]
  },
  {
   "cell_type": "code",
   "execution_count": 20,
   "id": "d39cb12e",
   "metadata": {},
   "outputs": [],
   "source": [
    "#уберем неявные дубликаты\n",
    "auto = auto.apply(lambda x:x.replace(\n",
    "    {'mercur autos':'mercur auto','каспиан моторс':'caspian motors', 'ммс рус':'mmc rus','автокапитал':'autokapital',\n",
    "     'равон моторс казахстан':'ravon motors kazakstan', 'astana motors ':'astana motors',\n",
    "     'хино моторс казахстан':'hino motors','тоо \"eurasia motor zhaik\"':'тоо eurasia motor zhaik', 'hyundai com trans kazakhstan ': 'hyundai com trans kazakhstan'}, regex=True))      "
   ]
  },
  {
   "cell_type": "code",
   "execution_count": 21,
   "id": "78111cab",
   "metadata": {},
   "outputs": [
    {
     "data": {
      "text/plain": [
       "array(['mercur auto', 'автоцентр-бавария', 'бипэк авто', 'вираж',\n",
       "       'eurasia motor premium', 'daewoo bus kazakhstan', 'caspian motors',\n",
       "       'семаз', 'astana motors', 'hyundai com trans kazakhstan',\n",
       "       'nissan manufacturing rus', 'свс-транс', 'allur auto',\n",
       "       'almaty motors premium', 'terra motors', 'тк камаз',\n",
       "       'toyota motor kazakhstan', 'лифан моторс рус',\n",
       "       'man truck & bus kazakhstan', 'автомир гк', 'autokapital',\n",
       "       'mmc rus', 'узавто-казахстан', 'ravon motors kazakstan',\n",
       "       'renault россия', 'scania central asia', 'subaru kazakhstan',\n",
       "       'volkswagen group rus', 'автодом motors kst', 'автомир-центр',\n",
       "       'тоо eurasia motor zhaik', 'scandinavian motors', 'hino motors',\n",
       "       'hino motors '], dtype=object)"
      ]
     },
     "execution_count": 21,
     "metadata": {},
     "output_type": "execute_result"
    }
   ],
   "source": [
    "auto['company'].unique()"
   ]
  },
  {
   "cell_type": "code",
   "execution_count": 22,
   "id": "c89cd49a",
   "metadata": {},
   "outputs": [
    {
     "data": {
      "text/plain": [
       "array(['2018', '2017', '2019', nan, '2016', '2014', '2013', '2011',\n",
       "       '2\\xa0018', '2\\xa0019'], dtype=object)"
      ]
     },
     "execution_count": 22,
     "metadata": {},
     "output_type": "execute_result"
    }
   ],
   "source": [
    "#проверим колонку \"год выпуска\"\n",
    "auto['release_year'].unique()"
   ]
  },
  {
   "cell_type": "code",
   "execution_count": 23,
   "id": "023703f8",
   "metadata": {},
   "outputs": [],
   "source": [
    "# заменим ошибки\n",
    "error_years = {'2\\xa0018':'2018', '2\\xa0019': '2019'}\n",
    "auto['release_year'] = auto['release_year'].replace(error_years, regex=True)"
   ]
  },
  {
   "cell_type": "code",
   "execution_count": 24,
   "id": "bff2b0eb",
   "metadata": {},
   "outputs": [
    {
     "data": {
      "text/plain": [
       "array(['2018', '2017', '2019', nan, '2016', '2014', '2013', '2011'],\n",
       "      dtype=object)"
      ]
     },
     "execution_count": 24,
     "metadata": {},
     "output_type": "execute_result"
    }
   ],
   "source": [
    "auto['release_year'].unique()"
   ]
  },
  {
   "cell_type": "code",
   "execution_count": 25,
   "id": "af1dd3d1",
   "metadata": {},
   "outputs": [
    {
     "data": {
      "text/plain": [
       "array(['Германия', 'США', 'Австрия', 'Республика Казахстан',\n",
       "       'Российская Федерация', 'Корея', 'Япония', 'Таиланд', 'Китай',\n",
       "       'UK', 'Узбекистан', 'Венгрия', 'Турция', 'Испания', 'Нидерланды',\n",
       "       'Польша', 'Швеция', 'Белоруссия', 'Бельгия'], dtype=object)"
      ]
     },
     "execution_count": 25,
     "metadata": {},
     "output_type": "execute_result"
    }
   ],
   "source": [
    "#уникальные названия стран\n",
    "auto['country'].unique()"
   ]
  },
  {
   "cell_type": "code",
   "execution_count": 26,
   "id": "ab137b1a",
   "metadata": {},
   "outputs": [],
   "source": [
    "countries_codes = (pd.read_html('https://www.artlebedev.ru/country-list/', encoding='utf8')[0]\n",
    " [['Наименование', 'Полное наименование', 'Alpha3']]\n",
    " .rename(columns={'Наименование':'name', 'Полное наименование':'full_name'}))"
   ]
  },
  {
   "cell_type": "code",
   "execution_count": 27,
   "id": "e9724af6",
   "metadata": {},
   "outputs": [],
   "source": [
    "countries_codes_dict = {}\n",
    "for i in range(len(countries_codes)):\n",
    "    if countries_codes.loc[i]['name'] not in countries_codes_dict:\n",
    "        countries_codes_dict[countries_codes.loc[i]['name']] = countries_codes.loc[i]['Alpha3']\n",
    "    if countries_codes.loc[i]['full_name'] not in countries_codes_dict:\n",
    "        countries_codes_dict[countries_codes.loc[i]['full_name']] =countries_codes.loc[i]['Alpha3']"
   ]
  },
  {
   "cell_type": "code",
   "execution_count": 28,
   "id": "e2b347b1",
   "metadata": {},
   "outputs": [],
   "source": [
    "auto.country = auto.country.apply(lambda cell: countries_codes_dict.get(cell, cell))"
   ]
  },
  {
   "cell_type": "code",
   "execution_count": 29,
   "id": "4903ffed",
   "metadata": {},
   "outputs": [
    {
     "data": {
      "text/plain": [
       "array(['DEU', 'США', 'AUT', 'KAZ', 'RUS', 'Корея', 'JPN', 'THA', 'CHN',\n",
       "       'UK', 'UZB', 'HUN', 'TUR', 'ESP', 'NLD', 'POL', 'SWE',\n",
       "       'Белоруссия', 'BEL'], dtype=object)"
      ]
     },
     "execution_count": 29,
     "metadata": {},
     "output_type": "execute_result"
    }
   ],
   "source": [
    "auto.country.unique()"
   ]
  },
  {
   "cell_type": "code",
   "execution_count": 30,
   "id": "8c3472be",
   "metadata": {},
   "outputs": [
    {
     "data": {
      "text/plain": [
       "array(['DEU', 'USA', 'AUT', 'KAZ', 'RUS', 'KOR', 'JPN', 'THA', 'CHN',\n",
       "       'UK', 'UZB', 'HUN', 'TUR', 'ESP', 'NLD', 'POL', 'SWE', 'BLR',\n",
       "       'BEL'], dtype=object)"
      ]
     },
     "execution_count": 30,
     "metadata": {},
     "output_type": "execute_result"
    }
   ],
   "source": [
    "auto.country = (\n",
    "    auto.country.str.replace('США', 'USA')\n",
    "    .str.replace('Корея', 'KOR')\n",
    "    .str.replace('Белоруссия', 'BLR'))\n",
    "auto.country.unique()"
   ]
  },
  {
   "cell_type": "code",
   "execution_count": 31,
   "id": "50340361",
   "metadata": {},
   "outputs": [
    {
     "data": {
      "text/plain": [
       "array(['Бензин', 'Дизель', nan, 'дизель ', 'бензин ', 'гибрид', '2',\n",
       "       '1,6', '0', 'Электро', 'Электричество'], dtype=object)"
      ]
     },
     "execution_count": 31,
     "metadata": {},
     "output_type": "execute_result"
    }
   ],
   "source": [
    "#уникальные значения вида топлива\n",
    "auto['fuel_type'].unique()"
   ]
  },
  {
   "cell_type": "code",
   "execution_count": 32,
   "id": "fa38a70c",
   "metadata": {},
   "outputs": [],
   "source": [
    "auto['fuel_type'] = auto['fuel_type'].str.lower()"
   ]
  },
  {
   "cell_type": "code",
   "execution_count": 33,
   "id": "ace192bd",
   "metadata": {},
   "outputs": [
    {
     "data": {
      "text/plain": [
       "array(['бензин', 'дизель', nan, 'гибрид', '2', '1,6', '0', 'электро',\n",
       "       'электричество'], dtype=object)"
      ]
     },
     "execution_count": 33,
     "metadata": {},
     "output_type": "execute_result"
    }
   ],
   "source": [
    "#удаляем лишние пропуски\n",
    "auto['fuel_type'].replace(regex=True,inplace=True,to_replace=r'\\s{1,}',value=r'')\n",
    "auto['fuel_type'].unique()"
   ]
  },
  {
   "cell_type": "code",
   "execution_count": 34,
   "id": "f0d7ac28",
   "metadata": {},
   "outputs": [],
   "source": [
    "#создадим функцию categorize_drive_type для распределения типов привода на категории\n",
    "def categorize_fuel_type(cell):\n",
    "  if cell in ['бензин', '2', '1,6', '0']:\n",
    "    return 'F' #бензин\n",
    "\n",
    "  elif cell in ['дизель']:\n",
    "    return 'D'#дизель\n",
    "\n",
    "  elif cell in ['электро','электричество']:\n",
    "    return 'E' #электро\n",
    "\n",
    "  return 'HYB' #гибрид"
   ]
  },
  {
   "cell_type": "code",
   "execution_count": 35,
   "id": "f56cc5cc",
   "metadata": {},
   "outputs": [
    {
     "data": {
      "text/plain": [
       "array(['F', 'D', 'HYB', 'E'], dtype=object)"
      ]
     },
     "execution_count": 35,
     "metadata": {},
     "output_type": "execute_result"
    }
   ],
   "source": [
    "auto['fuel_type'] = auto['fuel_type'].apply(categorize_fuel_type)\n",
    "auto['fuel_type'].unique()"
   ]
  },
  {
   "cell_type": "code",
   "execution_count": 36,
   "id": "5dcd7093",
   "metadata": {},
   "outputs": [
    {
     "data": {
      "text/plain": [
       "array(['1,4', '2', '3', '4,4', '6,6', '1,5', '1,596', '2,4', '1,7',\n",
       "       '26,7', '25,7', '24,7', '23,7', '22,7', '21,7', '20,7', '19,7',\n",
       "       '18,7', '17,7', '16,7', '15,7', '14,7', '13,7', '12,7', '11,7',\n",
       "       '10,7', '9,7', '8,7', '7,7', '6,7', '5,7', '4,7', '3,7', '2,7',\n",
       "       '6,2', '1,4 Turbo', '2,5', '1,6', 'nan', '2,8', '4,3', '4,3,',\n",
       "       '1,6 MPI', '2,0 MPI', '2,4 GDI', '2,4 MPI', '2,5 CRDI VGT',\n",
       "       '2,5 CRDI WGT', '3,9', '7,5', '12,3', '1,6 T-GDI', '2,0 CRDI',\n",
       "       '2.0', '3,5', '5,6', '5,2', '3,0 L', '1.6', '1.5', '5', '1,598',\n",
       "       '1,248', '1,998', '2,359', '1,999', '3,342', '1,591', '3,47',\n",
       "       '1,69', '1,774', '2.5', '2.7 ', '3.5', '2.7', '4.6', '4,6', '5.7',\n",
       "       '1,8', '10,5', '4', '5,5', '12', '12,8', '11', '2,2', '1,2',\n",
       "       '1,485', 'MT', 'AT', '0', '13', '1,33', '#Н/Д', '4.0', '2.4G',\n",
       "       '2,4G', '2.8', '2,693', '2,0', '3,8', '3.8', '1,2T', '3,6', '7,6',\n",
       "       '4,9', '2.0h', '2,9', '400 Л.С.', '4,98 L,', '4,98', '88 KWH',\n",
       "       '8,4 L,', '6,7L', '6,5'], dtype=object)"
      ]
     },
     "execution_count": 36,
     "metadata": {},
     "output_type": "execute_result"
    }
   ],
   "source": [
    "#уникальные значения объема двигателя\n",
    "auto['engine_volume'].unique()"
   ]
  },
  {
   "cell_type": "code",
   "execution_count": 37,
   "id": "1c4ee156",
   "metadata": {},
   "outputs": [],
   "source": [
    "#корректиурем данные\n",
    "auto.loc[auto.engine_volume == '400 Л.С.', 'engine_volume'] = 2\n",
    "auto.loc[auto.engine_volume == '88 KWH', 'engine_volume'] = 0\n",
    "auto = auto.query('engine_volume != [\"MT\",\"AT\",\"#Н/Д\"]')\n"
   ]
  },
  {
   "cell_type": "code",
   "execution_count": 38,
   "id": "c4d4a327",
   "metadata": {
    "scrolled": true
   },
   "outputs": [
    {
     "data": {
      "text/plain": [
       "array(['1.4', '2', '3', '4.4', '6.6', '1.5', '1.596', '2.4', '1.7',\n",
       "       '26.7', '25.7', '24.7', '23.7', '22.7', '21.7', '20.7', '19.7',\n",
       "       '18.7', '17.7', '16.7', '15.7', '14.7', '13.7', '12.7', '11.7',\n",
       "       '10.7', '9.7', '8.7', '7.7', '6.7', '5.7', '4.7', '3.7', '2.7',\n",
       "       '6.2', '1.4 ', '2.5', '1.6', 'nan', '2.8', '4.3', '4.3.', '1.6 ',\n",
       "       '2.0 ', '2.4 ', '2.5  ', '3.9', '7.5', '12.3', '1.6-', '2.0',\n",
       "       '3.5', '5.6', '5.2', '3.0', '5', '1.598', '1.248', '1.998',\n",
       "       '2.359', '1.999', '3.342', '1.591', '3.47', '1.69', '1.774',\n",
       "       '2.7 ', '4.6', '1.8', '10.5', '4', '5.5', '12', '12.8', '11',\n",
       "       '2.2', '1.2', '1.485', '0', '13', '1.33', '4.0', '2.693', '3.8',\n",
       "       '3.6', '7.6', '4.9', '2.9', '4.98', '8.4', '6.5'], dtype=object)"
      ]
     },
     "execution_count": 38,
     "metadata": {},
     "output_type": "execute_result"
    }
   ],
   "source": [
    "#заменяем значения\n",
    "auto['engine_volume'] = auto['engine_volume'].astype('str')\n",
    "auto['engine_volume'] = auto['engine_volume'].replace({',':'.', 'Turbo':'','MPI':'','GDI':'','CRDIVGT':'',\n",
    "                                      '1.6 T-GDI':'1.6','CRDI':'','WGT':'','KWH':'','400 Л.С.':'2',\n",
    "                                      'VGT':'','1.6 T':'1.6', '1.6-':'1.6','3.0 L':'3.0','1.2T':'1.2','2.0h':'2.0',\n",
    "                                      '4.98 L.':'4.98','8.4 L.':'8.4','6.7L':'6.7','2.4G':'2.4'},regex=True)\n",
    "auto['engine_volume'] = \\\n",
    "[x.replace(',', '.') for x in auto['engine_volume']]\n",
    "auto['engine_volume'].unique()    "
   ]
  },
  {
   "cell_type": "code",
   "execution_count": 39,
   "id": "192e404f",
   "metadata": {},
   "outputs": [
    {
     "data": {
      "text/plain": [
       "array(['S-tronic', 'S-Tronic', 'Tiptronic', 'АКПП', 'АКП', 'Steptronic',\n",
       "       'AT', '6 АТ', '5 МТ', '6АТ', 'MT', '8AT', '5МТ', 'Powershift S6',\n",
       "       '6AT', nan, 'Мех.', '6 AT', '6 MT', '6MT', '5 AT', '5AT', 'МКПП',\n",
       "       '7 DCT', '7DCT', '8 AT', 'МТ', 'CVT', 'DCT', '4 АТ', '6 МТ', '6МТ',\n",
       "       '4АТ', '4AT', '8АТ', '8 АТ', '5MT', 'AMT', 'CVT (вариатор)',\n",
       "       'CVT (вариATор)', 'CVT(вAриATор)', '7G-TRONIC', '9G-TRONIC',\n",
       "       '12AT', '12АТ', '5АТ', '7АТ', '7AT', '6M/T', 'PDK', '8-ступ АКПП',\n",
       "       '8', '8АКПП', '8 АКПП Tiptronic S', '7 АКПП (PDK)', '7 АКПП PDK',\n",
       "       '8 АКПП (PDK)', 'АТ', 'АT', 'МT', '0', '7 DSG', '7DSG', '6 DSG',\n",
       "       '6DSG', 'DSG', '6A', '6А', '5M', 'A/T', 'M/T', 'МКП', '5М', 'М/T',\n",
       "       ' 7 АКП', '7АКП', 'А/T', '8A', 'TDI', '9AT', 'РЕДУКТОР'],\n",
       "      dtype=object)"
      ]
     },
     "execution_count": 39,
     "metadata": {},
     "output_type": "execute_result"
    }
   ],
   "source": [
    "#уникальные значения типа коробки передач\n",
    "auto['transmission_type'].unique()"
   ]
  },
  {
   "cell_type": "code",
   "execution_count": 40,
   "id": "f20ff69c",
   "metadata": {},
   "outputs": [
    {
     "data": {
      "text/plain": [
       "array(['S-tronic', 'S-Tronic', 'Tiptronic', 'АКПП', 'АКП', 'Steptronic',\n",
       "       'AT', '6АТ', '5МТ', 'MT', '8AT', 'PowershiftS6', '6AT', nan,\n",
       "       'Мех.', '6MT', '5AT', 'МКПП', '7DCT', 'МТ', 'CVT', 'DCT', '4АТ',\n",
       "       '6МТ', '4AT', '8АТ', '5MT', 'AMT', 'CVT(вариатор)',\n",
       "       'CVT(вариATор)', 'CVT(вAриATор)', '7G-TRONIC', '9G-TRONIC', '12AT',\n",
       "       '12АТ', '5АТ', '7АТ', '7AT', '6M/T', 'PDK', '8-ступАКПП', '8',\n",
       "       '8АКПП', '8АКППTiptronicS', '7АКПП(PDK)', '7АКППPDK', '8АКПП(PDK)',\n",
       "       'АТ', 'АT', 'МT', '0', '7DSG', '6DSG', 'DSG', '6A', '6А', '5M',\n",
       "       'A/T', 'M/T', 'МКП', '5М', 'М/T', '7АКП', 'А/T', '8A', 'TDI',\n",
       "       '9AT', 'РЕДУКТОР'], dtype=object)"
      ]
     },
     "execution_count": 40,
     "metadata": {},
     "output_type": "execute_result"
    }
   ],
   "source": [
    "#удалим из названия лишние пробелы\n",
    "auto['transmission_type'].replace(regex=True,inplace=True,to_replace=r'\\s{1,}',value=r'')\n",
    "auto['transmission_type'].unique()"
   ]
  },
  {
   "cell_type": "code",
   "execution_count": 41,
   "id": "71a8619d",
   "metadata": {},
   "outputs": [],
   "source": [
    "#категоризация\n",
    "def categorize_transmission(cell):\n",
    "  if cell in ['5МТ', 'MT', '5МТ.', 'Мех', '6MT', '6МТ', '5MT', '6M/T', 'МT',\n",
    "              '5M', 'M/T','МКП', '5М', 'М/T']:\n",
    "    return 'MT'\n",
    "\n",
    "  return 'AT'"
   ]
  },
  {
   "cell_type": "code",
   "execution_count": 63,
   "id": "7f742dc6",
   "metadata": {},
   "outputs": [
    {
     "data": {
      "text/plain": [
       "array(['AT', 'MT'], dtype=object)"
      ]
     },
     "execution_count": 63,
     "metadata": {},
     "output_type": "execute_result"
    }
   ],
   "source": [
    "#проверим распределение на категории\n",
    "auto['transmission_type'] = auto['transmission_type'].apply(categorize_transmission)\n",
    "df['transmission_type'] = df['transmission_type'].astype('category')\n",
    "auto['transmission_type'].unique()"
   ]
  },
  {
   "cell_type": "code",
   "execution_count": 43,
   "id": "51c3faff",
   "metadata": {},
   "outputs": [
    {
     "data": {
      "text/plain": [
       "array(['передний', 'FWD', 'quattro', 'Задний', 'Полный', 'AWD',\n",
       "       'Передний', '4WD', '4х2.2', nan, 'RWD', '2 WD', '2WD', '4 WD',\n",
       "       '4X4', '4х4', '4x4', '4x2', '4х2', '4X2', 'Астана',\n",
       "       'Передний (FF)', '0', 'FF', 'полный', '4Motion'], dtype=object)"
      ]
     },
     "execution_count": 43,
     "metadata": {},
     "output_type": "execute_result"
    }
   ],
   "source": [
    "#уникальные значения типа привода\n",
    "auto['drive_type'].unique()"
   ]
  },
  {
   "cell_type": "code",
   "execution_count": 44,
   "id": "9169189a",
   "metadata": {},
   "outputs": [],
   "source": [
    "def categorize_drive_type(cell):\n",
    "  if cell in ['передний', 'FWD', 'Передний', 'Передний (FF)','FF']:\n",
    "    return 'FWD' #передний привод\n",
    "\n",
    "  elif cell in ['4WD','quattro', 'Полный', 'полный', 'AWD', '4 WD', '4Motion']:\n",
    "    return '4WD'#полный привод\n",
    "\n",
    "  elif cell in ['Задний','RWD']:\n",
    "    return 'RWD' #задний привод\n",
    "\n",
    "  return '2WD' #другие"
   ]
  },
  {
   "cell_type": "code",
   "execution_count": 45,
   "id": "08ff3bf9",
   "metadata": {},
   "outputs": [
    {
     "data": {
      "text/plain": [
       "array(['FWD', '4WD', 'RWD', '2WD'], dtype=object)"
      ]
     },
     "execution_count": 45,
     "metadata": {},
     "output_type": "execute_result"
    }
   ],
   "source": [
    "#проверим распределение на категории\n",
    "auto['drive_type_category'] = auto['drive_type'].apply(categorize_drive_type)\n",
    "auto['drive_type_category'].unique()"
   ]
  },
  {
   "cell_type": "code",
   "execution_count": 48,
   "id": "742b2dc2",
   "metadata": {},
   "outputs": [],
   "source": [
    "auto.drop(auto.columns[[5, 12, 14, 15, 16, 20, 23, 24]], axis= 1 , inplace= True )"
   ]
  },
  {
   "cell_type": "code",
   "execution_count": 53,
   "id": "ca462192",
   "metadata": {},
   "outputs": [],
   "source": [
    "#изменение типа клиента\n",
    "auto = auto.dropna(subset = 'quantity')\n",
    "auto['quantity'] = auto['quantity'].astype('int')"
   ]
  },
  {
   "cell_type": "code",
   "execution_count": 54,
   "id": "82bc33de",
   "metadata": {},
   "outputs": [
    {
     "data": {
      "text/html": [
       "<div>\n",
       "<style scoped>\n",
       "    .dataframe tbody tr th:only-of-type {\n",
       "        vertical-align: middle;\n",
       "    }\n",
       "\n",
       "    .dataframe tbody tr th {\n",
       "        vertical-align: top;\n",
       "    }\n",
       "\n",
       "    .dataframe thead th {\n",
       "        text-align: right;\n",
       "    }\n",
       "</style>\n",
       "<table border=\"1\" class=\"dataframe\">\n",
       "  <thead>\n",
       "    <tr style=\"text-align: right;\">\n",
       "      <th></th>\n",
       "      <th>year</th>\n",
       "      <th>month</th>\n",
       "      <th>company</th>\n",
       "      <th>brand</th>\n",
       "      <th>model</th>\n",
       "      <th>release_year</th>\n",
       "      <th>country</th>\n",
       "      <th>fuel_type</th>\n",
       "      <th>engine_volume</th>\n",
       "      <th>transmission_type</th>\n",
       "      <th>drive_type</th>\n",
       "      <th>region</th>\n",
       "      <th>quantity</th>\n",
       "      <th>price_usd</th>\n",
       "      <th>sell_price_usd</th>\n",
       "      <th>segment_2013</th>\n",
       "      <th>class_2013</th>\n",
       "      <th>transmission_category</th>\n",
       "      <th>drive_type_category</th>\n",
       "    </tr>\n",
       "  </thead>\n",
       "  <tbody>\n",
       "    <tr>\n",
       "      <th>25728</th>\n",
       "      <td>2019</td>\n",
       "      <td>Август</td>\n",
       "      <td>бипэк авто</td>\n",
       "      <td>Skoda</td>\n",
       "      <td>Superb</td>\n",
       "      <td>2019</td>\n",
       "      <td>KAZ</td>\n",
       "      <td>F</td>\n",
       "      <td>2</td>\n",
       "      <td>6DSG</td>\n",
       "      <td>Полный</td>\n",
       "      <td>Тараз</td>\n",
       "      <td>-1</td>\n",
       "      <td>35588.25</td>\n",
       "      <td>-35588.25</td>\n",
       "      <td>Легковые автомобили</td>\n",
       "      <td>D класс</td>\n",
       "      <td>AT</td>\n",
       "      <td>4WD</td>\n",
       "    </tr>\n",
       "  </tbody>\n",
       "</table>\n",
       "</div>"
      ],
      "text/plain": [
       "       year   month     company  brand   model release_year country fuel_type  \\\n",
       "25728  2019  Август  бипэк авто  Skoda  Superb         2019     KAZ         F   \n",
       "\n",
       "      engine_volume transmission_type drive_type region  quantity  price_usd  \\\n",
       "25728             2              6DSG     Полный  Тараз        -1   35588.25   \n",
       "\n",
       "       sell_price_usd         segment_2013 class_2013 transmission_category  \\\n",
       "25728       -35588.25  Легковые автомобили    D класс                    AT   \n",
       "\n",
       "      drive_type_category  \n",
       "25728                 4WD  "
      ]
     },
     "execution_count": 54,
     "metadata": {},
     "output_type": "execute_result"
    }
   ],
   "source": [
    "auto.query('quantity <= 0')"
   ]
  },
  {
   "cell_type": "code",
   "execution_count": 58,
   "id": "f285949e",
   "metadata": {},
   "outputs": [],
   "source": [
    "auto.loc[auto['quantity']>=2, 'client_type'] = 'юр. лицо'\n",
    "auto.loc[auto['quantity']<2, 'client_type'] = 'физ. лицо'"
   ]
  },
  {
   "cell_type": "code",
   "execution_count": 59,
   "id": "49f89434",
   "metadata": {},
   "outputs": [
    {
     "data": {
      "text/plain": [
       "array(['физ. лицо', 'юр. лицо'], dtype=object)"
      ]
     },
     "execution_count": 59,
     "metadata": {},
     "output_type": "execute_result"
    }
   ],
   "source": [
    "auto['client_type'].unique()"
   ]
  }
 ],
 "metadata": {
  "kernelspec": {
   "display_name": "Python 3 (ipykernel)",
   "language": "python",
   "name": "python3"
  },
  "language_info": {
   "codemirror_mode": {
    "name": "ipython",
    "version": 3
   },
   "file_extension": ".py",
   "mimetype": "text/x-python",
   "name": "python",
   "nbconvert_exporter": "python",
   "pygments_lexer": "ipython3",
   "version": "3.9.13"
  }
 },
 "nbformat": 4,
 "nbformat_minor": 5
}
