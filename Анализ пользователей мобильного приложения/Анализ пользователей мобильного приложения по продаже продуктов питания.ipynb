{
 "cells": [
  {
   "cell_type": "markdown",
   "metadata": {},
   "source": [
    "# Анализ пользователей мобильного приложения по продаже продуктов питания"
   ]
  },
  {
   "cell_type": "markdown",
   "metadata": {},
   "source": [
    "На основании предоставленных данных необходимо разобраться, как ведут себя пользователи нашего мобильного приложения"
   ]
  },
  {
   "cell_type": "markdown",
   "metadata": {},
   "source": [
    "**Наши задачи:**\n",
    "1. Изучить воронку продаж:   \n",
    "узнать как пользователи доходят до покупки;\n",
    "\n",
    "\n",
    "2. Исследовать результаты A/A/B-эксперимента:  \n",
    "дизайнеры захотели поменять шрифты во всём приложении, а менеджеры испугались, что пользователям будет непривычно, пользователей разбили на 3 группы: 2 контрольные со старыми шрифтами и одну экспериментальную — с новыми, необходоимо выяснить, какой шрифт лучше. "
   ]
  },
  {
   "cell_type": "markdown",
   "metadata": {},
   "source": [
    "**Описание данных:**\n",
    "\n",
    "Каждая запись в логе — это действие пользователя, или событие.   \n",
    "EventName — название события;  \n",
    "DeviceIDHash — уникальный идентификатор пользователя;  \n",
    "EventTimestamp — время события;  \n",
    "ExpId — номер эксперимента: 246 и 247 — контрольные группы, а 248 — экспериментальная.  "
   ]
  },
  {
   "cell_type": "markdown",
   "metadata": {},
   "source": [
    "##  Открываем файл с данными и изучаем общую информацию"
   ]
  },
  {
   "cell_type": "code",
   "execution_count": 1,
   "metadata": {},
   "outputs": [],
   "source": [
    "import pandas as pd\n",
    "import matplotlib.pyplot as plt\n",
    "import scipy.stats as st\n",
    "import math as mth\n",
    "import seaborn\n",
    "import plotly as pt\n",
    "from plotly import graph_objects as go"
   ]
  },
  {
   "cell_type": "code",
   "execution_count": 2,
   "metadata": {},
   "outputs": [],
   "source": [
    "try:\n",
    "    logs = pd.read_csv(\"C:/Users/mrsag/Desktop/Аналитик буткемп/Проекты/Сборный проект 2/logs_exp.csv\", sep='\\t')\n",
    "except:\n",
    "    logs = pd.read_csv('/datasets/logs_exp.csv', sep='\\t')\n"
   ]
  },
  {
   "cell_type": "code",
   "execution_count": 3,
   "metadata": {},
   "outputs": [
    {
     "name": "stdout",
     "output_type": "stream",
     "text": [
      "<class 'pandas.core.frame.DataFrame'>\n",
      "RangeIndex: 244126 entries, 0 to 244125\n",
      "Data columns (total 4 columns):\n",
      " #   Column          Non-Null Count   Dtype \n",
      "---  ------          --------------   ----- \n",
      " 0   EventName       244126 non-null  object\n",
      " 1   DeviceIDHash    244126 non-null  int64 \n",
      " 2   EventTimestamp  244126 non-null  int64 \n",
      " 3   ExpId           244126 non-null  int64 \n",
      "dtypes: int64(3), object(1)\n",
      "memory usage: 7.5+ MB\n"
     ]
    },
    {
     "data": {
      "text/html": [
       "<div>\n",
       "<style scoped>\n",
       "    .dataframe tbody tr th:only-of-type {\n",
       "        vertical-align: middle;\n",
       "    }\n",
       "\n",
       "    .dataframe tbody tr th {\n",
       "        vertical-align: top;\n",
       "    }\n",
       "\n",
       "    .dataframe thead th {\n",
       "        text-align: right;\n",
       "    }\n",
       "</style>\n",
       "<table border=\"1\" class=\"dataframe\">\n",
       "  <thead>\n",
       "    <tr style=\"text-align: right;\">\n",
       "      <th></th>\n",
       "      <th>EventName</th>\n",
       "      <th>DeviceIDHash</th>\n",
       "      <th>EventTimestamp</th>\n",
       "      <th>ExpId</th>\n",
       "    </tr>\n",
       "  </thead>\n",
       "  <tbody>\n",
       "    <tr>\n",
       "      <th>0</th>\n",
       "      <td>MainScreenAppear</td>\n",
       "      <td>4575588528974610257</td>\n",
       "      <td>1564029816</td>\n",
       "      <td>246</td>\n",
       "    </tr>\n",
       "    <tr>\n",
       "      <th>1</th>\n",
       "      <td>MainScreenAppear</td>\n",
       "      <td>7416695313311560658</td>\n",
       "      <td>1564053102</td>\n",
       "      <td>246</td>\n",
       "    </tr>\n",
       "    <tr>\n",
       "      <th>2</th>\n",
       "      <td>PaymentScreenSuccessful</td>\n",
       "      <td>3518123091307005509</td>\n",
       "      <td>1564054127</td>\n",
       "      <td>248</td>\n",
       "    </tr>\n",
       "    <tr>\n",
       "      <th>3</th>\n",
       "      <td>CartScreenAppear</td>\n",
       "      <td>3518123091307005509</td>\n",
       "      <td>1564054127</td>\n",
       "      <td>248</td>\n",
       "    </tr>\n",
       "    <tr>\n",
       "      <th>4</th>\n",
       "      <td>PaymentScreenSuccessful</td>\n",
       "      <td>6217807653094995999</td>\n",
       "      <td>1564055322</td>\n",
       "      <td>248</td>\n",
       "    </tr>\n",
       "  </tbody>\n",
       "</table>\n",
       "</div>"
      ],
      "text/plain": [
       "                 EventName         DeviceIDHash  EventTimestamp  ExpId\n",
       "0         MainScreenAppear  4575588528974610257      1564029816    246\n",
       "1         MainScreenAppear  7416695313311560658      1564053102    246\n",
       "2  PaymentScreenSuccessful  3518123091307005509      1564054127    248\n",
       "3         CartScreenAppear  3518123091307005509      1564054127    248\n",
       "4  PaymentScreenSuccessful  6217807653094995999      1564055322    248"
      ]
     },
     "metadata": {},
     "output_type": "display_data"
    },
    {
     "data": {
      "text/plain": [
       "None"
      ]
     },
     "metadata": {},
     "output_type": "display_data"
    },
    {
     "data": {
      "text/plain": [
       "EventName         0\n",
       "DeviceIDHash      0\n",
       "EventTimestamp    0\n",
       "ExpId             0\n",
       "dtype: int64"
      ]
     },
     "metadata": {},
     "output_type": "display_data"
    },
    {
     "data": {
      "text/plain": [
       "413"
      ]
     },
     "metadata": {},
     "output_type": "display_data"
    }
   ],
   "source": [
    "display(logs.head(),logs.info(),logs.isna().sum(), logs.duplicated().sum())"
   ]
  },
  {
   "cell_type": "code",
   "execution_count": 4,
   "metadata": {},
   "outputs": [
    {
     "data": {
      "text/plain": [
       "(244126, 4)"
      ]
     },
     "execution_count": 4,
     "metadata": {},
     "output_type": "execute_result"
    }
   ],
   "source": [
    "logs.shape"
   ]
  },
  {
   "cell_type": "markdown",
   "metadata": {},
   "source": [
    "1. Необходимо перевести названия колонок в единый регистр, изменить тип данных в колонке дата и время\n",
    "2. Пропусков нет, дубликаты - 413 (менее 1% от количества строк, можно удалить)"
   ]
  },
  {
   "cell_type": "markdown",
   "metadata": {},
   "source": []
  },
  {
   "cell_type": "markdown",
   "metadata": {},
   "source": [
    "## Подготовим данные"
   ]
  },
  {
   "cell_type": "code",
   "execution_count": 1,
   "metadata": {
    "scrolled": false
   },
   "outputs": [
    {
     "ename": "NameError",
     "evalue": "name 'logs' is not defined",
     "output_type": "error",
     "traceback": [
      "\u001b[1;31m---------------------------------------------------------------------------\u001b[0m",
      "\u001b[1;31mNameError\u001b[0m                                 Traceback (most recent call last)",
      "\u001b[1;32m~\\AppData\\Local\\Temp\\ipykernel_15584\\1669580894.py\u001b[0m in \u001b[0;36m<module>\u001b[1;34m\u001b[0m\n\u001b[1;32m----> 1\u001b[1;33m \u001b[0mlogs\u001b[0m\u001b[1;33m.\u001b[0m\u001b[0mcolumns\u001b[0m \u001b[1;33m=\u001b[0m \u001b[1;33m[\u001b[0m\u001b[1;34m'event_name'\u001b[0m\u001b[1;33m,\u001b[0m \u001b[1;34m'device_id'\u001b[0m\u001b[1;33m,\u001b[0m \u001b[1;34m'event_time'\u001b[0m\u001b[1;33m,\u001b[0m \u001b[1;34m'group'\u001b[0m\u001b[1;33m]\u001b[0m\u001b[1;33m\u001b[0m\u001b[1;33m\u001b[0m\u001b[0m\n\u001b[0m\u001b[0;32m      2\u001b[0m \u001b[0mlogs\u001b[0m\u001b[1;33m[\u001b[0m\u001b[1;34m'event_time'\u001b[0m\u001b[1;33m]\u001b[0m \u001b[1;33m=\u001b[0m \u001b[0mpd\u001b[0m\u001b[1;33m.\u001b[0m\u001b[0mto_datetime\u001b[0m\u001b[1;33m(\u001b[0m\u001b[0mlogs\u001b[0m\u001b[1;33m[\u001b[0m\u001b[1;34m'event_time'\u001b[0m\u001b[1;33m]\u001b[0m\u001b[1;33m,\u001b[0m \u001b[0munit\u001b[0m\u001b[1;33m=\u001b[0m\u001b[1;34m's'\u001b[0m\u001b[1;33m)\u001b[0m\u001b[1;33m\u001b[0m\u001b[1;33m\u001b[0m\u001b[0m\n\u001b[0;32m      3\u001b[0m \u001b[0mlogs\u001b[0m\u001b[1;33m[\u001b[0m\u001b[1;34m'date'\u001b[0m\u001b[1;33m]\u001b[0m \u001b[1;33m=\u001b[0m \u001b[0mlogs\u001b[0m\u001b[1;33m[\u001b[0m\u001b[1;34m'event_time'\u001b[0m\u001b[1;33m]\u001b[0m\u001b[1;33m.\u001b[0m\u001b[0mdt\u001b[0m\u001b[1;33m.\u001b[0m\u001b[0mdate\u001b[0m\u001b[1;33m\u001b[0m\u001b[1;33m\u001b[0m\u001b[0m\n\u001b[0;32m      4\u001b[0m \u001b[0mlogs\u001b[0m\u001b[1;33m[\u001b[0m\u001b[1;34m'date'\u001b[0m\u001b[1;33m]\u001b[0m \u001b[1;33m=\u001b[0m \u001b[0mlogs\u001b[0m\u001b[1;33m[\u001b[0m\u001b[1;34m'date'\u001b[0m\u001b[1;33m]\u001b[0m\u001b[1;33m.\u001b[0m\u001b[0mastype\u001b[0m\u001b[1;33m(\u001b[0m\u001b[1;34m'datetime64'\u001b[0m\u001b[1;33m)\u001b[0m\u001b[1;33m\u001b[0m\u001b[1;33m\u001b[0m\u001b[0m\n\u001b[0;32m      5\u001b[0m \u001b[0mlogs\u001b[0m \u001b[1;33m=\u001b[0m \u001b[0mlogs\u001b[0m\u001b[1;33m.\u001b[0m\u001b[0mdrop_duplicates\u001b[0m\u001b[1;33m(\u001b[0m\u001b[1;33m)\u001b[0m\u001b[1;33m.\u001b[0m\u001b[0mreset_index\u001b[0m\u001b[1;33m(\u001b[0m\u001b[0mdrop\u001b[0m\u001b[1;33m=\u001b[0m\u001b[1;32mTrue\u001b[0m\u001b[1;33m)\u001b[0m\u001b[1;33m\u001b[0m\u001b[1;33m\u001b[0m\u001b[0m\n",
      "\u001b[1;31mNameError\u001b[0m: name 'logs' is not defined"
     ]
    }
   ],
   "source": [
    "logs.columns = ['event_name', 'device_id', 'event_time', 'group']\n",
    "logs['event_time'] = pd.to_datetime(logs['event_time'], unit='s')\n",
    "logs['date'] = logs['event_time'].dt.date\n",
    "logs['date'] = logs['date'].astype('datetime64')\n",
    "logs = logs.drop_duplicates().reset_index(drop=True)"
   ]
  },
  {
   "cell_type": "code",
   "execution_count": null,
   "metadata": {},
   "outputs": [],
   "source": [
    "display(logs.info())"
   ]
  },
  {
   "cell_type": "code",
   "execution_count": null,
   "metadata": {},
   "outputs": [],
   "source": [
    "def aab_group(gr):\n",
    "    if gr==246:\n",
    "        return 'A1'\n",
    "    elif gr==247:\n",
    "        return 'A2'\n",
    "    elif gr==248:\n",
    "        return 'B'\n",
    "    else:\n",
    "        return 'UnknownGroup'\n",
    "\n",
    "logs['group'] = logs['group'].apply(aab_group)\n",
    "logs"
   ]
  },
  {
   "cell_type": "markdown",
   "metadata": {},
   "source": [
    "Данные готовы к анализу, для удобства создали группы А1, А2 - контрольные, B - экспериментальная"
   ]
  },
  {
   "cell_type": "markdown",
   "metadata": {},
   "source": [
    "## Изучим и проверим данные"
   ]
  },
  {
   "cell_type": "code",
   "execution_count": null,
   "metadata": {},
   "outputs": [],
   "source": [
    "print(f'Всего в логе {len(logs.event_name)} событий.')\n",
    "print(f'Всего пользователей в логе {len(logs.device_id.unique())}.')\n",
    "print(f'В среднем на пользователя приходится {int(len(logs) / len(logs.device_id.unique()))} события.')"
   ]
  },
  {
   "cell_type": "code",
   "execution_count": null,
   "metadata": {},
   "outputs": [],
   "source": [
    "logs_device = int(len(logs) / len(logs.device_id.unique()))"
   ]
  },
  {
   "cell_type": "code",
   "execution_count": null,
   "metadata": {},
   "outputs": [],
   "source": [
    "zz = logs.groupby('device_id').agg({'event_name':'count'}).reset_index()\n",
    "plt.boxplot(zz['event_name'])\n",
    "plt.ylim(0, 100);"
   ]
  },
  {
   "cell_type": "code",
   "execution_count": null,
   "metadata": {},
   "outputs": [],
   "source": [
    "date_max = logs['event_time'].max()\n",
    "date_min = logs['event_time'].min()\n",
    "print('Данные за период от {} до {}'.format(date_min, date_max))\n",
    "print('Период составляет:', (date_max - date_min).days, 'дней.')"
   ]
  },
  {
   "cell_type": "code",
   "execution_count": null,
   "metadata": {},
   "outputs": [],
   "source": [
    "plt.figure(figsize =(8, 6))\n",
    "logs['event_time'].hist(bins=100)\n",
    "plt.title('Гистограмма по дате и времени')\n",
    "plt.xticks(rotation=45)\n",
    "plt.xlabel('Дата')\n",
    "plt.ylabel('Частота')\n",
    "plt.grid()\n",
    "plt.show()"
   ]
  },
  {
   "cell_type": "code",
   "execution_count": null,
   "metadata": {},
   "outputs": [],
   "source": [
    "logs_new = logs.loc[logs['date'] > '2019-07-31']"
   ]
  },
  {
   "cell_type": "code",
   "execution_count": null,
   "metadata": {},
   "outputs": [],
   "source": [
    "plt.figure(figsize =(8, 6))\n",
    "logs_new['event_time'].hist()\n",
    "plt.title('Гистограмма по дате и времени')\n",
    "plt.xticks(rotation=45)\n",
    "plt.xlabel('Дата')\n",
    "plt.ylabel('Частота')\n",
    "plt.grid()\n",
    "plt.show()"
   ]
  },
  {
   "cell_type": "markdown",
   "metadata": {},
   "source": [
    "У нас есть данные за 13 дней, но информативными являются данные тестирования с 01.08.2019.  \n",
    "Дальнейший анализ будем проводить для данных за этот период"
   ]
  },
  {
   "cell_type": "code",
   "execution_count": null,
   "metadata": {},
   "outputs": [],
   "source": [
    "print(f'Всего в логе {len(logs.event_name)} событий.')\n",
    "print(f'Всего в логе {len(logs_new.event_name)} событий после очистки.')\n",
    "print('Cобытий потеряно', round((len(logs['event_name']) - len(logs_new['event_name'])) / len(logs['event_name']) * 100, 2), '%')\n",
    "print()\n",
    "\n",
    "\n",
    "print(f'Всего пользователей в логе {len(logs.device_id.unique())}.')\n",
    "print(f'Всего пользователей в логе после очистки {len(logs_new.device_id.unique())}.')\n",
    "print('Пользователей потеряно', round(((len(logs['device_id'].unique()) - len(logs_new['device_id'].unique())) / len(logs['device_id'].unique())) * 100, 2), '%')\n",
    "print()\n",
    "\n",
    "print(f'В среднем на пользователя приходится {int(len(logs) / len(logs.device_id.unique()))} события.')\n",
    "print(f'В среднем после очистки на пользователя приходится {int(len(logs_new) / len(logs_new.device_id.unique()))} события.')\n",
    "print('Данных потеряно', round((((len(logs) / len(logs.device_id.unique()))- (len(logs_new) / len(logs_new.device_id.unique())))/(len(logs) / len(logs.device_id.unique())))* 100, 2), '%')"
   ]
  },
  {
   "cell_type": "markdown",
   "metadata": {},
   "source": [
    "Мы потеряли около 1% данных, а это незначительно для продолжения анализа"
   ]
  },
  {
   "cell_type": "code",
   "execution_count": null,
   "metadata": {},
   "outputs": [],
   "source": [
    "logs_new.groupby('group').agg({'device_id': 'nunique'})"
   ]
  },
  {
   "cell_type": "markdown",
   "metadata": {},
   "source": [
    "У нас есть пользователи из всех трёх экспериментальных групп с примерно одинаковым количеством"
   ]
  },
  {
   "cell_type": "markdown",
   "metadata": {},
   "source": [
    "## Изучаем воронку событий"
   ]
  },
  {
   "cell_type": "code",
   "execution_count": null,
   "metadata": {},
   "outputs": [],
   "source": [
    "logs_new['event_name'].value_counts()"
   ]
  },
  {
   "cell_type": "code",
   "execution_count": null,
   "metadata": {},
   "outputs": [],
   "source": [
    "fig = go.Figure(data=[go.Pie(labels=logs_new['event_name'].value_counts().index, values=logs_new['event_name'].value_counts(), \\\n",
    "                             title='Доли событий')])\n",
    "fig.show()"
   ]
  },
  {
   "cell_type": "code",
   "execution_count": null,
   "metadata": {
    "scrolled": true
   },
   "outputs": [],
   "source": [
    "users_count = logs_new.groupby('event_name').agg({'device_id':'nunique'}).sort_values(by='device_id', ascending=False)\n",
    "users_count['ratio'] = (users_count['device_id'] / logs_new['device_id'].nunique() * 100).round(2)\n",
    "users_count\n"
   ]
  },
  {
   "cell_type": "code",
   "execution_count": null,
   "metadata": {},
   "outputs": [],
   "source": [
    "logs_new = logs_new.query('event_name != \"Tutorial\"')"
   ]
  },
  {
   "cell_type": "markdown",
   "metadata": {},
   "source": [
    "По полученным данным видно, что чаще всего пользователи видят появление главного экрана, реже всего пользователи проходили обучение по использованию приложения.  \n",
    "Первые 4 события происходят в правильном порядке, только обучение должно быть на 1 месте. Но многие пользователи могут пропускать его и переходить на главный экран, поэтому не будем учитывать его при расчете воронки"
   ]
  },
  {
   "cell_type": "code",
   "execution_count": null,
   "metadata": {},
   "outputs": [],
   "source": [
    "users_count_new = logs_new.groupby('event_name').agg({'device_id':'nunique'}).sort_values(by='device_id', ascending=False)\n",
    "funnel = logs_new.groupby('event_name')['device_id'].nunique().sort_values(ascending=False).to_list()"
   ]
  },
  {
   "cell_type": "code",
   "execution_count": null,
   "metadata": {},
   "outputs": [],
   "source": [
    "print(f'С главного экрана в каталог товаров перешло - {round(funnel[1]/funnel[0] *100, 2)} % клиентов.')\n",
    "print(f'С каталога товаров в корзину перешло - {round(funnel[2]/funnel[1] *100, 2)} % клиентов.')\n",
    "print(f'С корзины до экрана успешной оплаты перешло - {round(funnel[3]/funnel[2] *100, 2)} % клиентов.')"
   ]
  },
  {
   "cell_type": "code",
   "execution_count": null,
   "metadata": {},
   "outputs": [],
   "source": [
    "print(f'При переходе с главного экрана в каталог товаров теряется  - {100 - int(funnel[1]/funnel[0] *100)} % клиентов.')\n",
    "print(f'При переходе с каталога товаров в корзину - {100 - int(funnel[2]/funnel[1] *100)} % клиентов.')\n",
    "print(f'При переходе с корзины до экрана успешной оплаты - {100 - int(funnel[3]/funnel[2] *100)} % клиентов.')\n"
   ]
  },
  {
   "cell_type": "markdown",
   "metadata": {},
   "source": [
    "Больше всего пользователей теряется на первом этапе при переходе с главного экрана в каталог товаров"
   ]
  },
  {
   "cell_type": "code",
   "execution_count": null,
   "metadata": {},
   "outputs": [],
   "source": [
    "fig = go.Figure(go.Funnel(\n",
    "    y = funnel['event_name'],\n",
    "    x = funnel['device_id'], \n",
    "    textinfo = 'value+percent previous'))\n",
    "fig.update_layout(title='Воронка', title_x = 0.5)\n",
    "fig.show()"
   ]
  },
  {
   "cell_type": "code",
   "execution_count": null,
   "metadata": {},
   "outputs": [],
   "source": [
    "print(f'Доля пользователей, которая доходит от первого события до оплаты - {round(funnel[3]/funnel[0] *100,2)} % клиентов.')"
   ]
  },
  {
   "cell_type": "markdown",
   "metadata": {},
   "source": [
    "По полученным данным видно, что чаще всего пользователи видят появление главного экрана, реже всего пользователи проходили обучение по использованию приложения, поэтому мы исключаем его из дальнейшего анлиза. Больше всего пользователей теряется на первом этапе при переходе с главного экрана в каталог товаров. Доля пользователей, которая доходит от первого события до оплаты - 47.7 % клиентов."
   ]
  },
  {
   "cell_type": "markdown",
   "metadata": {},
   "source": [
    "## Изучаем результаты эксперимента"
   ]
  },
  {
   "cell_type": "code",
   "execution_count": null,
   "metadata": {},
   "outputs": [],
   "source": [
    "users_group = logs_new.groupby('group')['device_id'].nunique()\n",
    "users_group['A1+A2'] = users_group['A1'] + users_group['A2']\n",
    "users_group"
   ]
  },
  {
   "cell_type": "code",
   "execution_count": null,
   "metadata": {},
   "outputs": [],
   "source": [
    "users_A1 = logs_new[logs_new['group'] == 'A1']['device_id'].nunique()\n",
    "users_A2 = logs_new[logs_new['group'] == 'A2']['device_id'].nunique()\n",
    "print('Количество пользователей в различных группах различается нa:',\n",
    "      round((users_A2 - users_A1) / users_A1 * 100, 2), '%')"
   ]
  },
  {
   "cell_type": "markdown",
   "metadata": {},
   "source": [
    "Количество пользователей в различных группах различается примерно на 1%, это допустимо для продолжения анализа"
   ]
  },
  {
   "cell_type": "code",
   "execution_count": null,
   "metadata": {
    "scrolled": true
   },
   "outputs": [],
   "source": [
    "group_test = logs_new.pivot_table(\n",
    "    index='event_name', \n",
    "    columns='group', \n",
    "    values='device_id',\n",
    "    aggfunc='nunique').sort_values(by='A1', ascending=False)\n",
    "\n",
    "group_test = group_test.reset_index()\n",
    "group_test['A1+A2'] = group_test['A1'] + group_test['A2']\n",
    "group_test['all'] = group_test['A1+A2'] + group_test['B']\n",
    "\n",
    "group_test['%_A1'] = (group_test['A1'] / users_group['A1'] * 100).round(2)\n",
    "group_test['%_A2'] = (group_test['A2'] / users_group['A2'] * 100).round(2)\n",
    "group_test['%_B'] = (group_test['B'] / users_group['B'] * 100).round(2)\n",
    "group_test['%_A1+A2'] = (group_test['A1+A2'] / users_group['A1+A2'] * 100).round(2)\n",
    "\n",
    "group_test"
   ]
  },
  {
   "cell_type": "code",
   "execution_count": null,
   "metadata": {},
   "outputs": [],
   "source": [
    "def z_test(group1, group2, alpha):\n",
    "    for i in group_test.index:\n",
    "        p1 = group_test[group1][i] / users_group[group1]\n",
    "        p2 = group_test[group2][i] / users_group[group2]\n",
    "        p_combined = ((group_test[group1][i] + group_test[group2][i]) / (users_group[group1] + users_group[group2]))\n",
    "        difference = p1 - p2\n",
    "        z_value = difference / mth.sqrt(p_combined * (1 - p_combined) * (1 / users_group[group1] + 1 / users_group[group2]))\n",
    "        distr = st.norm(0, 1) \n",
    "        p_value = (1 - distr.cdf(abs(z_value))) * 2\n",
    "        n=16\n",
    "        bonferroni_alpha = alpha / n\n",
    "        print('{} p-значение: {}'.format(group_test['event_name'][i], p_value))\n",
    "        if p_value < alpha:\n",
    "            print(\"Отвергаем нулевую гипотезу: между долями есть значимая разница\")\n",
    "            print()\n",
    "        else:\n",
    "            print(\"Не получилось отвергнуть нулевую гипотезу, нет оснований считать доли разными\")\n",
    "            print()"
   ]
  },
  {
   "cell_type": "markdown",
   "metadata": {},
   "source": [
    "Нулевая гипотеза: между долями нет значимой разницы;  \n",
    "Альтернативная гипотеза: между долями есть значимая разница;  \n",
    "Порогом статистической значимости установим alpha = 0.01"
   ]
  },
  {
   "cell_type": "markdown",
   "metadata": {},
   "source": [
    "*A1/A2 - эксперимент:*"
   ]
  },
  {
   "cell_type": "code",
   "execution_count": null,
   "metadata": {
    "scrolled": false
   },
   "outputs": [],
   "source": [
    "z_test(\"A1\", \"A2\", 0.01)"
   ]
  },
  {
   "cell_type": "markdown",
   "metadata": {},
   "source": [
    "Тест не зафиксировал разницы между группами A1/A2"
   ]
  },
  {
   "cell_type": "markdown",
   "metadata": {},
   "source": [
    "Так как группы A1/A2 должны быть одинаковыми был взят уровень статистической значимости равный 1%. Для дальнейших экспериментов выберем самый стандартный уровень значимости равный 5%"
   ]
  },
  {
   "cell_type": "markdown",
   "metadata": {},
   "source": [
    "*A1/B - эксперимент:*"
   ]
  },
  {
   "cell_type": "code",
   "execution_count": null,
   "metadata": {
    "scrolled": true
   },
   "outputs": [],
   "source": [
    "z_test(\"A1\", \"B\", 0.05)"
   ]
  },
  {
   "cell_type": "markdown",
   "metadata": {},
   "source": [
    "Тест не зафиксировал разницы между группами A1/B"
   ]
  },
  {
   "cell_type": "markdown",
   "metadata": {},
   "source": [
    "*A2/B - эксперимент:*"
   ]
  },
  {
   "cell_type": "code",
   "execution_count": null,
   "metadata": {
    "scrolled": true
   },
   "outputs": [],
   "source": [
    "z_test(\"A2\", \"B\", 0.05)"
   ]
  },
  {
   "cell_type": "markdown",
   "metadata": {},
   "source": [
    "Тест не зафиксировал разницы между группами A2/B"
   ]
  },
  {
   "cell_type": "markdown",
   "metadata": {},
   "source": [
    "*A1+A2/B - эксперимент:*"
   ]
  },
  {
   "cell_type": "code",
   "execution_count": null,
   "metadata": {},
   "outputs": [],
   "source": [
    "z_test(\"A1+A2\", \"B\", 0.05)"
   ]
  },
  {
   "cell_type": "markdown",
   "metadata": {},
   "source": [
    "Тест не зафиксировал разницы между группами A1+A2/B"
   ]
  },
  {
   "cell_type": "markdown",
   "metadata": {},
   "source": [
    "По результатам тестов можно сказать, что значимой разницы между группами во всех тестах не выявлено"
   ]
  },
  {
   "cell_type": "markdown",
   "metadata": {},
   "source": [
    "**Вывод:**  \n",
    "1. Мы использовали данные за период от 25.07.2019 04:43:36 до 07.08.2019 21:15:17, но так как первая неделя была неинформативной, мы продолжили анализ по данным с 01.08.2019\n",
    "2. По полученным данным видно, что чаще всего пользователи видят появление главного экрана, реже всего пользователи проходили обучение по использованию приложения. Многие пользователи могут пропускать его и переходить на главный экран, поэтому не будем учитывать его при расчете воронки\n",
    "3. Больше всего пользователей теряется на первом этапе при переходе с главного экрана в каталог товаров, доля пользователей, которая доходит от первого события до оплаты - 47.7 % клиентов\n",
    "4. По результатам А/А/В-теста не было выявлено различий между контрольными и эксперементальной группами, что говорит о том, что замена шрифтов не влияет на пользователей"
   ]
  }
 ],
 "metadata": {
  "ExecuteTimeLog": [
   {
    "duration": 1346,
    "start_time": "2023-04-05T16:26:32.472Z"
   },
   {
    "duration": 915,
    "start_time": "2023-04-05T16:26:33.820Z"
   },
   {
    "duration": 159,
    "start_time": "2023-04-05T16:26:34.737Z"
   },
   {
    "duration": 3,
    "start_time": "2023-04-05T16:26:34.898Z"
   },
   {
    "duration": 519,
    "start_time": "2023-04-05T16:26:34.903Z"
   },
   {
    "duration": 0,
    "start_time": "2023-04-05T16:26:35.424Z"
   },
   {
    "duration": 0,
    "start_time": "2023-04-05T16:26:35.425Z"
   },
   {
    "duration": 0,
    "start_time": "2023-04-05T16:26:35.426Z"
   },
   {
    "duration": 0,
    "start_time": "2023-04-05T16:26:35.427Z"
   },
   {
    "duration": 0,
    "start_time": "2023-04-05T16:26:35.428Z"
   },
   {
    "duration": 0,
    "start_time": "2023-04-05T16:26:35.429Z"
   },
   {
    "duration": 0,
    "start_time": "2023-04-05T16:26:35.430Z"
   },
   {
    "duration": 0,
    "start_time": "2023-04-05T16:26:35.431Z"
   },
   {
    "duration": 0,
    "start_time": "2023-04-05T16:26:35.432Z"
   },
   {
    "duration": 0,
    "start_time": "2023-04-05T16:26:35.432Z"
   },
   {
    "duration": 0,
    "start_time": "2023-04-05T16:26:35.433Z"
   },
   {
    "duration": 0,
    "start_time": "2023-04-05T16:26:35.434Z"
   },
   {
    "duration": 0,
    "start_time": "2023-04-05T16:26:35.435Z"
   },
   {
    "duration": 0,
    "start_time": "2023-04-05T16:26:35.436Z"
   },
   {
    "duration": 0,
    "start_time": "2023-04-05T16:26:35.437Z"
   },
   {
    "duration": 1,
    "start_time": "2023-04-05T16:26:35.438Z"
   },
   {
    "duration": 0,
    "start_time": "2023-04-05T16:26:35.439Z"
   },
   {
    "duration": 0,
    "start_time": "2023-04-05T16:26:35.440Z"
   },
   {
    "duration": 0,
    "start_time": "2023-04-05T16:26:35.441Z"
   },
   {
    "duration": 0,
    "start_time": "2023-04-05T16:26:35.442Z"
   },
   {
    "duration": 0,
    "start_time": "2023-04-05T16:26:35.443Z"
   },
   {
    "duration": 0,
    "start_time": "2023-04-05T16:26:35.444Z"
   },
   {
    "duration": 0,
    "start_time": "2023-04-05T16:26:35.445Z"
   },
   {
    "duration": 0,
    "start_time": "2023-04-05T16:26:35.446Z"
   },
   {
    "duration": 705,
    "start_time": "2023-04-05T16:27:51.784Z"
   },
   {
    "duration": 84,
    "start_time": "2023-04-05T16:27:53.221Z"
   },
   {
    "duration": 166,
    "start_time": "2023-04-05T16:27:55.061Z"
   },
   {
    "duration": 1520,
    "start_time": "2023-04-05T16:28:00.772Z"
   },
   {
    "duration": 184,
    "start_time": "2023-04-05T16:28:02.293Z"
   },
   {
    "duration": 93,
    "start_time": "2023-04-05T16:28:02.479Z"
   },
   {
    "duration": 4,
    "start_time": "2023-04-05T16:28:02.574Z"
   },
   {
    "duration": 183,
    "start_time": "2023-04-05T16:28:02.579Z"
   },
   {
    "duration": 21,
    "start_time": "2023-04-05T16:28:02.764Z"
   },
   {
    "duration": 41,
    "start_time": "2023-04-05T16:28:02.787Z"
   },
   {
    "duration": 8,
    "start_time": "2023-04-05T16:28:02.830Z"
   },
   {
    "duration": 19,
    "start_time": "2023-04-05T16:28:02.839Z"
   },
   {
    "duration": 406,
    "start_time": "2023-04-05T16:28:02.870Z"
   },
   {
    "duration": 13,
    "start_time": "2023-04-05T16:28:03.278Z"
   },
   {
    "duration": 325,
    "start_time": "2023-04-05T16:28:03.293Z"
   },
   {
    "duration": 31,
    "start_time": "2023-04-05T16:28:03.619Z"
   },
   {
    "duration": 60,
    "start_time": "2023-04-05T16:28:03.652Z"
   },
   {
    "duration": 21,
    "start_time": "2023-04-05T16:28:03.714Z"
   },
   {
    "duration": 77,
    "start_time": "2023-04-05T16:28:03.737Z"
   },
   {
    "duration": 14,
    "start_time": "2023-04-05T16:28:03.815Z"
   },
   {
    "duration": 93,
    "start_time": "2023-04-05T16:28:03.831Z"
   },
   {
    "duration": 3,
    "start_time": "2023-04-05T16:28:03.926Z"
   },
   {
    "duration": 12,
    "start_time": "2023-04-05T16:28:03.931Z"
   },
   {
    "duration": 6,
    "start_time": "2023-04-05T16:28:03.945Z"
   },
   {
    "duration": 47,
    "start_time": "2023-04-05T16:28:03.952Z"
   },
   {
    "duration": 32,
    "start_time": "2023-04-05T16:28:04.000Z"
   },
   {
    "duration": 96,
    "start_time": "2023-04-05T16:28:04.034Z"
   },
   {
    "duration": 4,
    "start_time": "2023-04-05T16:28:04.131Z"
   },
   {
    "duration": 12,
    "start_time": "2023-04-05T16:28:04.137Z"
   },
   {
    "duration": 19,
    "start_time": "2023-04-05T16:28:04.150Z"
   },
   {
    "duration": 7,
    "start_time": "2023-04-05T16:28:04.171Z"
   },
   {
    "duration": 9,
    "start_time": "2023-04-05T16:28:04.179Z"
   },
   {
    "duration": 53,
    "start_time": "2023-04-09T16:17:44.203Z"
   },
   {
    "duration": 1249,
    "start_time": "2023-04-09T16:17:51.090Z"
   },
   {
    "duration": 673,
    "start_time": "2023-04-09T16:17:52.341Z"
   },
   {
    "duration": 103,
    "start_time": "2023-04-09T16:17:53.016Z"
   },
   {
    "duration": 4,
    "start_time": "2023-04-09T16:17:53.120Z"
   },
   {
    "duration": 221,
    "start_time": "2023-04-09T16:17:53.126Z"
   },
   {
    "duration": 25,
    "start_time": "2023-04-09T16:17:53.349Z"
   },
   {
    "duration": 57,
    "start_time": "2023-04-09T16:17:53.376Z"
   },
   {
    "duration": 31,
    "start_time": "2023-04-09T16:17:53.434Z"
   },
   {
    "duration": 7,
    "start_time": "2023-04-09T16:17:53.466Z"
   },
   {
    "duration": 301,
    "start_time": "2023-04-09T16:17:53.474Z"
   },
   {
    "duration": 14,
    "start_time": "2023-04-09T16:17:53.776Z"
   },
   {
    "duration": 222,
    "start_time": "2023-04-09T16:17:53.792Z"
   },
   {
    "duration": 46,
    "start_time": "2023-04-09T16:17:54.016Z"
   },
   {
    "duration": 57,
    "start_time": "2023-04-09T16:17:54.066Z"
   },
   {
    "duration": 38,
    "start_time": "2023-04-09T16:17:54.125Z"
   },
   {
    "duration": 73,
    "start_time": "2023-04-09T16:17:54.165Z"
   },
   {
    "duration": 37,
    "start_time": "2023-04-09T16:17:54.239Z"
   },
   {
    "duration": 109,
    "start_time": "2023-04-09T16:17:54.278Z"
   },
   {
    "duration": 4,
    "start_time": "2023-04-09T16:17:54.388Z"
   },
   {
    "duration": 5,
    "start_time": "2023-04-09T16:17:54.394Z"
   },
   {
    "duration": 7,
    "start_time": "2023-04-09T16:17:54.400Z"
   },
   {
    "duration": 66,
    "start_time": "2023-04-09T16:17:54.408Z"
   },
   {
    "duration": 42,
    "start_time": "2023-04-09T16:17:54.476Z"
   },
   {
    "duration": 115,
    "start_time": "2023-04-09T16:17:54.519Z"
   },
   {
    "duration": 5,
    "start_time": "2023-04-09T16:17:54.636Z"
   },
   {
    "duration": 24,
    "start_time": "2023-04-09T16:17:54.643Z"
   },
   {
    "duration": 8,
    "start_time": "2023-04-09T16:17:54.669Z"
   },
   {
    "duration": 9,
    "start_time": "2023-04-09T16:17:54.679Z"
   },
   {
    "duration": 14,
    "start_time": "2023-04-09T16:17:54.690Z"
   },
   {
    "duration": 222,
    "start_time": "2023-04-09T16:18:05.168Z"
   },
   {
    "duration": 300,
    "start_time": "2023-04-09T16:18:18.358Z"
   },
   {
    "duration": 252,
    "start_time": "2023-04-09T16:20:59.747Z"
   },
   {
    "duration": 387,
    "start_time": "2023-04-09T16:21:04.004Z"
   },
   {
    "duration": 365,
    "start_time": "2023-04-09T16:21:12.884Z"
   },
   {
    "duration": 22,
    "start_time": "2023-04-09T16:21:57.154Z"
   },
   {
    "duration": 367,
    "start_time": "2023-04-09T16:22:59.243Z"
   },
   {
    "duration": 309,
    "start_time": "2023-04-09T16:23:05.649Z"
   },
   {
    "duration": 87,
    "start_time": "2023-04-09T16:50:34.255Z"
   },
   {
    "duration": 122,
    "start_time": "2023-04-09T16:50:40.002Z"
   },
   {
    "duration": 90,
    "start_time": "2023-04-09T16:50:49.161Z"
   },
   {
    "duration": 6,
    "start_time": "2023-04-09T16:51:17.151Z"
   },
   {
    "duration": 5,
    "start_time": "2023-04-09T16:52:31.374Z"
   },
   {
    "duration": 98,
    "start_time": "2023-04-09T16:52:47.002Z"
   },
   {
    "duration": 5,
    "start_time": "2023-04-09T16:52:56.670Z"
   },
   {
    "duration": 8,
    "start_time": "2023-04-09T16:52:57.309Z"
   },
   {
    "duration": 12,
    "start_time": "2023-04-09T16:55:01.298Z"
   },
   {
    "duration": 125,
    "start_time": "2023-04-09T16:55:42.962Z"
   },
   {
    "duration": 113,
    "start_time": "2023-04-09T16:55:48.194Z"
   },
   {
    "duration": 8,
    "start_time": "2023-04-09T16:56:55.476Z"
   },
   {
    "duration": 5,
    "start_time": "2023-04-09T16:57:03.874Z"
   },
   {
    "duration": 7,
    "start_time": "2023-04-09T16:57:05.049Z"
   },
   {
    "duration": 8,
    "start_time": "2023-04-09T16:57:06.336Z"
   },
   {
    "duration": 6,
    "start_time": "2023-04-09T16:57:59.296Z"
   },
   {
    "duration": 263,
    "start_time": "2023-04-09T16:58:11.415Z"
   },
   {
    "duration": 7,
    "start_time": "2023-04-09T16:58:39.630Z"
   },
   {
    "duration": 10,
    "start_time": "2023-04-09T16:58:55.846Z"
   },
   {
    "duration": 9,
    "start_time": "2023-04-09T16:58:59.238Z"
   },
   {
    "duration": 5,
    "start_time": "2023-04-09T16:59:15.901Z"
   },
   {
    "duration": 8,
    "start_time": "2023-04-09T16:59:16.708Z"
   },
   {
    "duration": 9,
    "start_time": "2023-04-09T17:00:24.012Z"
   },
   {
    "duration": 6,
    "start_time": "2023-04-09T17:00:27.707Z"
   },
   {
    "duration": 8,
    "start_time": "2023-04-09T17:00:29.444Z"
   },
   {
    "duration": 8,
    "start_time": "2023-04-09T17:02:11.387Z"
   },
   {
    "duration": 58,
    "start_time": "2023-04-09T17:02:23.713Z"
   },
   {
    "duration": 25,
    "start_time": "2023-04-09T17:02:37.233Z"
   },
   {
    "duration": 35,
    "start_time": "2023-04-09T17:02:53.690Z"
   },
   {
    "duration": 97,
    "start_time": "2023-04-09T17:03:08.274Z"
   },
   {
    "duration": 8,
    "start_time": "2023-04-09T17:05:21.487Z"
   },
   {
    "duration": 52,
    "start_time": "2023-04-12T14:51:28.073Z"
   },
   {
    "duration": 1253,
    "start_time": "2023-04-12T14:51:58.301Z"
   },
   {
    "duration": 566,
    "start_time": "2023-04-12T14:51:59.556Z"
   },
   {
    "duration": 112,
    "start_time": "2023-04-12T14:52:00.124Z"
   },
   {
    "duration": 12,
    "start_time": "2023-04-12T14:52:00.238Z"
   },
   {
    "duration": 223,
    "start_time": "2023-04-12T14:52:00.251Z"
   },
   {
    "duration": 21,
    "start_time": "2023-04-12T14:52:00.476Z"
   },
   {
    "duration": 69,
    "start_time": "2023-04-12T14:52:00.499Z"
   },
   {
    "duration": 10,
    "start_time": "2023-04-12T14:52:00.570Z"
   },
   {
    "duration": 7,
    "start_time": "2023-04-12T14:52:00.582Z"
   },
   {
    "duration": 151,
    "start_time": "2023-04-12T14:52:00.592Z"
   },
   {
    "duration": 0,
    "start_time": "2023-04-12T14:52:00.750Z"
   },
   {
    "duration": 0,
    "start_time": "2023-04-12T14:52:00.751Z"
   },
   {
    "duration": 0,
    "start_time": "2023-04-12T14:52:00.753Z"
   },
   {
    "duration": 0,
    "start_time": "2023-04-12T14:52:00.755Z"
   },
   {
    "duration": 0,
    "start_time": "2023-04-12T14:52:00.756Z"
   },
   {
    "duration": 0,
    "start_time": "2023-04-12T14:52:00.757Z"
   },
   {
    "duration": 1,
    "start_time": "2023-04-12T14:52:00.758Z"
   },
   {
    "duration": 0,
    "start_time": "2023-04-12T14:52:00.760Z"
   },
   {
    "duration": 0,
    "start_time": "2023-04-12T14:52:00.761Z"
   },
   {
    "duration": 0,
    "start_time": "2023-04-12T14:52:00.761Z"
   },
   {
    "duration": 0,
    "start_time": "2023-04-12T14:52:00.762Z"
   },
   {
    "duration": 0,
    "start_time": "2023-04-12T14:52:00.764Z"
   },
   {
    "duration": 0,
    "start_time": "2023-04-12T14:52:00.766Z"
   },
   {
    "duration": 0,
    "start_time": "2023-04-12T14:52:00.767Z"
   },
   {
    "duration": 0,
    "start_time": "2023-04-12T14:52:00.769Z"
   },
   {
    "duration": 0,
    "start_time": "2023-04-12T14:52:00.769Z"
   },
   {
    "duration": 0,
    "start_time": "2023-04-12T14:52:00.771Z"
   },
   {
    "duration": 0,
    "start_time": "2023-04-12T14:52:00.772Z"
   },
   {
    "duration": 1,
    "start_time": "2023-04-12T14:52:00.773Z"
   },
   {
    "duration": 0,
    "start_time": "2023-04-12T14:52:00.775Z"
   },
   {
    "duration": 0,
    "start_time": "2023-04-12T14:52:00.777Z"
   },
   {
    "duration": 0,
    "start_time": "2023-04-12T14:52:00.778Z"
   },
   {
    "duration": 18,
    "start_time": "2023-04-12T14:55:06.481Z"
   },
   {
    "duration": 9,
    "start_time": "2023-04-12T14:55:21.641Z"
   },
   {
    "duration": 1029,
    "start_time": "2023-04-12T14:55:29.206Z"
   },
   {
    "duration": 257,
    "start_time": "2023-04-12T14:55:30.237Z"
   },
   {
    "duration": 122,
    "start_time": "2023-04-12T14:55:30.495Z"
   },
   {
    "duration": 4,
    "start_time": "2023-04-12T14:55:30.619Z"
   },
   {
    "duration": 215,
    "start_time": "2023-04-12T14:55:30.625Z"
   },
   {
    "duration": 19,
    "start_time": "2023-04-12T14:55:30.842Z"
   },
   {
    "duration": 50,
    "start_time": "2023-04-12T14:55:30.862Z"
   },
   {
    "duration": 8,
    "start_time": "2023-04-12T14:55:30.913Z"
   },
   {
    "duration": 31,
    "start_time": "2023-04-12T14:55:30.922Z"
   },
   {
    "duration": 127,
    "start_time": "2023-04-12T14:55:30.954Z"
   },
   {
    "duration": 0,
    "start_time": "2023-04-12T14:55:31.084Z"
   },
   {
    "duration": 0,
    "start_time": "2023-04-12T14:55:31.085Z"
   },
   {
    "duration": 0,
    "start_time": "2023-04-12T14:55:31.086Z"
   },
   {
    "duration": 0,
    "start_time": "2023-04-12T14:55:31.087Z"
   },
   {
    "duration": 0,
    "start_time": "2023-04-12T14:55:31.088Z"
   },
   {
    "duration": 0,
    "start_time": "2023-04-12T14:55:31.089Z"
   },
   {
    "duration": 0,
    "start_time": "2023-04-12T14:55:31.090Z"
   },
   {
    "duration": 0,
    "start_time": "2023-04-12T14:55:31.090Z"
   },
   {
    "duration": 0,
    "start_time": "2023-04-12T14:55:31.091Z"
   },
   {
    "duration": 0,
    "start_time": "2023-04-12T14:55:31.092Z"
   },
   {
    "duration": 0,
    "start_time": "2023-04-12T14:55:31.093Z"
   },
   {
    "duration": 0,
    "start_time": "2023-04-12T14:55:31.093Z"
   },
   {
    "duration": 0,
    "start_time": "2023-04-12T14:55:31.094Z"
   },
   {
    "duration": 0,
    "start_time": "2023-04-12T14:55:31.095Z"
   },
   {
    "duration": 0,
    "start_time": "2023-04-12T14:55:31.096Z"
   },
   {
    "duration": 0,
    "start_time": "2023-04-12T14:55:31.097Z"
   },
   {
    "duration": 0,
    "start_time": "2023-04-12T14:55:31.098Z"
   },
   {
    "duration": 0,
    "start_time": "2023-04-12T14:55:31.099Z"
   },
   {
    "duration": 0,
    "start_time": "2023-04-12T14:55:31.099Z"
   },
   {
    "duration": 0,
    "start_time": "2023-04-12T14:55:31.100Z"
   },
   {
    "duration": 0,
    "start_time": "2023-04-12T14:55:31.101Z"
   },
   {
    "duration": 0,
    "start_time": "2023-04-12T14:55:31.102Z"
   },
   {
    "duration": 17,
    "start_time": "2023-04-12T14:55:42.264Z"
   },
   {
    "duration": 9,
    "start_time": "2023-04-12T14:56:08.152Z"
   },
   {
    "duration": 8,
    "start_time": "2023-04-12T14:56:10.488Z"
   },
   {
    "duration": 14,
    "start_time": "2023-04-12T14:56:23.711Z"
   },
   {
    "duration": 257,
    "start_time": "2023-04-12T14:56:26.143Z"
   },
   {
    "duration": 24,
    "start_time": "2023-04-12T14:56:29.479Z"
   },
   {
    "duration": 51,
    "start_time": "2023-04-12T14:56:30.895Z"
   },
   {
    "duration": 42,
    "start_time": "2023-04-12T14:56:35.751Z"
   },
   {
    "duration": 22,
    "start_time": "2023-04-12T14:56:37.870Z"
   },
   {
    "duration": 2584,
    "start_time": "2023-04-12T14:56:39.511Z"
   },
   {
    "duration": 0,
    "start_time": "2023-04-12T14:56:42.097Z"
   },
   {
    "duration": 179,
    "start_time": "2023-04-12T14:56:59.455Z"
   },
   {
    "duration": 20,
    "start_time": "2023-04-12T15:02:51.576Z"
   },
   {
    "duration": 9,
    "start_time": "2023-04-12T15:03:50.486Z"
   },
   {
    "duration": 116,
    "start_time": "2023-04-12T15:03:54.328Z"
   },
   {
    "duration": 8,
    "start_time": "2023-04-12T15:03:58.453Z"
   },
   {
    "duration": 10,
    "start_time": "2023-04-12T15:08:32.945Z"
   },
   {
    "duration": 1209,
    "start_time": "2023-04-12T17:46:24.544Z"
   },
   {
    "duration": 790,
    "start_time": "2023-04-12T17:46:25.755Z"
   },
   {
    "duration": 103,
    "start_time": "2023-04-12T17:46:26.546Z"
   },
   {
    "duration": 4,
    "start_time": "2023-04-12T17:46:26.652Z"
   },
   {
    "duration": 189,
    "start_time": "2023-04-12T17:46:26.658Z"
   },
   {
    "duration": 17,
    "start_time": "2023-04-12T17:46:26.848Z"
   },
   {
    "duration": 62,
    "start_time": "2023-04-12T17:46:26.867Z"
   },
   {
    "duration": 7,
    "start_time": "2023-04-12T17:46:26.930Z"
   },
   {
    "duration": 4,
    "start_time": "2023-04-12T17:46:26.940Z"
   },
   {
    "duration": 108,
    "start_time": "2023-04-12T17:46:26.946Z"
   },
   {
    "duration": 0,
    "start_time": "2023-04-12T17:46:27.056Z"
   },
   {
    "duration": 0,
    "start_time": "2023-04-12T17:46:27.057Z"
   },
   {
    "duration": 0,
    "start_time": "2023-04-12T17:46:27.058Z"
   },
   {
    "duration": 0,
    "start_time": "2023-04-12T17:46:27.060Z"
   },
   {
    "duration": 0,
    "start_time": "2023-04-12T17:46:27.060Z"
   },
   {
    "duration": 0,
    "start_time": "2023-04-12T17:46:27.061Z"
   },
   {
    "duration": 0,
    "start_time": "2023-04-12T17:46:27.062Z"
   },
   {
    "duration": 0,
    "start_time": "2023-04-12T17:46:27.063Z"
   },
   {
    "duration": 0,
    "start_time": "2023-04-12T17:46:27.064Z"
   },
   {
    "duration": 0,
    "start_time": "2023-04-12T17:46:27.065Z"
   },
   {
    "duration": 0,
    "start_time": "2023-04-12T17:46:27.066Z"
   },
   {
    "duration": 0,
    "start_time": "2023-04-12T17:46:27.067Z"
   },
   {
    "duration": 0,
    "start_time": "2023-04-12T17:46:27.068Z"
   },
   {
    "duration": 0,
    "start_time": "2023-04-12T17:46:27.069Z"
   },
   {
    "duration": 0,
    "start_time": "2023-04-12T17:46:27.071Z"
   },
   {
    "duration": 0,
    "start_time": "2023-04-12T17:46:27.095Z"
   },
   {
    "duration": 0,
    "start_time": "2023-04-12T17:46:27.096Z"
   },
   {
    "duration": 0,
    "start_time": "2023-04-12T17:46:27.096Z"
   },
   {
    "duration": 0,
    "start_time": "2023-04-12T17:46:27.097Z"
   },
   {
    "duration": 0,
    "start_time": "2023-04-12T17:46:27.098Z"
   },
   {
    "duration": 0,
    "start_time": "2023-04-12T17:46:27.098Z"
   },
   {
    "duration": 0,
    "start_time": "2023-04-12T17:46:27.101Z"
   },
   {
    "duration": 0,
    "start_time": "2023-04-12T17:46:27.101Z"
   },
   {
    "duration": 0,
    "start_time": "2023-04-12T17:46:27.102Z"
   },
   {
    "duration": 6,
    "start_time": "2023-04-12T17:46:58.333Z"
   },
   {
    "duration": 344,
    "start_time": "2023-04-12T17:46:58.341Z"
   },
   {
    "duration": 25,
    "start_time": "2023-04-12T17:46:58.686Z"
   },
   {
    "duration": 186,
    "start_time": "2023-04-12T17:46:58.712Z"
   },
   {
    "duration": 25,
    "start_time": "2023-04-12T17:46:58.904Z"
   },
   {
    "duration": 42,
    "start_time": "2023-04-12T17:46:58.930Z"
   },
   {
    "duration": 26,
    "start_time": "2023-04-12T17:46:58.974Z"
   },
   {
    "duration": 215,
    "start_time": "2023-04-12T17:46:59.001Z"
   },
   {
    "duration": 103,
    "start_time": "2023-04-12T17:46:59.218Z"
   },
   {
    "duration": 22,
    "start_time": "2023-04-12T17:46:59.323Z"
   },
   {
    "duration": 131,
    "start_time": "2023-04-12T17:46:59.347Z"
   },
   {
    "duration": 4,
    "start_time": "2023-04-12T17:46:59.480Z"
   },
   {
    "duration": 13,
    "start_time": "2023-04-12T17:46:59.485Z"
   },
   {
    "duration": 26,
    "start_time": "2023-04-12T17:46:59.500Z"
   },
   {
    "duration": 0,
    "start_time": "2023-04-12T17:46:59.528Z"
   },
   {
    "duration": 0,
    "start_time": "2023-04-12T17:46:59.529Z"
   },
   {
    "duration": 0,
    "start_time": "2023-04-12T17:46:59.529Z"
   },
   {
    "duration": 0,
    "start_time": "2023-04-12T17:46:59.531Z"
   },
   {
    "duration": 0,
    "start_time": "2023-04-12T17:46:59.531Z"
   },
   {
    "duration": 0,
    "start_time": "2023-04-12T17:46:59.532Z"
   },
   {
    "duration": 0,
    "start_time": "2023-04-12T17:46:59.533Z"
   },
   {
    "duration": 0,
    "start_time": "2023-04-12T17:46:59.534Z"
   },
   {
    "duration": 0,
    "start_time": "2023-04-12T17:46:59.535Z"
   },
   {
    "duration": 0,
    "start_time": "2023-04-12T17:46:59.536Z"
   },
   {
    "duration": 70,
    "start_time": "2023-04-12T17:51:20.622Z"
   },
   {
    "duration": 72,
    "start_time": "2023-04-12T17:51:34.401Z"
   },
   {
    "duration": 274,
    "start_time": "2023-04-12T17:51:38.467Z"
   },
   {
    "duration": 261,
    "start_time": "2023-04-12T17:52:38.376Z"
   },
   {
    "duration": 4,
    "start_time": "2023-04-12T17:53:32.114Z"
   },
   {
    "duration": 258,
    "start_time": "2023-04-12T17:53:47.709Z"
   },
   {
    "duration": 3,
    "start_time": "2023-04-12T17:56:07.734Z"
   },
   {
    "duration": 1281,
    "start_time": "2023-04-12T18:05:53.628Z"
   },
   {
    "duration": 1243,
    "start_time": "2023-04-12T18:06:12.053Z"
   },
   {
    "duration": 1265,
    "start_time": "2023-04-12T18:06:43.852Z"
   },
   {
    "duration": 1079,
    "start_time": "2023-04-12T18:07:38.504Z"
   },
   {
    "duration": 188,
    "start_time": "2023-04-12T18:07:39.584Z"
   },
   {
    "duration": 93,
    "start_time": "2023-04-12T18:07:39.773Z"
   },
   {
    "duration": 3,
    "start_time": "2023-04-12T18:07:39.867Z"
   },
   {
    "duration": 204,
    "start_time": "2023-04-12T18:07:39.872Z"
   },
   {
    "duration": 24,
    "start_time": "2023-04-12T18:07:40.077Z"
   },
   {
    "duration": 45,
    "start_time": "2023-04-12T18:07:40.107Z"
   },
   {
    "duration": 7,
    "start_time": "2023-04-12T18:07:40.153Z"
   },
   {
    "duration": 6,
    "start_time": "2023-04-12T18:07:40.161Z"
   },
   {
    "duration": 113,
    "start_time": "2023-04-12T18:07:40.169Z"
   },
   {
    "duration": 0,
    "start_time": "2023-04-12T18:07:40.284Z"
   },
   {
    "duration": 0,
    "start_time": "2023-04-12T18:07:40.285Z"
   },
   {
    "duration": 0,
    "start_time": "2023-04-12T18:07:40.286Z"
   },
   {
    "duration": 0,
    "start_time": "2023-04-12T18:07:40.287Z"
   },
   {
    "duration": 0,
    "start_time": "2023-04-12T18:07:40.287Z"
   },
   {
    "duration": 0,
    "start_time": "2023-04-12T18:07:40.288Z"
   },
   {
    "duration": 0,
    "start_time": "2023-04-12T18:07:40.289Z"
   },
   {
    "duration": 0,
    "start_time": "2023-04-12T18:07:40.290Z"
   },
   {
    "duration": 0,
    "start_time": "2023-04-12T18:07:40.299Z"
   },
   {
    "duration": 0,
    "start_time": "2023-04-12T18:07:40.300Z"
   },
   {
    "duration": 0,
    "start_time": "2023-04-12T18:07:40.300Z"
   },
   {
    "duration": 0,
    "start_time": "2023-04-12T18:07:40.301Z"
   },
   {
    "duration": 0,
    "start_time": "2023-04-12T18:07:40.301Z"
   },
   {
    "duration": 0,
    "start_time": "2023-04-12T18:07:40.302Z"
   },
   {
    "duration": 0,
    "start_time": "2023-04-12T18:07:40.303Z"
   },
   {
    "duration": 0,
    "start_time": "2023-04-12T18:07:40.303Z"
   },
   {
    "duration": 0,
    "start_time": "2023-04-12T18:07:40.304Z"
   },
   {
    "duration": 0,
    "start_time": "2023-04-12T18:07:40.304Z"
   },
   {
    "duration": 0,
    "start_time": "2023-04-12T18:07:40.305Z"
   },
   {
    "duration": 0,
    "start_time": "2023-04-12T18:07:40.306Z"
   },
   {
    "duration": 0,
    "start_time": "2023-04-12T18:07:40.306Z"
   },
   {
    "duration": 0,
    "start_time": "2023-04-12T18:07:40.308Z"
   },
   {
    "duration": 0,
    "start_time": "2023-04-12T18:07:40.309Z"
   },
   {
    "duration": 0,
    "start_time": "2023-04-12T18:07:40.310Z"
   },
   {
    "duration": 3,
    "start_time": "2023-04-12T18:07:55.857Z"
   },
   {
    "duration": 191,
    "start_time": "2023-04-12T18:07:55.862Z"
   },
   {
    "duration": 86,
    "start_time": "2023-04-12T18:07:56.055Z"
   },
   {
    "duration": 3,
    "start_time": "2023-04-12T18:07:56.143Z"
   },
   {
    "duration": 200,
    "start_time": "2023-04-12T18:07:56.148Z"
   },
   {
    "duration": 20,
    "start_time": "2023-04-12T18:07:56.350Z"
   },
   {
    "duration": 70,
    "start_time": "2023-04-12T18:07:56.372Z"
   },
   {
    "duration": 8,
    "start_time": "2023-04-12T18:07:56.444Z"
   },
   {
    "duration": 5,
    "start_time": "2023-04-12T18:07:56.454Z"
   },
   {
    "duration": 8,
    "start_time": "2023-04-12T18:07:56.460Z"
   },
   {
    "duration": 7,
    "start_time": "2023-04-12T18:08:02.148Z"
   },
   {
    "duration": 390,
    "start_time": "2023-04-12T18:08:02.156Z"
   },
   {
    "duration": 15,
    "start_time": "2023-04-12T18:08:02.548Z"
   },
   {
    "duration": 200,
    "start_time": "2023-04-12T18:08:02.566Z"
   },
   {
    "duration": 40,
    "start_time": "2023-04-12T18:08:02.767Z"
   },
   {
    "duration": 41,
    "start_time": "2023-04-12T18:08:02.809Z"
   },
   {
    "duration": 18,
    "start_time": "2023-04-12T18:08:02.852Z"
   },
   {
    "duration": 187,
    "start_time": "2023-04-12T18:08:02.872Z"
   },
   {
    "duration": 75,
    "start_time": "2023-04-12T18:08:03.060Z"
   },
   {
    "duration": 69,
    "start_time": "2023-04-12T18:08:03.138Z"
   },
   {
    "duration": 104,
    "start_time": "2023-04-12T18:08:03.209Z"
   },
   {
    "duration": 4,
    "start_time": "2023-04-12T18:08:03.315Z"
   },
   {
    "duration": 13,
    "start_time": "2023-04-12T18:08:03.320Z"
   },
   {
    "duration": 296,
    "start_time": "2023-04-12T18:08:03.336Z"
   },
   {
    "duration": 0,
    "start_time": "2023-04-12T18:08:03.633Z"
   },
   {
    "duration": 0,
    "start_time": "2023-04-12T18:08:03.635Z"
   },
   {
    "duration": 0,
    "start_time": "2023-04-12T18:08:03.636Z"
   },
   {
    "duration": 0,
    "start_time": "2023-04-12T18:08:03.637Z"
   },
   {
    "duration": 0,
    "start_time": "2023-04-12T18:08:03.638Z"
   },
   {
    "duration": 0,
    "start_time": "2023-04-12T18:08:03.639Z"
   },
   {
    "duration": 0,
    "start_time": "2023-04-12T18:08:03.640Z"
   },
   {
    "duration": 0,
    "start_time": "2023-04-12T18:08:03.642Z"
   },
   {
    "duration": 0,
    "start_time": "2023-04-12T18:08:03.642Z"
   },
   {
    "duration": 0,
    "start_time": "2023-04-12T18:08:03.644Z"
   },
   {
    "duration": 1370,
    "start_time": "2023-04-12T18:08:10.370Z"
   },
   {
    "duration": 1303,
    "start_time": "2023-04-12T18:09:30.351Z"
   },
   {
    "duration": 1345,
    "start_time": "2023-04-12T18:11:20.349Z"
   },
   {
    "duration": 17,
    "start_time": "2023-04-12T18:11:46.791Z"
   },
   {
    "duration": 1193,
    "start_time": "2023-04-12T18:12:16.693Z"
   },
   {
    "duration": 4,
    "start_time": "2023-04-12T18:12:29.174Z"
   },
   {
    "duration": 9,
    "start_time": "2023-04-12T18:12:44.551Z"
   },
   {
    "duration": 99,
    "start_time": "2023-04-12T18:12:49.720Z"
   },
   {
    "duration": 45,
    "start_time": "2023-04-12T18:12:52.284Z"
   },
   {
    "duration": 36,
    "start_time": "2023-04-12T18:12:53.717Z"
   },
   {
    "duration": 86,
    "start_time": "2023-04-12T18:12:56.205Z"
   },
   {
    "duration": 4,
    "start_time": "2023-04-12T18:12:57.557Z"
   },
   {
    "duration": 16,
    "start_time": "2023-04-12T18:13:00.797Z"
   },
   {
    "duration": 8,
    "start_time": "2023-04-12T18:13:04.661Z"
   },
   {
    "duration": 7,
    "start_time": "2023-04-12T18:13:05.973Z"
   },
   {
    "duration": 8,
    "start_time": "2023-04-12T18:13:07.243Z"
   },
   {
    "duration": 98,
    "start_time": "2023-04-12T18:18:31.712Z"
   },
   {
    "duration": 85,
    "start_time": "2023-04-12T18:24:05.153Z"
   },
   {
    "duration": 3,
    "start_time": "2023-04-12T18:24:25.850Z"
   },
   {
    "duration": 168,
    "start_time": "2023-04-12T18:24:25.855Z"
   },
   {
    "duration": 85,
    "start_time": "2023-04-12T18:24:26.025Z"
   },
   {
    "duration": 3,
    "start_time": "2023-04-12T18:24:26.112Z"
   },
   {
    "duration": 178,
    "start_time": "2023-04-12T18:24:26.116Z"
   },
   {
    "duration": 19,
    "start_time": "2023-04-12T18:24:26.295Z"
   },
   {
    "duration": 46,
    "start_time": "2023-04-12T18:24:26.315Z"
   },
   {
    "duration": 6,
    "start_time": "2023-04-12T18:24:26.363Z"
   },
   {
    "duration": 5,
    "start_time": "2023-04-12T18:24:26.393Z"
   },
   {
    "duration": 12,
    "start_time": "2023-04-12T18:24:26.399Z"
   },
   {
    "duration": 0,
    "start_time": "2023-04-12T18:24:26.413Z"
   },
   {
    "duration": 0,
    "start_time": "2023-04-12T18:24:26.414Z"
   },
   {
    "duration": 0,
    "start_time": "2023-04-12T18:24:26.415Z"
   },
   {
    "duration": 0,
    "start_time": "2023-04-12T18:24:26.416Z"
   },
   {
    "duration": 0,
    "start_time": "2023-04-12T18:24:26.418Z"
   },
   {
    "duration": 1,
    "start_time": "2023-04-12T18:24:26.418Z"
   },
   {
    "duration": 0,
    "start_time": "2023-04-12T18:24:26.420Z"
   },
   {
    "duration": 0,
    "start_time": "2023-04-12T18:24:26.420Z"
   },
   {
    "duration": 0,
    "start_time": "2023-04-12T18:24:26.421Z"
   },
   {
    "duration": 0,
    "start_time": "2023-04-12T18:24:26.423Z"
   },
   {
    "duration": 0,
    "start_time": "2023-04-12T18:24:26.424Z"
   },
   {
    "duration": 0,
    "start_time": "2023-04-12T18:24:26.425Z"
   },
   {
    "duration": 0,
    "start_time": "2023-04-12T18:24:26.426Z"
   },
   {
    "duration": 0,
    "start_time": "2023-04-12T18:24:26.427Z"
   },
   {
    "duration": 0,
    "start_time": "2023-04-12T18:24:26.428Z"
   },
   {
    "duration": 0,
    "start_time": "2023-04-12T18:24:26.428Z"
   },
   {
    "duration": 0,
    "start_time": "2023-04-12T18:24:26.429Z"
   },
   {
    "duration": 0,
    "start_time": "2023-04-12T18:24:26.431Z"
   },
   {
    "duration": 0,
    "start_time": "2023-04-12T18:24:26.431Z"
   },
   {
    "duration": 0,
    "start_time": "2023-04-12T18:24:26.432Z"
   },
   {
    "duration": 0,
    "start_time": "2023-04-12T18:24:26.433Z"
   },
   {
    "duration": 0,
    "start_time": "2023-04-12T18:24:26.434Z"
   },
   {
    "duration": 0,
    "start_time": "2023-04-12T18:24:26.435Z"
   },
   {
    "duration": 1029,
    "start_time": "2023-04-12T18:24:37.835Z"
   },
   {
    "duration": 163,
    "start_time": "2023-04-12T18:24:38.866Z"
   },
   {
    "duration": 95,
    "start_time": "2023-04-12T18:24:39.030Z"
   },
   {
    "duration": 4,
    "start_time": "2023-04-12T18:24:39.126Z"
   },
   {
    "duration": 201,
    "start_time": "2023-04-12T18:24:39.132Z"
   },
   {
    "duration": 18,
    "start_time": "2023-04-12T18:24:39.334Z"
   },
   {
    "duration": 56,
    "start_time": "2023-04-12T18:24:39.354Z"
   },
   {
    "duration": 6,
    "start_time": "2023-04-12T18:24:39.412Z"
   },
   {
    "duration": 5,
    "start_time": "2023-04-12T18:24:39.420Z"
   },
   {
    "duration": 104,
    "start_time": "2023-04-12T18:24:39.426Z"
   },
   {
    "duration": 0,
    "start_time": "2023-04-12T18:24:39.532Z"
   },
   {
    "duration": 0,
    "start_time": "2023-04-12T18:24:39.533Z"
   },
   {
    "duration": 0,
    "start_time": "2023-04-12T18:24:39.534Z"
   },
   {
    "duration": 0,
    "start_time": "2023-04-12T18:24:39.535Z"
   },
   {
    "duration": 0,
    "start_time": "2023-04-12T18:24:39.536Z"
   },
   {
    "duration": 0,
    "start_time": "2023-04-12T18:24:39.537Z"
   },
   {
    "duration": 0,
    "start_time": "2023-04-12T18:24:39.538Z"
   },
   {
    "duration": 0,
    "start_time": "2023-04-12T18:24:39.539Z"
   },
   {
    "duration": 0,
    "start_time": "2023-04-12T18:24:39.539Z"
   },
   {
    "duration": 0,
    "start_time": "2023-04-12T18:24:39.540Z"
   },
   {
    "duration": 0,
    "start_time": "2023-04-12T18:24:39.541Z"
   },
   {
    "duration": 0,
    "start_time": "2023-04-12T18:24:39.542Z"
   },
   {
    "duration": 0,
    "start_time": "2023-04-12T18:24:39.543Z"
   },
   {
    "duration": 0,
    "start_time": "2023-04-12T18:24:39.544Z"
   },
   {
    "duration": 0,
    "start_time": "2023-04-12T18:24:39.545Z"
   },
   {
    "duration": 0,
    "start_time": "2023-04-12T18:24:39.546Z"
   },
   {
    "duration": 0,
    "start_time": "2023-04-12T18:24:39.547Z"
   },
   {
    "duration": 0,
    "start_time": "2023-04-12T18:24:39.548Z"
   },
   {
    "duration": 0,
    "start_time": "2023-04-12T18:24:39.549Z"
   },
   {
    "duration": 0,
    "start_time": "2023-04-12T18:24:39.550Z"
   },
   {
    "duration": 0,
    "start_time": "2023-04-12T18:24:39.551Z"
   },
   {
    "duration": 0,
    "start_time": "2023-04-12T18:24:39.551Z"
   },
   {
    "duration": 0,
    "start_time": "2023-04-12T18:24:39.552Z"
   },
   {
    "duration": 6,
    "start_time": "2023-04-12T18:25:27.127Z"
   },
   {
    "duration": 335,
    "start_time": "2023-04-12T18:26:10.894Z"
   },
   {
    "duration": 14,
    "start_time": "2023-04-12T18:26:28.206Z"
   },
   {
    "duration": 169,
    "start_time": "2023-04-12T18:26:46.670Z"
   },
   {
    "duration": 23,
    "start_time": "2023-04-12T18:26:48.165Z"
   },
   {
    "duration": 55,
    "start_time": "2023-04-12T18:26:49.936Z"
   },
   {
    "duration": 19,
    "start_time": "2023-04-12T18:26:52.061Z"
   },
   {
    "duration": 176,
    "start_time": "2023-04-12T18:26:53.309Z"
   },
   {
    "duration": 62,
    "start_time": "2023-04-12T18:26:53.836Z"
   },
   {
    "duration": 19,
    "start_time": "2023-04-12T18:26:58.828Z"
   },
   {
    "duration": 80,
    "start_time": "2023-04-12T18:27:14.892Z"
   },
   {
    "duration": 4,
    "start_time": "2023-04-12T18:27:15.430Z"
   },
   {
    "duration": 4,
    "start_time": "2023-04-12T18:27:15.878Z"
   },
   {
    "duration": 1143,
    "start_time": "2023-04-12T18:27:18.196Z"
   },
   {
    "duration": 0,
    "start_time": "2023-04-12T18:27:19.340Z"
   },
   {
    "duration": 45,
    "start_time": "2023-04-12T18:27:27.037Z"
   },
   {
    "duration": 36,
    "start_time": "2023-04-12T18:27:27.573Z"
   },
   {
    "duration": 103,
    "start_time": "2023-04-12T18:27:29.092Z"
   },
   {
    "duration": 6,
    "start_time": "2023-04-12T18:27:33.326Z"
   },
   {
    "duration": 16,
    "start_time": "2023-04-12T18:27:33.334Z"
   },
   {
    "duration": 21,
    "start_time": "2023-04-12T18:27:33.352Z"
   },
   {
    "duration": 8,
    "start_time": "2023-04-12T18:27:33.374Z"
   },
   {
    "duration": 9,
    "start_time": "2023-04-12T18:27:33.384Z"
   },
   {
    "duration": 1287,
    "start_time": "2023-04-12T23:44:55.903Z"
   },
   {
    "duration": 551,
    "start_time": "2023-04-12T23:44:57.192Z"
   },
   {
    "duration": 113,
    "start_time": "2023-04-12T23:44:57.745Z"
   },
   {
    "duration": 4,
    "start_time": "2023-04-12T23:44:57.859Z"
   },
   {
    "duration": 239,
    "start_time": "2023-04-12T23:44:57.865Z"
   },
   {
    "duration": 21,
    "start_time": "2023-04-12T23:44:58.106Z"
   },
   {
    "duration": 58,
    "start_time": "2023-04-12T23:44:58.129Z"
   },
   {
    "duration": 8,
    "start_time": "2023-04-12T23:44:58.189Z"
   },
   {
    "duration": 12,
    "start_time": "2023-04-12T23:44:58.198Z"
   },
   {
    "duration": 124,
    "start_time": "2023-04-12T23:44:58.211Z"
   },
   {
    "duration": 0,
    "start_time": "2023-04-12T23:44:58.336Z"
   },
   {
    "duration": 0,
    "start_time": "2023-04-12T23:44:58.341Z"
   },
   {
    "duration": 0,
    "start_time": "2023-04-12T23:44:58.342Z"
   },
   {
    "duration": 1,
    "start_time": "2023-04-12T23:44:58.342Z"
   },
   {
    "duration": 0,
    "start_time": "2023-04-12T23:44:58.343Z"
   },
   {
    "duration": 0,
    "start_time": "2023-04-12T23:44:58.344Z"
   },
   {
    "duration": 0,
    "start_time": "2023-04-12T23:44:58.346Z"
   },
   {
    "duration": 0,
    "start_time": "2023-04-12T23:44:58.347Z"
   },
   {
    "duration": 0,
    "start_time": "2023-04-12T23:44:58.348Z"
   },
   {
    "duration": 0,
    "start_time": "2023-04-12T23:44:58.349Z"
   },
   {
    "duration": 0,
    "start_time": "2023-04-12T23:44:58.350Z"
   },
   {
    "duration": 0,
    "start_time": "2023-04-12T23:44:58.351Z"
   },
   {
    "duration": 0,
    "start_time": "2023-04-12T23:44:58.352Z"
   },
   {
    "duration": 0,
    "start_time": "2023-04-12T23:44:58.353Z"
   },
   {
    "duration": 0,
    "start_time": "2023-04-12T23:44:58.354Z"
   },
   {
    "duration": 0,
    "start_time": "2023-04-12T23:44:58.355Z"
   },
   {
    "duration": 0,
    "start_time": "2023-04-12T23:44:58.355Z"
   },
   {
    "duration": 0,
    "start_time": "2023-04-12T23:44:58.357Z"
   },
   {
    "duration": 0,
    "start_time": "2023-04-12T23:44:58.357Z"
   },
   {
    "duration": 0,
    "start_time": "2023-04-12T23:44:58.358Z"
   },
   {
    "duration": 0,
    "start_time": "2023-04-12T23:44:58.359Z"
   },
   {
    "duration": 0,
    "start_time": "2023-04-12T23:44:58.360Z"
   },
   {
    "duration": 0,
    "start_time": "2023-04-12T23:44:58.361Z"
   },
   {
    "duration": 3,
    "start_time": "2023-04-12T23:45:22.515Z"
   },
   {
    "duration": 15,
    "start_time": "2023-04-12T23:45:41.843Z"
   },
   {
    "duration": 18,
    "start_time": "2023-04-12T23:48:12.158Z"
   },
   {
    "duration": 24,
    "start_time": "2023-04-12T23:48:17.371Z"
   },
   {
    "duration": 18,
    "start_time": "2023-04-12T23:48:20.807Z"
   },
   {
    "duration": 19,
    "start_time": "2023-04-12T23:48:32.300Z"
   },
   {
    "duration": 85,
    "start_time": "2023-04-12T23:48:53.868Z"
   },
   {
    "duration": 20,
    "start_time": "2023-04-12T23:49:02.572Z"
   },
   {
    "duration": 24,
    "start_time": "2023-04-12T23:49:20.688Z"
   },
   {
    "duration": 22,
    "start_time": "2023-04-12T23:49:32.974Z"
   },
   {
    "duration": 134,
    "start_time": "2023-04-12T23:49:49.335Z"
   },
   {
    "duration": 94,
    "start_time": "2023-04-12T23:49:59.496Z"
   },
   {
    "duration": 93,
    "start_time": "2023-04-12T23:50:04.815Z"
   },
   {
    "duration": 3,
    "start_time": "2023-04-12T23:50:26.853Z"
   },
   {
    "duration": 1148,
    "start_time": "2023-04-12T23:50:37.702Z"
   },
   {
    "duration": 198,
    "start_time": "2023-04-12T23:50:38.852Z"
   },
   {
    "duration": 109,
    "start_time": "2023-04-12T23:50:39.054Z"
   },
   {
    "duration": 4,
    "start_time": "2023-04-12T23:50:39.165Z"
   },
   {
    "duration": 227,
    "start_time": "2023-04-12T23:50:39.171Z"
   },
   {
    "duration": 21,
    "start_time": "2023-04-12T23:50:39.399Z"
   },
   {
    "duration": 60,
    "start_time": "2023-04-12T23:50:39.421Z"
   },
   {
    "duration": 8,
    "start_time": "2023-04-12T23:50:39.482Z"
   },
   {
    "duration": 5,
    "start_time": "2023-04-12T23:50:39.492Z"
   },
   {
    "duration": 124,
    "start_time": "2023-04-12T23:50:39.498Z"
   },
   {
    "duration": 2,
    "start_time": "2023-04-12T23:50:39.624Z"
   },
   {
    "duration": 17,
    "start_time": "2023-04-12T23:50:39.628Z"
   },
   {
    "duration": 398,
    "start_time": "2023-04-12T23:50:39.648Z"
   },
   {
    "duration": 17,
    "start_time": "2023-04-12T23:50:40.048Z"
   },
   {
    "duration": 217,
    "start_time": "2023-04-12T23:50:40.067Z"
   },
   {
    "duration": 26,
    "start_time": "2023-04-12T23:50:40.286Z"
   },
   {
    "duration": 61,
    "start_time": "2023-04-12T23:50:40.314Z"
   },
   {
    "duration": 21,
    "start_time": "2023-04-12T23:50:40.377Z"
   },
   {
    "duration": 629,
    "start_time": "2023-04-12T23:50:40.400Z"
   },
   {
    "duration": 133,
    "start_time": "2023-04-12T23:50:41.033Z"
   },
   {
    "duration": 20,
    "start_time": "2023-04-12T23:50:41.168Z"
   },
   {
    "duration": 135,
    "start_time": "2023-04-12T23:50:41.190Z"
   },
   {
    "duration": 4,
    "start_time": "2023-04-12T23:50:41.327Z"
   },
   {
    "duration": 14,
    "start_time": "2023-04-12T23:50:41.341Z"
   },
   {
    "duration": 1770,
    "start_time": "2023-04-12T23:50:41.356Z"
   },
   {
    "duration": 0,
    "start_time": "2023-04-12T23:50:43.127Z"
   },
   {
    "duration": 0,
    "start_time": "2023-04-12T23:50:43.129Z"
   },
   {
    "duration": 0,
    "start_time": "2023-04-12T23:50:43.130Z"
   },
   {
    "duration": 0,
    "start_time": "2023-04-12T23:50:43.131Z"
   },
   {
    "duration": 0,
    "start_time": "2023-04-12T23:50:43.133Z"
   },
   {
    "duration": 0,
    "start_time": "2023-04-12T23:50:43.134Z"
   },
   {
    "duration": 0,
    "start_time": "2023-04-12T23:50:43.135Z"
   },
   {
    "duration": 0,
    "start_time": "2023-04-12T23:50:43.136Z"
   },
   {
    "duration": 0,
    "start_time": "2023-04-12T23:50:43.137Z"
   },
   {
    "duration": 42,
    "start_time": "2023-04-12T23:53:14.123Z"
   },
   {
    "duration": 37,
    "start_time": "2023-04-12T23:53:14.264Z"
   },
   {
    "duration": 96,
    "start_time": "2023-04-12T23:53:14.880Z"
   },
   {
    "duration": 5,
    "start_time": "2023-04-12T23:53:15.205Z"
   },
   {
    "duration": 11,
    "start_time": "2023-04-12T23:53:15.824Z"
   },
   {
    "duration": 10,
    "start_time": "2023-04-12T23:53:16.644Z"
   },
   {
    "duration": 9,
    "start_time": "2023-04-12T23:53:17.286Z"
   },
   {
    "duration": 8,
    "start_time": "2023-04-12T23:53:17.779Z"
   },
   {
    "duration": 76,
    "start_time": "2023-04-13T14:51:35.513Z"
   },
   {
    "duration": 1920,
    "start_time": "2023-04-13T14:51:45.137Z"
   },
   {
    "duration": 99,
    "start_time": "2023-04-13T14:51:50.797Z"
   },
   {
    "duration": 1808,
    "start_time": "2023-04-13T14:52:35.765Z"
   },
   {
    "duration": 796,
    "start_time": "2023-04-13T14:52:37.580Z"
   },
   {
    "duration": 134,
    "start_time": "2023-04-13T14:52:38.379Z"
   },
   {
    "duration": 5,
    "start_time": "2023-04-13T14:52:38.515Z"
   },
   {
    "duration": 325,
    "start_time": "2023-04-13T14:52:38.524Z"
   },
   {
    "duration": 40,
    "start_time": "2023-04-13T14:52:38.855Z"
   },
   {
    "duration": 93,
    "start_time": "2023-04-13T14:52:38.898Z"
   },
   {
    "duration": 10,
    "start_time": "2023-04-13T14:52:38.993Z"
   },
   {
    "duration": 21,
    "start_time": "2023-04-13T14:52:39.005Z"
   },
   {
    "duration": 148,
    "start_time": "2023-04-13T14:52:39.028Z"
   },
   {
    "duration": 4,
    "start_time": "2023-04-13T14:52:39.178Z"
   },
   {
    "duration": 21,
    "start_time": "2023-04-13T14:52:39.184Z"
   },
   {
    "duration": 497,
    "start_time": "2023-04-13T14:52:39.211Z"
   },
   {
    "duration": 43,
    "start_time": "2023-04-13T14:52:39.713Z"
   },
   {
    "duration": 308,
    "start_time": "2023-04-13T14:52:39.767Z"
   },
   {
    "duration": 40,
    "start_time": "2023-04-13T14:52:40.078Z"
   },
   {
    "duration": 68,
    "start_time": "2023-04-13T14:52:40.121Z"
   },
   {
    "duration": 43,
    "start_time": "2023-04-13T14:52:40.192Z"
   },
   {
    "duration": 337,
    "start_time": "2023-04-13T14:52:40.247Z"
   },
   {
    "duration": 184,
    "start_time": "2023-04-13T14:52:40.589Z"
   },
   {
    "duration": 32,
    "start_time": "2023-04-13T14:52:40.777Z"
   },
   {
    "duration": 158,
    "start_time": "2023-04-13T14:52:40.811Z"
   },
   {
    "duration": 11,
    "start_time": "2023-04-13T14:52:40.971Z"
   },
   {
    "duration": 44,
    "start_time": "2023-04-13T14:52:40.985Z"
   },
   {
    "duration": 238,
    "start_time": "2023-04-13T14:52:41.031Z"
   },
   {
    "duration": 0,
    "start_time": "2023-04-13T14:52:41.275Z"
   },
   {
    "duration": 0,
    "start_time": "2023-04-13T14:52:41.277Z"
   },
   {
    "duration": 0,
    "start_time": "2023-04-13T14:52:41.278Z"
   },
   {
    "duration": 0,
    "start_time": "2023-04-13T14:52:41.279Z"
   },
   {
    "duration": 0,
    "start_time": "2023-04-13T14:52:41.281Z"
   },
   {
    "duration": 0,
    "start_time": "2023-04-13T14:52:41.282Z"
   },
   {
    "duration": 0,
    "start_time": "2023-04-13T14:52:41.286Z"
   },
   {
    "duration": 0,
    "start_time": "2023-04-13T14:52:41.287Z"
   },
   {
    "duration": 0,
    "start_time": "2023-04-13T14:52:41.288Z"
   },
   {
    "duration": 0,
    "start_time": "2023-04-13T14:52:41.289Z"
   },
   {
    "duration": 0,
    "start_time": "2023-04-13T14:52:41.293Z"
   },
   {
    "duration": 1750,
    "start_time": "2023-04-13T15:14:11.730Z"
   },
   {
    "duration": 439,
    "start_time": "2023-04-13T15:14:13.483Z"
   },
   {
    "duration": 153,
    "start_time": "2023-04-13T15:14:13.924Z"
   },
   {
    "duration": 7,
    "start_time": "2023-04-13T15:14:14.087Z"
   },
   {
    "duration": 344,
    "start_time": "2023-04-13T15:14:14.096Z"
   },
   {
    "duration": 49,
    "start_time": "2023-04-13T15:14:14.452Z"
   },
   {
    "duration": 118,
    "start_time": "2023-04-13T15:14:14.506Z"
   },
   {
    "duration": 25,
    "start_time": "2023-04-13T15:14:14.627Z"
   },
   {
    "duration": 46,
    "start_time": "2023-04-13T15:14:14.665Z"
   },
   {
    "duration": 204,
    "start_time": "2023-04-13T15:14:14.715Z"
   },
   {
    "duration": 3,
    "start_time": "2023-04-13T15:14:14.922Z"
   },
   {
    "duration": 78,
    "start_time": "2023-04-13T15:14:14.927Z"
   },
   {
    "duration": 613,
    "start_time": "2023-04-13T15:14:15.007Z"
   },
   {
    "duration": 44,
    "start_time": "2023-04-13T15:14:15.622Z"
   },
   {
    "duration": 314,
    "start_time": "2023-04-13T15:14:15.676Z"
   },
   {
    "duration": 58,
    "start_time": "2023-04-13T15:14:16.002Z"
   },
   {
    "duration": 127,
    "start_time": "2023-04-13T15:14:16.066Z"
   },
   {
    "duration": 43,
    "start_time": "2023-04-13T15:14:16.198Z"
   },
   {
    "duration": 374,
    "start_time": "2023-04-13T15:14:16.244Z"
   },
   {
    "duration": 161,
    "start_time": "2023-04-13T15:14:16.621Z"
   },
   {
    "duration": 25,
    "start_time": "2023-04-13T15:14:16.784Z"
   },
   {
    "duration": 354,
    "start_time": "2023-04-13T15:14:16.812Z"
   },
   {
    "duration": 10,
    "start_time": "2023-04-13T15:14:17.175Z"
   },
   {
    "duration": 12,
    "start_time": "2023-04-13T15:14:17.187Z"
   },
   {
    "duration": 148,
    "start_time": "2023-04-13T15:14:17.202Z"
   },
   {
    "duration": 0,
    "start_time": "2023-04-13T15:14:17.354Z"
   },
   {
    "duration": 0,
    "start_time": "2023-04-13T15:14:17.355Z"
   },
   {
    "duration": 0,
    "start_time": "2023-04-13T15:14:17.356Z"
   },
   {
    "duration": 0,
    "start_time": "2023-04-13T15:14:17.357Z"
   },
   {
    "duration": 0,
    "start_time": "2023-04-13T15:14:17.358Z"
   },
   {
    "duration": 0,
    "start_time": "2023-04-13T15:14:17.359Z"
   },
   {
    "duration": 0,
    "start_time": "2023-04-13T15:14:17.360Z"
   },
   {
    "duration": 0,
    "start_time": "2023-04-13T15:14:17.361Z"
   },
   {
    "duration": 0,
    "start_time": "2023-04-13T15:14:17.362Z"
   },
   {
    "duration": 0,
    "start_time": "2023-04-13T15:14:17.364Z"
   },
   {
    "duration": 15,
    "start_time": "2023-04-13T15:17:59.903Z"
   },
   {
    "duration": 8,
    "start_time": "2023-04-13T15:18:17.166Z"
   },
   {
    "duration": 11,
    "start_time": "2023-04-13T15:27:01.807Z"
   },
   {
    "duration": 10,
    "start_time": "2023-04-13T15:27:31.133Z"
   },
   {
    "duration": 16,
    "start_time": "2023-04-13T15:27:32.670Z"
   },
   {
    "duration": 6,
    "start_time": "2023-04-13T15:33:58.965Z"
   },
   {
    "duration": 5,
    "start_time": "2023-04-13T15:34:09.573Z"
   },
   {
    "duration": 67,
    "start_time": "2023-04-13T17:46:14.687Z"
   },
   {
    "duration": 1420,
    "start_time": "2023-04-13T17:46:29.947Z"
   },
   {
    "duration": 979,
    "start_time": "2023-04-13T17:46:31.369Z"
   },
   {
    "duration": 108,
    "start_time": "2023-04-13T17:46:32.352Z"
   },
   {
    "duration": 4,
    "start_time": "2023-04-13T17:46:32.462Z"
   },
   {
    "duration": 218,
    "start_time": "2023-04-13T17:46:32.468Z"
   },
   {
    "duration": 20,
    "start_time": "2023-04-13T17:46:32.687Z"
   },
   {
    "duration": 61,
    "start_time": "2023-04-13T17:46:32.731Z"
   },
   {
    "duration": 11,
    "start_time": "2023-04-13T17:46:32.794Z"
   },
   {
    "duration": 32,
    "start_time": "2023-04-13T17:46:32.806Z"
   },
   {
    "duration": 148,
    "start_time": "2023-04-13T17:46:32.840Z"
   },
   {
    "duration": 2,
    "start_time": "2023-04-13T17:46:32.990Z"
   },
   {
    "duration": 8,
    "start_time": "2023-04-13T17:46:32.994Z"
   },
   {
    "duration": 385,
    "start_time": "2023-04-13T17:46:33.005Z"
   },
   {
    "duration": 14,
    "start_time": "2023-04-13T17:46:33.392Z"
   },
   {
    "duration": 190,
    "start_time": "2023-04-13T17:46:33.426Z"
   },
   {
    "duration": 50,
    "start_time": "2023-04-13T17:46:33.619Z"
   },
   {
    "duration": 72,
    "start_time": "2023-04-13T17:46:33.670Z"
   },
   {
    "duration": 33,
    "start_time": "2023-04-13T17:46:33.754Z"
   },
   {
    "duration": 256,
    "start_time": "2023-04-13T17:46:33.789Z"
   },
   {
    "duration": 104,
    "start_time": "2023-04-13T17:46:34.047Z"
   },
   {
    "duration": 75,
    "start_time": "2023-04-13T17:46:34.152Z"
   },
   {
    "duration": 120,
    "start_time": "2023-04-13T17:46:34.229Z"
   },
   {
    "duration": 4,
    "start_time": "2023-04-13T17:46:34.351Z"
   },
   {
    "duration": 5,
    "start_time": "2023-04-13T17:46:34.358Z"
   },
   {
    "duration": 137,
    "start_time": "2023-04-13T17:46:34.364Z"
   },
   {
    "duration": 0,
    "start_time": "2023-04-13T17:46:34.503Z"
   },
   {
    "duration": 0,
    "start_time": "2023-04-13T17:46:34.504Z"
   },
   {
    "duration": 0,
    "start_time": "2023-04-13T17:46:34.505Z"
   },
   {
    "duration": 0,
    "start_time": "2023-04-13T17:46:34.506Z"
   },
   {
    "duration": 0,
    "start_time": "2023-04-13T17:46:34.507Z"
   },
   {
    "duration": 0,
    "start_time": "2023-04-13T17:46:34.509Z"
   },
   {
    "duration": 0,
    "start_time": "2023-04-13T17:46:34.517Z"
   },
   {
    "duration": 0,
    "start_time": "2023-04-13T17:46:34.518Z"
   },
   {
    "duration": 0,
    "start_time": "2023-04-13T17:46:34.518Z"
   },
   {
    "duration": 0,
    "start_time": "2023-04-13T17:46:34.519Z"
   },
   {
    "duration": 0,
    "start_time": "2023-04-13T17:46:34.520Z"
   },
   {
    "duration": 12,
    "start_time": "2023-04-13T17:46:58.868Z"
   },
   {
    "duration": 14,
    "start_time": "2023-04-13T17:50:50.846Z"
   },
   {
    "duration": 89,
    "start_time": "2023-04-13T17:55:58.568Z"
   },
   {
    "duration": 10,
    "start_time": "2023-04-13T17:56:01.343Z"
   },
   {
    "duration": 18,
    "start_time": "2023-04-13T17:56:04.112Z"
   },
   {
    "duration": 3,
    "start_time": "2023-04-13T17:56:05.504Z"
   },
   {
    "duration": 15,
    "start_time": "2023-04-13T17:56:06.680Z"
   },
   {
    "duration": 1220,
    "start_time": "2023-04-13T17:56:14.446Z"
   },
   {
    "duration": 216,
    "start_time": "2023-04-13T17:56:15.670Z"
   },
   {
    "duration": 139,
    "start_time": "2023-04-13T17:56:15.888Z"
   },
   {
    "duration": 8,
    "start_time": "2023-04-13T17:56:16.028Z"
   },
   {
    "duration": 256,
    "start_time": "2023-04-13T17:56:16.037Z"
   },
   {
    "duration": 20,
    "start_time": "2023-04-13T17:56:16.295Z"
   },
   {
    "duration": 79,
    "start_time": "2023-04-13T17:56:16.318Z"
   },
   {
    "duration": 8,
    "start_time": "2023-04-13T17:56:16.398Z"
   },
   {
    "duration": 30,
    "start_time": "2023-04-13T17:56:16.407Z"
   },
   {
    "duration": 111,
    "start_time": "2023-04-13T17:56:16.448Z"
   },
   {
    "duration": 3,
    "start_time": "2023-04-13T17:56:16.561Z"
   },
   {
    "duration": 26,
    "start_time": "2023-04-13T17:56:16.566Z"
   },
   {
    "duration": 406,
    "start_time": "2023-04-13T17:56:16.594Z"
   },
   {
    "duration": 28,
    "start_time": "2023-04-13T17:56:17.004Z"
   },
   {
    "duration": 226,
    "start_time": "2023-04-13T17:56:17.040Z"
   },
   {
    "duration": 34,
    "start_time": "2023-04-13T17:56:17.268Z"
   },
   {
    "duration": 78,
    "start_time": "2023-04-13T17:56:17.305Z"
   },
   {
    "duration": 34,
    "start_time": "2023-04-13T17:56:17.385Z"
   },
   {
    "duration": 329,
    "start_time": "2023-04-13T17:56:17.421Z"
   },
   {
    "duration": 123,
    "start_time": "2023-04-13T17:56:17.752Z"
   },
   {
    "duration": 82,
    "start_time": "2023-04-13T17:56:17.876Z"
   },
   {
    "duration": 142,
    "start_time": "2023-04-13T17:56:17.960Z"
   },
   {
    "duration": 4,
    "start_time": "2023-04-13T17:56:18.104Z"
   },
   {
    "duration": 43,
    "start_time": "2023-04-13T17:56:18.110Z"
   },
   {
    "duration": 171,
    "start_time": "2023-04-13T17:56:18.155Z"
   },
   {
    "duration": 0,
    "start_time": "2023-04-13T17:56:18.328Z"
   },
   {
    "duration": 0,
    "start_time": "2023-04-13T17:56:18.329Z"
   },
   {
    "duration": 0,
    "start_time": "2023-04-13T17:56:18.329Z"
   },
   {
    "duration": 0,
    "start_time": "2023-04-13T17:56:18.330Z"
   },
   {
    "duration": 0,
    "start_time": "2023-04-13T17:56:18.331Z"
   },
   {
    "duration": 0,
    "start_time": "2023-04-13T17:56:18.332Z"
   },
   {
    "duration": 0,
    "start_time": "2023-04-13T17:56:18.333Z"
   },
   {
    "duration": 0,
    "start_time": "2023-04-13T17:56:18.333Z"
   },
   {
    "duration": 0,
    "start_time": "2023-04-13T17:56:18.334Z"
   },
   {
    "duration": 0,
    "start_time": "2023-04-13T17:56:18.339Z"
   },
   {
    "duration": 8,
    "start_time": "2023-04-13T17:56:26.954Z"
   },
   {
    "duration": 47,
    "start_time": "2023-04-13T17:56:30.266Z"
   },
   {
    "duration": 59,
    "start_time": "2023-04-13T17:56:30.315Z"
   },
   {
    "duration": 136,
    "start_time": "2023-04-13T17:56:30.376Z"
   },
   {
    "duration": 23,
    "start_time": "2023-04-13T17:56:30.526Z"
   },
   {
    "duration": 31,
    "start_time": "2023-04-13T17:56:30.557Z"
   },
   {
    "duration": 71,
    "start_time": "2023-04-13T17:56:30.590Z"
   },
   {
    "duration": 78,
    "start_time": "2023-04-13T17:56:30.663Z"
   },
   {
    "duration": 39,
    "start_time": "2023-04-13T17:56:30.752Z"
   },
   {
    "duration": 62,
    "start_time": "2023-04-13T17:56:30.792Z"
   },
   {
    "duration": 8,
    "start_time": "2023-04-13T17:58:48.647Z"
   },
   {
    "duration": 3,
    "start_time": "2023-04-13T17:58:50.910Z"
   },
   {
    "duration": 4,
    "start_time": "2023-04-13T17:58:58.098Z"
   },
   {
    "duration": 5,
    "start_time": "2023-04-13T18:02:42.472Z"
   },
   {
    "duration": 22,
    "start_time": "2023-04-13T18:03:06.776Z"
   },
   {
    "duration": 23,
    "start_time": "2023-04-13T18:04:38.137Z"
   },
   {
    "duration": 9,
    "start_time": "2023-04-13T18:09:00.984Z"
   },
   {
    "duration": 9,
    "start_time": "2023-04-13T18:09:24.700Z"
   },
   {
    "duration": 28,
    "start_time": "2023-04-13T18:09:31.604Z"
   },
   {
    "duration": 10,
    "start_time": "2023-04-13T18:10:11.700Z"
   },
   {
    "duration": 3,
    "start_time": "2023-04-13T18:10:39.833Z"
   },
   {
    "duration": 5,
    "start_time": "2023-04-13T18:10:42.750Z"
   },
   {
    "duration": 15,
    "start_time": "2023-04-13T18:11:02.575Z"
   },
   {
    "duration": 13,
    "start_time": "2023-04-13T18:11:11.878Z"
   },
   {
    "duration": 101,
    "start_time": "2023-04-13T18:11:19.328Z"
   },
   {
    "duration": 5,
    "start_time": "2023-04-13T18:13:17.517Z"
   },
   {
    "duration": 90,
    "start_time": "2023-04-13T18:13:19.804Z"
   },
   {
    "duration": 85,
    "start_time": "2023-04-13T18:13:34.646Z"
   },
   {
    "duration": 26,
    "start_time": "2023-04-13T18:13:40.365Z"
   },
   {
    "duration": 6,
    "start_time": "2023-04-13T19:50:48.952Z"
   },
   {
    "duration": 23,
    "start_time": "2023-04-13T19:50:56.011Z"
   },
   {
    "duration": 1207,
    "start_time": "2023-04-13T19:51:04.595Z"
   },
   {
    "duration": 200,
    "start_time": "2023-04-13T19:51:05.804Z"
   },
   {
    "duration": 113,
    "start_time": "2023-04-13T19:51:06.006Z"
   },
   {
    "duration": 14,
    "start_time": "2023-04-13T19:51:06.120Z"
   },
   {
    "duration": 206,
    "start_time": "2023-04-13T19:51:06.137Z"
   },
   {
    "duration": 21,
    "start_time": "2023-04-13T19:51:06.345Z"
   },
   {
    "duration": 78,
    "start_time": "2023-04-13T19:51:06.367Z"
   },
   {
    "duration": 7,
    "start_time": "2023-04-13T19:51:06.447Z"
   },
   {
    "duration": 11,
    "start_time": "2023-04-13T19:51:06.456Z"
   },
   {
    "duration": 118,
    "start_time": "2023-04-13T19:51:06.469Z"
   },
   {
    "duration": 3,
    "start_time": "2023-04-13T19:51:06.589Z"
   },
   {
    "duration": 36,
    "start_time": "2023-04-13T19:51:06.594Z"
   },
   {
    "duration": 492,
    "start_time": "2023-04-13T19:51:06.641Z"
   },
   {
    "duration": 20,
    "start_time": "2023-04-13T19:51:07.136Z"
   },
   {
    "duration": 198,
    "start_time": "2023-04-13T19:51:07.158Z"
   },
   {
    "duration": 46,
    "start_time": "2023-04-13T19:51:07.358Z"
   },
   {
    "duration": 67,
    "start_time": "2023-04-13T19:51:07.423Z"
   },
   {
    "duration": 44,
    "start_time": "2023-04-13T19:51:07.492Z"
   },
   {
    "duration": 237,
    "start_time": "2023-04-13T19:51:07.538Z"
   },
   {
    "duration": 78,
    "start_time": "2023-04-13T19:51:07.777Z"
   },
   {
    "duration": 80,
    "start_time": "2023-04-13T19:51:07.857Z"
   },
   {
    "duration": 131,
    "start_time": "2023-04-13T19:51:07.939Z"
   },
   {
    "duration": 4,
    "start_time": "2023-04-13T19:51:08.072Z"
   },
   {
    "duration": 7,
    "start_time": "2023-04-13T19:51:08.078Z"
   },
   {
    "duration": 126,
    "start_time": "2023-04-13T19:51:08.086Z"
   },
   {
    "duration": 0,
    "start_time": "2023-04-13T19:51:08.222Z"
   },
   {
    "duration": 1,
    "start_time": "2023-04-13T19:51:08.223Z"
   },
   {
    "duration": 0,
    "start_time": "2023-04-13T19:51:08.225Z"
   },
   {
    "duration": 0,
    "start_time": "2023-04-13T19:51:08.226Z"
   },
   {
    "duration": 0,
    "start_time": "2023-04-13T19:51:08.227Z"
   },
   {
    "duration": 0,
    "start_time": "2023-04-13T19:51:08.228Z"
   },
   {
    "duration": 0,
    "start_time": "2023-04-13T19:51:08.230Z"
   },
   {
    "duration": 0,
    "start_time": "2023-04-13T19:51:08.231Z"
   },
   {
    "duration": 0,
    "start_time": "2023-04-13T19:51:08.232Z"
   },
   {
    "duration": 4,
    "start_time": "2023-04-13T19:51:26.950Z"
   },
   {
    "duration": 237,
    "start_time": "2023-04-13T19:51:26.956Z"
   },
   {
    "duration": 140,
    "start_time": "2023-04-13T19:51:27.196Z"
   },
   {
    "duration": 5,
    "start_time": "2023-04-13T19:51:27.338Z"
   },
   {
    "duration": 215,
    "start_time": "2023-04-13T19:51:27.345Z"
   },
   {
    "duration": 20,
    "start_time": "2023-04-13T19:51:27.562Z"
   },
   {
    "duration": 109,
    "start_time": "2023-04-13T19:51:27.584Z"
   },
   {
    "duration": 9,
    "start_time": "2023-04-13T19:51:27.695Z"
   },
   {
    "duration": 30,
    "start_time": "2023-04-13T19:51:27.705Z"
   },
   {
    "duration": 106,
    "start_time": "2023-04-13T19:51:27.739Z"
   },
   {
    "duration": 3,
    "start_time": "2023-04-13T19:51:27.847Z"
   },
   {
    "duration": 7,
    "start_time": "2023-04-13T19:51:27.851Z"
   },
   {
    "duration": 402,
    "start_time": "2023-04-13T19:51:27.859Z"
   },
   {
    "duration": 18,
    "start_time": "2023-04-13T19:51:28.263Z"
   },
   {
    "duration": 201,
    "start_time": "2023-04-13T19:51:28.283Z"
   },
   {
    "duration": 46,
    "start_time": "2023-04-13T19:51:28.486Z"
   },
   {
    "duration": 44,
    "start_time": "2023-04-13T19:51:28.533Z"
   },
   {
    "duration": 20,
    "start_time": "2023-04-13T19:51:28.579Z"
   },
   {
    "duration": 62,
    "start_time": "2023-04-13T19:51:28.601Z"
   },
   {
    "duration": 71,
    "start_time": "2023-04-13T19:51:28.664Z"
   },
   {
    "duration": 16,
    "start_time": "2023-04-13T19:51:28.737Z"
   },
   {
    "duration": 119,
    "start_time": "2023-04-13T19:51:28.755Z"
   },
   {
    "duration": 5,
    "start_time": "2023-04-13T19:51:28.876Z"
   },
   {
    "duration": 5,
    "start_time": "2023-04-13T19:51:28.883Z"
   },
   {
    "duration": 12,
    "start_time": "2023-04-13T19:51:28.890Z"
   },
   {
    "duration": 10,
    "start_time": "2023-04-13T19:51:35.376Z"
   },
   {
    "duration": 0,
    "start_time": "2023-04-13T19:51:35.387Z"
   },
   {
    "duration": 0,
    "start_time": "2023-04-13T19:51:35.389Z"
   },
   {
    "duration": 0,
    "start_time": "2023-04-13T19:51:35.390Z"
   },
   {
    "duration": 0,
    "start_time": "2023-04-13T19:51:35.391Z"
   },
   {
    "duration": 0,
    "start_time": "2023-04-13T19:51:35.392Z"
   },
   {
    "duration": 11,
    "start_time": "2023-04-13T19:51:35.394Z"
   },
   {
    "duration": 0,
    "start_time": "2023-04-13T19:51:35.407Z"
   },
   {
    "duration": 0,
    "start_time": "2023-04-13T19:51:35.408Z"
   },
   {
    "duration": 0,
    "start_time": "2023-04-13T19:51:35.409Z"
   },
   {
    "duration": 4,
    "start_time": "2023-04-13T19:51:50.881Z"
   },
   {
    "duration": 76,
    "start_time": "2023-04-13T19:51:50.887Z"
   },
   {
    "duration": 40,
    "start_time": "2023-04-13T19:51:50.965Z"
   },
   {
    "duration": 108,
    "start_time": "2023-04-13T19:51:51.008Z"
   },
   {
    "duration": 6,
    "start_time": "2023-04-13T19:51:51.134Z"
   },
   {
    "duration": 34,
    "start_time": "2023-04-13T19:51:51.142Z"
   },
   {
    "duration": 20,
    "start_time": "2023-04-13T19:51:51.177Z"
   },
   {
    "duration": 7,
    "start_time": "2023-04-13T19:51:51.199Z"
   },
   {
    "duration": 8,
    "start_time": "2023-04-13T19:51:51.208Z"
   },
   {
    "duration": 1318,
    "start_time": "2023-04-13T22:17:47.869Z"
   },
   {
    "duration": 779,
    "start_time": "2023-04-13T22:17:49.189Z"
   },
   {
    "duration": 85,
    "start_time": "2023-04-13T22:17:49.970Z"
   },
   {
    "duration": 3,
    "start_time": "2023-04-13T22:17:50.057Z"
   },
   {
    "duration": 235,
    "start_time": "2023-04-13T22:17:50.061Z"
   },
   {
    "duration": 0,
    "start_time": "2023-04-13T22:17:50.299Z"
   },
   {
    "duration": 0,
    "start_time": "2023-04-13T22:17:50.300Z"
   },
   {
    "duration": 0,
    "start_time": "2023-04-13T22:17:50.301Z"
   },
   {
    "duration": 0,
    "start_time": "2023-04-13T22:17:50.302Z"
   },
   {
    "duration": 0,
    "start_time": "2023-04-13T22:17:50.303Z"
   },
   {
    "duration": 0,
    "start_time": "2023-04-13T22:17:50.303Z"
   },
   {
    "duration": 1,
    "start_time": "2023-04-13T22:17:50.304Z"
   },
   {
    "duration": 0,
    "start_time": "2023-04-13T22:17:50.305Z"
   },
   {
    "duration": 0,
    "start_time": "2023-04-13T22:17:50.306Z"
   },
   {
    "duration": 0,
    "start_time": "2023-04-13T22:17:50.307Z"
   },
   {
    "duration": 0,
    "start_time": "2023-04-13T22:17:50.308Z"
   },
   {
    "duration": 0,
    "start_time": "2023-04-13T22:17:50.308Z"
   },
   {
    "duration": 0,
    "start_time": "2023-04-13T22:17:50.309Z"
   },
   {
    "duration": 0,
    "start_time": "2023-04-13T22:17:50.310Z"
   },
   {
    "duration": 0,
    "start_time": "2023-04-13T22:17:50.311Z"
   },
   {
    "duration": 0,
    "start_time": "2023-04-13T22:17:50.312Z"
   },
   {
    "duration": 0,
    "start_time": "2023-04-13T22:17:50.312Z"
   },
   {
    "duration": 0,
    "start_time": "2023-04-13T22:17:50.313Z"
   },
   {
    "duration": 0,
    "start_time": "2023-04-13T22:17:50.314Z"
   },
   {
    "duration": 0,
    "start_time": "2023-04-13T22:17:50.315Z"
   },
   {
    "duration": 0,
    "start_time": "2023-04-13T22:17:50.316Z"
   },
   {
    "duration": 0,
    "start_time": "2023-04-13T22:17:50.317Z"
   },
   {
    "duration": 0,
    "start_time": "2023-04-13T22:17:50.318Z"
   },
   {
    "duration": 0,
    "start_time": "2023-04-13T22:17:50.318Z"
   },
   {
    "duration": 0,
    "start_time": "2023-04-13T22:17:50.319Z"
   },
   {
    "duration": 0,
    "start_time": "2023-04-13T22:17:50.320Z"
   },
   {
    "duration": 0,
    "start_time": "2023-04-13T22:17:50.321Z"
   },
   {
    "duration": 0,
    "start_time": "2023-04-13T22:17:50.322Z"
   },
   {
    "duration": 0,
    "start_time": "2023-04-13T22:17:50.322Z"
   }
  ],
  "kernelspec": {
   "display_name": "Python 3 (ipykernel)",
   "language": "python",
   "name": "python3"
  },
  "language_info": {
   "codemirror_mode": {
    "name": "ipython",
    "version": 3
   },
   "file_extension": ".py",
   "mimetype": "text/x-python",
   "name": "python",
   "nbconvert_exporter": "python",
   "pygments_lexer": "ipython3",
   "version": "3.9.13"
  },
  "toc": {
   "base_numbering": 1,
   "nav_menu": {},
   "number_sections": true,
   "sideBar": true,
   "skip_h1_title": true,
   "title_cell": "Table of Contents",
   "title_sidebar": "Contents",
   "toc_cell": false,
   "toc_position": {},
   "toc_section_display": true,
   "toc_window_display": true
  }
 },
 "nbformat": 4,
 "nbformat_minor": 2
}
