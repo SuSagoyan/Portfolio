{
 "cells": [
  {
   "cell_type": "markdown",
   "id": "fc0b0ad1",
   "metadata": {},
   "source": [
    "# Анализ данных интернет-магазина «Стримчик»"
   ]
  },
  {
   "cell_type": "markdown",
   "id": "6befb6e7",
   "metadata": {},
   "source": [
    "Анализ данных интернет-магазина «Стримчик», который продаёт по всему миру компьютерные игры. Из открытых источников доступны исторические данные о продажах игр, оценки пользователей и экспертов, жанры и платформы (например, Xbox или PlayStation).  Нужно выявить определяющие успешность игры закономерности,чтобы сделать ставку на потенциально популярный продукт и спланировать рекламные кампании."
   ]
  },
  {
   "cell_type": "markdown",
   "id": "9801943b",
   "metadata": {},
   "source": [
    "### Откройте файл с данными и изучите общую информацию "
   ]
  },
  {
   "cell_type": "code",
   "execution_count": 1,
   "id": "a2dd6d02",
   "metadata": {},
   "outputs": [],
   "source": [
    "import pandas as pd\n",
    "import matplotlib.pyplot as plt\n",
    "import seaborn as sns\n",
    "import numpy as np\n",
    "from scipy import stats as st"
   ]
  },
  {
   "cell_type": "code",
   "execution_count": 2,
   "id": "1b99c5e6",
   "metadata": {},
   "outputs": [],
   "source": [
    "try:\n",
    "    games = pd.read_csv('C:/Users/mrsag/Desktop/Аналитик буткемп/Проекты/Сборный проект/games.csv')\n",
    "except:\n",
    "    games = pd.read_csv('/datasets/games.csv')"
   ]
  },
  {
   "cell_type": "code",
   "execution_count": 3,
   "id": "d2bb1b3c",
   "metadata": {},
   "outputs": [
    {
     "data": {
      "text/html": [
       "<div>\n",
       "<style scoped>\n",
       "    .dataframe tbody tr th:only-of-type {\n",
       "        vertical-align: middle;\n",
       "    }\n",
       "\n",
       "    .dataframe tbody tr th {\n",
       "        vertical-align: top;\n",
       "    }\n",
       "\n",
       "    .dataframe thead th {\n",
       "        text-align: right;\n",
       "    }\n",
       "</style>\n",
       "<table border=\"1\" class=\"dataframe\">\n",
       "  <thead>\n",
       "    <tr style=\"text-align: right;\">\n",
       "      <th></th>\n",
       "      <th>Name</th>\n",
       "      <th>Platform</th>\n",
       "      <th>Year_of_Release</th>\n",
       "      <th>Genre</th>\n",
       "      <th>NA_sales</th>\n",
       "      <th>EU_sales</th>\n",
       "      <th>JP_sales</th>\n",
       "      <th>Other_sales</th>\n",
       "      <th>Critic_Score</th>\n",
       "      <th>User_Score</th>\n",
       "      <th>Rating</th>\n",
       "    </tr>\n",
       "  </thead>\n",
       "  <tbody>\n",
       "    <tr>\n",
       "      <th>0</th>\n",
       "      <td>Wii Sports</td>\n",
       "      <td>Wii</td>\n",
       "      <td>2006.0</td>\n",
       "      <td>Sports</td>\n",
       "      <td>41.36</td>\n",
       "      <td>28.96</td>\n",
       "      <td>3.77</td>\n",
       "      <td>8.45</td>\n",
       "      <td>76.0</td>\n",
       "      <td>8</td>\n",
       "      <td>E</td>\n",
       "    </tr>\n",
       "    <tr>\n",
       "      <th>1</th>\n",
       "      <td>Super Mario Bros.</td>\n",
       "      <td>NES</td>\n",
       "      <td>1985.0</td>\n",
       "      <td>Platform</td>\n",
       "      <td>29.08</td>\n",
       "      <td>3.58</td>\n",
       "      <td>6.81</td>\n",
       "      <td>0.77</td>\n",
       "      <td>NaN</td>\n",
       "      <td>NaN</td>\n",
       "      <td>NaN</td>\n",
       "    </tr>\n",
       "    <tr>\n",
       "      <th>2</th>\n",
       "      <td>Mario Kart Wii</td>\n",
       "      <td>Wii</td>\n",
       "      <td>2008.0</td>\n",
       "      <td>Racing</td>\n",
       "      <td>15.68</td>\n",
       "      <td>12.76</td>\n",
       "      <td>3.79</td>\n",
       "      <td>3.29</td>\n",
       "      <td>82.0</td>\n",
       "      <td>8.3</td>\n",
       "      <td>E</td>\n",
       "    </tr>\n",
       "    <tr>\n",
       "      <th>3</th>\n",
       "      <td>Wii Sports Resort</td>\n",
       "      <td>Wii</td>\n",
       "      <td>2009.0</td>\n",
       "      <td>Sports</td>\n",
       "      <td>15.61</td>\n",
       "      <td>10.93</td>\n",
       "      <td>3.28</td>\n",
       "      <td>2.95</td>\n",
       "      <td>80.0</td>\n",
       "      <td>8</td>\n",
       "      <td>E</td>\n",
       "    </tr>\n",
       "    <tr>\n",
       "      <th>4</th>\n",
       "      <td>Pokemon Red/Pokemon Blue</td>\n",
       "      <td>GB</td>\n",
       "      <td>1996.0</td>\n",
       "      <td>Role-Playing</td>\n",
       "      <td>11.27</td>\n",
       "      <td>8.89</td>\n",
       "      <td>10.22</td>\n",
       "      <td>1.00</td>\n",
       "      <td>NaN</td>\n",
       "      <td>NaN</td>\n",
       "      <td>NaN</td>\n",
       "    </tr>\n",
       "    <tr>\n",
       "      <th>5</th>\n",
       "      <td>Tetris</td>\n",
       "      <td>GB</td>\n",
       "      <td>1989.0</td>\n",
       "      <td>Puzzle</td>\n",
       "      <td>23.20</td>\n",
       "      <td>2.26</td>\n",
       "      <td>4.22</td>\n",
       "      <td>0.58</td>\n",
       "      <td>NaN</td>\n",
       "      <td>NaN</td>\n",
       "      <td>NaN</td>\n",
       "    </tr>\n",
       "    <tr>\n",
       "      <th>6</th>\n",
       "      <td>New Super Mario Bros.</td>\n",
       "      <td>DS</td>\n",
       "      <td>2006.0</td>\n",
       "      <td>Platform</td>\n",
       "      <td>11.28</td>\n",
       "      <td>9.14</td>\n",
       "      <td>6.50</td>\n",
       "      <td>2.88</td>\n",
       "      <td>89.0</td>\n",
       "      <td>8.5</td>\n",
       "      <td>E</td>\n",
       "    </tr>\n",
       "    <tr>\n",
       "      <th>7</th>\n",
       "      <td>Wii Play</td>\n",
       "      <td>Wii</td>\n",
       "      <td>2006.0</td>\n",
       "      <td>Misc</td>\n",
       "      <td>13.96</td>\n",
       "      <td>9.18</td>\n",
       "      <td>2.93</td>\n",
       "      <td>2.84</td>\n",
       "      <td>58.0</td>\n",
       "      <td>6.6</td>\n",
       "      <td>E</td>\n",
       "    </tr>\n",
       "    <tr>\n",
       "      <th>8</th>\n",
       "      <td>New Super Mario Bros. Wii</td>\n",
       "      <td>Wii</td>\n",
       "      <td>2009.0</td>\n",
       "      <td>Platform</td>\n",
       "      <td>14.44</td>\n",
       "      <td>6.94</td>\n",
       "      <td>4.70</td>\n",
       "      <td>2.24</td>\n",
       "      <td>87.0</td>\n",
       "      <td>8.4</td>\n",
       "      <td>E</td>\n",
       "    </tr>\n",
       "    <tr>\n",
       "      <th>9</th>\n",
       "      <td>Duck Hunt</td>\n",
       "      <td>NES</td>\n",
       "      <td>1984.0</td>\n",
       "      <td>Shooter</td>\n",
       "      <td>26.93</td>\n",
       "      <td>0.63</td>\n",
       "      <td>0.28</td>\n",
       "      <td>0.47</td>\n",
       "      <td>NaN</td>\n",
       "      <td>NaN</td>\n",
       "      <td>NaN</td>\n",
       "    </tr>\n",
       "  </tbody>\n",
       "</table>\n",
       "</div>"
      ],
      "text/plain": [
       "                        Name Platform  Year_of_Release         Genre  \\\n",
       "0                 Wii Sports      Wii           2006.0        Sports   \n",
       "1          Super Mario Bros.      NES           1985.0      Platform   \n",
       "2             Mario Kart Wii      Wii           2008.0        Racing   \n",
       "3          Wii Sports Resort      Wii           2009.0        Sports   \n",
       "4   Pokemon Red/Pokemon Blue       GB           1996.0  Role-Playing   \n",
       "5                     Tetris       GB           1989.0        Puzzle   \n",
       "6      New Super Mario Bros.       DS           2006.0      Platform   \n",
       "7                   Wii Play      Wii           2006.0          Misc   \n",
       "8  New Super Mario Bros. Wii      Wii           2009.0      Platform   \n",
       "9                  Duck Hunt      NES           1984.0       Shooter   \n",
       "\n",
       "   NA_sales  EU_sales  JP_sales  Other_sales  Critic_Score User_Score Rating  \n",
       "0     41.36     28.96      3.77         8.45          76.0          8      E  \n",
       "1     29.08      3.58      6.81         0.77           NaN        NaN    NaN  \n",
       "2     15.68     12.76      3.79         3.29          82.0        8.3      E  \n",
       "3     15.61     10.93      3.28         2.95          80.0          8      E  \n",
       "4     11.27      8.89     10.22         1.00           NaN        NaN    NaN  \n",
       "5     23.20      2.26      4.22         0.58           NaN        NaN    NaN  \n",
       "6     11.28      9.14      6.50         2.88          89.0        8.5      E  \n",
       "7     13.96      9.18      2.93         2.84          58.0        6.6      E  \n",
       "8     14.44      6.94      4.70         2.24          87.0        8.4      E  \n",
       "9     26.93      0.63      0.28         0.47           NaN        NaN    NaN  "
      ]
     },
     "execution_count": 3,
     "metadata": {},
     "output_type": "execute_result"
    }
   ],
   "source": [
    "games.head(10)"
   ]
  },
  {
   "cell_type": "code",
   "execution_count": 4,
   "id": "66870a2b",
   "metadata": {},
   "outputs": [
    {
     "name": "stdout",
     "output_type": "stream",
     "text": [
      "<class 'pandas.core.frame.DataFrame'>\n",
      "RangeIndex: 16715 entries, 0 to 16714\n",
      "Data columns (total 11 columns):\n",
      " #   Column           Non-Null Count  Dtype  \n",
      "---  ------           --------------  -----  \n",
      " 0   Name             16713 non-null  object \n",
      " 1   Platform         16715 non-null  object \n",
      " 2   Year_of_Release  16446 non-null  float64\n",
      " 3   Genre            16713 non-null  object \n",
      " 4   NA_sales         16715 non-null  float64\n",
      " 5   EU_sales         16715 non-null  float64\n",
      " 6   JP_sales         16715 non-null  float64\n",
      " 7   Other_sales      16715 non-null  float64\n",
      " 8   Critic_Score     8137 non-null   float64\n",
      " 9   User_Score       10014 non-null  object \n",
      " 10  Rating           9949 non-null   object \n",
      "dtypes: float64(6), object(5)\n",
      "memory usage: 1.4+ MB\n"
     ]
    }
   ],
   "source": [
    "games.info()"
   ]
  },
  {
   "cell_type": "code",
   "execution_count": 5,
   "id": "90ae8a77",
   "metadata": {
    "scrolled": false
   },
   "outputs": [
    {
     "data": {
      "text/html": [
       "<div>\n",
       "<style scoped>\n",
       "    .dataframe tbody tr th:only-of-type {\n",
       "        vertical-align: middle;\n",
       "    }\n",
       "\n",
       "    .dataframe tbody tr th {\n",
       "        vertical-align: top;\n",
       "    }\n",
       "\n",
       "    .dataframe thead th {\n",
       "        text-align: right;\n",
       "    }\n",
       "</style>\n",
       "<table border=\"1\" class=\"dataframe\">\n",
       "  <thead>\n",
       "    <tr style=\"text-align: right;\">\n",
       "      <th></th>\n",
       "      <th>count</th>\n",
       "      <th>mean</th>\n",
       "      <th>std</th>\n",
       "      <th>min</th>\n",
       "      <th>25%</th>\n",
       "      <th>50%</th>\n",
       "      <th>75%</th>\n",
       "      <th>max</th>\n",
       "    </tr>\n",
       "  </thead>\n",
       "  <tbody>\n",
       "    <tr>\n",
       "      <th>Year_of_Release</th>\n",
       "      <td>16446.0</td>\n",
       "      <td>2006.484616</td>\n",
       "      <td>5.877050</td>\n",
       "      <td>1980.0</td>\n",
       "      <td>2003.0</td>\n",
       "      <td>2007.00</td>\n",
       "      <td>2010.00</td>\n",
       "      <td>2016.00</td>\n",
       "    </tr>\n",
       "    <tr>\n",
       "      <th>NA_sales</th>\n",
       "      <td>16715.0</td>\n",
       "      <td>0.263377</td>\n",
       "      <td>0.813604</td>\n",
       "      <td>0.0</td>\n",
       "      <td>0.0</td>\n",
       "      <td>0.08</td>\n",
       "      <td>0.24</td>\n",
       "      <td>41.36</td>\n",
       "    </tr>\n",
       "    <tr>\n",
       "      <th>EU_sales</th>\n",
       "      <td>16715.0</td>\n",
       "      <td>0.145060</td>\n",
       "      <td>0.503339</td>\n",
       "      <td>0.0</td>\n",
       "      <td>0.0</td>\n",
       "      <td>0.02</td>\n",
       "      <td>0.11</td>\n",
       "      <td>28.96</td>\n",
       "    </tr>\n",
       "    <tr>\n",
       "      <th>JP_sales</th>\n",
       "      <td>16715.0</td>\n",
       "      <td>0.077617</td>\n",
       "      <td>0.308853</td>\n",
       "      <td>0.0</td>\n",
       "      <td>0.0</td>\n",
       "      <td>0.00</td>\n",
       "      <td>0.04</td>\n",
       "      <td>10.22</td>\n",
       "    </tr>\n",
       "    <tr>\n",
       "      <th>Other_sales</th>\n",
       "      <td>16715.0</td>\n",
       "      <td>0.047342</td>\n",
       "      <td>0.186731</td>\n",
       "      <td>0.0</td>\n",
       "      <td>0.0</td>\n",
       "      <td>0.01</td>\n",
       "      <td>0.03</td>\n",
       "      <td>10.57</td>\n",
       "    </tr>\n",
       "    <tr>\n",
       "      <th>Critic_Score</th>\n",
       "      <td>8137.0</td>\n",
       "      <td>68.967679</td>\n",
       "      <td>13.938165</td>\n",
       "      <td>13.0</td>\n",
       "      <td>60.0</td>\n",
       "      <td>71.00</td>\n",
       "      <td>79.00</td>\n",
       "      <td>98.00</td>\n",
       "    </tr>\n",
       "  </tbody>\n",
       "</table>\n",
       "</div>"
      ],
      "text/plain": [
       "                   count         mean        std     min     25%      50%  \\\n",
       "Year_of_Release  16446.0  2006.484616   5.877050  1980.0  2003.0  2007.00   \n",
       "NA_sales         16715.0     0.263377   0.813604     0.0     0.0     0.08   \n",
       "EU_sales         16715.0     0.145060   0.503339     0.0     0.0     0.02   \n",
       "JP_sales         16715.0     0.077617   0.308853     0.0     0.0     0.00   \n",
       "Other_sales      16715.0     0.047342   0.186731     0.0     0.0     0.01   \n",
       "Critic_Score      8137.0    68.967679  13.938165    13.0    60.0    71.00   \n",
       "\n",
       "                     75%      max  \n",
       "Year_of_Release  2010.00  2016.00  \n",
       "NA_sales            0.24    41.36  \n",
       "EU_sales            0.11    28.96  \n",
       "JP_sales            0.04    10.22  \n",
       "Other_sales         0.03    10.57  \n",
       "Critic_Score       79.00    98.00  "
      ]
     },
     "execution_count": 5,
     "metadata": {},
     "output_type": "execute_result"
    }
   ],
   "source": [
    "games.describe().T"
   ]
  },
  {
   "cell_type": "code",
   "execution_count": 6,
   "id": "7d70af4b",
   "metadata": {},
   "outputs": [
    {
     "data": {
      "text/plain": [
       "Name                  2\n",
       "Platform              0\n",
       "Year_of_Release     269\n",
       "Genre                 2\n",
       "NA_sales              0\n",
       "EU_sales              0\n",
       "JP_sales              0\n",
       "Other_sales           0\n",
       "Critic_Score       8578\n",
       "User_Score         6701\n",
       "Rating             6766\n",
       "dtype: int64"
      ]
     },
     "execution_count": 6,
     "metadata": {},
     "output_type": "execute_result"
    }
   ],
   "source": [
    "games.isna().sum()"
   ]
  },
  {
   "cell_type": "code",
   "execution_count": 7,
   "id": "85fd6432",
   "metadata": {},
   "outputs": [
    {
     "data": {
      "text/plain": [
       "Critic_Score       51.319174\n",
       "Rating             40.478612\n",
       "User_Score         40.089740\n",
       "Year_of_Release     1.609333\n",
       "Name                0.011965\n",
       "Genre               0.011965\n",
       "Platform            0.000000\n",
       "NA_sales            0.000000\n",
       "EU_sales            0.000000\n",
       "JP_sales            0.000000\n",
       "Other_sales         0.000000\n",
       "dtype: float64"
      ]
     },
     "execution_count": 7,
     "metadata": {},
     "output_type": "execute_result"
    }
   ],
   "source": [
    "games.isna().mean().sort_values(ascending=False)*100"
   ]
  },
  {
   "cell_type": "code",
   "execution_count": 8,
   "id": "bd845078",
   "metadata": {},
   "outputs": [],
   "source": [
    "def pass_value_barh(df):\n",
    "    try:\n",
    "        (\n",
    "            (df.isna().mean()*100)\n",
    "            .to_frame()\n",
    "            .rename(columns = {0:'space'})\n",
    "            .query('space > 0')\n",
    "            .sort_values(by = 'space', ascending = True)\n",
    "            .plot(kind = 'barh', figsize = (19,6), rot = -5, legend = False, fontsize = 16)\n",
    "            .set_title('Пример' + \"\\n\", fontsize = 22, color = 'SteelBlue')    \n",
    "        );    \n",
    "    except:\n",
    "        print('пропусков не осталось :) или произошла ошибка в первой части функции ')"
   ]
  },
  {
   "cell_type": "code",
   "execution_count": 9,
   "id": "53d6df30",
   "metadata": {},
   "outputs": [
    {
     "data": {
      "image/png": "[encoded data removed]",
      "text/plain": [
       "<Figure size 1368x432 with 1 Axes>"
      ]
     },
     "metadata": {
      "needs_background": "light"
     },
     "output_type": "display_data"
    }
   ],
   "source": [
    "pass_value_barh(games)"
   ]
  },
  {
   "cell_type": "code",
   "execution_count": 10,
   "id": "4fde7175",
   "metadata": {
    "scrolled": true
   },
   "outputs": [
    {
     "data": {
      "text/plain": [
       "0"
      ]
     },
     "execution_count": 10,
     "metadata": {},
     "output_type": "execute_result"
    }
   ],
   "source": [
    "games.duplicated().sum()"
   ]
  },
  {
   "cell_type": "code",
   "execution_count": 1,
   "id": "c2d8ead1",
   "metadata": {},
   "outputs": [
    {
     "ename": "NameError",
     "evalue": "name 'games' is not defined",
     "output_type": "error",
     "traceback": [
      "\u001b[1;31m---------------------------------------------------------------------------\u001b[0m",
      "\u001b[1;31mNameError\u001b[0m                                 Traceback (most recent call last)",
      "\u001b[1;32m~\\AppData\\Local\\Temp\\ipykernel_36172\\1777186123.py\u001b[0m in \u001b[0;36m<module>\u001b[1;34m\u001b[0m\n\u001b[1;32m----> 1\u001b[1;33m \u001b[0mgames\u001b[0m\u001b[1;33m.\u001b[0m\u001b[0mduplicat\u001b[0m\u001b[1;33m(\u001b[0m\u001b[0msubset\u001b[0m\u001b[1;33m=\u001b[0m\u001b[1;33m[\u001b[0m\u001b[1;34m'name'\u001b[0m\u001b[1;33m,\u001b[0m \u001b[1;34m'platform'\u001b[0m\u001b[1;33m,\u001b[0m \u001b[1;34m'year_of_release'\u001b[0m\u001b[1;33m]\u001b[0m\u001b[1;33m)\u001b[0m\u001b[1;33m\u001b[0m\u001b[1;33m\u001b[0m\u001b[0m\n\u001b[0m",
      "\u001b[1;31mNameError\u001b[0m: name 'games' is not defined"
     ]
    }
   ],
   "source": [
    "games.duplicat(subset=['name', 'platform', 'year_of_release'])"
   ]
  },
  {
   "cell_type": "markdown",
   "id": "d8eafed9",
   "metadata": {},
   "source": [
    "Изучив информацию, могу сказать что:\n",
    "1. Необходимо заменить названия столбцов\n",
    "2. Есть пропущенные значения в столбцах year_of_release, critic_score, user_score, rating  \n",
    "3. Дубликатов не выявлено \n",
    "4. Необходимо заменить тип данных в стоблце user_score и year_of_release"
   ]
  },
  {
   "cell_type": "markdown",
   "id": "90212c10",
   "metadata": {},
   "source": [
    "### Подготовьте данные"
   ]
  },
  {
   "cell_type": "markdown",
   "id": "bf838cc1",
   "metadata": {},
   "source": [
    "*1. Замена названия столбцов*"
   ]
  },
  {
   "cell_type": "code",
   "execution_count": 11,
   "id": "8cb0f6d8",
   "metadata": {},
   "outputs": [],
   "source": [
    "games.columns = games.columns.str.lower() "
   ]
  },
  {
   "cell_type": "markdown",
   "id": "138955b5",
   "metadata": {},
   "source": [
    "*2. Преобразование данных в нужный тип*"
   ]
  },
  {
   "cell_type": "code",
   "execution_count": 12,
   "id": "060b9ddd",
   "metadata": {},
   "outputs": [],
   "source": [
    "games.loc[games['user_score'] == 'tbd', 'user_score'] = np.nan\n",
    "games['user_score'] = games['user_score'].astype(float)"
   ]
  },
  {
   "cell_type": "markdown",
   "id": "80126507",
   "metadata": {},
   "source": [
    "*3. Удаление строк в столбцах с пропущенными значениями*"
   ]
  },
  {
   "cell_type": "code",
   "execution_count": 13,
   "id": "4529f2b9",
   "metadata": {},
   "outputs": [],
   "source": [
    "games.dropna(subset=['name', 'genre', 'year_of_release'], inplace=True)"
   ]
  },
  {
   "cell_type": "code",
   "execution_count": 14,
   "id": "bffa7488",
   "metadata": {},
   "outputs": [],
   "source": [
    "games['year_of_release'] = games['year_of_release'].astype(int)"
   ]
  },
  {
   "cell_type": "markdown",
   "id": "f3e2d048",
   "metadata": {},
   "source": [
    "*4. Подсчет суммарных продаж во всех регионах*"
   ]
  },
  {
   "cell_type": "code",
   "execution_count": 15,
   "id": "4d829ab1",
   "metadata": {},
   "outputs": [],
   "source": [
    "games['total_sales'] = games['na_sales'] + games['eu_sales'] + games['jp_sales'] + games['other_sales']"
   ]
  },
  {
   "cell_type": "code",
   "execution_count": 16,
   "id": "befa5c84",
   "metadata": {
    "scrolled": true
   },
   "outputs": [
    {
     "data": {
      "text/html": [
       "<div>\n",
       "<style scoped>\n",
       "    .dataframe tbody tr th:only-of-type {\n",
       "        vertical-align: middle;\n",
       "    }\n",
       "\n",
       "    .dataframe tbody tr th {\n",
       "        vertical-align: top;\n",
       "    }\n",
       "\n",
       "    .dataframe thead th {\n",
       "        text-align: right;\n",
       "    }\n",
       "</style>\n",
       "<table border=\"1\" class=\"dataframe\">\n",
       "  <thead>\n",
       "    <tr style=\"text-align: right;\">\n",
       "      <th></th>\n",
       "      <th>name</th>\n",
       "      <th>platform</th>\n",
       "      <th>year_of_release</th>\n",
       "      <th>genre</th>\n",
       "      <th>na_sales</th>\n",
       "      <th>eu_sales</th>\n",
       "      <th>jp_sales</th>\n",
       "      <th>other_sales</th>\n",
       "      <th>critic_score</th>\n",
       "      <th>user_score</th>\n",
       "      <th>rating</th>\n",
       "      <th>total_sales</th>\n",
       "    </tr>\n",
       "  </thead>\n",
       "  <tbody>\n",
       "    <tr>\n",
       "      <th>0</th>\n",
       "      <td>Wii Sports</td>\n",
       "      <td>Wii</td>\n",
       "      <td>2006</td>\n",
       "      <td>Sports</td>\n",
       "      <td>41.36</td>\n",
       "      <td>28.96</td>\n",
       "      <td>3.77</td>\n",
       "      <td>8.45</td>\n",
       "      <td>76.0</td>\n",
       "      <td>8.0</td>\n",
       "      <td>E</td>\n",
       "      <td>82.54</td>\n",
       "    </tr>\n",
       "    <tr>\n",
       "      <th>1</th>\n",
       "      <td>Super Mario Bros.</td>\n",
       "      <td>NES</td>\n",
       "      <td>1985</td>\n",
       "      <td>Platform</td>\n",
       "      <td>29.08</td>\n",
       "      <td>3.58</td>\n",
       "      <td>6.81</td>\n",
       "      <td>0.77</td>\n",
       "      <td>NaN</td>\n",
       "      <td>NaN</td>\n",
       "      <td>NaN</td>\n",
       "      <td>40.24</td>\n",
       "    </tr>\n",
       "    <tr>\n",
       "      <th>2</th>\n",
       "      <td>Mario Kart Wii</td>\n",
       "      <td>Wii</td>\n",
       "      <td>2008</td>\n",
       "      <td>Racing</td>\n",
       "      <td>15.68</td>\n",
       "      <td>12.76</td>\n",
       "      <td>3.79</td>\n",
       "      <td>3.29</td>\n",
       "      <td>82.0</td>\n",
       "      <td>8.3</td>\n",
       "      <td>E</td>\n",
       "      <td>35.52</td>\n",
       "    </tr>\n",
       "    <tr>\n",
       "      <th>3</th>\n",
       "      <td>Wii Sports Resort</td>\n",
       "      <td>Wii</td>\n",
       "      <td>2009</td>\n",
       "      <td>Sports</td>\n",
       "      <td>15.61</td>\n",
       "      <td>10.93</td>\n",
       "      <td>3.28</td>\n",
       "      <td>2.95</td>\n",
       "      <td>80.0</td>\n",
       "      <td>8.0</td>\n",
       "      <td>E</td>\n",
       "      <td>32.77</td>\n",
       "    </tr>\n",
       "    <tr>\n",
       "      <th>4</th>\n",
       "      <td>Pokemon Red/Pokemon Blue</td>\n",
       "      <td>GB</td>\n",
       "      <td>1996</td>\n",
       "      <td>Role-Playing</td>\n",
       "      <td>11.27</td>\n",
       "      <td>8.89</td>\n",
       "      <td>10.22</td>\n",
       "      <td>1.00</td>\n",
       "      <td>NaN</td>\n",
       "      <td>NaN</td>\n",
       "      <td>NaN</td>\n",
       "      <td>31.38</td>\n",
       "    </tr>\n",
       "  </tbody>\n",
       "</table>\n",
       "</div>"
      ],
      "text/plain": [
       "                       name platform  year_of_release         genre  na_sales  \\\n",
       "0                Wii Sports      Wii             2006        Sports     41.36   \n",
       "1         Super Mario Bros.      NES             1985      Platform     29.08   \n",
       "2            Mario Kart Wii      Wii             2008        Racing     15.68   \n",
       "3         Wii Sports Resort      Wii             2009        Sports     15.61   \n",
       "4  Pokemon Red/Pokemon Blue       GB             1996  Role-Playing     11.27   \n",
       "\n",
       "   eu_sales  jp_sales  other_sales  critic_score  user_score rating  \\\n",
       "0     28.96      3.77         8.45          76.0         8.0      E   \n",
       "1      3.58      6.81         0.77           NaN         NaN    NaN   \n",
       "2     12.76      3.79         3.29          82.0         8.3      E   \n",
       "3     10.93      3.28         2.95          80.0         8.0      E   \n",
       "4      8.89     10.22         1.00           NaN         NaN    NaN   \n",
       "\n",
       "   total_sales  \n",
       "0        82.54  \n",
       "1        40.24  \n",
       "2        35.52  \n",
       "3        32.77  \n",
       "4        31.38  "
      ]
     },
     "execution_count": 16,
     "metadata": {},
     "output_type": "execute_result"
    }
   ],
   "source": [
    "games.head()"
   ]
  },
  {
   "cell_type": "markdown",
   "id": "2706b665",
   "metadata": {},
   "source": [
    "1. Заполнять попуски в critic_score, user_score будет некорректно, так как в этом случае мы получим неточные результаты в анализе. Пропуски в rating заполнила значением ND\n",
    "2. Удалила строки в столбцах 'name', 'genre', 'year_of_release', так как пропущенных значений немного, они не будут влиять на результат\n",
    "4. Причины, которые привели к пропускам могут быть как ошибкой, так и отсутсвие данных о рейтинге вследствие непопуярности игры"
   ]
  },
  {
   "cell_type": "code",
   "execution_count": 17,
   "id": "b2d7b187",
   "metadata": {},
   "outputs": [],
   "source": [
    "games['rating'] = games['rating'].fillna('ND')"
   ]
  },
  {
   "cell_type": "code",
   "execution_count": 18,
   "id": "ac587438",
   "metadata": {},
   "outputs": [
    {
     "data": {
      "text/plain": [
       "ND      6676\n",
       "E       3921\n",
       "T       2905\n",
       "M       1536\n",
       "E10+    1393\n",
       "EC         8\n",
       "K-A        3\n",
       "AO         1\n",
       "RP         1\n",
       "Name: rating, dtype: int64"
      ]
     },
     "execution_count": 18,
     "metadata": {},
     "output_type": "execute_result"
    }
   ],
   "source": [
    "# check\n",
    "games['rating'].value_counts()"
   ]
  },
  {
   "cell_type": "code",
   "execution_count": 19,
   "id": "2b4439a2",
   "metadata": {},
   "outputs": [
    {
     "name": "stdout",
     "output_type": "stream",
     "text": [
      "<class 'pandas.core.frame.DataFrame'>\n",
      "Int64Index: 16444 entries, 0 to 16714\n",
      "Data columns (total 12 columns):\n",
      " #   Column           Non-Null Count  Dtype  \n",
      "---  ------           --------------  -----  \n",
      " 0   name             16444 non-null  object \n",
      " 1   platform         16444 non-null  object \n",
      " 2   year_of_release  16444 non-null  int64  \n",
      " 3   genre            16444 non-null  object \n",
      " 4   na_sales         16444 non-null  float64\n",
      " 5   eu_sales         16444 non-null  float64\n",
      " 6   jp_sales         16444 non-null  float64\n",
      " 7   other_sales      16444 non-null  float64\n",
      " 8   critic_score     7983 non-null   float64\n",
      " 9   user_score       7463 non-null   float64\n",
      " 10  rating           16444 non-null  object \n",
      " 11  total_sales      16444 non-null  float64\n",
      "dtypes: float64(7), int64(1), object(4)\n",
      "memory usage: 1.6+ MB\n"
     ]
    }
   ],
   "source": [
    "games.info()"
   ]
  },
  {
   "cell_type": "markdown",
   "id": "33dbe1f6",
   "metadata": {},
   "source": [
    "# Проведите исследовательский анализ данных"
   ]
  },
  {
   "cell_type": "markdown",
   "id": "af0928db",
   "metadata": {},
   "source": [
    "*1. Анализ продаж платформ в разные периоды*"
   ]
  },
  {
   "cell_type": "code",
   "execution_count": 20,
   "id": "e4c8451b",
   "metadata": {},
   "outputs": [
    {
     "data": {
      "text/plain": [
       "year_of_release\n",
       "2008    1427\n",
       "2009    1426\n",
       "2010    1255\n",
       "2007    1197\n",
       "2011    1136\n",
       "2006    1006\n",
       "2005     939\n",
       "2002     829\n",
       "2003     775\n",
       "2004     762\n",
       "Name: name, dtype: int64"
      ]
     },
     "execution_count": 20,
     "metadata": {},
     "output_type": "execute_result"
    }
   ],
   "source": [
    "release_game = games.groupby('year_of_release')['name'].count().sort_values(ascending=False)\n",
    "release_game.head(10)"
   ]
  },
  {
   "cell_type": "code",
   "execution_count": 21,
   "id": "b09f27a7",
   "metadata": {},
   "outputs": [
    {
     "data": {
      "image/png": "[encoded data removed]",
      "text/plain": [
       "<Figure size 432x288 with 1 Axes>"
      ]
     },
     "metadata": {
      "needs_background": "light"
     },
     "output_type": "display_data"
    }
   ],
   "source": [
    "plt.hist(games['year_of_release'], bins=15, range=(1980,2016))\n",
    "plt.title('Количество игр 1980-2016гг')\n",
    "plt.xlabel('Количество')\n",
    "plt.ylabel('Год')\n",
    "plt.show()"
   ]
  },
  {
   "cell_type": "markdown",
   "id": "f2865fbb",
   "metadata": {},
   "source": [
    "На основании сортирования данных и построенного графика можно сказать, что наиболее важные для анализа данные за 2006-2011 гг.\n",
    "Наибольшие значение мы видим в 2008, 2009 гг"
   ]
  },
  {
   "cell_type": "code",
   "execution_count": 22,
   "id": "c2e338d1",
   "metadata": {
    "scrolled": true
   },
   "outputs": [
    {
     "data": {
      "text/plain": [
       "platform\n",
       "PS2     1233.56\n",
       "X360     961.24\n",
       "PS3      931.34\n",
       "Wii      891.18\n",
       "DS       802.78\n",
       "PS       727.58\n",
       "PS4      314.14\n",
       "GBA      312.88\n",
       "PSP      289.53\n",
       "3DS      257.81\n",
       "Name: total_sales, dtype: float64"
      ]
     },
     "execution_count": 22,
     "metadata": {},
     "output_type": "execute_result"
    }
   ],
   "source": [
    "platforms = games.groupby('platform')['total_sales'].sum().sort_values(ascending=False)\n",
    "platforms.head(10)"
   ]
  },
  {
   "cell_type": "code",
   "execution_count": 23,
   "id": "68126300",
   "metadata": {},
   "outputs": [
    {
     "data": {
      "image/png": "[encoded data removed]",
      "text/plain": [
       "<Figure size 432x288 with 1 Axes>"
      ]
     },
     "metadata": {
      "needs_background": "light"
     },
     "output_type": "display_data"
    }
   ],
   "source": [
    "platforms.plot(kind='bar', legend=True);"
   ]
  },
  {
   "cell_type": "code",
   "execution_count": 24,
   "id": "fd8b90ab",
   "metadata": {},
   "outputs": [
    {
     "data": {
      "image/png": "[encoded data removed]",
      "text/plain": [
       "<Figure size 432x288 with 1 Axes>"
      ]
     },
     "metadata": {
      "needs_background": "light"
     },
     "output_type": "display_data"
    }
   ],
   "source": [
    "games[games['platform']=='PS2']['year_of_release'].hist(bins=13, range=(2000,2013));\n",
    "plt.title('Количество продаж PS2')\n",
    "plt.xlabel('Год')\n",
    "plt.ylabel('Количество')\n",
    "plt.show()"
   ]
  },
  {
   "cell_type": "code",
   "execution_count": 25,
   "id": "0d7e5144",
   "metadata": {},
   "outputs": [
    {
     "data": {
      "image/png": "[encoded data removed]",
      "text/plain": [
       "<Figure size 432x288 with 1 Axes>"
      ]
     },
     "metadata": {
      "needs_background": "light"
     },
     "output_type": "display_data"
    }
   ],
   "source": [
    "games[games['platform']=='X360']['year_of_release'].hist(bins=16, range=(2000,2016));\n",
    "plt.title('Количество продаж X360')\n",
    "plt.xlabel('Год')\n",
    "plt.ylabel('Количество')\n",
    "plt.show()"
   ]
  },
  {
   "cell_type": "code",
   "execution_count": 26,
   "id": "082f63ee",
   "metadata": {},
   "outputs": [
    {
     "data": {
      "image/png": "[encoded data removed]",
      "text/plain": [
       "<Figure size 432x288 with 1 Axes>"
      ]
     },
     "metadata": {
      "needs_background": "light"
     },
     "output_type": "display_data"
    }
   ],
   "source": [
    "games[games['platform']=='PS3']['year_of_release'].hist(bins=10, range=(2005,2016));\n",
    "plt.title('Количество продаж PS3')\n",
    "plt.xlabel('Год')\n",
    "plt.ylabel('Количество')\n",
    "plt.show()"
   ]
  },
  {
   "cell_type": "code",
   "execution_count": 27,
   "id": "9e5a33b8",
   "metadata": {},
   "outputs": [
    {
     "data": {
      "image/png": "[encoded data removed]",
      "text/plain": [
       "<Figure size 432x288 with 1 Axes>"
      ]
     },
     "metadata": {
      "needs_background": "light"
     },
     "output_type": "display_data"
    }
   ],
   "source": [
    "games[games['platform']=='Wii']['year_of_release'].hist(bins=10, range=(2005,2016));\n",
    "plt.title('Количество продаж Wii')\n",
    "plt.xlabel('Год')\n",
    "plt.ylabel('Количество')\n",
    "plt.show()"
   ]
  },
  {
   "cell_type": "code",
   "execution_count": 28,
   "id": "755ceead",
   "metadata": {},
   "outputs": [
    {
     "data": {
      "image/png": "[encoded data removed]",
      "text/plain": [
       "<Figure size 432x288 with 1 Axes>"
      ]
     },
     "metadata": {
      "needs_background": "light"
     },
     "output_type": "display_data"
    }
   ],
   "source": [
    "games[games['platform']=='DS']['year_of_release'].hist(bins=10, range=(2004,2015));\n",
    "plt.title('Количество продаж DS')\n",
    "plt.xlabel('Год')\n",
    "plt.ylabel('Количество')\n",
    "plt.show()"
   ]
  },
  {
   "cell_type": "code",
   "execution_count": 29,
   "id": "bbd77ee9",
   "metadata": {},
   "outputs": [
    {
     "data": {
      "image/png": "[encoded data removed]",
      "text/plain": [
       "<Figure size 432x288 with 1 Axes>"
      ]
     },
     "metadata": {
      "needs_background": "light"
     },
     "output_type": "display_data"
    }
   ],
   "source": [
    "games[games['platform']=='PS']['year_of_release'].hist(bins=15, range=(1990,2005));\n",
    "plt.title('Количество продаж PS')\n",
    "plt.xlabel('Год')\n",
    "plt.ylabel('Количество')\n",
    "plt.show()"
   ]
  },
  {
   "cell_type": "code",
   "execution_count": 30,
   "id": "1d321dd9",
   "metadata": {},
   "outputs": [
    {
     "data": {
      "image/png": "[encoded data removed]",
      "text/plain": [
       "<Figure size 432x288 with 1 Axes>"
      ]
     },
     "metadata": {
      "needs_background": "light"
     },
     "output_type": "display_data"
    }
   ],
   "source": [
    "games[games['platform']=='PS4']['year_of_release'].hist(bins=6, range=(2012,2018));\n",
    "plt.title('Количество продаж PS4')\n",
    "plt.xlabel('Год')\n",
    "plt.ylabel('Количество')\n",
    "plt.show()"
   ]
  },
  {
   "cell_type": "code",
   "execution_count": 31,
   "id": "48e4ffe6",
   "metadata": {},
   "outputs": [
    {
     "data": {
      "image/png": "[encoded data removed]",
      "text/plain": [
       "<Figure size 432x288 with 1 Axes>"
      ]
     },
     "metadata": {
      "needs_background": "light"
     },
     "output_type": "display_data"
    }
   ],
   "source": [
    "games[games['platform']=='GBA']['year_of_release'].hist(bins=12, range=(1998,2010));\n",
    "plt.title('Количество продаж GBA')\n",
    "plt.xlabel('Год')\n",
    "plt.ylabel('Количество')\n",
    "plt.show()"
   ]
  },
  {
   "cell_type": "code",
   "execution_count": 32,
   "id": "9f50662c",
   "metadata": {},
   "outputs": [
    {
     "data": {
      "image/png": "[encoded data removed]",
      "text/plain": [
       "<Figure size 432x288 with 1 Axes>"
      ]
     },
     "metadata": {
      "needs_background": "light"
     },
     "output_type": "display_data"
    }
   ],
   "source": [
    "games[games['platform']=='PSP']['year_of_release'].hist(bins=15, range=(2002,2016));\n",
    "plt.title('Количество продаж PSP')\n",
    "plt.xlabel('Год')\n",
    "plt.ylabel('Количество')\n",
    "plt.show()"
   ]
  },
  {
   "cell_type": "code",
   "execution_count": 33,
   "id": "f8651549",
   "metadata": {},
   "outputs": [
    {
     "data": {
      "image/png": "[encoded data removed]",
      "text/plain": [
       "<Figure size 432x288 with 1 Axes>"
      ]
     },
     "metadata": {
      "needs_background": "light"
     },
     "output_type": "display_data"
    }
   ],
   "source": [
    "games[games['platform']=='3DS']['year_of_release'].hist(bins=10, range=(2010,2016));\n",
    "plt.title('Количество продаж 3DS')\n",
    "plt.xlabel('Год')\n",
    "plt.ylabel('Количество')\n",
    "plt.show()"
   ]
  },
  {
   "cell_type": "markdown",
   "id": "dac20aa0",
   "metadata": {},
   "source": [
    "Наиболее популярные платформы по продажам: PS2, X360, PS3, Wii, DS. В среднем платформы существуют около 10 лет. Большинство платформ появилось в 2000-х."
   ]
  },
  {
   "cell_type": "code",
   "execution_count": 34,
   "id": "234a85ea",
   "metadata": {},
   "outputs": [],
   "source": [
    "games_new = games.query('year_of_release>2013')"
   ]
  },
  {
   "cell_type": "code",
   "execution_count": 35,
   "id": "d0262bdf",
   "metadata": {},
   "outputs": [
    {
     "data": {
      "text/html": [
       "<div>\n",
       "<style scoped>\n",
       "    .dataframe tbody tr th:only-of-type {\n",
       "        vertical-align: middle;\n",
       "    }\n",
       "\n",
       "    .dataframe tbody tr th {\n",
       "        vertical-align: top;\n",
       "    }\n",
       "\n",
       "    .dataframe thead th {\n",
       "        text-align: right;\n",
       "    }\n",
       "</style>\n",
       "<table border=\"1\" class=\"dataframe\">\n",
       "  <thead>\n",
       "    <tr style=\"text-align: right;\">\n",
       "      <th></th>\n",
       "      <th>name</th>\n",
       "      <th>platform</th>\n",
       "      <th>year_of_release</th>\n",
       "      <th>genre</th>\n",
       "      <th>na_sales</th>\n",
       "      <th>eu_sales</th>\n",
       "      <th>jp_sales</th>\n",
       "      <th>other_sales</th>\n",
       "      <th>critic_score</th>\n",
       "      <th>user_score</th>\n",
       "      <th>rating</th>\n",
       "      <th>total_sales</th>\n",
       "    </tr>\n",
       "  </thead>\n",
       "  <tbody>\n",
       "    <tr>\n",
       "      <th>31</th>\n",
       "      <td>Call of Duty: Black Ops 3</td>\n",
       "      <td>PS4</td>\n",
       "      <td>2015</td>\n",
       "      <td>Shooter</td>\n",
       "      <td>6.03</td>\n",
       "      <td>5.86</td>\n",
       "      <td>0.36</td>\n",
       "      <td>2.38</td>\n",
       "      <td>NaN</td>\n",
       "      <td>NaN</td>\n",
       "      <td>ND</td>\n",
       "      <td>14.63</td>\n",
       "    </tr>\n",
       "    <tr>\n",
       "      <th>42</th>\n",
       "      <td>Grand Theft Auto V</td>\n",
       "      <td>PS4</td>\n",
       "      <td>2014</td>\n",
       "      <td>Action</td>\n",
       "      <td>3.96</td>\n",
       "      <td>6.31</td>\n",
       "      <td>0.38</td>\n",
       "      <td>1.97</td>\n",
       "      <td>97.0</td>\n",
       "      <td>8.3</td>\n",
       "      <td>M</td>\n",
       "      <td>12.62</td>\n",
       "    </tr>\n",
       "    <tr>\n",
       "      <th>47</th>\n",
       "      <td>Pokemon Omega Ruby/Pokemon Alpha Sapphire</td>\n",
       "      <td>3DS</td>\n",
       "      <td>2014</td>\n",
       "      <td>Role-Playing</td>\n",
       "      <td>4.35</td>\n",
       "      <td>3.49</td>\n",
       "      <td>3.10</td>\n",
       "      <td>0.74</td>\n",
       "      <td>NaN</td>\n",
       "      <td>NaN</td>\n",
       "      <td>ND</td>\n",
       "      <td>11.68</td>\n",
       "    </tr>\n",
       "    <tr>\n",
       "      <th>77</th>\n",
       "      <td>FIFA 16</td>\n",
       "      <td>PS4</td>\n",
       "      <td>2015</td>\n",
       "      <td>Sports</td>\n",
       "      <td>1.12</td>\n",
       "      <td>6.12</td>\n",
       "      <td>0.06</td>\n",
       "      <td>1.28</td>\n",
       "      <td>82.0</td>\n",
       "      <td>4.3</td>\n",
       "      <td>E</td>\n",
       "      <td>8.58</td>\n",
       "    </tr>\n",
       "    <tr>\n",
       "      <th>87</th>\n",
       "      <td>Star Wars Battlefront (2015)</td>\n",
       "      <td>PS4</td>\n",
       "      <td>2015</td>\n",
       "      <td>Shooter</td>\n",
       "      <td>2.99</td>\n",
       "      <td>3.49</td>\n",
       "      <td>0.22</td>\n",
       "      <td>1.28</td>\n",
       "      <td>NaN</td>\n",
       "      <td>NaN</td>\n",
       "      <td>ND</td>\n",
       "      <td>7.98</td>\n",
       "    </tr>\n",
       "  </tbody>\n",
       "</table>\n",
       "</div>"
      ],
      "text/plain": [
       "                                         name platform  year_of_release  \\\n",
       "31                  Call of Duty: Black Ops 3      PS4             2015   \n",
       "42                         Grand Theft Auto V      PS4             2014   \n",
       "47  Pokemon Omega Ruby/Pokemon Alpha Sapphire      3DS             2014   \n",
       "77                                    FIFA 16      PS4             2015   \n",
       "87               Star Wars Battlefront (2015)      PS4             2015   \n",
       "\n",
       "           genre  na_sales  eu_sales  jp_sales  other_sales  critic_score  \\\n",
       "31       Shooter      6.03      5.86      0.36         2.38           NaN   \n",
       "42        Action      3.96      6.31      0.38         1.97          97.0   \n",
       "47  Role-Playing      4.35      3.49      3.10         0.74           NaN   \n",
       "77        Sports      1.12      6.12      0.06         1.28          82.0   \n",
       "87       Shooter      2.99      3.49      0.22         1.28           NaN   \n",
       "\n",
       "    user_score rating  total_sales  \n",
       "31         NaN     ND        14.63  \n",
       "42         8.3      M        12.62  \n",
       "47         NaN     ND        11.68  \n",
       "77         4.3      E         8.58  \n",
       "87         NaN     ND         7.98  "
      ]
     },
     "execution_count": 35,
     "metadata": {},
     "output_type": "execute_result"
    }
   ],
   "source": [
    "games_new.head()"
   ]
  },
  {
   "cell_type": "code",
   "execution_count": 36,
   "id": "6dfe3114",
   "metadata": {},
   "outputs": [
    {
     "data": {
      "text/plain": [
       "platform\n",
       "PS4     288.15\n",
       "XOne    140.36\n",
       "3DS      86.68\n",
       "PS3      68.18\n",
       "X360     48.22\n",
       "WiiU     42.98\n",
       "PC       27.05\n",
       "PSV      22.40\n",
       "Wii       5.07\n",
       "PSP       0.36\n",
       "Name: total_sales, dtype: float64"
      ]
     },
     "execution_count": 36,
     "metadata": {},
     "output_type": "execute_result"
    }
   ],
   "source": [
    "games_actually = games_new.groupby('platform')['total_sales'].sum().sort_values(ascending=False)\n",
    "games_actually.head(10)"
   ]
  },
  {
   "cell_type": "code",
   "execution_count": 37,
   "id": "6ef27f0d",
   "metadata": {
    "scrolled": true
   },
   "outputs": [
    {
     "data": {
      "image/png": "[encoded data removed]",
      "text/plain": [
       "<Figure size 432x288 with 1 Axes>"
      ]
     },
     "metadata": {
      "needs_background": "light"
     },
     "output_type": "display_data"
    }
   ],
   "source": [
    "games_actually.plot(kind='bar', legend=True);"
   ]
  },
  {
   "cell_type": "code",
   "execution_count": 38,
   "id": "d8718cb3",
   "metadata": {
    "scrolled": true
   },
   "outputs": [
    {
     "data": {
      "image/png": "[encoded data removed]",
      "text/plain": [
       "<Figure size 432x288 with 1 Axes>"
      ]
     },
     "metadata": {
      "needs_background": "light"
     },
     "output_type": "display_data"
    }
   ],
   "source": [
    "games_new[games_new['platform']=='XOne']['year_of_release'].hist(bins=10, range=(2010,2016));\n",
    "plt.title('Количество продаж XOne')\n",
    "plt.xlabel('Год')\n",
    "plt.ylabel('Количество')\n",
    "plt.show()"
   ]
  },
  {
   "cell_type": "code",
   "execution_count": 39,
   "id": "6b702149",
   "metadata": {
    "scrolled": false
   },
   "outputs": [
    {
     "data": {
      "image/png": "[encoded data removed]",
      "text/plain": [
       "<Figure size 432x288 with 1 Axes>"
      ]
     },
     "metadata": {
      "needs_background": "light"
     },
     "output_type": "display_data"
    }
   ],
   "source": [
    "games_new[games_new['platform']=='PS4']['year_of_release'].hist(bins=10, range=(2010,2016));\n",
    "plt.title('Количество продаж PS4')\n",
    "plt.xlabel('Год')\n",
    "plt.ylabel('Количество')\n",
    "plt.show()"
   ]
  },
  {
   "cell_type": "code",
   "execution_count": 40,
   "id": "06152a4b",
   "metadata": {},
   "outputs": [
    {
     "data": {
      "image/png": "[encoded data removed]",
      "text/plain": [
       "<Figure size 432x288 with 1 Axes>"
      ]
     },
     "metadata": {
      "needs_background": "light"
     },
     "output_type": "display_data"
    }
   ],
   "source": [
    "games_new[games_new['platform']=='PS3']['year_of_release'].hist(bins=10, range=(2010,2016));\n",
    "plt.title('Количество продаж PS3')\n",
    "plt.xlabel('Год')\n",
    "plt.ylabel('Количество')\n",
    "plt.show()"
   ]
  },
  {
   "cell_type": "code",
   "execution_count": 41,
   "id": "103c200e",
   "metadata": {},
   "outputs": [
    {
     "data": {
      "image/png": "[encoded data removed]",
      "text/plain": [
       "<Figure size 432x288 with 1 Axes>"
      ]
     },
     "metadata": {
      "needs_background": "light"
     },
     "output_type": "display_data"
    }
   ],
   "source": [
    "games_new[games_new['platform']=='PC']['year_of_release'].hist(bins=10, range=(2010,2016));\n",
    "plt.title('Количество продаж PC')\n",
    "plt.xlabel('Год')\n",
    "plt.ylabel('Количество')\n",
    "plt.show()"
   ]
  },
  {
   "cell_type": "markdown",
   "id": "1ac814e2",
   "metadata": {},
   "source": [
    "На основании данных за последние 3 года, лидируют по продажам: PS4, XOne. PC имеет тенденцию к росту к 2016 году"
   ]
  },
  {
   "cell_type": "code",
   "execution_count": 42,
   "id": "a4200407",
   "metadata": {
    "scrolled": false
   },
   "outputs": [
    {
     "data": {
      "image/png": "[encoded data removed]",
      "text/plain": [
       "<Figure size 432x288 with 1 Axes>"
      ]
     },
     "metadata": {
      "needs_background": "light"
     },
     "output_type": "display_data"
    }
   ],
   "source": [
    "games_new.pivot_table(index = 'name', columns = 'platform', values = 'total_sales').plot(kind='box', ylim=(0,2));"
   ]
  },
  {
   "cell_type": "markdown",
   "id": "ce3564ef",
   "metadata": {},
   "source": [
    "PS4 и XOne остаются в лидирующих позициях, так как выброс данных минимальный, что говорит о популярности их игр, в отличие, например, от 3DS у которых высокий объем продаж засчет выброса (1-2 суперпопулярных игр)"
   ]
  },
  {
   "cell_type": "code",
   "execution_count": 43,
   "id": "592e8f78",
   "metadata": {},
   "outputs": [
    {
     "data": {
      "text/html": [
       "<div>\n",
       "<style scoped>\n",
       "    .dataframe tbody tr th:only-of-type {\n",
       "        vertical-align: middle;\n",
       "    }\n",
       "\n",
       "    .dataframe tbody tr th {\n",
       "        vertical-align: top;\n",
       "    }\n",
       "\n",
       "    .dataframe thead th {\n",
       "        text-align: right;\n",
       "    }\n",
       "</style>\n",
       "<table border=\"1\" class=\"dataframe\">\n",
       "  <thead>\n",
       "    <tr style=\"text-align: right;\">\n",
       "      <th>platform</th>\n",
       "      <th>3DS</th>\n",
       "      <th>PC</th>\n",
       "      <th>PS3</th>\n",
       "      <th>PS4</th>\n",
       "      <th>PSP</th>\n",
       "      <th>PSV</th>\n",
       "      <th>Wii</th>\n",
       "      <th>WiiU</th>\n",
       "      <th>X360</th>\n",
       "      <th>XOne</th>\n",
       "    </tr>\n",
       "    <tr>\n",
       "      <th>name</th>\n",
       "      <th></th>\n",
       "      <th></th>\n",
       "      <th></th>\n",
       "      <th></th>\n",
       "      <th></th>\n",
       "      <th></th>\n",
       "      <th></th>\n",
       "      <th></th>\n",
       "      <th></th>\n",
       "      <th></th>\n",
       "    </tr>\n",
       "  </thead>\n",
       "  <tbody>\n",
       "    <tr>\n",
       "      <th>Beyblade Burst</th>\n",
       "      <td>0.03</td>\n",
       "      <td>NaN</td>\n",
       "      <td>NaN</td>\n",
       "      <td>NaN</td>\n",
       "      <td>NaN</td>\n",
       "      <td>NaN</td>\n",
       "      <td>NaN</td>\n",
       "      <td>NaN</td>\n",
       "      <td>NaN</td>\n",
       "      <td>NaN</td>\n",
       "    </tr>\n",
       "    <tr>\n",
       "      <th>Fire Emblem Fates</th>\n",
       "      <td>1.67</td>\n",
       "      <td>NaN</td>\n",
       "      <td>NaN</td>\n",
       "      <td>NaN</td>\n",
       "      <td>NaN</td>\n",
       "      <td>NaN</td>\n",
       "      <td>NaN</td>\n",
       "      <td>NaN</td>\n",
       "      <td>NaN</td>\n",
       "      <td>NaN</td>\n",
       "    </tr>\n",
       "    <tr>\n",
       "      <th>Haikyu!! Cross Team Match!</th>\n",
       "      <td>0.04</td>\n",
       "      <td>NaN</td>\n",
       "      <td>NaN</td>\n",
       "      <td>NaN</td>\n",
       "      <td>NaN</td>\n",
       "      <td>NaN</td>\n",
       "      <td>NaN</td>\n",
       "      <td>NaN</td>\n",
       "      <td>NaN</td>\n",
       "      <td>NaN</td>\n",
       "    </tr>\n",
       "    <tr>\n",
       "      <th>12-Sai. Honto no Kimochi</th>\n",
       "      <td>0.07</td>\n",
       "      <td>NaN</td>\n",
       "      <td>NaN</td>\n",
       "      <td>NaN</td>\n",
       "      <td>NaN</td>\n",
       "      <td>NaN</td>\n",
       "      <td>NaN</td>\n",
       "      <td>NaN</td>\n",
       "      <td>NaN</td>\n",
       "      <td>NaN</td>\n",
       "    </tr>\n",
       "    <tr>\n",
       "      <th>12-Sai. Koisuru Diary</th>\n",
       "      <td>0.05</td>\n",
       "      <td>NaN</td>\n",
       "      <td>NaN</td>\n",
       "      <td>NaN</td>\n",
       "      <td>NaN</td>\n",
       "      <td>NaN</td>\n",
       "      <td>NaN</td>\n",
       "      <td>NaN</td>\n",
       "      <td>NaN</td>\n",
       "      <td>NaN</td>\n",
       "    </tr>\n",
       "    <tr>\n",
       "      <th>...</th>\n",
       "      <td>...</td>\n",
       "      <td>...</td>\n",
       "      <td>...</td>\n",
       "      <td>...</td>\n",
       "      <td>...</td>\n",
       "      <td>...</td>\n",
       "      <td>...</td>\n",
       "      <td>...</td>\n",
       "      <td>...</td>\n",
       "      <td>...</td>\n",
       "    </tr>\n",
       "    <tr>\n",
       "      <th>Zettai Kaikyuu Gakuen: Eden with Roses and Phantasm</th>\n",
       "      <td>NaN</td>\n",
       "      <td>NaN</td>\n",
       "      <td>NaN</td>\n",
       "      <td>NaN</td>\n",
       "      <td>NaN</td>\n",
       "      <td>0.01</td>\n",
       "      <td>NaN</td>\n",
       "      <td>NaN</td>\n",
       "      <td>NaN</td>\n",
       "      <td>NaN</td>\n",
       "    </tr>\n",
       "    <tr>\n",
       "      <th>ZombiU</th>\n",
       "      <td>NaN</td>\n",
       "      <td>NaN</td>\n",
       "      <td>NaN</td>\n",
       "      <td>0.06</td>\n",
       "      <td>NaN</td>\n",
       "      <td>NaN</td>\n",
       "      <td>NaN</td>\n",
       "      <td>NaN</td>\n",
       "      <td>NaN</td>\n",
       "      <td>0.01</td>\n",
       "    </tr>\n",
       "    <tr>\n",
       "      <th>Zombie Army Trilogy</th>\n",
       "      <td>NaN</td>\n",
       "      <td>NaN</td>\n",
       "      <td>NaN</td>\n",
       "      <td>0.20</td>\n",
       "      <td>NaN</td>\n",
       "      <td>NaN</td>\n",
       "      <td>NaN</td>\n",
       "      <td>NaN</td>\n",
       "      <td>NaN</td>\n",
       "      <td>0.11</td>\n",
       "    </tr>\n",
       "    <tr>\n",
       "      <th>htoL#NiQ: The Firefly Diary</th>\n",
       "      <td>NaN</td>\n",
       "      <td>NaN</td>\n",
       "      <td>NaN</td>\n",
       "      <td>NaN</td>\n",
       "      <td>NaN</td>\n",
       "      <td>0.01</td>\n",
       "      <td>NaN</td>\n",
       "      <td>NaN</td>\n",
       "      <td>NaN</td>\n",
       "      <td>NaN</td>\n",
       "    </tr>\n",
       "    <tr>\n",
       "      <th>inFAMOUS: Second Son</th>\n",
       "      <td>NaN</td>\n",
       "      <td>NaN</td>\n",
       "      <td>NaN</td>\n",
       "      <td>2.79</td>\n",
       "      <td>NaN</td>\n",
       "      <td>NaN</td>\n",
       "      <td>NaN</td>\n",
       "      <td>NaN</td>\n",
       "      <td>NaN</td>\n",
       "      <td>NaN</td>\n",
       "    </tr>\n",
       "  </tbody>\n",
       "</table>\n",
       "<p>956 rows × 10 columns</p>\n",
       "</div>"
      ],
      "text/plain": [
       "platform                                             3DS  PC  PS3   PS4  PSP  \\\n",
       "name                                                                           \n",
       " Beyblade Burst                                     0.03 NaN  NaN   NaN  NaN   \n",
       " Fire Emblem Fates                                  1.67 NaN  NaN   NaN  NaN   \n",
       " Haikyu!! Cross Team Match!                         0.04 NaN  NaN   NaN  NaN   \n",
       "12-Sai. Honto no Kimochi                            0.07 NaN  NaN   NaN  NaN   \n",
       "12-Sai. Koisuru Diary                               0.05 NaN  NaN   NaN  NaN   \n",
       "...                                                  ...  ..  ...   ...  ...   \n",
       "Zettai Kaikyuu Gakuen: Eden with Roses and Phan...   NaN NaN  NaN   NaN  NaN   \n",
       "ZombiU                                               NaN NaN  NaN  0.06  NaN   \n",
       "Zombie Army Trilogy                                  NaN NaN  NaN  0.20  NaN   \n",
       "htoL#NiQ: The Firefly Diary                          NaN NaN  NaN   NaN  NaN   \n",
       "inFAMOUS: Second Son                                 NaN NaN  NaN  2.79  NaN   \n",
       "\n",
       "platform                                             PSV  Wii  WiiU  X360  \\\n",
       "name                                                                        \n",
       " Beyblade Burst                                      NaN  NaN   NaN   NaN   \n",
       " Fire Emblem Fates                                   NaN  NaN   NaN   NaN   \n",
       " Haikyu!! Cross Team Match!                          NaN  NaN   NaN   NaN   \n",
       "12-Sai. Honto no Kimochi                             NaN  NaN   NaN   NaN   \n",
       "12-Sai. Koisuru Diary                                NaN  NaN   NaN   NaN   \n",
       "...                                                  ...  ...   ...   ...   \n",
       "Zettai Kaikyuu Gakuen: Eden with Roses and Phan...  0.01  NaN   NaN   NaN   \n",
       "ZombiU                                               NaN  NaN   NaN   NaN   \n",
       "Zombie Army Trilogy                                  NaN  NaN   NaN   NaN   \n",
       "htoL#NiQ: The Firefly Diary                         0.01  NaN   NaN   NaN   \n",
       "inFAMOUS: Second Son                                 NaN  NaN   NaN   NaN   \n",
       "\n",
       "platform                                            XOne  \n",
       "name                                                      \n",
       " Beyblade Burst                                      NaN  \n",
       " Fire Emblem Fates                                   NaN  \n",
       " Haikyu!! Cross Team Match!                          NaN  \n",
       "12-Sai. Honto no Kimochi                             NaN  \n",
       "12-Sai. Koisuru Diary                                NaN  \n",
       "...                                                  ...  \n",
       "Zettai Kaikyuu Gakuen: Eden with Roses and Phan...   NaN  \n",
       "ZombiU                                              0.01  \n",
       "Zombie Army Trilogy                                 0.11  \n",
       "htoL#NiQ: The Firefly Diary                          NaN  \n",
       "inFAMOUS: Second Son                                 NaN  \n",
       "\n",
       "[956 rows x 10 columns]"
      ]
     },
     "execution_count": 43,
     "metadata": {},
     "output_type": "execute_result"
    }
   ],
   "source": [
    "games_new.pivot_table(index = 'name', columns = 'platform', values = 'total_sales')"
   ]
  },
  {
   "cell_type": "markdown",
   "id": "2a86a17d",
   "metadata": {},
   "source": [
    "*2.Корреляция между отзывами и продажами*"
   ]
  },
  {
   "cell_type": "code",
   "execution_count": 44,
   "id": "813d60ff",
   "metadata": {
    "scrolled": true
   },
   "outputs": [
    {
     "data": {
      "image/png": "[encoded data removed]",
      "text/plain": [
       "<Figure size 432x288 with 1 Axes>"
      ]
     },
     "metadata": {
      "needs_background": "light"
     },
     "output_type": "display_data"
    }
   ],
   "source": [
    "games_new[games_new['platform']=='PS4'].pivot_table(index='total_sales', values= 'critic_score')\\\n",
    ".plot(grid=True, style='o');"
   ]
  },
  {
   "cell_type": "code",
   "execution_count": 45,
   "id": "28b2c7a1",
   "metadata": {},
   "outputs": [
    {
     "data": {
      "image/png": "[encoded data removed]",
      "text/plain": [
       "<Figure size 432x288 with 1 Axes>"
      ]
     },
     "metadata": {
      "needs_background": "light"
     },
     "output_type": "display_data"
    }
   ],
   "source": [
    "games_new[games_new['platform']=='PS4'].pivot_table(index='total_sales', values= 'user_score')\\\n",
    ".plot(grid=True, style='o');"
   ]
  },
  {
   "cell_type": "code",
   "execution_count": 46,
   "id": "65275361",
   "metadata": {},
   "outputs": [
    {
     "name": "stdout",
     "output_type": "stream",
     "text": [
      "Корреляция между оценкой критиков и продажами: 0.4\n",
      "Корреляция между оценкой пользователей и продажами: -0.04\n",
      "Корреляция между оценками критиков и пользователей: 0.55\n"
     ]
    }
   ],
   "source": [
    "games_corr_PS4 = games_new.query('platform == \"PS4\"') \n",
    "\n",
    "print(f'Корреляция между оценкой критиков и продажами: \\\n",
    "{games_corr_PS4.critic_score.corr(games_corr_PS4.total_sales):.2}')\n",
    "print(f'Корреляция между оценкой пользователей и продажами: \\\n",
    "{games_corr_PS4.user_score.corr(games_corr_PS4.total_sales):.2}')\n",
    "print(f'Корреляция между оценками критиков и пользователей: \\\n",
    "{games_corr_PS4.critic_score.corr(games_corr_PS4.user_score):.2}')"
   ]
  },
  {
   "cell_type": "code",
   "execution_count": 47,
   "id": "d09e3827",
   "metadata": {
    "scrolled": true
   },
   "outputs": [
    {
     "data": {
      "image/png": "[encoded data removed]",
      "text/plain": [
       "<Figure size 432x288 with 1 Axes>"
      ]
     },
     "metadata": {
      "needs_background": "light"
     },
     "output_type": "display_data"
    }
   ],
   "source": [
    "games_new[games_new['platform']=='XOne'].pivot_table(index='total_sales', values='critic_score')\\\n",
    ".plot(grid=True, style='o');"
   ]
  },
  {
   "cell_type": "code",
   "execution_count": 48,
   "id": "2e416de0",
   "metadata": {},
   "outputs": [
    {
     "data": {
      "image/png": "[encoded data removed]",
      "text/plain": [
       "<Figure size 432x288 with 1 Axes>"
      ]
     },
     "metadata": {
      "needs_background": "light"
     },
     "output_type": "display_data"
    }
   ],
   "source": [
    "games_new[games_new['platform']=='XOne'].pivot_table(index='total_sales', values='user_score')\\\n",
    ".plot(grid=True, style='o');"
   ]
  },
  {
   "cell_type": "code",
   "execution_count": 49,
   "id": "dd139b72",
   "metadata": {},
   "outputs": [
    {
     "name": "stdout",
     "output_type": "stream",
     "text": [
      "Корреляция между оценкой критиков и продажами: 0.43\n",
      "Корреляция между оценкой пользователей и продажами: -0.07\n",
      "Корреляция между оценками критиков и пользователей: 0.44\n"
     ]
    }
   ],
   "source": [
    "games_corr_XOne = games_new.query('platform == \"XOne\"') \n",
    "\n",
    "print(f'Корреляция между оценкой критиков и продажами: \\\n",
    "{games_corr_XOne.critic_score.corr(games_corr_XOne.total_sales):.2}')\n",
    "print(f'Корреляция между оценкой пользователей и продажами: \\\n",
    "{games_corr_XOne.user_score.corr(games_corr_XOne.total_sales):.2}')\n",
    "print(f'Корреляция между оценками критиков и пользователей: \\\n",
    "{games_corr_XOne.critic_score.corr(games_corr_XOne.user_score):.2}')"
   ]
  },
  {
   "cell_type": "code",
   "execution_count": 50,
   "id": "d20011cd",
   "metadata": {
    "scrolled": true
   },
   "outputs": [
    {
     "data": {
      "image/png": "[encoded data removed]",
      "text/plain": [
       "<Figure size 432x288 with 1 Axes>"
      ]
     },
     "metadata": {
      "needs_background": "light"
     },
     "output_type": "display_data"
    }
   ],
   "source": [
    "games_new[games_new['platform']=='3DS'].pivot_table(index='total_sales', values='critic_score')\\\n",
    ".plot(grid=True, style='o');"
   ]
  },
  {
   "cell_type": "code",
   "execution_count": 51,
   "id": "3b82ebec",
   "metadata": {},
   "outputs": [
    {
     "data": {
      "image/png": "[encoded data removed]",
      "text/plain": [
       "<Figure size 432x288 with 1 Axes>"
      ]
     },
     "metadata": {
      "needs_background": "light"
     },
     "output_type": "display_data"
    }
   ],
   "source": [
    "games_new[games_new['platform']=='3DS'].pivot_table(index='total_sales', values='user_score')\\\n",
    ".plot(grid=True, style='o');"
   ]
  },
  {
   "cell_type": "code",
   "execution_count": 52,
   "id": "7320d359",
   "metadata": {},
   "outputs": [
    {
     "name": "stdout",
     "output_type": "stream",
     "text": [
      "Корреляция между оценкой критиков и продажами: 0.31\n",
      "Корреляция между оценкой пользователей и продажами: 0.22\n",
      "Корреляция между оценками критиков и пользователей: 0.86\n"
     ]
    }
   ],
   "source": [
    "games_corr_3DS = games_new.query('platform == \"3DS\"') \n",
    "\n",
    "print(f'Корреляция между оценкой критиков и продажами: \\\n",
    "{games_corr_3DS.critic_score.corr(games_corr_3DS.total_sales):.2}')\n",
    "print(f'Корреляция между оценкой пользователей и продажами: \\\n",
    "{games_corr_3DS.user_score.corr(games_corr_3DS.total_sales):.2}')\n",
    "print(f'Корреляция между оценками критиков и пользователей: \\\n",
    "{games_corr_3DS.critic_score.corr(games_corr_3DS.user_score):.2}')"
   ]
  },
  {
   "cell_type": "markdown",
   "id": "8bb76fc3",
   "metadata": {},
   "source": [
    "По платформам PS4, XOne можно сказать, что оценки критиков влияют на продажи, в отличие от оценок пользователей, которые не принимают во внимание"
   ]
  },
  {
   "cell_type": "markdown",
   "id": "92661569",
   "metadata": {},
   "source": [
    "3. *Общее распределение игр по жанрам*"
   ]
  },
  {
   "cell_type": "code",
   "execution_count": 53,
   "id": "b7021965",
   "metadata": {},
   "outputs": [
    {
     "data": {
      "image/png": "[encoded data removed]",
      "text/plain": [
       "<Figure size 720x720 with 1 Axes>"
      ]
     },
     "metadata": {},
     "output_type": "display_data"
    }
   ],
   "source": [
    "games_new.pivot_table(index = 'genre', values = 'total_sales', aggfunc = 'sum').sort_values(ascending=False, by = 'total_sales').plot(kind='pie', figsize=(10,10), y= 'total_sales');"
   ]
  },
  {
   "cell_type": "code",
   "execution_count": 54,
   "id": "cf67268d",
   "metadata": {},
   "outputs": [
    {
     "data": {
      "text/html": [
       "<div>\n",
       "<style scoped>\n",
       "    .dataframe tbody tr th:only-of-type {\n",
       "        vertical-align: middle;\n",
       "    }\n",
       "\n",
       "    .dataframe tbody tr th {\n",
       "        vertical-align: top;\n",
       "    }\n",
       "\n",
       "    .dataframe thead th {\n",
       "        text-align: right;\n",
       "    }\n",
       "</style>\n",
       "<table border=\"1\" class=\"dataframe\">\n",
       "  <thead>\n",
       "    <tr style=\"text-align: right;\">\n",
       "      <th></th>\n",
       "      <th>total_sales</th>\n",
       "    </tr>\n",
       "    <tr>\n",
       "      <th>genre</th>\n",
       "      <th></th>\n",
       "    </tr>\n",
       "  </thead>\n",
       "  <tbody>\n",
       "    <tr>\n",
       "      <th>Action</th>\n",
       "      <td>199.36</td>\n",
       "    </tr>\n",
       "    <tr>\n",
       "      <th>Shooter</th>\n",
       "      <td>170.94</td>\n",
       "    </tr>\n",
       "    <tr>\n",
       "      <th>Sports</th>\n",
       "      <td>109.48</td>\n",
       "    </tr>\n",
       "    <tr>\n",
       "      <th>Role-Playing</th>\n",
       "      <td>101.44</td>\n",
       "    </tr>\n",
       "    <tr>\n",
       "      <th>Misc</th>\n",
       "      <td>37.55</td>\n",
       "    </tr>\n",
       "    <tr>\n",
       "      <th>Fighting</th>\n",
       "      <td>28.22</td>\n",
       "    </tr>\n",
       "    <tr>\n",
       "      <th>Racing</th>\n",
       "      <td>27.52</td>\n",
       "    </tr>\n",
       "    <tr>\n",
       "      <th>Platform</th>\n",
       "      <td>18.09</td>\n",
       "    </tr>\n",
       "    <tr>\n",
       "      <th>Adventure</th>\n",
       "      <td>17.55</td>\n",
       "    </tr>\n",
       "    <tr>\n",
       "      <th>Simulation</th>\n",
       "      <td>13.13</td>\n",
       "    </tr>\n",
       "    <tr>\n",
       "      <th>Strategy</th>\n",
       "      <td>3.96</td>\n",
       "    </tr>\n",
       "    <tr>\n",
       "      <th>Puzzle</th>\n",
       "      <td>2.21</td>\n",
       "    </tr>\n",
       "  </tbody>\n",
       "</table>\n",
       "</div>"
      ],
      "text/plain": [
       "              total_sales\n",
       "genre                    \n",
       "Action             199.36\n",
       "Shooter            170.94\n",
       "Sports             109.48\n",
       "Role-Playing       101.44\n",
       "Misc                37.55\n",
       "Fighting            28.22\n",
       "Racing              27.52\n",
       "Platform            18.09\n",
       "Adventure           17.55\n",
       "Simulation          13.13\n",
       "Strategy             3.96\n",
       "Puzzle               2.21"
      ]
     },
     "execution_count": 54,
     "metadata": {},
     "output_type": "execute_result"
    }
   ],
   "source": [
    "games_new.pivot_table(index = 'genre', values = 'total_sales', aggfunc = 'sum').sort_values(ascending=False, by = 'total_sales')"
   ]
  },
  {
   "cell_type": "markdown",
   "id": "4cdbc283",
   "metadata": {},
   "source": [
    "Можно выделить жанры с с высокими продажами: Action, Shooter, Sports, и с низкими: Strategy, Puzzle"
   ]
  },
  {
   "cell_type": "code",
   "execution_count": 55,
   "id": "a26d421e",
   "metadata": {},
   "outputs": [
    {
     "data": {
      "text/html": [
       "<div>\n",
       "<style scoped>\n",
       "    .dataframe tbody tr th:only-of-type {\n",
       "        vertical-align: middle;\n",
       "    }\n",
       "\n",
       "    .dataframe tbody tr th {\n",
       "        vertical-align: top;\n",
       "    }\n",
       "\n",
       "    .dataframe thead th {\n",
       "        text-align: right;\n",
       "    }\n",
       "</style>\n",
       "<table border=\"1\" class=\"dataframe\">\n",
       "  <thead>\n",
       "    <tr style=\"text-align: right;\">\n",
       "      <th></th>\n",
       "      <th>genre</th>\n",
       "      <th>total_sales</th>\n",
       "    </tr>\n",
       "  </thead>\n",
       "  <tbody>\n",
       "    <tr>\n",
       "      <th>0</th>\n",
       "      <td>Shooter</td>\n",
       "      <td>1.335469</td>\n",
       "    </tr>\n",
       "    <tr>\n",
       "      <th>1</th>\n",
       "      <td>Sports</td>\n",
       "      <td>0.680000</td>\n",
       "    </tr>\n",
       "    <tr>\n",
       "      <th>2</th>\n",
       "      <td>Platform</td>\n",
       "      <td>0.476053</td>\n",
       "    </tr>\n",
       "    <tr>\n",
       "      <th>3</th>\n",
       "      <td>Fighting</td>\n",
       "      <td>0.470333</td>\n",
       "    </tr>\n",
       "    <tr>\n",
       "      <th>4</th>\n",
       "      <td>Role-Playing</td>\n",
       "      <td>0.459005</td>\n",
       "    </tr>\n",
       "    <tr>\n",
       "      <th>5</th>\n",
       "      <td>Racing</td>\n",
       "      <td>0.398841</td>\n",
       "    </tr>\n",
       "    <tr>\n",
       "      <th>6</th>\n",
       "      <td>Misc</td>\n",
       "      <td>0.332301</td>\n",
       "    </tr>\n",
       "    <tr>\n",
       "      <th>7</th>\n",
       "      <td>Action</td>\n",
       "      <td>0.322068</td>\n",
       "    </tr>\n",
       "    <tr>\n",
       "      <th>8</th>\n",
       "      <td>Simulation</td>\n",
       "      <td>0.298409</td>\n",
       "    </tr>\n",
       "    <tr>\n",
       "      <th>9</th>\n",
       "      <td>Puzzle</td>\n",
       "      <td>0.157857</td>\n",
       "    </tr>\n",
       "    <tr>\n",
       "      <th>10</th>\n",
       "      <td>Strategy</td>\n",
       "      <td>0.107027</td>\n",
       "    </tr>\n",
       "    <tr>\n",
       "      <th>11</th>\n",
       "      <td>Adventure</td>\n",
       "      <td>0.094865</td>\n",
       "    </tr>\n",
       "  </tbody>\n",
       "</table>\n",
       "</div>"
      ],
      "text/plain": [
       "           genre  total_sales\n",
       "0        Shooter     1.335469\n",
       "1         Sports     0.680000\n",
       "2       Platform     0.476053\n",
       "3       Fighting     0.470333\n",
       "4   Role-Playing     0.459005\n",
       "5         Racing     0.398841\n",
       "6           Misc     0.332301\n",
       "7         Action     0.322068\n",
       "8     Simulation     0.298409\n",
       "9         Puzzle     0.157857\n",
       "10      Strategy     0.107027\n",
       "11     Adventure     0.094865"
      ]
     },
     "execution_count": 55,
     "metadata": {},
     "output_type": "execute_result"
    }
   ],
   "source": [
    "genres_mean = games_new.pivot_table(index='genre', values='total_sales', aggfunc= 'mean')\\\n",
    ".sort_values('total_sales',ascending=False).reset_index()\n",
    "genres_mean"
   ]
  },
  {
   "cell_type": "code",
   "execution_count": 56,
   "id": "04caeb5b",
   "metadata": {
    "scrolled": false
   },
   "outputs": [
    {
     "data": {
      "text/html": [
       "<div>\n",
       "<style scoped>\n",
       "    .dataframe tbody tr th:only-of-type {\n",
       "        vertical-align: middle;\n",
       "    }\n",
       "\n",
       "    .dataframe tbody tr th {\n",
       "        vertical-align: top;\n",
       "    }\n",
       "\n",
       "    .dataframe thead th {\n",
       "        text-align: right;\n",
       "    }\n",
       "</style>\n",
       "<table border=\"1\" class=\"dataframe\">\n",
       "  <thead>\n",
       "    <tr style=\"text-align: right;\">\n",
       "      <th></th>\n",
       "      <th>genre</th>\n",
       "      <th>total_sales</th>\n",
       "    </tr>\n",
       "  </thead>\n",
       "  <tbody>\n",
       "    <tr>\n",
       "      <th>0</th>\n",
       "      <td>Shooter</td>\n",
       "      <td>0.515</td>\n",
       "    </tr>\n",
       "    <tr>\n",
       "      <th>1</th>\n",
       "      <td>Sports</td>\n",
       "      <td>0.180</td>\n",
       "    </tr>\n",
       "    <tr>\n",
       "      <th>2</th>\n",
       "      <td>Platform</td>\n",
       "      <td>0.140</td>\n",
       "    </tr>\n",
       "    <tr>\n",
       "      <th>3</th>\n",
       "      <td>Fighting</td>\n",
       "      <td>0.125</td>\n",
       "    </tr>\n",
       "    <tr>\n",
       "      <th>4</th>\n",
       "      <td>Role-Playing</td>\n",
       "      <td>0.110</td>\n",
       "    </tr>\n",
       "    <tr>\n",
       "      <th>5</th>\n",
       "      <td>Simulation</td>\n",
       "      <td>0.100</td>\n",
       "    </tr>\n",
       "    <tr>\n",
       "      <th>6</th>\n",
       "      <td>Action</td>\n",
       "      <td>0.090</td>\n",
       "    </tr>\n",
       "    <tr>\n",
       "      <th>7</th>\n",
       "      <td>Misc</td>\n",
       "      <td>0.090</td>\n",
       "    </tr>\n",
       "    <tr>\n",
       "      <th>8</th>\n",
       "      <td>Racing</td>\n",
       "      <td>0.090</td>\n",
       "    </tr>\n",
       "    <tr>\n",
       "      <th>9</th>\n",
       "      <td>Strategy</td>\n",
       "      <td>0.060</td>\n",
       "    </tr>\n",
       "    <tr>\n",
       "      <th>10</th>\n",
       "      <td>Puzzle</td>\n",
       "      <td>0.045</td>\n",
       "    </tr>\n",
       "    <tr>\n",
       "      <th>11</th>\n",
       "      <td>Adventure</td>\n",
       "      <td>0.030</td>\n",
       "    </tr>\n",
       "  </tbody>\n",
       "</table>\n",
       "</div>"
      ],
      "text/plain": [
       "           genre  total_sales\n",
       "0        Shooter        0.515\n",
       "1         Sports        0.180\n",
       "2       Platform        0.140\n",
       "3       Fighting        0.125\n",
       "4   Role-Playing        0.110\n",
       "5     Simulation        0.100\n",
       "6         Action        0.090\n",
       "7           Misc        0.090\n",
       "8         Racing        0.090\n",
       "9       Strategy        0.060\n",
       "10        Puzzle        0.045\n",
       "11     Adventure        0.030"
      ]
     },
     "execution_count": 56,
     "metadata": {},
     "output_type": "execute_result"
    }
   ],
   "source": [
    "genres_median = games_new.pivot_table(index='genre', values='total_sales', aggfunc= 'median')\\\n",
    ".sort_values('total_sales',ascending=False).reset_index()\n",
    "genres_median"
   ]
  },
  {
   "cell_type": "code",
   "execution_count": 57,
   "id": "af1ed520",
   "metadata": {
    "scrolled": false
   },
   "outputs": [
    {
     "data": {
      "image/png": "[encoded data removed]",
      "text/plain": [
       "<Figure size 720x576 with 1 Axes>"
      ]
     },
     "metadata": {
      "needs_background": "light"
     },
     "output_type": "display_data"
    }
   ],
   "source": [
    "games_new[['total_sales', 'genre']].boxplot(column='total_sales', by='genre', figsize=(10,8))\n",
    "plt.xlabel('Жанр')\n",
    "plt.ylabel('Количество проданных копий')\n",
    "plt.title('Диаграммы размаха по продажам в разных жанрах')\n",
    "plt.ylim(0, 4)\n",
    "plt.show()"
   ]
  },
  {
   "cell_type": "markdown",
   "id": "9abde504",
   "metadata": {},
   "source": [
    "По диаграмме размаха могу сказать, что продажи в жанре Shooter стабильны, Action и Sport имеют большое количесво выбросов"
   ]
  },
  {
   "cell_type": "code",
   "execution_count": 58,
   "id": "0db6657c",
   "metadata": {
    "scrolled": true
   },
   "outputs": [
    {
     "data": {
      "image/png": "[encoded data removed]",
      "text/plain": [
       "<Figure size 720x360 with 1 Axes>"
      ]
     },
     "metadata": {
      "needs_background": "light"
     },
     "output_type": "display_data"
    }
   ],
   "source": [
    "games_new[['total_sales', 'genre']].boxplot(column='total_sales', by='genre', figsize=(10,5))\n",
    "plt.xlabel('Жанр')\n",
    "plt.ylabel('Количество проданных копий')\n",
    "plt.title('Диаграммы размаха по продажам в разных жанрах')\n",
    "plt.show()"
   ]
  },
  {
   "cell_type": "code",
   "execution_count": 59,
   "id": "29ce8221",
   "metadata": {
    "scrolled": false
   },
   "outputs": [
    {
     "data": {
      "image/png": "[encoded data removed]",
      "text/plain": [
       "<Figure size 720x360 with 1 Axes>"
      ]
     },
     "metadata": {
      "needs_background": "light"
     },
     "output_type": "display_data"
    }
   ],
   "source": [
    "games_new[['total_sales', 'genre']].boxplot(column='total_sales', by='genre', figsize=(10,5))\n",
    "plt.xlabel('Жанр')\n",
    "plt.ylabel('Количество проданных копий')\n",
    "plt.title('Диаграммы размаха по продажам в разных жанрах')\n",
    "plt.ylim(0, 2)\n",
    "plt.show()"
   ]
  },
  {
   "cell_type": "markdown",
   "id": "921bdb93",
   "metadata": {},
   "source": [
    "### Составьте портрет пользователя каждого региона"
   ]
  },
  {
   "cell_type": "markdown",
   "id": "4efe42cc",
   "metadata": {},
   "source": [
    "*1.Самые популярные платформы*"
   ]
  },
  {
   "cell_type": "code",
   "execution_count": 60,
   "id": "b974fdb4",
   "metadata": {},
   "outputs": [
    {
     "data": {
      "text/html": [
       "<div>\n",
       "<style scoped>\n",
       "    .dataframe tbody tr th:only-of-type {\n",
       "        vertical-align: middle;\n",
       "    }\n",
       "\n",
       "    .dataframe tbody tr th {\n",
       "        vertical-align: top;\n",
       "    }\n",
       "\n",
       "    .dataframe thead th {\n",
       "        text-align: right;\n",
       "    }\n",
       "</style>\n",
       "<table border=\"1\" class=\"dataframe\">\n",
       "  <thead>\n",
       "    <tr style=\"text-align: right;\">\n",
       "      <th></th>\n",
       "      <th>na_sales</th>\n",
       "    </tr>\n",
       "    <tr>\n",
       "      <th>platform</th>\n",
       "      <th></th>\n",
       "    </tr>\n",
       "  </thead>\n",
       "  <tbody>\n",
       "    <tr>\n",
       "      <th>PS4</th>\n",
       "      <td>98.61</td>\n",
       "    </tr>\n",
       "    <tr>\n",
       "      <th>XOne</th>\n",
       "      <td>81.27</td>\n",
       "    </tr>\n",
       "    <tr>\n",
       "      <th>X360</th>\n",
       "      <td>28.30</td>\n",
       "    </tr>\n",
       "    <tr>\n",
       "      <th>3DS</th>\n",
       "      <td>22.64</td>\n",
       "    </tr>\n",
       "    <tr>\n",
       "      <th>PS3</th>\n",
       "      <td>22.05</td>\n",
       "    </tr>\n",
       "  </tbody>\n",
       "</table>\n",
       "</div>"
      ],
      "text/plain": [
       "          na_sales\n",
       "platform          \n",
       "PS4          98.61\n",
       "XOne         81.27\n",
       "X360         28.30\n",
       "3DS          22.64\n",
       "PS3          22.05"
      ]
     },
     "execution_count": 60,
     "metadata": {},
     "output_type": "execute_result"
    }
   ],
   "source": [
    "games_new.pivot_table(index = 'platform', values = 'na_sales', aggfunc = 'sum').sort_values(ascending=False, by = 'na_sales').head()"
   ]
  },
  {
   "cell_type": "code",
   "execution_count": 61,
   "id": "b78d21c0",
   "metadata": {
    "scrolled": false
   },
   "outputs": [
    {
     "data": {
      "image/png": "[encoded data removed]",
      "text/plain": [
       "<Figure size 1080x360 with 1 Axes>"
      ]
     },
     "metadata": {
      "needs_background": "light"
     },
     "output_type": "display_data"
    }
   ],
   "source": [
    "games_new.pivot_table(index = 'platform', values = 'na_sales', aggfunc = 'sum').sort_values(ascending=False, by = 'na_sales').head().plot(kind = 'bar', figsize=(15,5));"
   ]
  },
  {
   "cell_type": "markdown",
   "id": "80c5ab6a",
   "metadata": {},
   "source": [
    "Пользователи Северной Америки предпочитают PS4, XOne"
   ]
  },
  {
   "cell_type": "code",
   "execution_count": 62,
   "id": "1da1ebfa",
   "metadata": {},
   "outputs": [
    {
     "data": {
      "text/html": [
       "<div>\n",
       "<style scoped>\n",
       "    .dataframe tbody tr th:only-of-type {\n",
       "        vertical-align: middle;\n",
       "    }\n",
       "\n",
       "    .dataframe tbody tr th {\n",
       "        vertical-align: top;\n",
       "    }\n",
       "\n",
       "    .dataframe thead th {\n",
       "        text-align: right;\n",
       "    }\n",
       "</style>\n",
       "<table border=\"1\" class=\"dataframe\">\n",
       "  <thead>\n",
       "    <tr style=\"text-align: right;\">\n",
       "      <th></th>\n",
       "      <th>eu_sales</th>\n",
       "    </tr>\n",
       "    <tr>\n",
       "      <th>platform</th>\n",
       "      <th></th>\n",
       "    </tr>\n",
       "  </thead>\n",
       "  <tbody>\n",
       "    <tr>\n",
       "      <th>PS4</th>\n",
       "      <td>130.04</td>\n",
       "    </tr>\n",
       "    <tr>\n",
       "      <th>XOne</th>\n",
       "      <td>46.25</td>\n",
       "    </tr>\n",
       "    <tr>\n",
       "      <th>PS3</th>\n",
       "      <td>25.54</td>\n",
       "    </tr>\n",
       "    <tr>\n",
       "      <th>PC</th>\n",
       "      <td>17.97</td>\n",
       "    </tr>\n",
       "    <tr>\n",
       "      <th>3DS</th>\n",
       "      <td>16.12</td>\n",
       "    </tr>\n",
       "  </tbody>\n",
       "</table>\n",
       "</div>"
      ],
      "text/plain": [
       "          eu_sales\n",
       "platform          \n",
       "PS4         130.04\n",
       "XOne         46.25\n",
       "PS3          25.54\n",
       "PC           17.97\n",
       "3DS          16.12"
      ]
     },
     "execution_count": 62,
     "metadata": {},
     "output_type": "execute_result"
    }
   ],
   "source": [
    "games_new.pivot_table(index = 'platform', values = 'eu_sales', aggfunc = 'sum').sort_values(ascending=False, by = 'eu_sales').head()"
   ]
  },
  {
   "cell_type": "code",
   "execution_count": 63,
   "id": "ca965578",
   "metadata": {
    "scrolled": false
   },
   "outputs": [
    {
     "data": {
      "image/png": "[encoded data removed]",
      "text/plain": [
       "<Figure size 1080x360 with 1 Axes>"
      ]
     },
     "metadata": {
      "needs_background": "light"
     },
     "output_type": "display_data"
    }
   ],
   "source": [
    "games_new.pivot_table(index = 'platform', values = 'eu_sales', aggfunc = 'sum').sort_values(ascending=False, by = 'eu_sales').head().plot(kind = 'bar', figsize=(15,5));"
   ]
  },
  {
   "cell_type": "markdown",
   "id": "6fbbe024",
   "metadata": {},
   "source": [
    "Самые популярные в Европе PS4"
   ]
  },
  {
   "cell_type": "code",
   "execution_count": 64,
   "id": "ac5229df",
   "metadata": {},
   "outputs": [
    {
     "data": {
      "text/html": [
       "<div>\n",
       "<style scoped>\n",
       "    .dataframe tbody tr th:only-of-type {\n",
       "        vertical-align: middle;\n",
       "    }\n",
       "\n",
       "    .dataframe tbody tr th {\n",
       "        vertical-align: top;\n",
       "    }\n",
       "\n",
       "    .dataframe thead th {\n",
       "        text-align: right;\n",
       "    }\n",
       "</style>\n",
       "<table border=\"1\" class=\"dataframe\">\n",
       "  <thead>\n",
       "    <tr style=\"text-align: right;\">\n",
       "      <th></th>\n",
       "      <th>jp_sales</th>\n",
       "    </tr>\n",
       "    <tr>\n",
       "      <th>platform</th>\n",
       "      <th></th>\n",
       "    </tr>\n",
       "  </thead>\n",
       "  <tbody>\n",
       "    <tr>\n",
       "      <th>3DS</th>\n",
       "      <td>44.24</td>\n",
       "    </tr>\n",
       "    <tr>\n",
       "      <th>PS4</th>\n",
       "      <td>15.02</td>\n",
       "    </tr>\n",
       "    <tr>\n",
       "      <th>PSV</th>\n",
       "      <td>14.54</td>\n",
       "    </tr>\n",
       "    <tr>\n",
       "      <th>PS3</th>\n",
       "      <td>11.22</td>\n",
       "    </tr>\n",
       "    <tr>\n",
       "      <th>WiiU</th>\n",
       "      <td>7.31</td>\n",
       "    </tr>\n",
       "  </tbody>\n",
       "</table>\n",
       "</div>"
      ],
      "text/plain": [
       "          jp_sales\n",
       "platform          \n",
       "3DS          44.24\n",
       "PS4          15.02\n",
       "PSV          14.54\n",
       "PS3          11.22\n",
       "WiiU          7.31"
      ]
     },
     "execution_count": 64,
     "metadata": {},
     "output_type": "execute_result"
    }
   ],
   "source": [
    "games_new.pivot_table(index = 'platform', values = 'jp_sales', aggfunc = 'sum').sort_values(ascending=False, by = 'jp_sales').head()"
   ]
  },
  {
   "cell_type": "code",
   "execution_count": 65,
   "id": "de139fd2",
   "metadata": {},
   "outputs": [
    {
     "data": {
      "image/png": "[encoded data removed]",
      "text/plain": [
       "<Figure size 1080x360 with 1 Axes>"
      ]
     },
     "metadata": {
      "needs_background": "light"
     },
     "output_type": "display_data"
    }
   ],
   "source": [
    "games_new.pivot_table(index = 'platform', values = 'jp_sales', aggfunc = 'sum').sort_values(ascending=False, by = 'jp_sales').head().plot(kind = 'bar', figsize=(15,5));"
   ]
  },
  {
   "cell_type": "markdown",
   "id": "6139a622",
   "metadata": {},
   "source": [
    "В Японии в приоритете платформа 3DS, возмонжо потому что она японская"
   ]
  },
  {
   "cell_type": "markdown",
   "id": "efef3879",
   "metadata": {},
   "source": [
    "*2.Самые популярные жанры*"
   ]
  },
  {
   "cell_type": "code",
   "execution_count": 66,
   "id": "8f7d3ec0",
   "metadata": {},
   "outputs": [
    {
     "data": {
      "text/html": [
       "<div>\n",
       "<style scoped>\n",
       "    .dataframe tbody tr th:only-of-type {\n",
       "        vertical-align: middle;\n",
       "    }\n",
       "\n",
       "    .dataframe tbody tr th {\n",
       "        vertical-align: top;\n",
       "    }\n",
       "\n",
       "    .dataframe thead th {\n",
       "        text-align: right;\n",
       "    }\n",
       "</style>\n",
       "<table border=\"1\" class=\"dataframe\">\n",
       "  <thead>\n",
       "    <tr style=\"text-align: right;\">\n",
       "      <th></th>\n",
       "      <th>na_sales</th>\n",
       "    </tr>\n",
       "    <tr>\n",
       "      <th>genre</th>\n",
       "      <th></th>\n",
       "    </tr>\n",
       "  </thead>\n",
       "  <tbody>\n",
       "    <tr>\n",
       "      <th>Shooter</th>\n",
       "      <td>79.02</td>\n",
       "    </tr>\n",
       "    <tr>\n",
       "      <th>Action</th>\n",
       "      <td>72.53</td>\n",
       "    </tr>\n",
       "    <tr>\n",
       "      <th>Sports</th>\n",
       "      <td>46.13</td>\n",
       "    </tr>\n",
       "    <tr>\n",
       "      <th>Role-Playing</th>\n",
       "      <td>33.47</td>\n",
       "    </tr>\n",
       "    <tr>\n",
       "      <th>Misc</th>\n",
       "      <td>15.05</td>\n",
       "    </tr>\n",
       "  </tbody>\n",
       "</table>\n",
       "</div>"
      ],
      "text/plain": [
       "              na_sales\n",
       "genre                 \n",
       "Shooter          79.02\n",
       "Action           72.53\n",
       "Sports           46.13\n",
       "Role-Playing     33.47\n",
       "Misc             15.05"
      ]
     },
     "execution_count": 66,
     "metadata": {},
     "output_type": "execute_result"
    }
   ],
   "source": [
    "games_new.pivot_table(index = 'genre', values = 'na_sales', aggfunc = 'sum').sort_values(ascending=False, by = 'na_sales').head()"
   ]
  },
  {
   "cell_type": "code",
   "execution_count": 67,
   "id": "e119d310",
   "metadata": {},
   "outputs": [
    {
     "data": {
      "text/html": [
       "<div>\n",
       "<style scoped>\n",
       "    .dataframe tbody tr th:only-of-type {\n",
       "        vertical-align: middle;\n",
       "    }\n",
       "\n",
       "    .dataframe tbody tr th {\n",
       "        vertical-align: top;\n",
       "    }\n",
       "\n",
       "    .dataframe thead th {\n",
       "        text-align: right;\n",
       "    }\n",
       "</style>\n",
       "<table border=\"1\" class=\"dataframe\">\n",
       "  <thead>\n",
       "    <tr style=\"text-align: right;\">\n",
       "      <th></th>\n",
       "      <th>eu_sales</th>\n",
       "    </tr>\n",
       "    <tr>\n",
       "      <th>genre</th>\n",
       "      <th></th>\n",
       "    </tr>\n",
       "  </thead>\n",
       "  <tbody>\n",
       "    <tr>\n",
       "      <th>Action</th>\n",
       "      <td>74.68</td>\n",
       "    </tr>\n",
       "    <tr>\n",
       "      <th>Shooter</th>\n",
       "      <td>65.52</td>\n",
       "    </tr>\n",
       "    <tr>\n",
       "      <th>Sports</th>\n",
       "      <td>45.73</td>\n",
       "    </tr>\n",
       "    <tr>\n",
       "      <th>Role-Playing</th>\n",
       "      <td>28.17</td>\n",
       "    </tr>\n",
       "    <tr>\n",
       "      <th>Racing</th>\n",
       "      <td>14.13</td>\n",
       "    </tr>\n",
       "  </tbody>\n",
       "</table>\n",
       "</div>"
      ],
      "text/plain": [
       "              eu_sales\n",
       "genre                 \n",
       "Action           74.68\n",
       "Shooter          65.52\n",
       "Sports           45.73\n",
       "Role-Playing     28.17\n",
       "Racing           14.13"
      ]
     },
     "execution_count": 67,
     "metadata": {},
     "output_type": "execute_result"
    }
   ],
   "source": [
    "games_new.pivot_table(index = 'genre', values = 'eu_sales', aggfunc = 'sum').sort_values(ascending=False, by = 'eu_sales').head()"
   ]
  },
  {
   "cell_type": "code",
   "execution_count": 68,
   "id": "7bfa5509",
   "metadata": {},
   "outputs": [
    {
     "data": {
      "text/html": [
       "<div>\n",
       "<style scoped>\n",
       "    .dataframe tbody tr th:only-of-type {\n",
       "        vertical-align: middle;\n",
       "    }\n",
       "\n",
       "    .dataframe tbody tr th {\n",
       "        vertical-align: top;\n",
       "    }\n",
       "\n",
       "    .dataframe thead th {\n",
       "        text-align: right;\n",
       "    }\n",
       "</style>\n",
       "<table border=\"1\" class=\"dataframe\">\n",
       "  <thead>\n",
       "    <tr style=\"text-align: right;\">\n",
       "      <th></th>\n",
       "      <th>jp_sales</th>\n",
       "    </tr>\n",
       "    <tr>\n",
       "      <th>genre</th>\n",
       "      <th></th>\n",
       "    </tr>\n",
       "  </thead>\n",
       "  <tbody>\n",
       "    <tr>\n",
       "      <th>Role-Playing</th>\n",
       "      <td>31.16</td>\n",
       "    </tr>\n",
       "    <tr>\n",
       "      <th>Action</th>\n",
       "      <td>29.58</td>\n",
       "    </tr>\n",
       "    <tr>\n",
       "      <th>Fighting</th>\n",
       "      <td>6.37</td>\n",
       "    </tr>\n",
       "    <tr>\n",
       "      <th>Misc</th>\n",
       "      <td>5.61</td>\n",
       "    </tr>\n",
       "    <tr>\n",
       "      <th>Shooter</th>\n",
       "      <td>4.87</td>\n",
       "    </tr>\n",
       "  </tbody>\n",
       "</table>\n",
       "</div>"
      ],
      "text/plain": [
       "              jp_sales\n",
       "genre                 \n",
       "Role-Playing     31.16\n",
       "Action           29.58\n",
       "Fighting          6.37\n",
       "Misc              5.61\n",
       "Shooter           4.87"
      ]
     },
     "execution_count": 68,
     "metadata": {},
     "output_type": "execute_result"
    }
   ],
   "source": [
    "games_new.pivot_table(index = 'genre', values = 'jp_sales', aggfunc = 'sum').sort_values(ascending=False, by = 'jp_sales').head()"
   ]
  },
  {
   "cell_type": "markdown",
   "id": "59d90211",
   "metadata": {},
   "source": [
    "В Северной Америке и Европе пользователи отдают предпочтения одним жанрам: Shooter, Action, Sports. В отличие от них в Японии самый популярный жанр Role-Playing, но они также отдают предпочтение Action на 2 месте\n"
   ]
  },
  {
   "cell_type": "markdown",
   "id": "0c06c3b3",
   "metadata": {},
   "source": [
    "*3. Влияет ли рейтинг ESRB на продажи в отдельном регионе?*"
   ]
  },
  {
   "cell_type": "code",
   "execution_count": 69,
   "id": "5f403783",
   "metadata": {},
   "outputs": [
    {
     "data": {
      "text/html": [
       "<div>\n",
       "<style scoped>\n",
       "    .dataframe tbody tr th:only-of-type {\n",
       "        vertical-align: middle;\n",
       "    }\n",
       "\n",
       "    .dataframe tbody tr th {\n",
       "        vertical-align: top;\n",
       "    }\n",
       "\n",
       "    .dataframe thead th {\n",
       "        text-align: right;\n",
       "    }\n",
       "</style>\n",
       "<table border=\"1\" class=\"dataframe\">\n",
       "  <thead>\n",
       "    <tr style=\"text-align: right;\">\n",
       "      <th></th>\n",
       "      <th>eu_sales</th>\n",
       "      <th>jp_sales</th>\n",
       "      <th>na_sales</th>\n",
       "    </tr>\n",
       "    <tr>\n",
       "      <th>rating</th>\n",
       "      <th></th>\n",
       "      <th></th>\n",
       "      <th></th>\n",
       "    </tr>\n",
       "  </thead>\n",
       "  <tbody>\n",
       "    <tr>\n",
       "      <th>E</th>\n",
       "      <td>58.06</td>\n",
       "      <td>8.94</td>\n",
       "      <td>50.74</td>\n",
       "    </tr>\n",
       "    <tr>\n",
       "      <th>E10+</th>\n",
       "      <td>26.16</td>\n",
       "      <td>4.46</td>\n",
       "      <td>33.23</td>\n",
       "    </tr>\n",
       "    <tr>\n",
       "      <th>M</th>\n",
       "      <td>93.44</td>\n",
       "      <td>8.01</td>\n",
       "      <td>96.42</td>\n",
       "    </tr>\n",
       "    <tr>\n",
       "      <th>ND</th>\n",
       "      <td>58.95</td>\n",
       "      <td>56.90</td>\n",
       "      <td>64.72</td>\n",
       "    </tr>\n",
       "    <tr>\n",
       "      <th>T</th>\n",
       "      <td>34.07</td>\n",
       "      <td>14.78</td>\n",
       "      <td>38.95</td>\n",
       "    </tr>\n",
       "  </tbody>\n",
       "</table>\n",
       "</div>"
      ],
      "text/plain": [
       "        eu_sales  jp_sales  na_sales\n",
       "rating                              \n",
       "E          58.06      8.94     50.74\n",
       "E10+       26.16      4.46     33.23\n",
       "M          93.44      8.01     96.42\n",
       "ND         58.95     56.90     64.72\n",
       "T          34.07     14.78     38.95"
      ]
     },
     "execution_count": 69,
     "metadata": {},
     "output_type": "execute_result"
    }
   ],
   "source": [
    "ESRB = games_new.pivot_table(index = 'rating', values = ['eu_sales','jp_sales','na_sales'], aggfunc = 'sum')\n",
    "ESRB"
   ]
  },
  {
   "cell_type": "markdown",
   "id": "7872f28e",
   "metadata": {},
   "source": [
    "Рейтинг влияет на продажи в Северной Америке и Европе"
   ]
  },
  {
   "cell_type": "markdown",
   "id": "71f35382",
   "metadata": {},
   "source": [
    "### Проверьте гипотезы"
   ]
  },
  {
   "cell_type": "code",
   "execution_count": 70,
   "id": "9250e1e4",
   "metadata": {},
   "outputs": [],
   "source": [
    "games_new_nan = games_new.dropna(subset=['user_score'])"
   ]
  },
  {
   "cell_type": "markdown",
   "id": "78bc2044",
   "metadata": {},
   "source": [
    "*1.Средние пользовательские рейтинги платформ Xbox One и PC одинаковые*"
   ]
  },
  {
   "cell_type": "markdown",
   "id": "e819e1bd",
   "metadata": {},
   "source": [
    "H0: Средние пользовательские рейтинги платформ Xbox One и PC одинаковые\n",
    "\n",
    "H1: Средние пользовательские рейтинги платформ Xbox One и PC разные"
   ]
  },
  {
   "cell_type": "code",
   "execution_count": 71,
   "id": "38075f13",
   "metadata": {
    "scrolled": true
   },
   "outputs": [
    {
     "name": "stdout",
     "output_type": "stream",
     "text": [
      "p-значение: 0.10450507919348415\n",
      "Не получилось отвергнуть нулевую гипотезу\n"
     ]
    }
   ],
   "source": [
    "XOne_game = games_new_nan[games_new_nan['platform'] == 'XOne']['user_score']\n",
    "PC_game = games_new_nan[games_new_nan['platform'] == 'PC']['user_score']\n",
    "\n",
    "alpha = 0.05\n",
    "\n",
    "results = st.ttest_ind(XOne_game, PC_game)\n",
    "\n",
    "print('p-значение:', results.pvalue)\n",
    "\n",
    "\n",
    "if (results.pvalue < alpha):\n",
    "    print(\"Отвергаем нулевую гипотезу\")\n",
    "else:\n",
    "    print(\"Не получилось отвергнуть нулевую гипотезу\")"
   ]
  },
  {
   "cell_type": "markdown",
   "id": "7d327882",
   "metadata": {},
   "source": [
    "Средние пользовательские рейтинги платформ Xbox One и PC одинаковые"
   ]
  },
  {
   "cell_type": "code",
   "execution_count": 72,
   "id": "cb232ed5",
   "metadata": {},
   "outputs": [
    {
     "name": "stdout",
     "output_type": "stream",
     "text": [
      "p-значение: 0.1912450522572209\n",
      "Не получилось отвергнуть нулевую гипотезу\n"
     ]
    }
   ],
   "source": [
    "sample_1 = [3071, 3636, 3454, 3151, 2185, 3259, 1727, 2263, 2015,\n",
    "2582, 4815, 633, 3186, 887, 2028, 3589, 2564, 1422, 1785,\n",
    "3180, 1770, 2716, 2546, 1848, 4644, 3134, 475, 2686,\n",
    "1838, 3352]\n",
    "sample_2 = [1211, 1228, 2157, 3699, 600, 1898, 1688, 1420, 5048, 3007,\n",
    "509, 3777, 5583, 3949, 121, 1674, 4300, 1338, 3066,\n",
    "3562, 1010, 2311, 462, 863, 2021, 528, 1849, 255,\n",
    "1740, 2596]\n",
    "alpha = .05 \n",
    "results = st.ttest_ind(\n",
    "sample_1,\n",
    "sample_2)\n",
    "print('p-значение:', results.pvalue)\n",
    "if (results.pvalue < alpha):\n",
    "    print(\"Отвергаем нулевую гипотезу\")\n",
    "else:\n",
    "\n",
    "    print(\"Не получилось отвергнуть нулевую гипотезу\")"
   ]
  },
  {
   "cell_type": "markdown",
   "id": "b9bfa997",
   "metadata": {},
   "source": [
    "*2.Средние пользовательские рейтинги жанров Action*"
   ]
  },
  {
   "cell_type": "markdown",
   "id": "d8d44ee2",
   "metadata": {},
   "source": [
    "H0: Средние пользовательские рейтинги жанров Action (англ. «действие», экшен-игры) и Sports (англ. «спортивные соревнования») одинаковые\n",
    "\n",
    "H1: Средние пользовательские рейтинги жанров Action (англ. «действие», экшен-игры) и Sports (англ. «спортивные соревнования») разные"
   ]
  },
  {
   "cell_type": "code",
   "execution_count": 73,
   "id": "b77aefc4",
   "metadata": {
    "scrolled": true
   },
   "outputs": [
    {
     "name": "stdout",
     "output_type": "stream",
     "text": [
      "p-значение: 2.8711147985105864e-19\n",
      "Отвергаем нулевую гипотезу\n"
     ]
    }
   ],
   "source": [
    "Action = games_new_nan[games_new_nan['genre'] == 'Action']['user_score']\n",
    "Sports = games_new_nan[games_new_nan['genre'] == 'Sports']['user_score']\n",
    "\n",
    "alpha = .05\n",
    "\n",
    "results = st.ttest_ind(Action, Sports)\n",
    "\n",
    "print('p-значение:', results.pvalue)\n",
    "\n",
    "\n",
    "if (results.pvalue < alpha):\n",
    "    print(\"Отвергаем нулевую гипотезу\")\n",
    "else:\n",
    "    print(\"Не получилось отвергнуть нулевую гипотезу\")"
   ]
  },
  {
   "cell_type": "markdown",
   "id": "96b96330",
   "metadata": {},
   "source": [
    "Средние пользовательские рейтинги жанров Action и Sports разные"
   ]
  },
  {
   "cell_type": "markdown",
   "id": "8908099c",
   "metadata": {},
   "source": [
    "### Общий вывод"
   ]
  },
  {
   "cell_type": "markdown",
   "id": "d7a344eb",
   "metadata": {},
   "source": [
    "Было проведено исследование данных продаж игр для разных платформ:\n",
    "\n",
    "1. По результатам исследования получены данные о том, что среднее время актуального присутствия платформы на рынке составляет примерно 10 лет.\n",
    "2. Наиболее популярные по продажам за всё время платформы: PS2, X360, PS3, Wii, DS. Большинство платформ появилось в 2000-х.\n",
    "3. На основании данных за последние 3 года, лидируют по продажам: PS4, XOne. PC имеет тенденцию к росту к 2016 году\n",
    "4. По платформам PS4, XOne можно сказать, что оценки критиков влияют на продажи, в отличие от оценок пользователей, которые не принимают во внимание\n",
    "5. Можно выделить жанры с с высокими продажами: Action, Shooter, Sports, и с низкими: Strategy, Puzzle\n",
    "6. Пользователи Северной Америки предпочитают PS4, XOne, cамые популярные в Европе PS4, в Японии в приоритете платформа 3DS, возмонжо потому что она японская\n",
    "7. В Северной Америке и Европе пользователи отдают предпочтения одним жанрам: Shooter, Action, Sports. В отличие от них в Японии самый популярный жанр Role-Playing, но они также отдают предпочтение Action на 2 месте\n"
   ]
  }
 ],
 "metadata": {
  "ExecuteTimeLog": [
   {
    "duration": 1267,
    "start_time": "2023-02-23T11:54:48.818Z"
   },
   {
    "duration": 102,
    "start_time": "2023-02-23T11:54:50.088Z"
   },
   {
    "duration": 23,
    "start_time": "2023-02-23T11:54:50.192Z"
   },
   {
    "duration": 29,
    "start_time": "2023-02-23T11:54:50.218Z"
   },
   {
    "duration": 33,
    "start_time": "2023-02-23T11:54:50.249Z"
   },
   {
    "duration": 12,
    "start_time": "2023-02-23T11:54:50.284Z"
   },
   {
    "duration": 45,
    "start_time": "2023-02-23T11:54:50.298Z"
   },
   {
    "duration": 7,
    "start_time": "2023-02-23T11:54:50.345Z"
   },
   {
    "duration": 211,
    "start_time": "2023-02-23T11:54:50.354Z"
   },
   {
    "duration": 22,
    "start_time": "2023-02-23T11:54:50.569Z"
   },
   {
    "duration": 16,
    "start_time": "2023-02-23T11:54:50.593Z"
   },
   {
    "duration": 25,
    "start_time": "2023-02-23T11:54:50.611Z"
   },
   {
    "duration": 17,
    "start_time": "2023-02-23T11:54:50.638Z"
   },
   {
    "duration": 6,
    "start_time": "2023-02-23T11:54:50.657Z"
   },
   {
    "duration": 53,
    "start_time": "2023-02-23T11:54:50.664Z"
   },
   {
    "duration": 29,
    "start_time": "2023-02-23T11:54:50.719Z"
   },
   {
    "duration": 17,
    "start_time": "2023-02-23T11:54:50.750Z"
   },
   {
    "duration": 165,
    "start_time": "2023-02-23T11:54:50.768Z"
   },
   {
    "duration": 13,
    "start_time": "2023-02-23T11:54:50.935Z"
   },
   {
    "duration": 323,
    "start_time": "2023-02-23T11:54:50.950Z"
   },
   {
    "duration": 162,
    "start_time": "2023-02-23T11:54:51.275Z"
   },
   {
    "duration": 204,
    "start_time": "2023-02-23T11:54:51.440Z"
   },
   {
    "duration": 157,
    "start_time": "2023-02-23T11:54:51.645Z"
   },
   {
    "duration": 166,
    "start_time": "2023-02-23T11:54:51.803Z"
   },
   {
    "duration": 263,
    "start_time": "2023-02-23T11:54:51.971Z"
   },
   {
    "duration": 185,
    "start_time": "2023-02-23T11:54:52.239Z"
   },
   {
    "duration": 174,
    "start_time": "2023-02-23T11:54:52.426Z"
   },
   {
    "duration": 192,
    "start_time": "2023-02-23T11:54:52.605Z"
   },
   {
    "duration": 174,
    "start_time": "2023-02-23T11:54:52.799Z"
   },
   {
    "duration": 169,
    "start_time": "2023-02-23T11:54:52.975Z"
   },
   {
    "duration": 7,
    "start_time": "2023-02-23T11:54:53.145Z"
   },
   {
    "duration": 24,
    "start_time": "2023-02-23T11:54:53.154Z"
   },
   {
    "duration": 11,
    "start_time": "2023-02-23T11:54:53.180Z"
   },
   {
    "duration": 236,
    "start_time": "2023-02-23T11:54:53.193Z"
   },
   {
    "duration": 157,
    "start_time": "2023-02-23T11:54:53.431Z"
   },
   {
    "duration": 172,
    "start_time": "2023-02-23T11:54:53.590Z"
   },
   {
    "duration": 168,
    "start_time": "2023-02-23T11:54:53.764Z"
   },
   {
    "duration": 345,
    "start_time": "2023-02-23T11:54:53.934Z"
   },
   {
    "duration": 221,
    "start_time": "2023-02-23T11:54:54.281Z"
   },
   {
    "duration": 23,
    "start_time": "2023-02-23T11:54:54.504Z"
   },
   {
    "duration": 257,
    "start_time": "2023-02-23T11:54:54.529Z"
   },
   {
    "duration": 11,
    "start_time": "2023-02-23T11:54:54.788Z"
   },
   {
    "duration": 191,
    "start_time": "2023-02-23T11:54:54.800Z"
   },
   {
    "duration": 9,
    "start_time": "2023-02-23T11:54:54.994Z"
   },
   {
    "duration": 423,
    "start_time": "2023-02-23T11:54:55.004Z"
   },
   {
    "duration": 19,
    "start_time": "2023-02-23T11:54:55.430Z"
   },
   {
    "duration": 18,
    "start_time": "2023-02-23T11:54:55.451Z"
   },
   {
    "duration": 185,
    "start_time": "2023-02-23T11:54:55.471Z"
   },
   {
    "duration": 15,
    "start_time": "2023-02-23T11:54:55.658Z"
   },
   {
    "duration": 203,
    "start_time": "2023-02-23T11:54:55.675Z"
   },
   {
    "duration": 19,
    "start_time": "2023-02-23T11:54:55.881Z"
   },
   {
    "duration": 182,
    "start_time": "2023-02-23T11:54:55.902Z"
   },
   {
    "duration": 16,
    "start_time": "2023-02-23T11:54:56.085Z"
   },
   {
    "duration": 39,
    "start_time": "2023-02-23T11:54:56.103Z"
   },
   {
    "duration": 15,
    "start_time": "2023-02-23T11:54:56.144Z"
   },
   {
    "duration": 17,
    "start_time": "2023-02-23T11:54:56.161Z"
   },
   {
    "duration": 7,
    "start_time": "2023-02-23T11:54:56.180Z"
   },
   {
    "duration": 57,
    "start_time": "2023-02-23T11:54:56.189Z"
   },
   {
    "duration": 12,
    "start_time": "2023-02-23T11:54:56.248Z"
   },
   {
    "duration": 58,
    "start_time": "2023-02-23T19:03:38.929Z"
   },
   {
    "duration": 5,
    "start_time": "2023-02-23T19:03:42.418Z"
   },
   {
    "duration": 5,
    "start_time": "2023-02-23T19:03:43.016Z"
   },
   {
    "duration": 1369,
    "start_time": "2023-02-23T19:04:03.799Z"
   },
   {
    "duration": 133,
    "start_time": "2023-02-23T19:04:05.170Z"
   },
   {
    "duration": 25,
    "start_time": "2023-02-23T19:04:05.305Z"
   },
   {
    "duration": 18,
    "start_time": "2023-02-23T19:04:05.335Z"
   },
   {
    "duration": 32,
    "start_time": "2023-02-23T19:04:05.354Z"
   },
   {
    "duration": 9,
    "start_time": "2023-02-23T19:04:05.388Z"
   },
   {
    "duration": 44,
    "start_time": "2023-02-23T19:04:05.399Z"
   },
   {
    "duration": 5,
    "start_time": "2023-02-23T19:04:05.444Z"
   },
   {
    "duration": 196,
    "start_time": "2023-02-23T19:04:05.450Z"
   },
   {
    "duration": 15,
    "start_time": "2023-02-23T19:04:05.649Z"
   },
   {
    "duration": 3,
    "start_time": "2023-02-23T19:04:05.665Z"
   },
   {
    "duration": 8,
    "start_time": "2023-02-23T19:04:05.670Z"
   },
   {
    "duration": 10,
    "start_time": "2023-02-23T19:04:05.680Z"
   },
   {
    "duration": 4,
    "start_time": "2023-02-23T19:04:05.691Z"
   },
   {
    "duration": 50,
    "start_time": "2023-02-23T19:04:05.697Z"
   },
   {
    "duration": 13,
    "start_time": "2023-02-23T19:04:05.749Z"
   },
   {
    "duration": 7,
    "start_time": "2023-02-23T19:04:05.764Z"
   },
   {
    "duration": 186,
    "start_time": "2023-02-23T19:04:05.773Z"
   },
   {
    "duration": 11,
    "start_time": "2023-02-23T19:04:05.961Z"
   },
   {
    "duration": 298,
    "start_time": "2023-02-23T19:04:05.974Z"
   },
   {
    "duration": 175,
    "start_time": "2023-02-23T19:04:06.274Z"
   },
   {
    "duration": 203,
    "start_time": "2023-02-23T19:04:06.451Z"
   },
   {
    "duration": 149,
    "start_time": "2023-02-23T19:04:06.660Z"
   },
   {
    "duration": 181,
    "start_time": "2023-02-23T19:04:06.811Z"
   },
   {
    "duration": 244,
    "start_time": "2023-02-23T19:04:06.995Z"
   },
   {
    "duration": 184,
    "start_time": "2023-02-23T19:04:07.243Z"
   },
   {
    "duration": 183,
    "start_time": "2023-02-23T19:04:07.429Z"
   },
   {
    "duration": 172,
    "start_time": "2023-02-23T19:04:07.616Z"
   },
   {
    "duration": 183,
    "start_time": "2023-02-23T19:04:07.790Z"
   },
   {
    "duration": 167,
    "start_time": "2023-02-23T19:04:07.975Z"
   },
   {
    "duration": 7,
    "start_time": "2023-02-23T19:04:08.144Z"
   },
   {
    "duration": 16,
    "start_time": "2023-02-23T19:04:08.153Z"
   },
   {
    "duration": 8,
    "start_time": "2023-02-23T19:04:08.171Z"
   },
   {
    "duration": 178,
    "start_time": "2023-02-23T19:04:08.180Z"
   },
   {
    "duration": 162,
    "start_time": "2023-02-23T19:04:08.360Z"
   },
   {
    "duration": 184,
    "start_time": "2023-02-23T19:04:08.523Z"
   },
   {
    "duration": 157,
    "start_time": "2023-02-23T19:04:08.709Z"
   },
   {
    "duration": 347,
    "start_time": "2023-02-23T19:04:08.868Z"
   },
   {
    "duration": 168,
    "start_time": "2023-02-23T19:04:09.217Z"
   },
   {
    "duration": 8,
    "start_time": "2023-02-23T19:04:09.387Z"
   },
   {
    "duration": 181,
    "start_time": "2023-02-23T19:04:09.397Z"
   },
   {
    "duration": 8,
    "start_time": "2023-02-23T19:04:09.580Z"
   },
   {
    "duration": 181,
    "start_time": "2023-02-23T19:04:09.590Z"
   },
   {
    "duration": 8,
    "start_time": "2023-02-23T19:04:09.773Z"
   },
   {
    "duration": 389,
    "start_time": "2023-02-23T19:04:09.782Z"
   },
   {
    "duration": 14,
    "start_time": "2023-02-23T19:04:10.172Z"
   },
   {
    "duration": 16,
    "start_time": "2023-02-23T19:04:10.188Z"
   },
   {
    "duration": 240,
    "start_time": "2023-02-23T19:04:10.214Z"
   },
   {
    "duration": 16,
    "start_time": "2023-02-23T19:04:10.455Z"
   },
   {
    "duration": 209,
    "start_time": "2023-02-23T19:04:10.473Z"
   },
   {
    "duration": 19,
    "start_time": "2023-02-23T19:04:10.684Z"
   },
   {
    "duration": 182,
    "start_time": "2023-02-23T19:04:10.704Z"
   },
   {
    "duration": 14,
    "start_time": "2023-02-23T19:04:10.888Z"
   },
   {
    "duration": 15,
    "start_time": "2023-02-23T19:04:10.903Z"
   },
   {
    "duration": 24,
    "start_time": "2023-02-23T19:04:10.920Z"
   },
   {
    "duration": 28,
    "start_time": "2023-02-23T19:04:10.946Z"
   },
   {
    "duration": 7,
    "start_time": "2023-02-23T19:04:10.976Z"
   },
   {
    "duration": 8,
    "start_time": "2023-02-23T19:04:10.985Z"
   },
   {
    "duration": 9,
    "start_time": "2023-02-23T19:04:10.995Z"
   },
   {
    "duration": 10,
    "start_time": "2023-02-23T19:08:05.565Z"
   },
   {
    "duration": 7,
    "start_time": "2023-02-23T19:08:17.396Z"
   },
   {
    "duration": 6,
    "start_time": "2023-02-23T19:08:44.870Z"
   },
   {
    "duration": 6,
    "start_time": "2023-02-23T19:08:51.166Z"
   },
   {
    "duration": 9,
    "start_time": "2023-02-23T19:09:57.761Z"
   },
   {
    "duration": 8,
    "start_time": "2023-02-23T19:10:04.089Z"
   },
   {
    "duration": 5,
    "start_time": "2023-02-23T19:17:41.671Z"
   },
   {
    "duration": 4,
    "start_time": "2023-02-23T19:18:29.253Z"
   },
   {
    "duration": 8,
    "start_time": "2023-02-23T19:18:33.281Z"
   },
   {
    "duration": 5,
    "start_time": "2023-02-23T19:18:35.569Z"
   },
   {
    "duration": 15,
    "start_time": "2023-02-23T19:18:36.064Z"
   },
   {
    "duration": 7,
    "start_time": "2023-02-23T19:18:42.835Z"
   },
   {
    "duration": 18,
    "start_time": "2023-02-23T19:18:43.625Z"
   },
   {
    "duration": 178,
    "start_time": "2023-02-23T19:20:16.128Z"
   },
   {
    "duration": 171,
    "start_time": "2023-02-23T19:20:44.479Z"
   },
   {
    "duration": 155,
    "start_time": "2023-02-23T19:21:54.385Z"
   },
   {
    "duration": 298,
    "start_time": "2023-02-23T19:26:42.784Z"
   },
   {
    "duration": 9,
    "start_time": "2023-02-23T19:28:27.557Z"
   },
   {
    "duration": 132,
    "start_time": "2023-02-23T19:29:33.813Z"
   },
   {
    "duration": 139,
    "start_time": "2023-02-23T19:29:54.871Z"
   },
   {
    "duration": 150,
    "start_time": "2023-02-23T19:30:20.509Z"
   },
   {
    "duration": 157,
    "start_time": "2023-02-23T19:30:38.918Z"
   },
   {
    "duration": 4,
    "start_time": "2023-02-23T19:30:59.059Z"
   },
   {
    "duration": 165,
    "start_time": "2023-02-23T19:31:05.615Z"
   },
   {
    "duration": 148,
    "start_time": "2023-02-23T19:31:15.315Z"
   },
   {
    "duration": 16,
    "start_time": "2023-02-23T19:32:18.195Z"
   },
   {
    "duration": 15,
    "start_time": "2023-02-23T19:42:39.318Z"
   },
   {
    "duration": 5,
    "start_time": "2023-02-23T19:55:00.922Z"
   },
   {
    "duration": 13,
    "start_time": "2023-02-23T19:55:01.567Z"
   },
   {
    "duration": 101,
    "start_time": "2023-02-23T19:56:10.968Z"
   },
   {
    "duration": 188,
    "start_time": "2023-02-23T19:56:18.273Z"
   },
   {
    "duration": 20,
    "start_time": "2023-02-23T19:57:59.889Z"
   },
   {
    "duration": 18,
    "start_time": "2023-02-23T19:58:05.205Z"
   },
   {
    "duration": 21,
    "start_time": "2023-02-23T19:58:35.390Z"
   },
   {
    "duration": 1231,
    "start_time": "2023-02-23T19:59:08.521Z"
   },
   {
    "duration": 106,
    "start_time": "2023-02-23T19:59:09.754Z"
   },
   {
    "duration": 31,
    "start_time": "2023-02-23T19:59:09.862Z"
   },
   {
    "duration": 41,
    "start_time": "2023-02-23T19:59:09.896Z"
   },
   {
    "duration": 42,
    "start_time": "2023-02-23T19:59:09.939Z"
   },
   {
    "duration": 14,
    "start_time": "2023-02-23T19:59:09.983Z"
   },
   {
    "duration": 38,
    "start_time": "2023-02-23T19:59:10.001Z"
   },
   {
    "duration": 6,
    "start_time": "2023-02-23T19:59:10.041Z"
   },
   {
    "duration": 285,
    "start_time": "2023-02-23T19:59:10.049Z"
   },
   {
    "duration": 24,
    "start_time": "2023-02-23T19:59:10.338Z"
   },
   {
    "duration": 5,
    "start_time": "2023-02-23T19:59:10.364Z"
   },
   {
    "duration": 28,
    "start_time": "2023-02-23T19:59:10.371Z"
   },
   {
    "duration": 164,
    "start_time": "2023-02-23T19:59:10.401Z"
   },
   {
    "duration": 0,
    "start_time": "2023-02-23T19:59:10.574Z"
   },
   {
    "duration": 0,
    "start_time": "2023-02-23T19:59:10.576Z"
   },
   {
    "duration": 0,
    "start_time": "2023-02-23T19:59:10.577Z"
   },
   {
    "duration": 0,
    "start_time": "2023-02-23T19:59:10.579Z"
   },
   {
    "duration": 0,
    "start_time": "2023-02-23T19:59:10.580Z"
   },
   {
    "duration": 0,
    "start_time": "2023-02-23T19:59:10.581Z"
   },
   {
    "duration": 0,
    "start_time": "2023-02-23T19:59:10.583Z"
   },
   {
    "duration": 0,
    "start_time": "2023-02-23T19:59:10.584Z"
   },
   {
    "duration": 0,
    "start_time": "2023-02-23T19:59:10.585Z"
   },
   {
    "duration": 0,
    "start_time": "2023-02-23T19:59:10.586Z"
   },
   {
    "duration": 0,
    "start_time": "2023-02-23T19:59:10.587Z"
   },
   {
    "duration": 0,
    "start_time": "2023-02-23T19:59:10.588Z"
   },
   {
    "duration": 0,
    "start_time": "2023-02-23T19:59:10.589Z"
   },
   {
    "duration": 0,
    "start_time": "2023-02-23T19:59:10.590Z"
   },
   {
    "duration": 0,
    "start_time": "2023-02-23T19:59:10.593Z"
   },
   {
    "duration": 0,
    "start_time": "2023-02-23T19:59:10.594Z"
   },
   {
    "duration": 0,
    "start_time": "2023-02-23T19:59:10.595Z"
   },
   {
    "duration": 0,
    "start_time": "2023-02-23T19:59:10.596Z"
   },
   {
    "duration": 0,
    "start_time": "2023-02-23T19:59:10.598Z"
   },
   {
    "duration": 0,
    "start_time": "2023-02-23T19:59:10.627Z"
   },
   {
    "duration": 0,
    "start_time": "2023-02-23T19:59:10.629Z"
   },
   {
    "duration": 0,
    "start_time": "2023-02-23T19:59:10.630Z"
   },
   {
    "duration": 0,
    "start_time": "2023-02-23T19:59:10.632Z"
   },
   {
    "duration": 0,
    "start_time": "2023-02-23T19:59:10.633Z"
   },
   {
    "duration": 0,
    "start_time": "2023-02-23T19:59:10.634Z"
   },
   {
    "duration": 0,
    "start_time": "2023-02-23T19:59:10.635Z"
   },
   {
    "duration": 0,
    "start_time": "2023-02-23T19:59:10.637Z"
   },
   {
    "duration": 0,
    "start_time": "2023-02-23T19:59:10.640Z"
   },
   {
    "duration": 0,
    "start_time": "2023-02-23T19:59:10.642Z"
   },
   {
    "duration": 0,
    "start_time": "2023-02-23T19:59:10.643Z"
   },
   {
    "duration": 0,
    "start_time": "2023-02-23T19:59:10.644Z"
   },
   {
    "duration": 0,
    "start_time": "2023-02-23T19:59:10.645Z"
   },
   {
    "duration": 0,
    "start_time": "2023-02-23T19:59:10.647Z"
   },
   {
    "duration": 0,
    "start_time": "2023-02-23T19:59:10.648Z"
   },
   {
    "duration": 0,
    "start_time": "2023-02-23T19:59:10.649Z"
   },
   {
    "duration": 0,
    "start_time": "2023-02-23T19:59:10.654Z"
   },
   {
    "duration": 0,
    "start_time": "2023-02-23T19:59:10.655Z"
   },
   {
    "duration": 0,
    "start_time": "2023-02-23T19:59:10.656Z"
   },
   {
    "duration": 0,
    "start_time": "2023-02-23T19:59:10.657Z"
   },
   {
    "duration": 0,
    "start_time": "2023-02-23T19:59:10.658Z"
   },
   {
    "duration": 0,
    "start_time": "2023-02-23T19:59:10.659Z"
   },
   {
    "duration": 0,
    "start_time": "2023-02-23T19:59:10.661Z"
   },
   {
    "duration": 0,
    "start_time": "2023-02-23T19:59:10.662Z"
   },
   {
    "duration": 0,
    "start_time": "2023-02-23T19:59:10.663Z"
   },
   {
    "duration": 0,
    "start_time": "2023-02-23T19:59:10.665Z"
   },
   {
    "duration": 0,
    "start_time": "2023-02-23T19:59:10.674Z"
   },
   {
    "duration": 0,
    "start_time": "2023-02-23T19:59:10.675Z"
   },
   {
    "duration": 0,
    "start_time": "2023-02-23T19:59:10.676Z"
   },
   {
    "duration": 0,
    "start_time": "2023-02-23T19:59:10.677Z"
   },
   {
    "duration": 0,
    "start_time": "2023-02-23T19:59:10.727Z"
   },
   {
    "duration": 0,
    "start_time": "2023-02-23T19:59:10.728Z"
   },
   {
    "duration": 0,
    "start_time": "2023-02-23T19:59:10.730Z"
   },
   {
    "duration": 1194,
    "start_time": "2023-02-23T20:00:22.535Z"
   },
   {
    "duration": 80,
    "start_time": "2023-02-23T20:00:23.731Z"
   },
   {
    "duration": 27,
    "start_time": "2023-02-23T20:00:23.812Z"
   },
   {
    "duration": 14,
    "start_time": "2023-02-23T20:00:23.841Z"
   },
   {
    "duration": 43,
    "start_time": "2023-02-23T20:00:23.857Z"
   },
   {
    "duration": 26,
    "start_time": "2023-02-23T20:00:23.901Z"
   },
   {
    "duration": 12,
    "start_time": "2023-02-23T20:00:23.929Z"
   },
   {
    "duration": 7,
    "start_time": "2023-02-23T20:00:23.943Z"
   },
   {
    "duration": 195,
    "start_time": "2023-02-23T20:00:23.952Z"
   },
   {
    "duration": 19,
    "start_time": "2023-02-23T20:00:24.150Z"
   },
   {
    "duration": 4,
    "start_time": "2023-02-23T20:00:24.171Z"
   },
   {
    "duration": 14,
    "start_time": "2023-02-23T20:00:24.176Z"
   },
   {
    "duration": 120,
    "start_time": "2023-02-23T20:00:24.192Z"
   },
   {
    "duration": 0,
    "start_time": "2023-02-23T20:00:24.315Z"
   },
   {
    "duration": 0,
    "start_time": "2023-02-23T20:00:24.316Z"
   },
   {
    "duration": 0,
    "start_time": "2023-02-23T20:00:24.317Z"
   },
   {
    "duration": 0,
    "start_time": "2023-02-23T20:00:24.327Z"
   },
   {
    "duration": 0,
    "start_time": "2023-02-23T20:00:24.328Z"
   },
   {
    "duration": 0,
    "start_time": "2023-02-23T20:00:24.328Z"
   },
   {
    "duration": 0,
    "start_time": "2023-02-23T20:00:24.330Z"
   },
   {
    "duration": 0,
    "start_time": "2023-02-23T20:00:24.331Z"
   },
   {
    "duration": 0,
    "start_time": "2023-02-23T20:00:24.332Z"
   },
   {
    "duration": 0,
    "start_time": "2023-02-23T20:00:24.333Z"
   },
   {
    "duration": 0,
    "start_time": "2023-02-23T20:00:24.334Z"
   },
   {
    "duration": 0,
    "start_time": "2023-02-23T20:00:24.336Z"
   },
   {
    "duration": 0,
    "start_time": "2023-02-23T20:00:24.337Z"
   },
   {
    "duration": 0,
    "start_time": "2023-02-23T20:00:24.339Z"
   },
   {
    "duration": 0,
    "start_time": "2023-02-23T20:00:24.340Z"
   },
   {
    "duration": 0,
    "start_time": "2023-02-23T20:00:24.341Z"
   },
   {
    "duration": 0,
    "start_time": "2023-02-23T20:00:24.342Z"
   },
   {
    "duration": 0,
    "start_time": "2023-02-23T20:00:24.344Z"
   },
   {
    "duration": 0,
    "start_time": "2023-02-23T20:00:24.345Z"
   },
   {
    "duration": 0,
    "start_time": "2023-02-23T20:00:24.346Z"
   },
   {
    "duration": 0,
    "start_time": "2023-02-23T20:00:24.348Z"
   },
   {
    "duration": 0,
    "start_time": "2023-02-23T20:00:24.349Z"
   },
   {
    "duration": 0,
    "start_time": "2023-02-23T20:00:24.350Z"
   },
   {
    "duration": 0,
    "start_time": "2023-02-23T20:00:24.351Z"
   },
   {
    "duration": 0,
    "start_time": "2023-02-23T20:00:24.353Z"
   },
   {
    "duration": 0,
    "start_time": "2023-02-23T20:00:24.354Z"
   },
   {
    "duration": 0,
    "start_time": "2023-02-23T20:00:24.356Z"
   },
   {
    "duration": 0,
    "start_time": "2023-02-23T20:00:24.357Z"
   },
   {
    "duration": 0,
    "start_time": "2023-02-23T20:00:24.359Z"
   },
   {
    "duration": 0,
    "start_time": "2023-02-23T20:00:24.361Z"
   },
   {
    "duration": 0,
    "start_time": "2023-02-23T20:00:24.362Z"
   },
   {
    "duration": 0,
    "start_time": "2023-02-23T20:00:24.363Z"
   },
   {
    "duration": 0,
    "start_time": "2023-02-23T20:00:24.365Z"
   },
   {
    "duration": 0,
    "start_time": "2023-02-23T20:00:24.366Z"
   },
   {
    "duration": 0,
    "start_time": "2023-02-23T20:00:24.427Z"
   },
   {
    "duration": 0,
    "start_time": "2023-02-23T20:00:24.429Z"
   },
   {
    "duration": 0,
    "start_time": "2023-02-23T20:00:24.430Z"
   },
   {
    "duration": 0,
    "start_time": "2023-02-23T20:00:24.432Z"
   },
   {
    "duration": 0,
    "start_time": "2023-02-23T20:00:24.436Z"
   },
   {
    "duration": 0,
    "start_time": "2023-02-23T20:00:24.437Z"
   },
   {
    "duration": 0,
    "start_time": "2023-02-23T20:00:24.438Z"
   },
   {
    "duration": 0,
    "start_time": "2023-02-23T20:00:24.440Z"
   },
   {
    "duration": 0,
    "start_time": "2023-02-23T20:00:24.442Z"
   },
   {
    "duration": 0,
    "start_time": "2023-02-23T20:00:24.443Z"
   },
   {
    "duration": 1,
    "start_time": "2023-02-23T20:00:24.444Z"
   },
   {
    "duration": 0,
    "start_time": "2023-02-23T20:00:24.446Z"
   },
   {
    "duration": 0,
    "start_time": "2023-02-23T20:00:24.447Z"
   },
   {
    "duration": 0,
    "start_time": "2023-02-23T20:00:24.449Z"
   },
   {
    "duration": 0,
    "start_time": "2023-02-23T20:00:24.451Z"
   },
   {
    "duration": 0,
    "start_time": "2023-02-23T20:00:24.453Z"
   },
   {
    "duration": 0,
    "start_time": "2023-02-23T20:00:24.454Z"
   },
   {
    "duration": 0,
    "start_time": "2023-02-23T20:00:24.456Z"
   },
   {
    "duration": 6,
    "start_time": "2023-02-23T20:01:40.925Z"
   },
   {
    "duration": 10,
    "start_time": "2023-02-23T20:02:21.793Z"
   },
   {
    "duration": 5,
    "start_time": "2023-02-23T20:02:26.556Z"
   },
   {
    "duration": 5,
    "start_time": "2023-02-23T20:02:52.327Z"
   },
   {
    "duration": 1215,
    "start_time": "2023-02-23T20:02:59.505Z"
   },
   {
    "duration": 100,
    "start_time": "2023-02-23T20:03:00.723Z"
   },
   {
    "duration": 25,
    "start_time": "2023-02-23T20:03:00.825Z"
   },
   {
    "duration": 27,
    "start_time": "2023-02-23T20:03:00.852Z"
   },
   {
    "duration": 37,
    "start_time": "2023-02-23T20:03:00.881Z"
   },
   {
    "duration": 13,
    "start_time": "2023-02-23T20:03:00.929Z"
   },
   {
    "duration": 42,
    "start_time": "2023-02-23T20:03:00.945Z"
   },
   {
    "duration": 29,
    "start_time": "2023-02-23T20:03:00.989Z"
   },
   {
    "duration": 307,
    "start_time": "2023-02-23T20:03:01.021Z"
   },
   {
    "duration": 25,
    "start_time": "2023-02-23T20:03:01.332Z"
   },
   {
    "duration": 3,
    "start_time": "2023-02-23T20:03:01.359Z"
   },
   {
    "duration": 13,
    "start_time": "2023-02-23T20:03:01.364Z"
   },
   {
    "duration": 6,
    "start_time": "2023-02-23T20:03:01.379Z"
   },
   {
    "duration": 43,
    "start_time": "2023-02-23T20:03:01.387Z"
   },
   {
    "duration": 6,
    "start_time": "2023-02-23T20:03:01.432Z"
   },
   {
    "duration": 35,
    "start_time": "2023-02-23T20:03:01.440Z"
   },
   {
    "duration": 9,
    "start_time": "2023-02-23T20:03:01.478Z"
   },
   {
    "duration": 23,
    "start_time": "2023-02-23T20:03:01.490Z"
   },
   {
    "duration": 20,
    "start_time": "2023-02-23T20:03:01.515Z"
   },
   {
    "duration": 283,
    "start_time": "2023-02-23T20:03:01.537Z"
   },
   {
    "duration": 11,
    "start_time": "2023-02-23T20:03:01.826Z"
   },
   {
    "duration": 463,
    "start_time": "2023-02-23T20:03:01.839Z"
   },
   {
    "duration": 217,
    "start_time": "2023-02-23T20:03:02.305Z"
   },
   {
    "duration": 254,
    "start_time": "2023-02-23T20:03:02.526Z"
   },
   {
    "duration": 202,
    "start_time": "2023-02-23T20:03:02.783Z"
   },
   {
    "duration": 229,
    "start_time": "2023-02-23T20:03:02.987Z"
   },
   {
    "duration": 311,
    "start_time": "2023-02-23T20:03:03.220Z"
   },
   {
    "duration": 226,
    "start_time": "2023-02-23T20:03:03.537Z"
   },
   {
    "duration": 231,
    "start_time": "2023-02-23T20:03:03.765Z"
   },
   {
    "duration": 248,
    "start_time": "2023-02-23T20:03:03.998Z"
   },
   {
    "duration": 180,
    "start_time": "2023-02-23T20:03:04.249Z"
   },
   {
    "duration": 186,
    "start_time": "2023-02-23T20:03:04.431Z"
   },
   {
    "duration": 13,
    "start_time": "2023-02-23T20:03:04.619Z"
   },
   {
    "duration": 30,
    "start_time": "2023-02-23T20:03:04.635Z"
   },
   {
    "duration": 12,
    "start_time": "2023-02-23T20:03:04.667Z"
   },
   {
    "duration": 173,
    "start_time": "2023-02-23T20:03:04.681Z"
   },
   {
    "duration": 154,
    "start_time": "2023-02-23T20:03:04.856Z"
   },
   {
    "duration": 181,
    "start_time": "2023-02-23T20:03:05.012Z"
   },
   {
    "duration": 158,
    "start_time": "2023-02-23T20:03:05.195Z"
   },
   {
    "duration": 162,
    "start_time": "2023-02-23T20:03:05.355Z"
   },
   {
    "duration": 434,
    "start_time": "2023-02-23T20:03:05.528Z"
   },
   {
    "duration": 230,
    "start_time": "2023-02-23T20:03:05.965Z"
   },
   {
    "duration": 217,
    "start_time": "2023-02-23T20:03:06.198Z"
   },
   {
    "duration": 15,
    "start_time": "2023-02-23T20:03:06.418Z"
   },
   {
    "duration": 270,
    "start_time": "2023-02-23T20:03:06.435Z"
   },
   {
    "duration": 243,
    "start_time": "2023-02-23T20:03:06.707Z"
   },
   {
    "duration": 12,
    "start_time": "2023-02-23T20:03:06.954Z"
   },
   {
    "duration": 222,
    "start_time": "2023-02-23T20:03:06.968Z"
   },
   {
    "duration": 232,
    "start_time": "2023-02-23T20:03:07.193Z"
   },
   {
    "duration": 13,
    "start_time": "2023-02-23T20:03:07.427Z"
   },
   {
    "duration": 583,
    "start_time": "2023-02-23T20:03:07.444Z"
   },
   {
    "duration": 23,
    "start_time": "2023-02-23T20:03:08.029Z"
   },
   {
    "duration": 27,
    "start_time": "2023-02-23T20:03:08.054Z"
   },
   {
    "duration": 231,
    "start_time": "2023-02-23T20:03:08.083Z"
   },
   {
    "duration": 20,
    "start_time": "2023-02-23T20:03:08.316Z"
   },
   {
    "duration": 235,
    "start_time": "2023-02-23T20:03:08.338Z"
   },
   {
    "duration": 20,
    "start_time": "2023-02-23T20:03:08.575Z"
   },
   {
    "duration": 320,
    "start_time": "2023-02-23T20:03:08.598Z"
   },
   {
    "duration": 24,
    "start_time": "2023-02-23T20:03:08.920Z"
   },
   {
    "duration": 24,
    "start_time": "2023-02-23T20:03:08.946Z"
   },
   {
    "duration": 24,
    "start_time": "2023-02-23T20:03:08.972Z"
   },
   {
    "duration": 54,
    "start_time": "2023-02-23T20:03:08.999Z"
   },
   {
    "duration": 13,
    "start_time": "2023-02-23T20:03:09.055Z"
   },
   {
    "duration": 14,
    "start_time": "2023-02-23T20:03:09.070Z"
   },
   {
    "duration": 14,
    "start_time": "2023-02-23T20:03:09.086Z"
   },
   {
    "duration": 4,
    "start_time": "2023-02-23T20:04:25.321Z"
   },
   {
    "duration": 1370,
    "start_time": "2023-02-23T20:04:30.775Z"
   },
   {
    "duration": 113,
    "start_time": "2023-02-23T20:04:32.147Z"
   },
   {
    "duration": 38,
    "start_time": "2023-02-23T20:04:32.263Z"
   },
   {
    "duration": 27,
    "start_time": "2023-02-23T20:04:32.303Z"
   },
   {
    "duration": 53,
    "start_time": "2023-02-23T20:04:32.333Z"
   },
   {
    "duration": 15,
    "start_time": "2023-02-23T20:04:32.389Z"
   },
   {
    "duration": 55,
    "start_time": "2023-02-23T20:04:32.407Z"
   },
   {
    "duration": 11,
    "start_time": "2023-02-23T20:04:32.464Z"
   },
   {
    "duration": 259,
    "start_time": "2023-02-23T20:04:32.477Z"
   },
   {
    "duration": 20,
    "start_time": "2023-02-23T20:04:32.738Z"
   },
   {
    "duration": 12,
    "start_time": "2023-02-23T20:04:32.759Z"
   },
   {
    "duration": 23,
    "start_time": "2023-02-23T20:04:32.773Z"
   },
   {
    "duration": 19,
    "start_time": "2023-02-23T20:04:32.798Z"
   },
   {
    "duration": 19,
    "start_time": "2023-02-23T20:04:32.822Z"
   },
   {
    "duration": 15,
    "start_time": "2023-02-23T20:04:32.843Z"
   },
   {
    "duration": 31,
    "start_time": "2023-02-23T20:04:32.859Z"
   },
   {
    "duration": 26,
    "start_time": "2023-02-23T20:04:32.892Z"
   },
   {
    "duration": 27,
    "start_time": "2023-02-23T20:04:32.921Z"
   },
   {
    "duration": 9,
    "start_time": "2023-02-23T20:04:32.950Z"
   },
   {
    "duration": 239,
    "start_time": "2023-02-23T20:04:32.962Z"
   },
   {
    "duration": 16,
    "start_time": "2023-02-23T20:04:33.203Z"
   },
   {
    "duration": 295,
    "start_time": "2023-02-23T20:04:33.228Z"
   },
   {
    "duration": 215,
    "start_time": "2023-02-23T20:04:33.525Z"
   },
   {
    "duration": 224,
    "start_time": "2023-02-23T20:04:33.742Z"
   },
   {
    "duration": 147,
    "start_time": "2023-02-23T20:04:33.968Z"
   },
   {
    "duration": 168,
    "start_time": "2023-02-23T20:04:34.117Z"
   },
   {
    "duration": 295,
    "start_time": "2023-02-23T20:04:34.287Z"
   },
   {
    "duration": 257,
    "start_time": "2023-02-23T20:04:34.584Z"
   },
   {
    "duration": 193,
    "start_time": "2023-02-23T20:04:34.843Z"
   },
   {
    "duration": 260,
    "start_time": "2023-02-23T20:04:35.038Z"
   },
   {
    "duration": 267,
    "start_time": "2023-02-23T20:04:35.301Z"
   },
   {
    "duration": 217,
    "start_time": "2023-02-23T20:04:35.570Z"
   },
   {
    "duration": 7,
    "start_time": "2023-02-23T20:04:35.789Z"
   },
   {
    "duration": 39,
    "start_time": "2023-02-23T20:04:35.798Z"
   },
   {
    "duration": 16,
    "start_time": "2023-02-23T20:04:35.839Z"
   },
   {
    "duration": 228,
    "start_time": "2023-02-23T20:04:35.857Z"
   },
   {
    "duration": 219,
    "start_time": "2023-02-23T20:04:36.087Z"
   },
   {
    "duration": 246,
    "start_time": "2023-02-23T20:04:36.308Z"
   },
   {
    "duration": 208,
    "start_time": "2023-02-23T20:04:36.556Z"
   },
   {
    "duration": 163,
    "start_time": "2023-02-23T20:04:36.766Z"
   },
   {
    "duration": 419,
    "start_time": "2023-02-23T20:04:36.936Z"
   },
   {
    "duration": 176,
    "start_time": "2023-02-23T20:04:37.357Z"
   },
   {
    "duration": 207,
    "start_time": "2023-02-23T20:04:37.536Z"
   },
   {
    "duration": 20,
    "start_time": "2023-02-23T20:04:37.745Z"
   },
   {
    "duration": 252,
    "start_time": "2023-02-23T20:04:37.767Z"
   },
   {
    "duration": 172,
    "start_time": "2023-02-23T20:04:38.021Z"
   },
   {
    "duration": 10,
    "start_time": "2023-02-23T20:04:38.195Z"
   },
   {
    "duration": 163,
    "start_time": "2023-02-23T20:04:38.207Z"
   },
   {
    "duration": 189,
    "start_time": "2023-02-23T20:04:38.372Z"
   },
   {
    "duration": 9,
    "start_time": "2023-02-23T20:04:38.563Z"
   },
   {
    "duration": 538,
    "start_time": "2023-02-23T20:04:38.574Z"
   },
   {
    "duration": 20,
    "start_time": "2023-02-23T20:04:39.114Z"
   },
   {
    "duration": 16,
    "start_time": "2023-02-23T20:04:39.135Z"
   },
   {
    "duration": 183,
    "start_time": "2023-02-23T20:04:39.154Z"
   },
   {
    "duration": 15,
    "start_time": "2023-02-23T20:04:39.339Z"
   },
   {
    "duration": 213,
    "start_time": "2023-02-23T20:04:39.356Z"
   },
   {
    "duration": 16,
    "start_time": "2023-02-23T20:04:39.571Z"
   },
   {
    "duration": 251,
    "start_time": "2023-02-23T20:04:39.589Z"
   },
   {
    "duration": 19,
    "start_time": "2023-02-23T20:04:39.843Z"
   },
   {
    "duration": 24,
    "start_time": "2023-02-23T20:04:39.864Z"
   },
   {
    "duration": 39,
    "start_time": "2023-02-23T20:04:39.890Z"
   },
   {
    "duration": 24,
    "start_time": "2023-02-23T20:04:39.931Z"
   },
   {
    "duration": 7,
    "start_time": "2023-02-23T20:04:39.957Z"
   },
   {
    "duration": 20,
    "start_time": "2023-02-23T20:04:39.967Z"
   },
   {
    "duration": 13,
    "start_time": "2023-02-23T20:04:39.991Z"
   },
   {
    "duration": 104,
    "start_time": "2023-02-23T20:11:34.203Z"
   },
   {
    "duration": 10,
    "start_time": "2023-02-23T20:11:45.715Z"
   },
   {
    "duration": 15,
    "start_time": "2023-02-23T20:12:00.155Z"
   },
   {
    "duration": 475,
    "start_time": "2023-02-23T20:15:45.880Z"
   },
   {
    "duration": 74,
    "start_time": "2023-02-23T20:16:46.669Z"
   },
   {
    "duration": 1157,
    "start_time": "2023-02-23T20:17:23.756Z"
   },
   {
    "duration": 294,
    "start_time": "2023-02-23T20:17:41.555Z"
   },
   {
    "duration": 292,
    "start_time": "2023-02-23T20:19:15.493Z"
   },
   {
    "duration": 98,
    "start_time": "2023-02-23T20:22:30.295Z"
   },
   {
    "duration": 25,
    "start_time": "2023-02-23T20:22:35.992Z"
   },
   {
    "duration": 17,
    "start_time": "2023-02-23T20:22:44.702Z"
   },
   {
    "duration": 366,
    "start_time": "2023-02-23T20:23:29.173Z"
   },
   {
    "duration": 17,
    "start_time": "2023-02-23T20:27:21.385Z"
   },
   {
    "duration": 1535,
    "start_time": "2023-02-23T20:29:19.548Z"
   },
   {
    "duration": 108,
    "start_time": "2023-02-23T20:29:21.086Z"
   },
   {
    "duration": 28,
    "start_time": "2023-02-23T20:29:21.196Z"
   },
   {
    "duration": 19,
    "start_time": "2023-02-23T20:29:21.226Z"
   },
   {
    "duration": 36,
    "start_time": "2023-02-23T20:29:21.247Z"
   },
   {
    "duration": 14,
    "start_time": "2023-02-23T20:29:21.284Z"
   },
   {
    "duration": 39,
    "start_time": "2023-02-23T20:29:21.300Z"
   },
   {
    "duration": 5,
    "start_time": "2023-02-23T20:29:21.341Z"
   },
   {
    "duration": 282,
    "start_time": "2023-02-23T20:29:21.349Z"
   },
   {
    "duration": 24,
    "start_time": "2023-02-23T20:29:21.635Z"
   },
   {
    "duration": 4,
    "start_time": "2023-02-23T20:29:21.661Z"
   },
   {
    "duration": 22,
    "start_time": "2023-02-23T20:29:21.667Z"
   },
   {
    "duration": 30,
    "start_time": "2023-02-23T20:29:21.691Z"
   },
   {
    "duration": 5,
    "start_time": "2023-02-23T20:29:21.727Z"
   },
   {
    "duration": 9,
    "start_time": "2023-02-23T20:29:21.734Z"
   },
   {
    "duration": 22,
    "start_time": "2023-02-23T20:29:21.744Z"
   },
   {
    "duration": 8,
    "start_time": "2023-02-23T20:29:21.768Z"
   },
   {
    "duration": 19,
    "start_time": "2023-02-23T20:29:21.777Z"
   },
   {
    "duration": 32,
    "start_time": "2023-02-23T20:29:21.798Z"
   },
   {
    "duration": 181,
    "start_time": "2023-02-23T20:29:21.832Z"
   },
   {
    "duration": 14,
    "start_time": "2023-02-23T20:29:22.015Z"
   },
   {
    "duration": 327,
    "start_time": "2023-02-23T20:29:22.032Z"
   },
   {
    "duration": 156,
    "start_time": "2023-02-23T20:29:22.360Z"
   },
   {
    "duration": 243,
    "start_time": "2023-02-23T20:29:22.518Z"
   },
   {
    "duration": 202,
    "start_time": "2023-02-23T20:29:22.764Z"
   },
   {
    "duration": 199,
    "start_time": "2023-02-23T20:29:22.968Z"
   },
   {
    "duration": 277,
    "start_time": "2023-02-23T20:29:23.170Z"
   },
   {
    "duration": 240,
    "start_time": "2023-02-23T20:29:23.452Z"
   },
   {
    "duration": 211,
    "start_time": "2023-02-23T20:29:23.694Z"
   },
   {
    "duration": 194,
    "start_time": "2023-02-23T20:29:23.908Z"
   },
   {
    "duration": 275,
    "start_time": "2023-02-23T20:29:24.104Z"
   },
   {
    "duration": 198,
    "start_time": "2023-02-23T20:29:24.380Z"
   },
   {
    "duration": 7,
    "start_time": "2023-02-23T20:29:24.583Z"
   },
   {
    "duration": 26,
    "start_time": "2023-02-23T20:29:24.592Z"
   },
   {
    "duration": 68,
    "start_time": "2023-02-23T20:29:24.622Z"
   },
   {
    "duration": 237,
    "start_time": "2023-02-23T20:29:24.692Z"
   },
   {
    "duration": 165,
    "start_time": "2023-02-23T20:29:24.933Z"
   },
   {
    "duration": 223,
    "start_time": "2023-02-23T20:29:25.100Z"
   },
   {
    "duration": 176,
    "start_time": "2023-02-23T20:29:25.325Z"
   },
   {
    "duration": 224,
    "start_time": "2023-02-23T20:29:25.503Z"
   },
   {
    "duration": 345,
    "start_time": "2023-02-23T20:29:25.729Z"
   },
   {
    "duration": 157,
    "start_time": "2023-02-23T20:29:26.076Z"
   },
   {
    "duration": 198,
    "start_time": "2023-02-23T20:29:26.236Z"
   },
   {
    "duration": 16,
    "start_time": "2023-02-23T20:29:26.436Z"
   },
   {
    "duration": 209,
    "start_time": "2023-02-23T20:29:26.455Z"
   },
   {
    "duration": 173,
    "start_time": "2023-02-23T20:29:26.665Z"
   },
   {
    "duration": 10,
    "start_time": "2023-02-23T20:29:26.841Z"
   },
   {
    "duration": 277,
    "start_time": "2023-02-23T20:29:26.853Z"
   },
   {
    "duration": 251,
    "start_time": "2023-02-23T20:29:27.132Z"
   },
   {
    "duration": 10,
    "start_time": "2023-02-23T20:29:27.385Z"
   },
   {
    "duration": 439,
    "start_time": "2023-02-23T20:29:27.397Z"
   },
   {
    "duration": 18,
    "start_time": "2023-02-23T20:29:27.838Z"
   },
   {
    "duration": 25,
    "start_time": "2023-02-23T20:29:27.858Z"
   },
   {
    "duration": 45,
    "start_time": "2023-02-23T20:29:27.885Z"
   },
   {
    "duration": 318,
    "start_time": "2023-02-23T20:29:27.933Z"
   },
   {
    "duration": 17,
    "start_time": "2023-02-23T20:29:28.253Z"
   },
   {
    "duration": 353,
    "start_time": "2023-02-23T20:29:28.272Z"
   },
   {
    "duration": 21,
    "start_time": "2023-02-23T20:29:28.627Z"
   },
   {
    "duration": 184,
    "start_time": "2023-02-23T20:29:28.649Z"
   },
   {
    "duration": 19,
    "start_time": "2023-02-23T20:29:28.835Z"
   },
   {
    "duration": 171,
    "start_time": "2023-02-23T20:29:28.856Z"
   },
   {
    "duration": 16,
    "start_time": "2023-02-23T20:29:29.029Z"
   },
   {
    "duration": 23,
    "start_time": "2023-02-23T20:29:29.047Z"
   },
   {
    "duration": 21,
    "start_time": "2023-02-23T20:29:29.072Z"
   },
   {
    "duration": 37,
    "start_time": "2023-02-23T20:29:29.095Z"
   },
   {
    "duration": 24,
    "start_time": "2023-02-23T20:29:29.135Z"
   },
   {
    "duration": 34,
    "start_time": "2023-02-23T20:29:29.162Z"
   },
   {
    "duration": 15,
    "start_time": "2023-02-23T20:29:29.198Z"
   },
   {
    "duration": 1170,
    "start_time": "2023-02-24T01:20:32.893Z"
   },
   {
    "duration": 235,
    "start_time": "2023-02-24T01:20:34.065Z"
   },
   {
    "duration": 20,
    "start_time": "2023-02-24T01:20:34.304Z"
   },
   {
    "duration": 15,
    "start_time": "2023-02-24T01:20:34.326Z"
   },
   {
    "duration": 31,
    "start_time": "2023-02-24T01:20:34.343Z"
   },
   {
    "duration": 9,
    "start_time": "2023-02-24T01:20:34.375Z"
   },
   {
    "duration": 13,
    "start_time": "2023-02-24T01:20:34.386Z"
   },
   {
    "duration": 4,
    "start_time": "2023-02-24T01:20:34.400Z"
   },
   {
    "duration": 205,
    "start_time": "2023-02-24T01:20:34.406Z"
   },
   {
    "duration": 18,
    "start_time": "2023-02-24T01:20:34.613Z"
   },
   {
    "duration": 16,
    "start_time": "2023-02-24T01:20:34.634Z"
   },
   {
    "duration": 19,
    "start_time": "2023-02-24T01:20:34.654Z"
   },
   {
    "duration": 11,
    "start_time": "2023-02-24T01:20:34.676Z"
   },
   {
    "duration": 4,
    "start_time": "2023-02-24T01:20:34.689Z"
   },
   {
    "duration": 6,
    "start_time": "2023-02-24T01:20:34.694Z"
   },
   {
    "duration": 16,
    "start_time": "2023-02-24T01:20:34.701Z"
   },
   {
    "duration": 7,
    "start_time": "2023-02-24T01:20:34.719Z"
   },
   {
    "duration": 29,
    "start_time": "2023-02-24T01:20:34.727Z"
   },
   {
    "duration": 9,
    "start_time": "2023-02-24T01:20:34.758Z"
   },
   {
    "duration": 182,
    "start_time": "2023-02-24T01:20:34.768Z"
   },
   {
    "duration": 8,
    "start_time": "2023-02-24T01:20:34.952Z"
   },
   {
    "duration": 278,
    "start_time": "2023-02-24T01:20:34.961Z"
   },
   {
    "duration": 138,
    "start_time": "2023-02-24T01:20:35.241Z"
   },
   {
    "duration": 183,
    "start_time": "2023-02-24T01:20:35.381Z"
   },
   {
    "duration": 138,
    "start_time": "2023-02-24T01:20:35.566Z"
   },
   {
    "duration": 149,
    "start_time": "2023-02-24T01:20:35.706Z"
   },
   {
    "duration": 232,
    "start_time": "2023-02-24T01:20:35.857Z"
   },
   {
    "duration": 180,
    "start_time": "2023-02-24T01:20:36.091Z"
   },
   {
    "duration": 209,
    "start_time": "2023-02-24T01:20:36.273Z"
   },
   {
    "duration": 153,
    "start_time": "2023-02-24T01:20:36.484Z"
   },
   {
    "duration": 160,
    "start_time": "2023-02-24T01:20:36.638Z"
   },
   {
    "duration": 158,
    "start_time": "2023-02-24T01:20:36.799Z"
   },
   {
    "duration": 6,
    "start_time": "2023-02-24T01:20:36.958Z"
   },
   {
    "duration": 16,
    "start_time": "2023-02-24T01:20:36.965Z"
   },
   {
    "duration": 8,
    "start_time": "2023-02-24T01:20:36.982Z"
   },
   {
    "duration": 175,
    "start_time": "2023-02-24T01:20:36.992Z"
   },
   {
    "duration": 131,
    "start_time": "2023-02-24T01:20:37.169Z"
   },
   {
    "duration": 166,
    "start_time": "2023-02-24T01:20:37.301Z"
   },
   {
    "duration": 155,
    "start_time": "2023-02-24T01:20:37.469Z"
   },
   {
    "duration": 151,
    "start_time": "2023-02-24T01:20:37.628Z"
   },
   {
    "duration": 317,
    "start_time": "2023-02-24T01:20:37.781Z"
   },
   {
    "duration": 138,
    "start_time": "2023-02-24T01:20:38.099Z"
   },
   {
    "duration": 150,
    "start_time": "2023-02-24T01:20:38.239Z"
   },
   {
    "duration": 9,
    "start_time": "2023-02-24T01:20:38.390Z"
   },
   {
    "duration": 173,
    "start_time": "2023-02-24T01:20:38.401Z"
   },
   {
    "duration": 157,
    "start_time": "2023-02-24T01:20:38.576Z"
   },
   {
    "duration": 15,
    "start_time": "2023-02-24T01:20:38.735Z"
   },
   {
    "duration": 151,
    "start_time": "2023-02-24T01:20:38.751Z"
   },
   {
    "duration": 162,
    "start_time": "2023-02-24T01:20:38.903Z"
   },
   {
    "duration": 9,
    "start_time": "2023-02-24T01:20:39.066Z"
   },
   {
    "duration": 379,
    "start_time": "2023-02-24T01:20:39.076Z"
   },
   {
    "duration": 14,
    "start_time": "2023-02-24T01:20:39.457Z"
   },
   {
    "duration": 18,
    "start_time": "2023-02-24T01:20:39.472Z"
   },
   {
    "duration": 15,
    "start_time": "2023-02-24T01:20:39.491Z"
   },
   {
    "duration": 344,
    "start_time": "2023-02-24T01:20:39.508Z"
   },
   {
    "duration": 14,
    "start_time": "2023-02-24T01:20:39.853Z"
   },
   {
    "duration": 250,
    "start_time": "2023-02-24T01:20:39.869Z"
   },
   {
    "duration": 28,
    "start_time": "2023-02-24T01:20:40.121Z"
   },
   {
    "duration": 149,
    "start_time": "2023-02-24T01:20:40.151Z"
   },
   {
    "duration": 14,
    "start_time": "2023-02-24T01:20:40.301Z"
   },
   {
    "duration": 158,
    "start_time": "2023-02-24T01:20:40.317Z"
   },
   {
    "duration": 13,
    "start_time": "2023-02-24T01:20:40.477Z"
   },
   {
    "duration": 14,
    "start_time": "2023-02-24T01:20:40.491Z"
   },
   {
    "duration": 14,
    "start_time": "2023-02-24T01:20:40.506Z"
   },
   {
    "duration": 44,
    "start_time": "2023-02-24T01:20:40.521Z"
   },
   {
    "duration": 5,
    "start_time": "2023-02-24T01:20:40.566Z"
   },
   {
    "duration": 9,
    "start_time": "2023-02-24T01:20:40.572Z"
   },
   {
    "duration": 8,
    "start_time": "2023-02-24T01:20:40.583Z"
   },
   {
    "duration": 7,
    "start_time": "2023-02-24T01:21:12.071Z"
   },
   {
    "duration": 7,
    "start_time": "2023-02-24T01:23:31.317Z"
   },
   {
    "duration": 26,
    "start_time": "2023-02-24T01:27:53.246Z"
   },
   {
    "duration": 275,
    "start_time": "2023-02-24T01:30:15.820Z"
   },
   {
    "duration": 285,
    "start_time": "2023-02-24T01:30:25.163Z"
   },
   {
    "duration": 273,
    "start_time": "2023-02-24T01:30:43.877Z"
   },
   {
    "duration": 264,
    "start_time": "2023-02-24T01:30:46.749Z"
   },
   {
    "duration": 6,
    "start_time": "2023-02-24T01:33:21.410Z"
   },
   {
    "duration": 1233,
    "start_time": "2023-02-24T01:34:50.026Z"
   },
   {
    "duration": 112,
    "start_time": "2023-02-24T01:34:51.261Z"
   },
   {
    "duration": 20,
    "start_time": "2023-02-24T01:34:51.375Z"
   },
   {
    "duration": 17,
    "start_time": "2023-02-24T01:34:51.397Z"
   },
   {
    "duration": 44,
    "start_time": "2023-02-24T01:34:51.417Z"
   },
   {
    "duration": 9,
    "start_time": "2023-02-24T01:34:51.463Z"
   },
   {
    "duration": 12,
    "start_time": "2023-02-24T01:34:51.474Z"
   },
   {
    "duration": 4,
    "start_time": "2023-02-24T01:34:51.488Z"
   },
   {
    "duration": 204,
    "start_time": "2023-02-24T01:34:51.493Z"
   },
   {
    "duration": 16,
    "start_time": "2023-02-24T01:34:51.699Z"
   },
   {
    "duration": 3,
    "start_time": "2023-02-24T01:34:51.717Z"
   },
   {
    "duration": 11,
    "start_time": "2023-02-24T01:34:51.721Z"
   },
   {
    "duration": 8,
    "start_time": "2023-02-24T01:34:51.748Z"
   },
   {
    "duration": 7,
    "start_time": "2023-02-24T01:34:51.758Z"
   },
   {
    "duration": 9,
    "start_time": "2023-02-24T01:34:51.766Z"
   },
   {
    "duration": 16,
    "start_time": "2023-02-24T01:34:51.777Z"
   },
   {
    "duration": 10,
    "start_time": "2023-02-24T01:34:51.795Z"
   },
   {
    "duration": 21,
    "start_time": "2023-02-24T01:34:51.807Z"
   },
   {
    "duration": 22,
    "start_time": "2023-02-24T01:34:51.829Z"
   },
   {
    "duration": 6,
    "start_time": "2023-02-24T01:34:51.853Z"
   },
   {
    "duration": 180,
    "start_time": "2023-02-24T01:34:51.861Z"
   },
   {
    "duration": 12,
    "start_time": "2023-02-24T01:34:52.042Z"
   },
   {
    "duration": 273,
    "start_time": "2023-02-24T01:34:52.055Z"
   },
   {
    "duration": 148,
    "start_time": "2023-02-24T01:34:52.330Z"
   },
   {
    "duration": 174,
    "start_time": "2023-02-24T01:34:52.479Z"
   },
   {
    "duration": 133,
    "start_time": "2023-02-24T01:34:52.655Z"
   },
   {
    "duration": 149,
    "start_time": "2023-02-24T01:34:52.790Z"
   },
   {
    "duration": 211,
    "start_time": "2023-02-24T01:34:52.941Z"
   },
   {
    "duration": 153,
    "start_time": "2023-02-24T01:34:53.153Z"
   },
   {
    "duration": 182,
    "start_time": "2023-02-24T01:34:53.307Z"
   },
   {
    "duration": 164,
    "start_time": "2023-02-24T01:34:53.490Z"
   },
   {
    "duration": 173,
    "start_time": "2023-02-24T01:34:53.656Z"
   },
   {
    "duration": 148,
    "start_time": "2023-02-24T01:34:53.831Z"
   },
   {
    "duration": 6,
    "start_time": "2023-02-24T01:34:53.980Z"
   },
   {
    "duration": 26,
    "start_time": "2023-02-24T01:34:53.987Z"
   },
   {
    "duration": 13,
    "start_time": "2023-02-24T01:34:54.014Z"
   },
   {
    "duration": 166,
    "start_time": "2023-02-24T01:34:54.029Z"
   },
   {
    "duration": 141,
    "start_time": "2023-02-24T01:34:54.197Z"
   },
   {
    "duration": 178,
    "start_time": "2023-02-24T01:34:54.340Z"
   },
   {
    "duration": 151,
    "start_time": "2023-02-24T01:34:54.520Z"
   },
   {
    "duration": 161,
    "start_time": "2023-02-24T01:34:54.676Z"
   },
   {
    "duration": 303,
    "start_time": "2023-02-24T01:34:54.839Z"
   },
   {
    "duration": 25,
    "start_time": "2023-02-24T01:34:55.148Z"
   },
   {
    "duration": 143,
    "start_time": "2023-02-24T01:34:55.175Z"
   },
   {
    "duration": 153,
    "start_time": "2023-02-24T01:34:55.320Z"
   },
   {
    "duration": 9,
    "start_time": "2023-02-24T01:34:55.476Z"
   },
   {
    "duration": 171,
    "start_time": "2023-02-24T01:34:55.487Z"
   },
   {
    "duration": 155,
    "start_time": "2023-02-24T01:34:55.660Z"
   },
   {
    "duration": 9,
    "start_time": "2023-02-24T01:34:55.817Z"
   },
   {
    "duration": 181,
    "start_time": "2023-02-24T01:34:55.827Z"
   },
   {
    "duration": 149,
    "start_time": "2023-02-24T01:34:56.010Z"
   },
   {
    "duration": 7,
    "start_time": "2023-02-24T01:34:56.161Z"
   },
   {
    "duration": 394,
    "start_time": "2023-02-24T01:34:56.169Z"
   },
   {
    "duration": 14,
    "start_time": "2023-02-24T01:34:56.564Z"
   },
   {
    "duration": 25,
    "start_time": "2023-02-24T01:34:56.580Z"
   },
   {
    "duration": 17,
    "start_time": "2023-02-24T01:34:56.607Z"
   },
   {
    "duration": 286,
    "start_time": "2023-02-24T01:34:56.625Z"
   },
   {
    "duration": 343,
    "start_time": "2023-02-24T01:34:56.912Z"
   },
   {
    "duration": 275,
    "start_time": "2023-02-24T01:34:57.257Z"
   },
   {
    "duration": 19,
    "start_time": "2023-02-24T01:34:57.534Z"
   },
   {
    "duration": 160,
    "start_time": "2023-02-24T01:34:57.555Z"
   },
   {
    "duration": 14,
    "start_time": "2023-02-24T01:34:57.717Z"
   },
   {
    "duration": 162,
    "start_time": "2023-02-24T01:34:57.733Z"
   },
   {
    "duration": 14,
    "start_time": "2023-02-24T01:34:57.897Z"
   },
   {
    "duration": 155,
    "start_time": "2023-02-24T01:34:57.912Z"
   },
   {
    "duration": 14,
    "start_time": "2023-02-24T01:34:58.069Z"
   },
   {
    "duration": 42,
    "start_time": "2023-02-24T01:34:58.084Z"
   },
   {
    "duration": 24,
    "start_time": "2023-02-24T01:34:58.128Z"
   },
   {
    "duration": 32,
    "start_time": "2023-02-24T01:34:58.154Z"
   },
   {
    "duration": 30,
    "start_time": "2023-02-24T01:34:58.188Z"
   },
   {
    "duration": 30,
    "start_time": "2023-02-24T01:34:58.220Z"
   },
   {
    "duration": 38,
    "start_time": "2023-02-24T01:34:58.252Z"
   },
   {
    "duration": 22,
    "start_time": "2023-02-24T01:34:58.292Z"
   },
   {
    "duration": 69,
    "start_time": "2023-02-24T01:34:58.315Z"
   },
   {
    "duration": 2,
    "start_time": "2023-02-24T01:34:58.386Z"
   },
   {
    "duration": 23,
    "start_time": "2023-02-24T01:34:58.390Z"
   },
   {
    "duration": 36,
    "start_time": "2023-02-24T01:34:58.415Z"
   },
   {
    "duration": 20,
    "start_time": "2023-02-24T01:34:58.453Z"
   },
   {
    "duration": 32,
    "start_time": "2023-02-24T01:34:58.474Z"
   },
   {
    "duration": 19,
    "start_time": "2023-02-24T01:34:58.507Z"
   },
   {
    "duration": 648,
    "start_time": "2023-02-24T01:34:58.528Z"
   },
   {
    "duration": 614,
    "start_time": "2023-02-24T01:34:59.178Z"
   },
   {
    "duration": 704,
    "start_time": "2023-02-24T01:34:59.800Z"
   },
   {
    "duration": 1398,
    "start_time": "2023-02-24T11:00:58.078Z"
   },
   {
    "duration": 237,
    "start_time": "2023-02-24T11:00:59.479Z"
   },
   {
    "duration": 23,
    "start_time": "2023-02-24T11:00:59.719Z"
   },
   {
    "duration": 22,
    "start_time": "2023-02-24T11:00:59.744Z"
   },
   {
    "duration": 38,
    "start_time": "2023-02-24T11:00:59.768Z"
   },
   {
    "duration": 10,
    "start_time": "2023-02-24T11:00:59.809Z"
   },
   {
    "duration": 34,
    "start_time": "2023-02-24T11:00:59.821Z"
   },
   {
    "duration": 6,
    "start_time": "2023-02-24T11:00:59.857Z"
   },
   {
    "duration": 214,
    "start_time": "2023-02-24T11:00:59.865Z"
   },
   {
    "duration": 23,
    "start_time": "2023-02-24T11:01:00.083Z"
   },
   {
    "duration": 5,
    "start_time": "2023-02-24T11:01:00.108Z"
   },
   {
    "duration": 33,
    "start_time": "2023-02-24T11:01:00.115Z"
   },
   {
    "duration": 42,
    "start_time": "2023-02-24T11:01:00.151Z"
   },
   {
    "duration": 29,
    "start_time": "2023-02-24T11:01:00.195Z"
   },
   {
    "duration": 25,
    "start_time": "2023-02-24T11:01:00.226Z"
   },
   {
    "duration": 62,
    "start_time": "2023-02-24T11:01:00.254Z"
   },
   {
    "duration": 28,
    "start_time": "2023-02-24T11:01:00.318Z"
   },
   {
    "duration": 31,
    "start_time": "2023-02-24T11:01:00.348Z"
   },
   {
    "duration": 62,
    "start_time": "2023-02-24T11:01:00.381Z"
   },
   {
    "duration": 9,
    "start_time": "2023-02-24T11:01:00.445Z"
   },
   {
    "duration": 207,
    "start_time": "2023-02-24T11:01:00.456Z"
   },
   {
    "duration": 10,
    "start_time": "2023-02-24T11:01:00.665Z"
   },
   {
    "duration": 323,
    "start_time": "2023-02-24T11:01:00.677Z"
   },
   {
    "duration": 173,
    "start_time": "2023-02-24T11:01:01.003Z"
   },
   {
    "duration": 182,
    "start_time": "2023-02-24T11:01:01.179Z"
   },
   {
    "duration": 187,
    "start_time": "2023-02-24T11:01:01.363Z"
   },
   {
    "duration": 177,
    "start_time": "2023-02-24T11:01:01.552Z"
   },
   {
    "duration": 258,
    "start_time": "2023-02-24T11:01:01.734Z"
   },
   {
    "duration": 192,
    "start_time": "2023-02-24T11:01:01.994Z"
   },
   {
    "duration": 168,
    "start_time": "2023-02-24T11:01:02.188Z"
   },
   {
    "duration": 193,
    "start_time": "2023-02-24T11:01:02.358Z"
   },
   {
    "duration": 184,
    "start_time": "2023-02-24T11:01:02.552Z"
   },
   {
    "duration": 161,
    "start_time": "2023-02-24T11:01:02.738Z"
   },
   {
    "duration": 9,
    "start_time": "2023-02-24T11:01:02.901Z"
   },
   {
    "duration": 39,
    "start_time": "2023-02-24T11:01:02.911Z"
   },
   {
    "duration": 9,
    "start_time": "2023-02-24T11:01:02.952Z"
   },
   {
    "duration": 245,
    "start_time": "2023-02-24T11:01:02.963Z"
   },
   {
    "duration": 205,
    "start_time": "2023-02-24T11:01:03.210Z"
   },
   {
    "duration": 195,
    "start_time": "2023-02-24T11:01:03.417Z"
   },
   {
    "duration": 227,
    "start_time": "2023-02-24T11:01:03.614Z"
   },
   {
    "duration": 153,
    "start_time": "2023-02-24T11:01:03.849Z"
   },
   {
    "duration": 314,
    "start_time": "2023-02-24T11:01:04.003Z"
   },
   {
    "duration": 36,
    "start_time": "2023-02-24T11:01:04.319Z"
   },
   {
    "duration": 141,
    "start_time": "2023-02-24T11:01:04.357Z"
   },
   {
    "duration": 150,
    "start_time": "2023-02-24T11:01:04.500Z"
   },
   {
    "duration": 8,
    "start_time": "2023-02-24T11:01:04.652Z"
   },
   {
    "duration": 185,
    "start_time": "2023-02-24T11:01:04.661Z"
   },
   {
    "duration": 162,
    "start_time": "2023-02-24T11:01:04.848Z"
   },
   {
    "duration": 10,
    "start_time": "2023-02-24T11:01:05.012Z"
   },
   {
    "duration": 169,
    "start_time": "2023-02-24T11:01:05.023Z"
   },
   {
    "duration": 170,
    "start_time": "2023-02-24T11:01:05.194Z"
   },
   {
    "duration": 12,
    "start_time": "2023-02-24T11:01:05.365Z"
   },
   {
    "duration": 397,
    "start_time": "2023-02-24T11:01:05.379Z"
   },
   {
    "duration": 16,
    "start_time": "2023-02-24T11:01:05.777Z"
   },
   {
    "duration": 16,
    "start_time": "2023-02-24T11:01:05.795Z"
   },
   {
    "duration": 42,
    "start_time": "2023-02-24T11:01:05.813Z"
   },
   {
    "duration": 383,
    "start_time": "2023-02-24T11:01:05.857Z"
   },
   {
    "duration": 413,
    "start_time": "2023-02-24T11:01:06.242Z"
   },
   {
    "duration": 294,
    "start_time": "2023-02-24T11:01:06.657Z"
   },
   {
    "duration": 14,
    "start_time": "2023-02-24T11:01:06.953Z"
   },
   {
    "duration": 174,
    "start_time": "2023-02-24T11:01:06.969Z"
   },
   {
    "duration": 14,
    "start_time": "2023-02-24T11:01:07.149Z"
   },
   {
    "duration": 165,
    "start_time": "2023-02-24T11:01:07.164Z"
   },
   {
    "duration": 23,
    "start_time": "2023-02-24T11:01:07.331Z"
   },
   {
    "duration": 151,
    "start_time": "2023-02-24T11:01:07.356Z"
   },
   {
    "duration": 17,
    "start_time": "2023-02-24T11:01:07.509Z"
   },
   {
    "duration": 31,
    "start_time": "2023-02-24T11:01:07.529Z"
   },
   {
    "duration": 18,
    "start_time": "2023-02-24T11:01:07.563Z"
   },
   {
    "duration": 16,
    "start_time": "2023-02-24T11:01:07.583Z"
   },
   {
    "duration": 6,
    "start_time": "2023-02-24T11:01:07.601Z"
   },
   {
    "duration": 9,
    "start_time": "2023-02-24T11:01:07.609Z"
   },
   {
    "duration": 7,
    "start_time": "2023-02-24T11:01:07.648Z"
   },
   {
    "duration": 10,
    "start_time": "2023-02-24T11:01:07.657Z"
   },
   {
    "duration": 54,
    "start_time": "2023-02-24T11:01:07.669Z"
   },
   {
    "duration": 3,
    "start_time": "2023-02-24T11:01:07.725Z"
   },
   {
    "duration": 15,
    "start_time": "2023-02-24T11:01:07.729Z"
   },
   {
    "duration": 9,
    "start_time": "2023-02-24T11:01:07.745Z"
   },
   {
    "duration": 7,
    "start_time": "2023-02-24T11:01:07.756Z"
   },
   {
    "duration": 10,
    "start_time": "2023-02-24T11:01:07.765Z"
   },
   {
    "duration": 10,
    "start_time": "2023-02-24T11:01:07.776Z"
   },
   {
    "duration": 730,
    "start_time": "2023-02-24T11:01:07.787Z"
   },
   {
    "duration": 697,
    "start_time": "2023-02-24T11:01:08.522Z"
   },
   {
    "duration": 740,
    "start_time": "2023-02-24T11:01:09.221Z"
   },
   {
    "duration": 116,
    "start_time": "2023-02-24T11:02:23.574Z"
   },
   {
    "duration": 12,
    "start_time": "2023-02-24T11:02:28.797Z"
   }
  ],
  "kernelspec": {
   "display_name": "Python 3 (ipykernel)",
   "language": "python",
   "name": "python3"
  },
  "language_info": {
   "codemirror_mode": {
    "name": "ipython",
    "version": 3
   },
   "file_extension": ".py",
   "mimetype": "text/x-python",
   "name": "python",
   "nbconvert_exporter": "python",
   "pygments_lexer": "ipython3",
   "version": "3.9.13"
  },
  "toc": {
   "base_numbering": 1,
   "nav_menu": {},
   "number_sections": true,
   "sideBar": true,
   "skip_h1_title": true,
   "title_cell": "Table of Contents",
   "title_sidebar": "Contents",
   "toc_cell": false,
   "toc_position": {
    "height": "486.4px",
    "left": "53px",
    "top": "110.525px",
    "width": "224.6px"
   },
   "toc_section_display": true,
   "toc_window_display": true
  }
 },
 "nbformat": 4,
 "nbformat_minor": 5
}
