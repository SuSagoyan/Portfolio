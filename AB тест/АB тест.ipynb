{
 "cells": [
  {
   "cell_type": "markdown",
   "metadata": {},
   "source": [
    "# Принятие решений в бизнесе. Аналитика крупного интернет-магазина"
   ]
  },
  {
   "cell_type": "markdown",
   "metadata": {},
   "source": [
    "На основании предоставленных отделом маркетинга списка гипотез для увеличения выручки, приоритизируем гипотезы, запустим А/В тест и проанализируем результаты"
   ]
  },
  {
   "cell_type": "markdown",
   "metadata": {},
   "source": [
    "Описание данных:\n",
    "1. Данные для первой части  \n",
    "\n",
    "Файл /datasets/hypothesis.csv  \n",
    "\n",
    "Hypothesis — краткое описание гипотезы;  \n",
    "Reach — охват пользователей по 10-балльной шкале;  \n",
    "Impact — влияние на пользователей по 10-балльной шкале;  \n",
    "Confidence — уверенность в гипотезе по 10-балльной шкале;  \n",
    "Efforts — затраты ресурсов на проверку гипотезы по 10-балльной шкале. Чем больше значение Efforts, тем дороже проверка гипотезы.  \n",
    "\n",
    "2. Данные для второй части  \n",
    "\n",
    "Файл /datasets/orders.csv  \n",
    "\n",
    "transactionId — идентификатор заказа;  \n",
    "visitorId — идентификатор пользователя, совершившего заказ;  \n",
    "date — дата, когда был совершён заказ;  \n",
    "revenue — выручка заказа;  \n",
    "group — группа A/B-теста, в которую попал заказ.  \n",
    "\n",
    "Файл /datasets/visitors.csv  \n",
    "\n",
    "date — дата;  \n",
    "group — группа A/B-теста;  \n",
    "visitors — количество пользователей в указанную дату в указанной группе A/B-теста"
   ]
  },
  {
   "cell_type": "markdown",
   "metadata": {},
   "source": [
    "## Загрузите данные и подготовьте их к анализу"
   ]
  },
  {
   "cell_type": "code",
   "execution_count": 1,
   "metadata": {},
   "outputs": [],
   "source": [
    "import pandas as pd\n",
    "import matplotlib.pyplot as plt\n",
    "import numpy as np\n",
    "import scipy.stats as st"
   ]
  },
  {
   "cell_type": "code",
   "execution_count": 2,
   "metadata": {},
   "outputs": [],
   "source": [
    "try:\n",
    "    hypothesis = pd.read_csv('C:/Users/mrsag/Desktop/Аналитик буткемп/Проекты/8. Принятие решений в бизнесе/hypothesis.csv')\n",
    "    orders = pd.read_csv('C:/Users/mrsag/Desktop/Аналитик буткемп/Проекты/8. Принятие решений в бизнесе/orders.csv')\n",
    "    visitors = pd.read_csv('C:/Users/mrsag/Desktop/Аналитик буткемп/Проекты/8. Принятие решений в бизнесе/visitors.csv')\n",
    "except:\n",
    "    hypothesis = pd.read_csv('/datasets/hypothesis.csv')\n",
    "    orders = pd.read_csv('/datasets/orders.csv')\n",
    "    visitors = pd.read_csv('/datasets/visitors.csv')"
   ]
  },
  {
   "cell_type": "code",
   "execution_count": 3,
   "metadata": {},
   "outputs": [],
   "source": [
    "pd.set_option('display.max_columns', None)\n",
    "pd.set_option(\"max_colwidth\", 999)"
   ]
  },
  {
   "cell_type": "code",
   "execution_count": 4,
   "metadata": {},
   "outputs": [
    {
     "name": "stdout",
     "output_type": "stream",
     "text": [
      "<class 'pandas.core.frame.DataFrame'>\n",
      "RangeIndex: 9 entries, 0 to 8\n",
      "Data columns (total 5 columns):\n",
      " #   Column      Non-Null Count  Dtype \n",
      "---  ------      --------------  ----- \n",
      " 0   Hypothesis  9 non-null      object\n",
      " 1   Reach       9 non-null      int64 \n",
      " 2   Impact      9 non-null      int64 \n",
      " 3   Confidence  9 non-null      int64 \n",
      " 4   Efforts     9 non-null      int64 \n",
      "dtypes: int64(4), object(1)\n",
      "memory usage: 488.0+ bytes\n"
     ]
    },
    {
     "data": {
      "text/html": [
       "<div>\n",
       "<style scoped>\n",
       "    .dataframe tbody tr th:only-of-type {\n",
       "        vertical-align: middle;\n",
       "    }\n",
       "\n",
       "    .dataframe tbody tr th {\n",
       "        vertical-align: top;\n",
       "    }\n",
       "\n",
       "    .dataframe thead th {\n",
       "        text-align: right;\n",
       "    }\n",
       "</style>\n",
       "<table border=\"1\" class=\"dataframe\">\n",
       "  <thead>\n",
       "    <tr style=\"text-align: right;\">\n",
       "      <th></th>\n",
       "      <th>Hypothesis</th>\n",
       "      <th>Reach</th>\n",
       "      <th>Impact</th>\n",
       "      <th>Confidence</th>\n",
       "      <th>Efforts</th>\n",
       "    </tr>\n",
       "  </thead>\n",
       "  <tbody>\n",
       "    <tr>\n",
       "      <th>0</th>\n",
       "      <td>Добавить два новых канала привлечения трафика, что позволит привлекать на 30% больше пользователей</td>\n",
       "      <td>3</td>\n",
       "      <td>10</td>\n",
       "      <td>8</td>\n",
       "      <td>6</td>\n",
       "    </tr>\n",
       "    <tr>\n",
       "      <th>1</th>\n",
       "      <td>Запустить собственную службу доставки, что сократит срок доставки заказов</td>\n",
       "      <td>2</td>\n",
       "      <td>5</td>\n",
       "      <td>4</td>\n",
       "      <td>10</td>\n",
       "    </tr>\n",
       "    <tr>\n",
       "      <th>2</th>\n",
       "      <td>Добавить блоки рекомендаций товаров на сайт интернет магазина, чтобы повысить конверсию и средний чек заказа</td>\n",
       "      <td>8</td>\n",
       "      <td>3</td>\n",
       "      <td>7</td>\n",
       "      <td>3</td>\n",
       "    </tr>\n",
       "    <tr>\n",
       "      <th>3</th>\n",
       "      <td>Изменить структура категорий, что увеличит конверсию, т.к. пользователи быстрее найдут нужный товар</td>\n",
       "      <td>8</td>\n",
       "      <td>3</td>\n",
       "      <td>3</td>\n",
       "      <td>8</td>\n",
       "    </tr>\n",
       "    <tr>\n",
       "      <th>4</th>\n",
       "      <td>Изменить цвет фона главной страницы, чтобы увеличить вовлеченность пользователей</td>\n",
       "      <td>3</td>\n",
       "      <td>1</td>\n",
       "      <td>1</td>\n",
       "      <td>1</td>\n",
       "    </tr>\n",
       "  </tbody>\n",
       "</table>\n",
       "</div>"
      ],
      "text/plain": [
       "                                                                                                     Hypothesis  \\\n",
       "0            Добавить два новых канала привлечения трафика, что позволит привлекать на 30% больше пользователей   \n",
       "1                                     Запустить собственную службу доставки, что сократит срок доставки заказов   \n",
       "2  Добавить блоки рекомендаций товаров на сайт интернет магазина, чтобы повысить конверсию и средний чек заказа   \n",
       "3           Изменить структура категорий, что увеличит конверсию, т.к. пользователи быстрее найдут нужный товар   \n",
       "4                              Изменить цвет фона главной страницы, чтобы увеличить вовлеченность пользователей   \n",
       "\n",
       "   Reach  Impact  Confidence  Efforts  \n",
       "0      3      10           8        6  \n",
       "1      2       5           4       10  \n",
       "2      8       3           7        3  \n",
       "3      8       3           3        8  \n",
       "4      3       1           1        1  "
      ]
     },
     "metadata": {},
     "output_type": "display_data"
    },
    {
     "data": {
      "text/plain": [
       "None"
      ]
     },
     "metadata": {},
     "output_type": "display_data"
    }
   ],
   "source": [
    "display(hypothesis.head(5),hypothesis.info())"
   ]
  },
  {
   "cell_type": "code",
   "execution_count": 5,
   "metadata": {},
   "outputs": [
    {
     "name": "stdout",
     "output_type": "stream",
     "text": [
      "<class 'pandas.core.frame.DataFrame'>\n",
      "RangeIndex: 1197 entries, 0 to 1196\n",
      "Data columns (total 5 columns):\n",
      " #   Column         Non-Null Count  Dtype \n",
      "---  ------         --------------  ----- \n",
      " 0   transactionId  1197 non-null   int64 \n",
      " 1   visitorId      1197 non-null   int64 \n",
      " 2   date           1197 non-null   object\n",
      " 3   revenue        1197 non-null   int64 \n",
      " 4   group          1197 non-null   object\n",
      "dtypes: int64(3), object(2)\n",
      "memory usage: 46.9+ KB\n"
     ]
    },
    {
     "data": {
      "text/html": [
       "<div>\n",
       "<style scoped>\n",
       "    .dataframe tbody tr th:only-of-type {\n",
       "        vertical-align: middle;\n",
       "    }\n",
       "\n",
       "    .dataframe tbody tr th {\n",
       "        vertical-align: top;\n",
       "    }\n",
       "\n",
       "    .dataframe thead th {\n",
       "        text-align: right;\n",
       "    }\n",
       "</style>\n",
       "<table border=\"1\" class=\"dataframe\">\n",
       "  <thead>\n",
       "    <tr style=\"text-align: right;\">\n",
       "      <th></th>\n",
       "      <th>transactionId</th>\n",
       "      <th>visitorId</th>\n",
       "      <th>date</th>\n",
       "      <th>revenue</th>\n",
       "      <th>group</th>\n",
       "    </tr>\n",
       "  </thead>\n",
       "  <tbody>\n",
       "    <tr>\n",
       "      <th>0</th>\n",
       "      <td>3667963787</td>\n",
       "      <td>3312258926</td>\n",
       "      <td>2019-08-15</td>\n",
       "      <td>1650</td>\n",
       "      <td>B</td>\n",
       "    </tr>\n",
       "    <tr>\n",
       "      <th>1</th>\n",
       "      <td>2804400009</td>\n",
       "      <td>3642806036</td>\n",
       "      <td>2019-08-15</td>\n",
       "      <td>730</td>\n",
       "      <td>B</td>\n",
       "    </tr>\n",
       "    <tr>\n",
       "      <th>2</th>\n",
       "      <td>2961555356</td>\n",
       "      <td>4069496402</td>\n",
       "      <td>2019-08-15</td>\n",
       "      <td>400</td>\n",
       "      <td>A</td>\n",
       "    </tr>\n",
       "    <tr>\n",
       "      <th>3</th>\n",
       "      <td>3797467345</td>\n",
       "      <td>1196621759</td>\n",
       "      <td>2019-08-15</td>\n",
       "      <td>9759</td>\n",
       "      <td>B</td>\n",
       "    </tr>\n",
       "    <tr>\n",
       "      <th>4</th>\n",
       "      <td>2282983706</td>\n",
       "      <td>2322279887</td>\n",
       "      <td>2019-08-15</td>\n",
       "      <td>2308</td>\n",
       "      <td>B</td>\n",
       "    </tr>\n",
       "  </tbody>\n",
       "</table>\n",
       "</div>"
      ],
      "text/plain": [
       "   transactionId   visitorId        date  revenue group\n",
       "0     3667963787  3312258926  2019-08-15     1650     B\n",
       "1     2804400009  3642806036  2019-08-15      730     B\n",
       "2     2961555356  4069496402  2019-08-15      400     A\n",
       "3     3797467345  1196621759  2019-08-15     9759     B\n",
       "4     2282983706  2322279887  2019-08-15     2308     B"
      ]
     },
     "metadata": {},
     "output_type": "display_data"
    },
    {
     "data": {
      "text/plain": [
       "None"
      ]
     },
     "metadata": {},
     "output_type": "display_data"
    }
   ],
   "source": [
    "display(orders.head(5),orders.info())"
   ]
  },
  {
   "cell_type": "code",
   "execution_count": 6,
   "metadata": {},
   "outputs": [
    {
     "name": "stdout",
     "output_type": "stream",
     "text": [
      "<class 'pandas.core.frame.DataFrame'>\n",
      "RangeIndex: 62 entries, 0 to 61\n",
      "Data columns (total 3 columns):\n",
      " #   Column    Non-Null Count  Dtype \n",
      "---  ------    --------------  ----- \n",
      " 0   date      62 non-null     object\n",
      " 1   group     62 non-null     object\n",
      " 2   visitors  62 non-null     int64 \n",
      "dtypes: int64(1), object(2)\n",
      "memory usage: 1.6+ KB\n"
     ]
    },
    {
     "data": {
      "text/html": [
       "<div>\n",
       "<style scoped>\n",
       "    .dataframe tbody tr th:only-of-type {\n",
       "        vertical-align: middle;\n",
       "    }\n",
       "\n",
       "    .dataframe tbody tr th {\n",
       "        vertical-align: top;\n",
       "    }\n",
       "\n",
       "    .dataframe thead th {\n",
       "        text-align: right;\n",
       "    }\n",
       "</style>\n",
       "<table border=\"1\" class=\"dataframe\">\n",
       "  <thead>\n",
       "    <tr style=\"text-align: right;\">\n",
       "      <th></th>\n",
       "      <th>date</th>\n",
       "      <th>group</th>\n",
       "      <th>visitors</th>\n",
       "    </tr>\n",
       "  </thead>\n",
       "  <tbody>\n",
       "    <tr>\n",
       "      <th>0</th>\n",
       "      <td>2019-08-01</td>\n",
       "      <td>A</td>\n",
       "      <td>719</td>\n",
       "    </tr>\n",
       "    <tr>\n",
       "      <th>1</th>\n",
       "      <td>2019-08-02</td>\n",
       "      <td>A</td>\n",
       "      <td>619</td>\n",
       "    </tr>\n",
       "    <tr>\n",
       "      <th>2</th>\n",
       "      <td>2019-08-03</td>\n",
       "      <td>A</td>\n",
       "      <td>507</td>\n",
       "    </tr>\n",
       "    <tr>\n",
       "      <th>3</th>\n",
       "      <td>2019-08-04</td>\n",
       "      <td>A</td>\n",
       "      <td>717</td>\n",
       "    </tr>\n",
       "    <tr>\n",
       "      <th>4</th>\n",
       "      <td>2019-08-05</td>\n",
       "      <td>A</td>\n",
       "      <td>756</td>\n",
       "    </tr>\n",
       "  </tbody>\n",
       "</table>\n",
       "</div>"
      ],
      "text/plain": [
       "         date group  visitors\n",
       "0  2019-08-01     A       719\n",
       "1  2019-08-02     A       619\n",
       "2  2019-08-03     A       507\n",
       "3  2019-08-04     A       717\n",
       "4  2019-08-05     A       756"
      ]
     },
     "metadata": {},
     "output_type": "display_data"
    },
    {
     "data": {
      "text/plain": [
       "None"
      ]
     },
     "metadata": {},
     "output_type": "display_data"
    }
   ],
   "source": [
    "display(visitors.head(5),visitors.info())"
   ]
  },
  {
   "cell_type": "code",
   "execution_count": 7,
   "metadata": {},
   "outputs": [
    {
     "data": {
      "text/plain": [
       "Hypothesis    0\n",
       "Reach         0\n",
       "Impact        0\n",
       "Confidence    0\n",
       "Efforts       0\n",
       "dtype: int64"
      ]
     },
     "metadata": {},
     "output_type": "display_data"
    },
    {
     "data": {
      "text/plain": [
       "transactionId    0\n",
       "visitorId        0\n",
       "date             0\n",
       "revenue          0\n",
       "group            0\n",
       "dtype: int64"
      ]
     },
     "metadata": {},
     "output_type": "display_data"
    },
    {
     "data": {
      "text/plain": [
       "date        0\n",
       "group       0\n",
       "visitors    0\n",
       "dtype: int64"
      ]
     },
     "metadata": {},
     "output_type": "display_data"
    }
   ],
   "source": [
    "display(hypothesis.isna().sum(), orders.isna().sum(), visitors.isna().sum())"
   ]
  },
  {
   "cell_type": "code",
   "execution_count": 8,
   "metadata": {},
   "outputs": [
    {
     "data": {
      "text/plain": [
       "(0, 0, 0)"
      ]
     },
     "execution_count": 8,
     "metadata": {},
     "output_type": "execute_result"
    }
   ],
   "source": [
    "hypothesis.duplicated().sum(),orders.duplicated().sum(),visitors.duplicated().sum()"
   ]
  },
  {
   "cell_type": "code",
   "execution_count": 9,
   "metadata": {},
   "outputs": [],
   "source": [
    "hypothesis.columns = hypothesis.columns.str.lower()"
   ]
  },
  {
   "cell_type": "code",
   "execution_count": 10,
   "metadata": {},
   "outputs": [],
   "source": [
    "orders['date'] = pd.to_datetime(orders['date'])\n",
    "visitors['date'] = pd.to_datetime(visitors['date'])"
   ]
  },
  {
   "cell_type": "markdown",
   "metadata": {},
   "source": [
    "Данные к анализу готовы:\n",
    "1. Пропусков и дубликатов нет\n",
    "2. В таблице hypothesis названия колонок переведены в правильный регистр\n",
    "3. В таблицах orders и visitors даты переведены в правильный формат"
   ]
  },
  {
   "cell_type": "code",
   "execution_count": 11,
   "metadata": {},
   "outputs": [
    {
     "name": "stdout",
     "output_type": "stream",
     "text": [
      "58\n"
     ]
    }
   ],
   "source": [
    "doubles = orders.groupby(['visitorId']).agg({'group' : 'nunique', 'transactionId' : 'count', 'revenue' : 'sum'}).reset_index()\n",
    "print(doubles[doubles.group != 1][\"visitorId\"].count())\n",
    "\n",
    "d_list = list(doubles[doubles.group != 1]['visitorId'])\n",
    "orders_good = orders.query('visitorId not in @d_list')\n"
   ]
  },
  {
   "cell_type": "markdown",
   "metadata": {},
   "source": [
    "## Часть 1. Приоритизация гипотез"
   ]
  },
  {
   "cell_type": "markdown",
   "metadata": {},
   "source": [
    "### Применение фреймворка ICE для приоритизации гипотез. Сортировка их по убыванию приоритета."
   ]
  },
  {
   "cell_type": "code",
   "execution_count": 12,
   "metadata": {},
   "outputs": [
    {
     "data": {
      "text/html": [
       "<div>\n",
       "<style scoped>\n",
       "    .dataframe tbody tr th:only-of-type {\n",
       "        vertical-align: middle;\n",
       "    }\n",
       "\n",
       "    .dataframe tbody tr th {\n",
       "        vertical-align: top;\n",
       "    }\n",
       "\n",
       "    .dataframe thead th {\n",
       "        text-align: right;\n",
       "    }\n",
       "</style>\n",
       "<table border=\"1\" class=\"dataframe\">\n",
       "  <thead>\n",
       "    <tr style=\"text-align: right;\">\n",
       "      <th></th>\n",
       "      <th>hypothesis</th>\n",
       "      <th>ICE</th>\n",
       "    </tr>\n",
       "  </thead>\n",
       "  <tbody>\n",
       "    <tr>\n",
       "      <th>8</th>\n",
       "      <td>Запустить акцию, дающую скидку на товар в день рождения</td>\n",
       "      <td>16.20</td>\n",
       "    </tr>\n",
       "    <tr>\n",
       "      <th>0</th>\n",
       "      <td>Добавить два новых канала привлечения трафика, что позволит привлекать на 30% больше пользователей</td>\n",
       "      <td>13.33</td>\n",
       "    </tr>\n",
       "    <tr>\n",
       "      <th>7</th>\n",
       "      <td>Добавить форму подписки на все основные страницы, чтобы собрать базу клиентов для email-рассылок</td>\n",
       "      <td>11.20</td>\n",
       "    </tr>\n",
       "    <tr>\n",
       "      <th>6</th>\n",
       "      <td>Показать на главной странице баннеры с актуальными акциями и распродажами, чтобы увеличить конверсию</td>\n",
       "      <td>8.00</td>\n",
       "    </tr>\n",
       "    <tr>\n",
       "      <th>2</th>\n",
       "      <td>Добавить блоки рекомендаций товаров на сайт интернет магазина, чтобы повысить конверсию и средний чек заказа</td>\n",
       "      <td>7.00</td>\n",
       "    </tr>\n",
       "    <tr>\n",
       "      <th>1</th>\n",
       "      <td>Запустить собственную службу доставки, что сократит срок доставки заказов</td>\n",
       "      <td>2.00</td>\n",
       "    </tr>\n",
       "    <tr>\n",
       "      <th>5</th>\n",
       "      <td>Добавить страницу отзывов клиентов о магазине, что позволит увеличить количество заказов</td>\n",
       "      <td>1.33</td>\n",
       "    </tr>\n",
       "    <tr>\n",
       "      <th>3</th>\n",
       "      <td>Изменить структура категорий, что увеличит конверсию, т.к. пользователи быстрее найдут нужный товар</td>\n",
       "      <td>1.12</td>\n",
       "    </tr>\n",
       "    <tr>\n",
       "      <th>4</th>\n",
       "      <td>Изменить цвет фона главной страницы, чтобы увеличить вовлеченность пользователей</td>\n",
       "      <td>1.00</td>\n",
       "    </tr>\n",
       "  </tbody>\n",
       "</table>\n",
       "</div>"
      ],
      "text/plain": [
       "                                                                                                     hypothesis  \\\n",
       "8                                                       Запустить акцию, дающую скидку на товар в день рождения   \n",
       "0            Добавить два новых канала привлечения трафика, что позволит привлекать на 30% больше пользователей   \n",
       "7              Добавить форму подписки на все основные страницы, чтобы собрать базу клиентов для email-рассылок   \n",
       "6          Показать на главной странице баннеры с актуальными акциями и распродажами, чтобы увеличить конверсию   \n",
       "2  Добавить блоки рекомендаций товаров на сайт интернет магазина, чтобы повысить конверсию и средний чек заказа   \n",
       "1                                     Запустить собственную службу доставки, что сократит срок доставки заказов   \n",
       "5                      Добавить страницу отзывов клиентов о магазине, что позволит увеличить количество заказов   \n",
       "3           Изменить структура категорий, что увеличит конверсию, т.к. пользователи быстрее найдут нужный товар   \n",
       "4                              Изменить цвет фона главной страницы, чтобы увеличить вовлеченность пользователей   \n",
       "\n",
       "     ICE  \n",
       "8  16.20  \n",
       "0  13.33  \n",
       "7  11.20  \n",
       "6   8.00  \n",
       "2   7.00  \n",
       "1   2.00  \n",
       "5   1.33  \n",
       "3   1.12  \n",
       "4   1.00  "
      ]
     },
     "execution_count": 12,
     "metadata": {},
     "output_type": "execute_result"
    }
   ],
   "source": [
    "hypothesis['ICE'] = hypothesis['impact'] * hypothesis['confidence']  / hypothesis['efforts']\n",
    "hypothesis[['hypothesis','ICE']].sort_values(by='ICE', ascending=False).round(2)"
   ]
  },
  {
   "cell_type": "markdown",
   "metadata": {},
   "source": [
    "Лидер - гипотеза 8"
   ]
  },
  {
   "cell_type": "markdown",
   "metadata": {},
   "source": [
    "### Применение фреймворка RICE  для приоритизации гипотез. Сортировка их по убыванию приоритета."
   ]
  },
  {
   "cell_type": "code",
   "execution_count": 13,
   "metadata": {},
   "outputs": [
    {
     "data": {
      "text/html": [
       "<div>\n",
       "<style scoped>\n",
       "    .dataframe tbody tr th:only-of-type {\n",
       "        vertical-align: middle;\n",
       "    }\n",
       "\n",
       "    .dataframe tbody tr th {\n",
       "        vertical-align: top;\n",
       "    }\n",
       "\n",
       "    .dataframe thead th {\n",
       "        text-align: right;\n",
       "    }\n",
       "</style>\n",
       "<table border=\"1\" class=\"dataframe\">\n",
       "  <thead>\n",
       "    <tr style=\"text-align: right;\">\n",
       "      <th></th>\n",
       "      <th>hypothesis</th>\n",
       "      <th>RICE</th>\n",
       "    </tr>\n",
       "  </thead>\n",
       "  <tbody>\n",
       "    <tr>\n",
       "      <th>7</th>\n",
       "      <td>Добавить форму подписки на все основные страницы, чтобы собрать базу клиентов для email-рассылок</td>\n",
       "      <td>112.0</td>\n",
       "    </tr>\n",
       "    <tr>\n",
       "      <th>2</th>\n",
       "      <td>Добавить блоки рекомендаций товаров на сайт интернет магазина, чтобы повысить конверсию и средний чек заказа</td>\n",
       "      <td>56.0</td>\n",
       "    </tr>\n",
       "    <tr>\n",
       "      <th>0</th>\n",
       "      <td>Добавить два новых канала привлечения трафика, что позволит привлекать на 30% больше пользователей</td>\n",
       "      <td>40.0</td>\n",
       "    </tr>\n",
       "    <tr>\n",
       "      <th>6</th>\n",
       "      <td>Показать на главной странице баннеры с актуальными акциями и распродажами, чтобы увеличить конверсию</td>\n",
       "      <td>40.0</td>\n",
       "    </tr>\n",
       "    <tr>\n",
       "      <th>8</th>\n",
       "      <td>Запустить акцию, дающую скидку на товар в день рождения</td>\n",
       "      <td>16.2</td>\n",
       "    </tr>\n",
       "    <tr>\n",
       "      <th>3</th>\n",
       "      <td>Изменить структура категорий, что увеличит конверсию, т.к. пользователи быстрее найдут нужный товар</td>\n",
       "      <td>9.0</td>\n",
       "    </tr>\n",
       "    <tr>\n",
       "      <th>1</th>\n",
       "      <td>Запустить собственную службу доставки, что сократит срок доставки заказов</td>\n",
       "      <td>4.0</td>\n",
       "    </tr>\n",
       "    <tr>\n",
       "      <th>5</th>\n",
       "      <td>Добавить страницу отзывов клиентов о магазине, что позволит увеличить количество заказов</td>\n",
       "      <td>4.0</td>\n",
       "    </tr>\n",
       "    <tr>\n",
       "      <th>4</th>\n",
       "      <td>Изменить цвет фона главной страницы, чтобы увеличить вовлеченность пользователей</td>\n",
       "      <td>3.0</td>\n",
       "    </tr>\n",
       "  </tbody>\n",
       "</table>\n",
       "</div>"
      ],
      "text/plain": [
       "                                                                                                     hypothesis  \\\n",
       "7              Добавить форму подписки на все основные страницы, чтобы собрать базу клиентов для email-рассылок   \n",
       "2  Добавить блоки рекомендаций товаров на сайт интернет магазина, чтобы повысить конверсию и средний чек заказа   \n",
       "0            Добавить два новых канала привлечения трафика, что позволит привлекать на 30% больше пользователей   \n",
       "6          Показать на главной странице баннеры с актуальными акциями и распродажами, чтобы увеличить конверсию   \n",
       "8                                                       Запустить акцию, дающую скидку на товар в день рождения   \n",
       "3           Изменить структура категорий, что увеличит конверсию, т.к. пользователи быстрее найдут нужный товар   \n",
       "1                                     Запустить собственную службу доставки, что сократит срок доставки заказов   \n",
       "5                      Добавить страницу отзывов клиентов о магазине, что позволит увеличить количество заказов   \n",
       "4                              Изменить цвет фона главной страницы, чтобы увеличить вовлеченность пользователей   \n",
       "\n",
       "    RICE  \n",
       "7  112.0  \n",
       "2   56.0  \n",
       "0   40.0  \n",
       "6   40.0  \n",
       "8   16.2  \n",
       "3    9.0  \n",
       "1    4.0  \n",
       "5    4.0  \n",
       "4    3.0  "
      ]
     },
     "execution_count": 13,
     "metadata": {},
     "output_type": "execute_result"
    }
   ],
   "source": [
    "hypothesis['RICE'] = hypothesis['reach'] * hypothesis['impact'] * hypothesis['confidence'] / hypothesis['efforts']\n",
    "hypothesis[['hypothesis','RICE']].sort_values(by='RICE', ascending=False).round(2)"
   ]
  },
  {
   "cell_type": "markdown",
   "metadata": {},
   "source": [
    "Лидер - гипотеза 7"
   ]
  },
  {
   "cell_type": "markdown",
   "metadata": {},
   "source": [
    "### Как изменилась приоритизация гипотез при применении RICE вместо ICE"
   ]
  },
  {
   "cell_type": "code",
   "execution_count": 14,
   "metadata": {},
   "outputs": [
    {
     "data": {
      "text/html": [
       "<div>\n",
       "<style scoped>\n",
       "    .dataframe tbody tr th:only-of-type {\n",
       "        vertical-align: middle;\n",
       "    }\n",
       "\n",
       "    .dataframe tbody tr th {\n",
       "        vertical-align: top;\n",
       "    }\n",
       "\n",
       "    .dataframe thead th {\n",
       "        text-align: right;\n",
       "    }\n",
       "</style>\n",
       "<table border=\"1\" class=\"dataframe\">\n",
       "  <thead>\n",
       "    <tr style=\"text-align: right;\">\n",
       "      <th></th>\n",
       "      <th>hypothesis</th>\n",
       "      <th>reach</th>\n",
       "      <th>impact</th>\n",
       "      <th>confidence</th>\n",
       "      <th>efforts</th>\n",
       "      <th>ICE</th>\n",
       "      <th>RICE</th>\n",
       "    </tr>\n",
       "  </thead>\n",
       "  <tbody>\n",
       "    <tr>\n",
       "      <th>0</th>\n",
       "      <td>Добавить два новых канала привлечения трафика, что позволит привлекать на 30% больше пользователей</td>\n",
       "      <td>3</td>\n",
       "      <td>10</td>\n",
       "      <td>8</td>\n",
       "      <td>6</td>\n",
       "      <td>13.333333</td>\n",
       "      <td>40.0</td>\n",
       "    </tr>\n",
       "    <tr>\n",
       "      <th>1</th>\n",
       "      <td>Запустить собственную службу доставки, что сократит срок доставки заказов</td>\n",
       "      <td>2</td>\n",
       "      <td>5</td>\n",
       "      <td>4</td>\n",
       "      <td>10</td>\n",
       "      <td>2.000000</td>\n",
       "      <td>4.0</td>\n",
       "    </tr>\n",
       "    <tr>\n",
       "      <th>2</th>\n",
       "      <td>Добавить блоки рекомендаций товаров на сайт интернет магазина, чтобы повысить конверсию и средний чек заказа</td>\n",
       "      <td>8</td>\n",
       "      <td>3</td>\n",
       "      <td>7</td>\n",
       "      <td>3</td>\n",
       "      <td>7.000000</td>\n",
       "      <td>56.0</td>\n",
       "    </tr>\n",
       "    <tr>\n",
       "      <th>3</th>\n",
       "      <td>Изменить структура категорий, что увеличит конверсию, т.к. пользователи быстрее найдут нужный товар</td>\n",
       "      <td>8</td>\n",
       "      <td>3</td>\n",
       "      <td>3</td>\n",
       "      <td>8</td>\n",
       "      <td>1.125000</td>\n",
       "      <td>9.0</td>\n",
       "    </tr>\n",
       "    <tr>\n",
       "      <th>4</th>\n",
       "      <td>Изменить цвет фона главной страницы, чтобы увеличить вовлеченность пользователей</td>\n",
       "      <td>3</td>\n",
       "      <td>1</td>\n",
       "      <td>1</td>\n",
       "      <td>1</td>\n",
       "      <td>1.000000</td>\n",
       "      <td>3.0</td>\n",
       "    </tr>\n",
       "    <tr>\n",
       "      <th>5</th>\n",
       "      <td>Добавить страницу отзывов клиентов о магазине, что позволит увеличить количество заказов</td>\n",
       "      <td>3</td>\n",
       "      <td>2</td>\n",
       "      <td>2</td>\n",
       "      <td>3</td>\n",
       "      <td>1.333333</td>\n",
       "      <td>4.0</td>\n",
       "    </tr>\n",
       "    <tr>\n",
       "      <th>6</th>\n",
       "      <td>Показать на главной странице баннеры с актуальными акциями и распродажами, чтобы увеличить конверсию</td>\n",
       "      <td>5</td>\n",
       "      <td>3</td>\n",
       "      <td>8</td>\n",
       "      <td>3</td>\n",
       "      <td>8.000000</td>\n",
       "      <td>40.0</td>\n",
       "    </tr>\n",
       "    <tr>\n",
       "      <th>7</th>\n",
       "      <td>Добавить форму подписки на все основные страницы, чтобы собрать базу клиентов для email-рассылок</td>\n",
       "      <td>10</td>\n",
       "      <td>7</td>\n",
       "      <td>8</td>\n",
       "      <td>5</td>\n",
       "      <td>11.200000</td>\n",
       "      <td>112.0</td>\n",
       "    </tr>\n",
       "    <tr>\n",
       "      <th>8</th>\n",
       "      <td>Запустить акцию, дающую скидку на товар в день рождения</td>\n",
       "      <td>1</td>\n",
       "      <td>9</td>\n",
       "      <td>9</td>\n",
       "      <td>5</td>\n",
       "      <td>16.200000</td>\n",
       "      <td>16.2</td>\n",
       "    </tr>\n",
       "  </tbody>\n",
       "</table>\n",
       "</div>"
      ],
      "text/plain": [
       "                                                                                                     hypothesis  \\\n",
       "0            Добавить два новых канала привлечения трафика, что позволит привлекать на 30% больше пользователей   \n",
       "1                                     Запустить собственную службу доставки, что сократит срок доставки заказов   \n",
       "2  Добавить блоки рекомендаций товаров на сайт интернет магазина, чтобы повысить конверсию и средний чек заказа   \n",
       "3           Изменить структура категорий, что увеличит конверсию, т.к. пользователи быстрее найдут нужный товар   \n",
       "4                              Изменить цвет фона главной страницы, чтобы увеличить вовлеченность пользователей   \n",
       "5                      Добавить страницу отзывов клиентов о магазине, что позволит увеличить количество заказов   \n",
       "6          Показать на главной странице баннеры с актуальными акциями и распродажами, чтобы увеличить конверсию   \n",
       "7              Добавить форму подписки на все основные страницы, чтобы собрать базу клиентов для email-рассылок   \n",
       "8                                                       Запустить акцию, дающую скидку на товар в день рождения   \n",
       "\n",
       "   reach  impact  confidence  efforts        ICE   RICE  \n",
       "0      3      10           8        6  13.333333   40.0  \n",
       "1      2       5           4       10   2.000000    4.0  \n",
       "2      8       3           7        3   7.000000   56.0  \n",
       "3      8       3           3        8   1.125000    9.0  \n",
       "4      3       1           1        1   1.000000    3.0  \n",
       "5      3       2           2        3   1.333333    4.0  \n",
       "6      5       3           8        3   8.000000   40.0  \n",
       "7     10       7           8        5  11.200000  112.0  \n",
       "8      1       9           9        5  16.200000   16.2  "
      ]
     },
     "execution_count": 14,
     "metadata": {},
     "output_type": "execute_result"
    }
   ],
   "source": [
    "hypothesis"
   ]
  },
  {
   "cell_type": "markdown",
   "metadata": {},
   "source": [
    "При применении RICE гипотеза 7 заняла первое место, так как при расчете этого покзателя учитывается количество пользователей, а у этой гипотезы их 10 (наибольшее количество)"
   ]
  },
  {
   "cell_type": "markdown",
   "metadata": {},
   "source": [
    "## Часть 2. Анализ A/B-теста"
   ]
  },
  {
   "cell_type": "code",
   "execution_count": 15,
   "metadata": {},
   "outputs": [],
   "source": [
    "datesGroups = orders[['date', 'group']].drop_duplicates()\n",
    "\n",
    "ordersAggregated = datesGroups.apply(\n",
    "    lambda x: orders[np.logical_and(orders['date'] <= x['date'], orders['group'] == x['group'])].\\\n",
    "    agg({'date': 'max',\n",
    "        'group': 'max',\n",
    "        'transactionId': 'nunique',\n",
    "        'visitorId': 'nunique',\n",
    "        'revenue': 'sum'}), axis=1).sort_values(by=['date', 'group'])\n",
    "\n",
    "visitorsAggregated = datesGroups.apply(\n",
    "    lambda x: visitors[np.logical_and(visitors['date'] <= x['date'], visitors['group'] == x['group'])].\\\n",
    "    agg({'date': 'max', \n",
    "         'group': 'max', \n",
    "         'visitors': 'sum'}), axis=1).sort_values(by=['date', 'group'])\n",
    "\n",
    "cumulativeData = ordersAggregated.merge(\n",
    "    visitorsAggregated, left_on=['date', 'group'], right_on=['date', 'group'])\n",
    "cumulativeData.columns = [\n",
    "    'date',\n",
    "    'group',\n",
    "    'orders',\n",
    "    'buyers',\n",
    "    'revenue',\n",
    "    'visitors']\n",
    "\n",
    "cumulativeData['conversion'] = (\n",
    "    cumulativeData['orders'] / cumulativeData['visitors'])\n",
    "\n",
    "cumulativeDataA = cumulativeData[cumulativeData['group'] == 'A']\n",
    "cumulativeDataB = cumulativeData[cumulativeData['group'] == 'B']\n",
    "\n",
    "\n",
    "mergedCumulativeConversions = cumulativeDataA[['date','conversion']].merge(cumulativeDataB[['date','conversion']], left_on='date', right_on='date', how='left', suffixes=['A', 'B'])"
   ]
  },
  {
   "cell_type": "markdown",
   "metadata": {},
   "source": [
    "### График кумулятивной выручки по группам"
   ]
  },
  {
   "cell_type": "code",
   "execution_count": 16,
   "metadata": {
    "scrolled": false
   },
   "outputs": [
    {
     "data": {
      "image/png": "[encoded data removed]",
      "text/plain": [
       "<Figure size 720x720 with 1 Axes>"
      ]
     },
     "metadata": {
      "needs_background": "light"
     },
     "output_type": "display_data"
    }
   ],
   "source": [
    "cumulativeRevenueA = cumulativeData[cumulativeData['group']=='A'][['date','revenue', 'orders']]\n",
    "cumulativeRevenueB = cumulativeData[cumulativeData['group']=='B'][['date','revenue', 'orders']]\n",
    "plt.figure(figsize=(10,10))\n",
    "plt.plot(cumulativeRevenueA['date'], cumulativeRevenueA['revenue'], label='A')\n",
    "plt.plot(cumulativeRevenueB['date'], cumulativeRevenueB['revenue'], label='B')\n",
    "plt.title('График кумулятивной выручки по группам')\n",
    "plt.xlabel('Дата')\n",
    "plt.ylabel('Выручка')\n",
    "plt.xticks(rotation=45)\n",
    "plt.grid()\n",
    "plt.legend(); "
   ]
  },
  {
   "cell_type": "markdown",
   "metadata": {},
   "source": [
    "Наблюдается резкий скачок группы B, причиной может быть как увеличение числа заказов, так и появление дорогих заказов"
   ]
  },
  {
   "cell_type": "markdown",
   "metadata": {},
   "source": [
    "### График кумулятивного среднего чека по группам"
   ]
  },
  {
   "cell_type": "code",
   "execution_count": 17,
   "metadata": {},
   "outputs": [
    {
     "data": {
      "image/png": "[encoded data removed]",
      "text/plain": [
       "<Figure size 432x288 with 1 Axes>"
      ]
     },
     "metadata": {
      "needs_background": "light"
     },
     "output_type": "display_data"
    }
   ],
   "source": [
    "plt.plot(cumulativeRevenueA['date'], cumulativeRevenueA['revenue']/cumulativeRevenueA['orders'], label='A')\n",
    "plt.plot(cumulativeRevenueB['date'], cumulativeRevenueB['revenue']/cumulativeRevenueB['orders'], label='B')\n",
    "plt.title('График кумулятивного среднего чека по группам')\n",
    "plt.xlabel('Дата')\n",
    "plt.ylabel('Сумма среднего чека')\n",
    "plt.xticks(rotation=45)\n",
    "plt.grid()\n",
    "plt.legend();"
   ]
  },
  {
   "cell_type": "markdown",
   "metadata": {},
   "source": [
    "Аналогичная ситуация, возможно есть выбросы данных(аномальные значения).   \n",
    "Лидирует группа В, наблюдается резкий рост группы B c 17.08.2019, который совпадает с датой резкого роста выручки. В конце графика наблюдается стабильность, но группа В все также лидирует"
   ]
  },
  {
   "cell_type": "markdown",
   "metadata": {},
   "source": [
    "###  График относительного изменения кумулятивного среднего чека группы B к группе A"
   ]
  },
  {
   "cell_type": "code",
   "execution_count": 18,
   "metadata": {},
   "outputs": [
    {
     "data": {
      "image/png": "[encoded data removed]",
      "text/plain": [
       "<Figure size 432x288 with 1 Axes>"
      ]
     },
     "metadata": {
      "needs_background": "light"
     },
     "output_type": "display_data"
    }
   ],
   "source": [
    "mergedCumulativeRevenue = cumulativeRevenueA.merge(cumulativeRevenueB, left_on='date', right_on='date', how='left', suffixes=['A', 'B'])\n",
    "plt.plot(mergedCumulativeRevenue['date'], (mergedCumulativeRevenue['revenueB']/mergedCumulativeRevenue['ordersB'])/(mergedCumulativeRevenue['revenueA']/mergedCumulativeRevenue['ordersA'])-1)\n",
    "plt.axhline(y=0, color='black', linestyle='--') \n",
    "plt.title('График относительного изменения кумулятивного среднего чека группы B к группе A')\n",
    "plt.xlabel('Дата')\n",
    "plt.ylabel('Изменение среденего чека')\n",
    "plt.xticks(rotation=45);\n"
   ]
  },
  {
   "cell_type": "markdown",
   "metadata": {},
   "source": [
    "3 графика показывают нам одинаковую картину, наблюдается всплеск ориентировочно 17.08.2019"
   ]
  },
  {
   "cell_type": "markdown",
   "metadata": {},
   "source": [
    "###   График кумулятивного среднего количества заказов на посетителя по группам"
   ]
  },
  {
   "cell_type": "code",
   "execution_count": 19,
   "metadata": {},
   "outputs": [
    {
     "data": {
      "image/png": "[encoded data removed]",
      "text/plain": [
       "<Figure size 432x288 with 1 Axes>"
      ]
     },
     "metadata": {
      "needs_background": "light"
     },
     "output_type": "display_data"
    }
   ],
   "source": [
    "cumulativeData['count_orders'] = cumulativeData['orders']/cumulativeData['visitors']\n",
    "cumulativeDataA = cumulativeData[cumulativeData['group']=='A']\n",
    "cumulativeDataB = cumulativeData[cumulativeData['group']=='B']\n",
    "plt.plot(cumulativeDataA['date'], cumulativeDataA['count_orders'], label='A')\n",
    "plt.plot(cumulativeDataB['date'], cumulativeDataB['count_orders'], label='B')\n",
    "plt.title('График кумулятивного среднего количества заказов на посетителя по группам')\n",
    "plt.xlabel('Дата')\n",
    "plt.ylabel('Количество заказов')\n",
    "plt.xticks(rotation=45)\n",
    "plt.grid()\n",
    "plt.legend();"
   ]
  },
  {
   "cell_type": "markdown",
   "metadata": {},
   "source": [
    "Группы начали с разных позиций, группа A постепенно просела, а группа B стабилизировалась, выше группы A"
   ]
  },
  {
   "cell_type": "markdown",
   "metadata": {},
   "source": [
    "###  График относительного изменения кумулятивного среднего количества заказов на посетителя группы B к группе A"
   ]
  },
  {
   "cell_type": "code",
   "execution_count": 20,
   "metadata": {},
   "outputs": [
    {
     "data": {
      "image/png": "[encoded data removed]",
      "text/plain": [
       "<Figure size 432x288 with 1 Axes>"
      ]
     },
     "metadata": {
      "needs_background": "light"
     },
     "output_type": "display_data"
    }
   ],
   "source": [
    "mergedCumulativeСount_orders = cumulativeDataA[['date','count_orders']].merge(cumulativeDataB[['date','count_orders']], left_on='date', right_on='date', how='left', suffixes=['A', 'B'])\n",
    "\n",
    "plt.plot(mergedCumulativeСount_orders['date'], mergedCumulativeСount_orders['count_ordersB']/mergedCumulativeСount_orders['count_ordersA']-1, label=\"Относительное изменение кумулятивного среднего количества заказов группы B относительно группы A\")\n",
    "plt.title('График относительного изменения кумулятивного среднего количества заказов на посетителя группы B к группе A')\n",
    "plt.xlabel('Дата')\n",
    "plt.ylabel('Относительные изменение количества')\n",
    "plt.xticks(rotation=45)\n",
    "plt.axhline(y=0, color='black', linestyle='--')\n",
    "plt.grid()\n",
    "plt.legend();\n"
   ]
  },
  {
   "cell_type": "markdown",
   "metadata": {},
   "source": [
    "Группа В лидирует по значениями среднего количества заказов на посетителя, график закрепился ориентировочно с 21.08.2019"
   ]
  },
  {
   "cell_type": "markdown",
   "metadata": {},
   "source": [
    "###  Точечный график количества заказов по пользователям"
   ]
  },
  {
   "cell_type": "code",
   "execution_count": 21,
   "metadata": {},
   "outputs": [],
   "source": [
    "ordersByUsers = (\n",
    "    orders.groupby('visitorId', as_index=False)\n",
    "    .agg({'transactionId': 'nunique'}))\n",
    "\n",
    "ordersByUsers.columns = ['userId', 'orders']"
   ]
  },
  {
   "cell_type": "code",
   "execution_count": 22,
   "metadata": {},
   "outputs": [
    {
     "data": {
      "text/html": [
       "<div>\n",
       "<style scoped>\n",
       "    .dataframe tbody tr th:only-of-type {\n",
       "        vertical-align: middle;\n",
       "    }\n",
       "\n",
       "    .dataframe tbody tr th {\n",
       "        vertical-align: top;\n",
       "    }\n",
       "\n",
       "    .dataframe thead th {\n",
       "        text-align: right;\n",
       "    }\n",
       "</style>\n",
       "<table border=\"1\" class=\"dataframe\">\n",
       "  <thead>\n",
       "    <tr style=\"text-align: right;\">\n",
       "      <th></th>\n",
       "      <th>userId</th>\n",
       "      <th>orders</th>\n",
       "    </tr>\n",
       "  </thead>\n",
       "  <tbody>\n",
       "    <tr>\n",
       "      <th>0</th>\n",
       "      <td>5114589</td>\n",
       "      <td>1</td>\n",
       "    </tr>\n",
       "    <tr>\n",
       "      <th>1</th>\n",
       "      <td>6958315</td>\n",
       "      <td>1</td>\n",
       "    </tr>\n",
       "    <tr>\n",
       "      <th>2</th>\n",
       "      <td>8300375</td>\n",
       "      <td>2</td>\n",
       "    </tr>\n",
       "    <tr>\n",
       "      <th>3</th>\n",
       "      <td>11685486</td>\n",
       "      <td>1</td>\n",
       "    </tr>\n",
       "    <tr>\n",
       "      <th>4</th>\n",
       "      <td>39475350</td>\n",
       "      <td>1</td>\n",
       "    </tr>\n",
       "    <tr>\n",
       "      <th>...</th>\n",
       "      <td>...</td>\n",
       "      <td>...</td>\n",
       "    </tr>\n",
       "    <tr>\n",
       "      <th>1026</th>\n",
       "      <td>4266935830</td>\n",
       "      <td>2</td>\n",
       "    </tr>\n",
       "    <tr>\n",
       "      <th>1027</th>\n",
       "      <td>4278982564</td>\n",
       "      <td>1</td>\n",
       "    </tr>\n",
       "    <tr>\n",
       "      <th>1028</th>\n",
       "      <td>4279090005</td>\n",
       "      <td>1</td>\n",
       "    </tr>\n",
       "    <tr>\n",
       "      <th>1029</th>\n",
       "      <td>4281247801</td>\n",
       "      <td>1</td>\n",
       "    </tr>\n",
       "    <tr>\n",
       "      <th>1030</th>\n",
       "      <td>4283872382</td>\n",
       "      <td>1</td>\n",
       "    </tr>\n",
       "  </tbody>\n",
       "</table>\n",
       "<p>1031 rows × 2 columns</p>\n",
       "</div>"
      ],
      "text/plain": [
       "          userId  orders\n",
       "0        5114589       1\n",
       "1        6958315       1\n",
       "2        8300375       2\n",
       "3       11685486       1\n",
       "4       39475350       1\n",
       "...          ...     ...\n",
       "1026  4266935830       2\n",
       "1027  4278982564       1\n",
       "1028  4279090005       1\n",
       "1029  4281247801       1\n",
       "1030  4283872382       1\n",
       "\n",
       "[1031 rows x 2 columns]"
      ]
     },
     "execution_count": 22,
     "metadata": {},
     "output_type": "execute_result"
    }
   ],
   "source": [
    "ordersByUsers"
   ]
  },
  {
   "cell_type": "code",
   "execution_count": 23,
   "metadata": {},
   "outputs": [
    {
     "data": {
      "image/png": "[encoded data removed]",
      "text/plain": [
       "<Figure size 432x288 with 1 Axes>"
      ]
     },
     "metadata": {
      "needs_background": "light"
     },
     "output_type": "display_data"
    }
   ],
   "source": [
    "x_values = pd.Series(range(0,len(ordersByUsers)))\n",
    "\n",
    "plt.scatter(x_values, ordersByUsers['orders'])\n",
    "plt.title('Точечный график количества заказов по пользователям')\n",
    "plt.grid()\n",
    "plt.xlabel('Кол-во пользователей')\n",
    "plt.ylabel('Кол-во заказов');"
   ]
  },
  {
   "cell_type": "markdown",
   "metadata": {},
   "source": [
    "Большинство пользователей заказывают 1 раз, меньшее количество 2 раза, 3 и более вероятно - аномальные значения"
   ]
  },
  {
   "cell_type": "markdown",
   "metadata": {},
   "source": [
    "###  95-й и 99-й перцентили количества заказов на пользователя"
   ]
  },
  {
   "cell_type": "code",
   "execution_count": 24,
   "metadata": {},
   "outputs": [
    {
     "name": "stdout",
     "output_type": "stream",
     "text": [
      "95 перцентиль: 2.00\n",
      "99 перцентиль: 4.00\n"
     ]
    }
   ],
   "source": [
    "print('95 перцентиль: %.2f' % (np.percentile(ordersByUsers['orders'], [95])))\n",
    "print('99 перцентиль: %.2f' % (np.percentile(ordersByUsers['orders'], [99])))"
   ]
  },
  {
   "cell_type": "code",
   "execution_count": 25,
   "metadata": {},
   "outputs": [
    {
     "data": {
      "text/plain": [
       "2.909796314258002"
      ]
     },
     "execution_count": 25,
     "metadata": {},
     "output_type": "execute_result"
    }
   ],
   "source": [
    "(ordersByUsers.query('orders > 2')['orders'].count()/ordersByUsers['orders'].count())*100"
   ]
  },
  {
   "cell_type": "markdown",
   "metadata": {},
   "source": [
    "Около 3% пользователей оформили больше 2 заказов, можно отсеять как аномальных пользователей с 3 и более заказами"
   ]
  },
  {
   "cell_type": "markdown",
   "metadata": {},
   "source": [
    "###  Точечный график стоимостей заказов"
   ]
  },
  {
   "cell_type": "code",
   "execution_count": 26,
   "metadata": {
    "scrolled": true
   },
   "outputs": [
    {
     "data": {
      "image/png": "[encoded data removed]",
      "text/plain": [
       "<Figure size 432x288 with 1 Axes>"
      ]
     },
     "metadata": {
      "needs_background": "light"
     },
     "output_type": "display_data"
    }
   ],
   "source": [
    "x_values = pd.Series(range(0,len(orders['revenue'])))\n",
    "plt.scatter(x_values, orders['revenue'])\n",
    "plt.title('Точечный график стоимостей заказов')\n",
    "plt.grid()\n",
    "plt.xlabel('Кол-во пользователей')\n",
    "plt.ylabel('Стоимость заказа');"
   ]
  },
  {
   "cell_type": "markdown",
   "metadata": {},
   "source": [
    "На графике видны два выброса (аномальных значения)"
   ]
  },
  {
   "cell_type": "code",
   "execution_count": 27,
   "metadata": {},
   "outputs": [
    {
     "data": {
      "image/png": "[encoded data removed]",
      "text/plain": [
       "<Figure size 432x288 with 1 Axes>"
      ]
     },
     "metadata": {
      "needs_background": "light"
     },
     "output_type": "display_data"
    }
   ],
   "source": [
    "norm_orders = orders[orders['revenue']<=200000]['revenue']\n",
    "x_values = pd.Series(range(0,len(norm_orders)))\n",
    "plt.scatter(x_values, norm_orders)\n",
    "plt.title('Точечный график стоимостей заказов без выбросов')\n",
    "plt.grid()\n",
    "plt.xlabel('Кол-во пользователей')\n",
    "plt.ylabel('Стоимость заказа');"
   ]
  },
  {
   "cell_type": "markdown",
   "metadata": {},
   "source": [
    "###  95-й и 99-й перцентили стоимости заказов"
   ]
  },
  {
   "cell_type": "code",
   "execution_count": 28,
   "metadata": {},
   "outputs": [
    {
     "name": "stdout",
     "output_type": "stream",
     "text": [
      "95 перцентиль: 28000.00\n",
      "99 перцентиль: 58233.20\n"
     ]
    }
   ],
   "source": [
    "print('95 перцентиль: %.2f' % (np.percentile(orders['revenue'], [95])))\n",
    "print('99 перцентиль: %.2f' % (np.percentile(orders['revenue'], [99])))"
   ]
  },
  {
   "cell_type": "code",
   "execution_count": 29,
   "metadata": {},
   "outputs": [
    {
     "data": {
      "text/plain": [
       "3.091060985797828"
      ]
     },
     "execution_count": 29,
     "metadata": {},
     "output_type": "execute_result"
    }
   ],
   "source": [
    "orders.query('revenue > 35000')['revenue'].count()/orders['revenue'].count()*100"
   ]
  },
  {
   "cell_type": "markdown",
   "metadata": {},
   "source": [
    "Как аномальные можно отсеять заказы стоимостью выше 35000 рублей"
   ]
  },
  {
   "cell_type": "markdown",
   "metadata": {},
   "source": [
    "### Посчитаем статистическую значимость различий в среднем количестве заказов на посетителя между группами по «сырым» данным"
   ]
  },
  {
   "cell_type": "markdown",
   "metadata": {},
   "source": [
    "Нулевая гипотеза H0 - статистически значимых различий в количестве заказов между группами нет  \n",
    "Альтернативная гипотеза Н1 - статистически значимые различия есть  "
   ]
  },
  {
   "cell_type": "code",
   "execution_count": 30,
   "metadata": {},
   "outputs": [],
   "source": [
    "visitorsADaily = visitors[visitors['group'] == 'A'][['date', 'visitors']]\n",
    "visitorsADaily.columns = ['date', 'visitorsPerDateA']\n",
    "\n",
    "visitorsACummulative = visitorsADaily.apply(\n",
    "    lambda x: visitorsADaily[visitorsADaily['date'] <= x['date']].agg(\n",
    "        {'date': 'max', 'visitorsPerDateA': 'sum'}), axis=1)\n",
    "visitorsACummulative.columns = ['date', 'visitorsCummulativeA']\n",
    "\n",
    "visitorsBDaily = visitors[visitors['group'] == 'B'][['date', 'visitors']]\n",
    "visitorsBDaily.columns = ['date', 'visitorsPerDateB']\n",
    "\n",
    "visitorsBCummulative = visitorsBDaily.apply(\n",
    "    lambda x: visitorsBDaily[visitorsBDaily['date'] <= x['date']].agg(\n",
    "        {'date': 'max', 'visitorsPerDateB': 'sum'}), axis=1)\n",
    "visitorsBCummulative.columns = ['date', 'visitorsCummulativeB']\n",
    "ordersADaily = orders[orders['group']=='A'][['date', 'transactionId', 'visitorId', 'revenue']]\\\n",
    "    .groupby('date', as_index=False)\\\n",
    "    .agg({'transactionId' : pd.Series.nunique, 'revenue' : 'sum'})\n",
    "ordersADaily.columns = ['date', 'ordersPerDateA', 'revenuePerDateA']\n",
    "\n",
    "ordersACummulative = ordersADaily.apply(\n",
    "    lambda x: \\\n",
    "        ordersADaily[ordersADaily['date'] <= x['date']]\\\n",
    "            .agg({\n",
    "                'date' : 'max',\n",
    "                'ordersPerDateA' : 'sum',\n",
    "                'revenuePerDateA' : 'sum'}), axis=1).sort_values(by=['date'])\n",
    "ordersACummulative.columns = ['date', 'ordersCummulativeA', 'revenueCummulativeA']\n",
    "\n",
    "ordersBDaily = orders[orders['group']=='B'][['date', 'transactionId', 'visitorId', 'revenue']]\\\n",
    "    .groupby('date', as_index=False)\\\n",
    "    .agg({'transactionId' : pd.Series.nunique, 'revenue' : 'sum'})\n",
    "ordersBDaily.columns = ['date', 'ordersPerDateB', 'revenuePerDateB']\n",
    "\n",
    "ordersBCummulative = ordersBDaily.apply(\n",
    "    lambda x: \\\n",
    "        ordersBDaily[ordersBDaily['date'] <= x['date']]\\\n",
    "            .agg({\n",
    "                'date' : 'max',\n",
    "                'ordersPerDateB' : 'sum',\n",
    "                'revenuePerDateB' : 'sum'}), axis=1).sort_values(by=['date'])\n",
    "ordersBCummulative.columns = ['date', 'ordersCummulativeB', 'revenueCummulativeB']\n",
    "data = ordersADaily.merge(ordersBDaily, left_on='date', right_on='date', how='left')\\\n",
    "    .merge(ordersACummulative, left_on='date', right_on='date', how='left')\\\n",
    "    .merge(ordersBCummulative, left_on='date', right_on='date', how='left')\\\n",
    "    .merge(visitorsADaily, left_on='date', right_on='date', how='left')\\\n",
    "    .merge(visitorsBDaily, left_on='date', right_on='date', how='left')\\\n",
    "    .merge(visitorsACummulative, left_on='date', right_on='date', how='left')\\\n",
    "    .merge(visitorsBCummulative, left_on='date', right_on='date', how='left')"
   ]
  },
  {
   "cell_type": "code",
   "execution_count": 31,
   "metadata": {
    "scrolled": false
   },
   "outputs": [
    {
     "data": {
      "text/plain": [
       "'alpha = 0.05'"
      ]
     },
     "metadata": {},
     "output_type": "display_data"
    },
    {
     "data": {
      "text/plain": [
       "'p-value = 0.017'"
      ]
     },
     "metadata": {},
     "output_type": "display_data"
    },
    {
     "data": {
      "text/plain": [
       "'относительный прирост количества заказов группы B = 0.138'"
      ]
     },
     "metadata": {},
     "output_type": "display_data"
    }
   ],
   "source": [
    "ordersByUsersA = (\n",
    "    orders[orders['group'] == 'A']\n",
    "    .groupby('visitorId', as_index=False)\n",
    "    .agg({'transactionId': pd.Series.nunique})\n",
    ")\n",
    "ordersByUsersA.columns = ['userId', 'orders']\n",
    "\n",
    "ordersByUsersB = (\n",
    "    orders[orders['group'] == 'B']\n",
    "    .groupby('visitorId', as_index=False)\n",
    "    .agg({'transactionId': pd.Series.nunique})\n",
    ")\n",
    "ordersByUsersB.columns = ['userId', 'orders']\n",
    "\n",
    "sampleA = pd.concat([ordersByUsersA['orders'],pd.Series(0, index=np.arange(data['visitorsPerDateA'].sum() - len(ordersByUsersA['orders'])), name='orders')],axis=0)\n",
    "\n",
    "sampleB = pd.concat([ordersByUsersB['orders'],pd.Series(0, index=np.arange(data['visitorsPerDateB'].sum() - len(ordersByUsersB['orders'])), name='orders')],axis=0)\n",
    "\n",
    "display(\"alpha = 0.05\")\n",
    "display(\"p-value = {0:.3f}\".format(st.mannwhitneyu(sampleA, sampleB)[1]))\n",
    "display(\"относительный прирост количества заказов группы B = {0:.3f}\".format(sampleB.mean()/sampleA.mean()-1))\n",
    " "
   ]
  },
  {
   "cell_type": "markdown",
   "metadata": {},
   "source": [
    "p-value < alpha, поэтому нулевую гипотезу отвергаем. Значит статистически значимые различия между группами А и В есть. Относительный прирост количества заказов группы B равен 14%"
   ]
  },
  {
   "cell_type": "markdown",
   "metadata": {},
   "source": [
    "### Посчитаем статистическую значимость различий в среднем чеке заказа между группами по «сырым» данным"
   ]
  },
  {
   "cell_type": "markdown",
   "metadata": {},
   "source": [
    "Нулевая гипотеза H0 - статистически значимых различий в среднем чеке заказа между группами нет  \n",
    "Альтернативная гипотеза Н1 - статистически значимые различия есть  "
   ]
  },
  {
   "cell_type": "code",
   "execution_count": 32,
   "metadata": {},
   "outputs": [
    {
     "data": {
      "text/plain": [
       "'alpha = 0.05'"
      ]
     },
     "metadata": {},
     "output_type": "display_data"
    },
    {
     "data": {
      "text/plain": [
       "'p-value = 0.729'"
      ]
     },
     "metadata": {},
     "output_type": "display_data"
    },
    {
     "data": {
      "text/plain": [
       "'Относительный показатель = 0.259'"
      ]
     },
     "metadata": {},
     "output_type": "display_data"
    }
   ],
   "source": [
    "display(\"alpha = 0.05\")\n",
    "display(\"p-value = {0:.3f}\".format(st.mannwhitneyu(orders[orders['group']=='A']['revenue'], orders[orders['group']=='B']['revenue'])[1]))\n",
    "display(\"Относительный показатель = {0:.3f}\".format(orders[orders['group']=='B']['revenue'].mean()/orders[orders['group']=='A']['revenue'].mean()-1)) "
   ]
  },
  {
   "cell_type": "markdown",
   "metadata": {},
   "source": [
    "p-value > alpha, поэтому нулевую гипотезу  не отвергаем. Значит статистически значимых различии между группами А и В нет. Относительный показатель, средний чек группы B выше на 26% возможно в связи с дорогим заказом"
   ]
  },
  {
   "cell_type": "markdown",
   "metadata": {},
   "source": [
    "###  Посчитаем статистическую значимость различий в среднем количестве заказов на посетителя между группами по «очищенным» данным"
   ]
  },
  {
   "cell_type": "markdown",
   "metadata": {},
   "source": [
    "Нулевая гипотеза H0 - статистически значимых различий в количестве заказов между группами нет.  \n",
    "Альтернативная гипотеза Н1 - статистически значимые различия есть "
   ]
  },
  {
   "cell_type": "code",
   "execution_count": 33,
   "metadata": {},
   "outputs": [
    {
     "name": "stdout",
     "output_type": "stream",
     "text": [
      "1099    148427295\n",
      "18      199603092\n",
      "23      237748145\n",
      "37      249864742\n",
      "684     358944393\n",
      "dtype: int64\n",
      "Всего аномальных пользователей = 53\n"
     ]
    }
   ],
   "source": [
    "usersWithManyOrders = pd.concat(\n",
    "    [\n",
    "        ordersByUsersA[ordersByUsersA['orders'] > 2]['userId'],\n",
    "        ordersByUsersB[ordersByUsersB['orders'] > 2]['userId'],\n",
    "    ],\n",
    "    axis=0,\n",
    ")\n",
    "usersWithExpensiveOrders = orders[orders['revenue'] > 35000]['visitorId']\n",
    "abnormalUsers = (\n",
    "    pd.concat([usersWithManyOrders, usersWithExpensiveOrders], axis=0)\n",
    "    .drop_duplicates()\n",
    "    .sort_values()\n",
    ")\n",
    "print(abnormalUsers.head(5))\n",
    "print(\"Всего аномальных пользователей =\" ,abnormalUsers.shape[0]) "
   ]
  },
  {
   "cell_type": "code",
   "execution_count": 34,
   "metadata": {},
   "outputs": [
    {
     "data": {
      "text/plain": [
       "'alpha = 0.05'"
      ]
     },
     "metadata": {},
     "output_type": "display_data"
    },
    {
     "data": {
      "text/plain": [
       "'p-value = 0.010'"
      ]
     },
     "metadata": {},
     "output_type": "display_data"
    },
    {
     "data": {
      "text/plain": [
       "'относительный прирост количества заказов группы B = 0.179'"
      ]
     },
     "metadata": {},
     "output_type": "display_data"
    }
   ],
   "source": [
    "sampleAFiltered = pd.concat([ordersByUsersA[np.logical_not(ordersByUsersA['userId'].isin(abnormalUsers))]['orders'], \\\n",
    "                             pd.Series(0, index=np.arange(data['visitorsPerDateA'].sum() - len(ordersByUsersA['orders'])), \\\n",
    "                                       name='orders')],axis=0)\n",
    "\n",
    "sampleBFiltered = pd.concat([ordersByUsersB[np.logical_not(ordersByUsersB['userId'].isin(abnormalUsers))]['orders'], \\\n",
    "                             pd.Series(0, index=np.arange(data['visitorsPerDateB'].sum() - len(ordersByUsersB['orders'])), \\\n",
    "                                       name='orders')],axis=0) \n",
    "display(\"alpha = 0.05\")\n",
    "display(\"p-value = {0:.3f}\".format(st.mannwhitneyu(sampleAFiltered, sampleBFiltered)[1]))\n",
    "display(\"относительный прирост количества заказов группы B = {0:.3f}\".format(sampleBFiltered.mean()/sampleAFiltered.mean()-1)) "
   ]
  },
  {
   "cell_type": "markdown",
   "metadata": {},
   "source": [
    "p-value < alpha, поэтому нулевую гипотезу  отвергаем. Значит статистически значимых различии между группами А и В есть. Относительный прирост количества заказов группы B равен 18% (выше, чем с 'сырыми' данными)"
   ]
  },
  {
   "cell_type": "markdown",
   "metadata": {},
   "source": [
    "###  Посчитаем статистическую значимость различий в среднем чеке заказа между группами по «очищенным» данным"
   ]
  },
  {
   "cell_type": "markdown",
   "metadata": {},
   "source": [
    "Нулевая гипотеза H0 - статистически значимых различий в средних чеках между группами нет  \n",
    "Альтернативная гипотеза Н1 - статистически значимые различия есть"
   ]
  },
  {
   "cell_type": "code",
   "execution_count": 35,
   "metadata": {},
   "outputs": [
    {
     "data": {
      "text/plain": [
       "'alpha = 0.05'"
      ]
     },
     "metadata": {},
     "output_type": "display_data"
    },
    {
     "data": {
      "text/plain": [
       "'p-value = 0.885'"
      ]
     },
     "metadata": {},
     "output_type": "display_data"
    },
    {
     "data": {
      "text/plain": [
       "'Относительный показатель В и А = 0.022'"
      ]
     },
     "metadata": {},
     "output_type": "display_data"
    }
   ],
   "source": [
    "display(\"alpha = 0.05\")\n",
    "display(\"p-value = {0:.3f}\".format(st.mannwhitneyu(\n",
    "    orders[np.logical_and(\n",
    "        orders['group']=='A',\n",
    "        np.logical_not(orders['visitorId'].isin(abnormalUsers)))]['revenue'],\n",
    "    orders[np.logical_and(\n",
    "        orders['group']=='B',\n",
    "        np.logical_not(orders['visitorId'].isin(abnormalUsers)))]['revenue'])[1]))\n",
    "\n",
    "display(\"Относительный показатель В и А = {0:.3f}\".format(\n",
    "    orders[np.logical_and(orders['group']=='B',np.logical_not(orders['visitorId'].isin(abnormalUsers)))]['revenue'].mean()/\n",
    "    orders[np.logical_and(\n",
    "        orders['group']=='A',\n",
    "        np.logical_not(orders['visitorId'].isin(abnormalUsers)))]['revenue'].mean() - 1)) "
   ]
  },
  {
   "cell_type": "markdown",
   "metadata": {},
   "source": [
    "p-value > alpha, поэтому нулевую гипотезу не отвергаем. Значит статистически значимых различии между группами А и В нет. Относительный показатель, средний чек группы B выше на 3% (по 'сырым' данным был выше на 26%)"
   ]
  },
  {
   "cell_type": "markdown",
   "metadata": {},
   "source": [
    "### Принятие решения по результатам теста"
   ]
  },
  {
   "cell_type": "markdown",
   "metadata": {},
   "source": [
    "1. Есть статистически значимое различие по количеству заказов между группами как по «сырым» данным, так и по «очищенным». У группы В количество заказов выше на 18% по \"очищенным\" данным и на 14% по \"сырым\"\n",
    "2. Нет статистически значимого различия по среднему чеку между группами. Исключение аномальных данных изменило значение относительного показателя среднего чека группы B (по \"сырым\" данным был выше на 26%, по «очищенным» - 3%)\n",
    "\n",
    "Основываясь на результатах проведенного А/В теста, рекомендую остановить тест и зафиксировать победу группы В, но обратить внимание на увеличение среднего чека \n",
    "\n",
    "\n",
    "\n"
   ]
  }
 ],
 "metadata": {
  "ExecuteTimeLog": [
   {
    "duration": 1354,
    "start_time": "2023-03-30T14:48:40.843Z"
   },
   {
    "duration": 260,
    "start_time": "2023-03-30T14:48:42.199Z"
   },
   {
    "duration": 3,
    "start_time": "2023-03-30T14:48:42.461Z"
   },
   {
    "duration": 26,
    "start_time": "2023-03-30T14:48:42.466Z"
   },
   {
    "duration": 24,
    "start_time": "2023-03-30T14:48:42.494Z"
   },
   {
    "duration": 15,
    "start_time": "2023-03-30T14:48:42.520Z"
   },
   {
    "duration": 15,
    "start_time": "2023-03-30T14:48:42.537Z"
   },
   {
    "duration": 7,
    "start_time": "2023-03-30T14:48:42.554Z"
   },
   {
    "duration": 5,
    "start_time": "2023-03-30T14:48:42.562Z"
   },
   {
    "duration": 6,
    "start_time": "2023-03-30T14:48:42.569Z"
   },
   {
    "duration": 48,
    "start_time": "2023-03-30T14:48:42.577Z"
   },
   {
    "duration": 13,
    "start_time": "2023-03-30T14:48:42.627Z"
   },
   {
    "duration": 12,
    "start_time": "2023-03-30T14:48:42.642Z"
   },
   {
    "duration": 317,
    "start_time": "2023-03-30T14:48:42.656Z"
   },
   {
    "duration": 323,
    "start_time": "2023-03-30T14:48:42.975Z"
   },
   {
    "duration": 214,
    "start_time": "2023-03-30T14:48:43.304Z"
   },
   {
    "duration": 332,
    "start_time": "2023-03-30T14:48:43.519Z"
   },
   {
    "duration": 221,
    "start_time": "2023-03-30T14:48:43.853Z"
   },
   {
    "duration": 356,
    "start_time": "2023-03-30T14:48:44.076Z"
   },
   {
    "duration": 7,
    "start_time": "2023-03-30T14:48:44.433Z"
   },
   {
    "duration": 26,
    "start_time": "2023-03-30T14:48:44.441Z"
   },
   {
    "duration": 147,
    "start_time": "2023-03-30T14:48:44.469Z"
   },
   {
    "duration": 6,
    "start_time": "2023-03-30T14:48:44.618Z"
   },
   {
    "duration": 8,
    "start_time": "2023-03-30T14:48:44.625Z"
   },
   {
    "duration": 164,
    "start_time": "2023-03-30T14:48:44.635Z"
   },
   {
    "duration": 8,
    "start_time": "2023-03-30T14:48:44.804Z"
   },
   {
    "duration": 15,
    "start_time": "2023-03-30T14:48:44.819Z"
   },
   {
    "duration": 229,
    "start_time": "2023-03-30T14:48:44.838Z"
   },
   {
    "duration": 195,
    "start_time": "2023-03-30T14:48:45.069Z"
   },
   {
    "duration": 12,
    "start_time": "2023-03-30T14:48:45.266Z"
   },
   {
    "duration": 38,
    "start_time": "2023-03-30T14:48:45.280Z"
   },
   {
    "duration": 30,
    "start_time": "2023-03-30T14:48:45.320Z"
   },
   {
    "duration": 17,
    "start_time": "2023-03-30T14:48:45.352Z"
   },
   {
    "duration": 6,
    "start_time": "2023-03-30T15:11:42.293Z"
   },
   {
    "duration": 7,
    "start_time": "2023-03-30T15:11:49.141Z"
   },
   {
    "duration": 5,
    "start_time": "2023-03-30T15:12:04.215Z"
   },
   {
    "duration": 54,
    "start_time": "2023-03-30T17:37:03.336Z"
   },
   {
    "duration": 1295,
    "start_time": "2023-03-30T17:37:10.469Z"
   },
   {
    "duration": 249,
    "start_time": "2023-03-30T17:37:11.766Z"
   },
   {
    "duration": 4,
    "start_time": "2023-03-30T17:37:12.016Z"
   },
   {
    "duration": 27,
    "start_time": "2023-03-30T17:37:12.022Z"
   },
   {
    "duration": 15,
    "start_time": "2023-03-30T17:37:12.051Z"
   },
   {
    "duration": 26,
    "start_time": "2023-03-30T17:37:12.068Z"
   },
   {
    "duration": 24,
    "start_time": "2023-03-30T17:37:12.095Z"
   },
   {
    "duration": 7,
    "start_time": "2023-03-30T17:37:12.121Z"
   },
   {
    "duration": 11,
    "start_time": "2023-03-30T17:37:12.129Z"
   },
   {
    "duration": 11,
    "start_time": "2023-03-30T17:37:12.142Z"
   },
   {
    "duration": 33,
    "start_time": "2023-03-30T17:37:12.154Z"
   },
   {
    "duration": 32,
    "start_time": "2023-03-30T17:37:12.189Z"
   },
   {
    "duration": 19,
    "start_time": "2023-03-30T17:37:12.222Z"
   },
   {
    "duration": 324,
    "start_time": "2023-03-30T17:37:12.242Z"
   },
   {
    "duration": 333,
    "start_time": "2023-03-30T17:37:12.568Z"
   },
   {
    "duration": 202,
    "start_time": "2023-03-30T17:37:12.902Z"
   },
   {
    "duration": 320,
    "start_time": "2023-03-30T17:37:13.106Z"
   },
   {
    "duration": 216,
    "start_time": "2023-03-30T17:37:13.428Z"
   },
   {
    "duration": 379,
    "start_time": "2023-03-30T17:37:13.646Z"
   },
   {
    "duration": 8,
    "start_time": "2023-03-30T17:37:14.027Z"
   },
   {
    "duration": 14,
    "start_time": "2023-03-30T17:37:14.036Z"
   },
   {
    "duration": 131,
    "start_time": "2023-03-30T17:37:14.051Z"
   },
   {
    "duration": 6,
    "start_time": "2023-03-30T17:37:14.184Z"
   },
   {
    "duration": 20,
    "start_time": "2023-03-30T17:37:14.191Z"
   },
   {
    "duration": 152,
    "start_time": "2023-03-30T17:37:14.213Z"
   },
   {
    "duration": 4,
    "start_time": "2023-03-30T17:37:14.367Z"
   },
   {
    "duration": 23,
    "start_time": "2023-03-30T17:37:14.372Z"
   },
   {
    "duration": 235,
    "start_time": "2023-03-30T17:37:14.397Z"
   },
   {
    "duration": 181,
    "start_time": "2023-03-30T17:37:14.634Z"
   },
   {
    "duration": 14,
    "start_time": "2023-03-30T17:37:14.817Z"
   },
   {
    "duration": 10,
    "start_time": "2023-03-30T17:37:14.834Z"
   },
   {
    "duration": 63,
    "start_time": "2023-03-30T17:37:14.845Z"
   },
   {
    "duration": 15,
    "start_time": "2023-03-30T17:37:14.910Z"
   },
   {
    "duration": 281,
    "start_time": "2023-03-30T17:39:07.818Z"
   },
   {
    "duration": 315,
    "start_time": "2023-03-30T17:45:51.874Z"
   },
   {
    "duration": 220,
    "start_time": "2023-03-30T17:47:08.297Z"
   },
   {
    "duration": 225,
    "start_time": "2023-03-30T17:48:26.071Z"
   },
   {
    "duration": 333,
    "start_time": "2023-03-30T17:52:12.919Z"
   },
   {
    "duration": 126,
    "start_time": "2023-03-30T17:56:33.620Z"
   },
   {
    "duration": 146,
    "start_time": "2023-03-30T17:57:21.700Z"
   },
   {
    "duration": 146,
    "start_time": "2023-03-30T17:57:45.259Z"
   },
   {
    "duration": 206,
    "start_time": "2023-03-30T18:00:05.241Z"
   },
   {
    "duration": 148,
    "start_time": "2023-03-30T18:00:39.167Z"
   },
   {
    "duration": 143,
    "start_time": "2023-03-30T18:00:57.256Z"
   },
   {
    "duration": 361,
    "start_time": "2023-03-30T18:06:21.770Z"
   },
   {
    "duration": 1173,
    "start_time": "2023-03-30T18:06:49.059Z"
   },
   {
    "duration": 128,
    "start_time": "2023-03-30T18:06:50.234Z"
   },
   {
    "duration": 3,
    "start_time": "2023-03-30T18:06:50.365Z"
   },
   {
    "duration": 48,
    "start_time": "2023-03-30T18:06:50.370Z"
   },
   {
    "duration": 30,
    "start_time": "2023-03-30T18:06:50.420Z"
   },
   {
    "duration": 29,
    "start_time": "2023-03-30T18:06:50.453Z"
   },
   {
    "duration": 14,
    "start_time": "2023-03-30T18:06:50.484Z"
   },
   {
    "duration": 12,
    "start_time": "2023-03-30T18:06:50.501Z"
   },
   {
    "duration": 6,
    "start_time": "2023-03-30T18:06:50.515Z"
   },
   {
    "duration": 11,
    "start_time": "2023-03-30T18:06:50.525Z"
   },
   {
    "duration": 51,
    "start_time": "2023-03-30T18:06:50.538Z"
   },
   {
    "duration": 17,
    "start_time": "2023-03-30T18:06:50.591Z"
   },
   {
    "duration": 23,
    "start_time": "2023-03-30T18:06:50.610Z"
   },
   {
    "duration": 322,
    "start_time": "2023-03-30T18:06:50.636Z"
   },
   {
    "duration": 348,
    "start_time": "2023-03-30T18:06:50.960Z"
   },
   {
    "duration": 209,
    "start_time": "2023-03-30T18:06:51.310Z"
   },
   {
    "duration": 297,
    "start_time": "2023-03-30T18:06:51.520Z"
   },
   {
    "duration": 250,
    "start_time": "2023-03-30T18:06:51.819Z"
   },
   {
    "duration": 366,
    "start_time": "2023-03-30T18:06:52.071Z"
   },
   {
    "duration": 7,
    "start_time": "2023-03-30T18:06:52.438Z"
   },
   {
    "duration": 11,
    "start_time": "2023-03-30T18:06:52.446Z"
   },
   {
    "duration": 159,
    "start_time": "2023-03-30T18:06:52.458Z"
   },
   {
    "duration": 5,
    "start_time": "2023-03-30T18:06:52.618Z"
   },
   {
    "duration": 12,
    "start_time": "2023-03-30T18:06:52.625Z"
   },
   {
    "duration": 185,
    "start_time": "2023-03-30T18:06:52.639Z"
   },
   {
    "duration": 189,
    "start_time": "2023-03-30T18:06:52.826Z"
   },
   {
    "duration": 5,
    "start_time": "2023-03-30T18:06:53.017Z"
   },
   {
    "duration": 8,
    "start_time": "2023-03-30T18:06:53.025Z"
   },
   {
    "duration": 320,
    "start_time": "2023-03-30T18:06:53.035Z"
   },
   {
    "duration": 165,
    "start_time": "2023-03-30T18:06:53.356Z"
   },
   {
    "duration": 14,
    "start_time": "2023-03-30T18:06:53.523Z"
   },
   {
    "duration": 13,
    "start_time": "2023-03-30T18:06:53.539Z"
   },
   {
    "duration": 57,
    "start_time": "2023-03-30T18:06:53.553Z"
   },
   {
    "duration": 15,
    "start_time": "2023-03-30T18:06:53.612Z"
   },
   {
    "duration": 57,
    "start_time": "2023-03-30T18:07:25.407Z"
   },
   {
    "duration": 57,
    "start_time": "2023-03-30T18:07:52.476Z"
   },
   {
    "duration": 132,
    "start_time": "2023-03-30T18:10:41.851Z"
   },
   {
    "duration": 13,
    "start_time": "2023-03-30T18:11:16.626Z"
   },
   {
    "duration": 12,
    "start_time": "2023-03-30T18:11:23.698Z"
   },
   {
    "duration": 739,
    "start_time": "2023-03-30T18:11:51.395Z"
   },
   {
    "duration": 21,
    "start_time": "2023-03-30T18:12:05.290Z"
   },
   {
    "duration": 22,
    "start_time": "2023-03-30T18:12:46.688Z"
   },
   {
    "duration": 13,
    "start_time": "2023-03-30T18:13:58.239Z"
   },
   {
    "duration": 11,
    "start_time": "2023-03-30T18:16:47.149Z"
   },
   {
    "duration": 21,
    "start_time": "2023-03-30T18:17:15.635Z"
   },
   {
    "duration": 18,
    "start_time": "2023-03-30T18:17:20.932Z"
   },
   {
    "duration": 11,
    "start_time": "2023-03-30T18:18:22.468Z"
   },
   {
    "duration": 16,
    "start_time": "2023-03-30T18:18:30.457Z"
   },
   {
    "duration": 1208,
    "start_time": "2023-03-30T18:18:40.653Z"
   },
   {
    "duration": 97,
    "start_time": "2023-03-30T18:18:41.863Z"
   },
   {
    "duration": 3,
    "start_time": "2023-03-30T18:18:41.962Z"
   },
   {
    "duration": 21,
    "start_time": "2023-03-30T18:18:41.967Z"
   },
   {
    "duration": 16,
    "start_time": "2023-03-30T18:18:41.990Z"
   },
   {
    "duration": 17,
    "start_time": "2023-03-30T18:18:42.007Z"
   },
   {
    "duration": 13,
    "start_time": "2023-03-30T18:18:42.025Z"
   },
   {
    "duration": 7,
    "start_time": "2023-03-30T18:18:42.039Z"
   },
   {
    "duration": 41,
    "start_time": "2023-03-30T18:18:42.048Z"
   },
   {
    "duration": 8,
    "start_time": "2023-03-30T18:18:42.092Z"
   },
   {
    "duration": 19,
    "start_time": "2023-03-30T18:18:42.101Z"
   },
   {
    "duration": 13,
    "start_time": "2023-03-30T18:18:42.121Z"
   },
   {
    "duration": 14,
    "start_time": "2023-03-30T18:18:42.136Z"
   },
   {
    "duration": 40,
    "start_time": "2023-03-30T18:18:42.151Z"
   },
   {
    "duration": 299,
    "start_time": "2023-03-30T18:18:42.193Z"
   },
   {
    "duration": 335,
    "start_time": "2023-03-30T18:18:42.493Z"
   },
   {
    "duration": 226,
    "start_time": "2023-03-30T18:18:42.830Z"
   },
   {
    "duration": 333,
    "start_time": "2023-03-30T18:18:43.058Z"
   },
   {
    "duration": 246,
    "start_time": "2023-03-30T18:18:43.392Z"
   },
   {
    "duration": 397,
    "start_time": "2023-03-30T18:18:43.639Z"
   },
   {
    "duration": 8,
    "start_time": "2023-03-30T18:18:44.038Z"
   },
   {
    "duration": 33,
    "start_time": "2023-03-30T18:18:44.047Z"
   },
   {
    "duration": 167,
    "start_time": "2023-03-30T18:18:44.082Z"
   },
   {
    "duration": 6,
    "start_time": "2023-03-30T18:18:44.251Z"
   },
   {
    "duration": 9,
    "start_time": "2023-03-30T18:18:44.258Z"
   },
   {
    "duration": 168,
    "start_time": "2023-03-30T18:18:44.268Z"
   },
   {
    "duration": 162,
    "start_time": "2023-03-30T18:18:44.438Z"
   },
   {
    "duration": 5,
    "start_time": "2023-03-30T18:18:44.603Z"
   },
   {
    "duration": 13,
    "start_time": "2023-03-30T18:18:44.610Z"
   },
   {
    "duration": 333,
    "start_time": "2023-03-30T18:18:44.625Z"
   },
   {
    "duration": 157,
    "start_time": "2023-03-30T18:18:44.960Z"
   },
   {
    "duration": 31,
    "start_time": "2023-03-30T18:18:45.119Z"
   },
   {
    "duration": 13,
    "start_time": "2023-03-30T18:18:45.152Z"
   },
   {
    "duration": 40,
    "start_time": "2023-03-30T18:18:45.166Z"
   },
   {
    "duration": 15,
    "start_time": "2023-03-30T18:18:45.208Z"
   },
   {
    "duration": 164,
    "start_time": "2023-03-30T18:20:43.608Z"
   },
   {
    "duration": 32,
    "start_time": "2023-03-30T18:21:17.814Z"
   },
   {
    "duration": 1162,
    "start_time": "2023-03-30T18:21:39.023Z"
   },
   {
    "duration": 101,
    "start_time": "2023-03-30T18:21:40.187Z"
   },
   {
    "duration": 4,
    "start_time": "2023-03-30T18:21:40.289Z"
   },
   {
    "duration": 32,
    "start_time": "2023-03-30T18:21:40.295Z"
   },
   {
    "duration": 20,
    "start_time": "2023-03-30T18:21:40.329Z"
   },
   {
    "duration": 45,
    "start_time": "2023-03-30T18:21:40.351Z"
   },
   {
    "duration": 29,
    "start_time": "2023-03-30T18:21:40.399Z"
   },
   {
    "duration": 26,
    "start_time": "2023-03-30T18:21:40.430Z"
   },
   {
    "duration": 15,
    "start_time": "2023-03-30T18:21:40.458Z"
   },
   {
    "duration": 21,
    "start_time": "2023-03-30T18:21:40.476Z"
   },
   {
    "duration": 22,
    "start_time": "2023-03-30T18:21:40.500Z"
   },
   {
    "duration": 17,
    "start_time": "2023-03-30T18:21:40.524Z"
   },
   {
    "duration": 16,
    "start_time": "2023-03-30T18:21:40.543Z"
   },
   {
    "duration": 33,
    "start_time": "2023-03-30T18:21:40.561Z"
   },
   {
    "duration": 349,
    "start_time": "2023-03-30T18:21:40.595Z"
   },
   {
    "duration": 369,
    "start_time": "2023-03-30T18:21:40.946Z"
   },
   {
    "duration": 233,
    "start_time": "2023-03-30T18:21:41.317Z"
   },
   {
    "duration": 366,
    "start_time": "2023-03-30T18:21:41.552Z"
   },
   {
    "duration": 252,
    "start_time": "2023-03-30T18:21:41.920Z"
   },
   {
    "duration": 380,
    "start_time": "2023-03-30T18:21:42.174Z"
   },
   {
    "duration": 8,
    "start_time": "2023-03-30T18:21:42.555Z"
   },
   {
    "duration": 25,
    "start_time": "2023-03-30T18:21:42.564Z"
   },
   {
    "duration": 150,
    "start_time": "2023-03-30T18:21:42.591Z"
   },
   {
    "duration": 6,
    "start_time": "2023-03-30T18:21:42.743Z"
   },
   {
    "duration": 11,
    "start_time": "2023-03-30T18:21:42.751Z"
   },
   {
    "duration": 167,
    "start_time": "2023-03-30T18:21:42.764Z"
   },
   {
    "duration": 161,
    "start_time": "2023-03-30T18:21:42.933Z"
   },
   {
    "duration": 6,
    "start_time": "2023-03-30T18:21:43.099Z"
   },
   {
    "duration": 23,
    "start_time": "2023-03-30T18:21:43.108Z"
   },
   {
    "duration": 314,
    "start_time": "2023-03-30T18:21:43.134Z"
   },
   {
    "duration": 179,
    "start_time": "2023-03-30T18:21:43.450Z"
   },
   {
    "duration": 14,
    "start_time": "2023-03-30T18:21:43.631Z"
   },
   {
    "duration": 11,
    "start_time": "2023-03-30T18:21:43.646Z"
   },
   {
    "duration": 56,
    "start_time": "2023-03-30T18:21:43.659Z"
   },
   {
    "duration": 18,
    "start_time": "2023-03-30T18:21:43.718Z"
   }
  ],
  "kernelspec": {
   "display_name": "Python 3 (ipykernel)",
   "language": "python",
   "name": "python3"
  },
  "language_info": {
   "codemirror_mode": {
    "name": "ipython",
    "version": 3
   },
   "file_extension": ".py",
   "mimetype": "text/x-python",
   "name": "python",
   "nbconvert_exporter": "python",
   "pygments_lexer": "ipython3",
   "version": "3.9.13"
  },
  "toc": {
   "base_numbering": 1,
   "nav_menu": {
    "height": "576.997px",
    "width": "359.045px"
   },
   "number_sections": true,
   "sideBar": true,
   "skip_h1_title": true,
   "title_cell": "Table of Contents",
   "title_sidebar": "Contents",
   "toc_cell": false,
   "toc_position": {},
   "toc_section_display": true,
   "toc_window_display": false
  }
 },
 "nbformat": 4,
 "nbformat_minor": 2
}
