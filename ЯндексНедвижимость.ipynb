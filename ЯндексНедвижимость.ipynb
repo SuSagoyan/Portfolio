{
 "cells": [
  {
   "cell_type": "markdown",
   "metadata": {},
   "source": [
    "# Исследование объявлений о продаже квартир\n",
    "\n",
    "В вашем распоряжении данные сервиса Яндекс.Недвижимость — архив объявлений о продаже квартир в Санкт-Петербурге и соседних населённых пунктов за несколько лет. Нужно научиться определять рыночную стоимость объектов недвижимости. Ваша задача — установить параметры. Это позволит построить автоматизированную систему: она отследит аномалии и мошенническую деятельность. \n",
    "\n",
    "По каждой квартире на продажу доступны два вида данных. Первые вписаны пользователем, вторые — получены автоматически на основе картографических данных. Например, расстояние до центра, аэропорта, ближайшего парка и водоёма. "
   ]
  },
  {
   "cell_type": "markdown",
   "metadata": {},
   "source": [
    "### Откройте файл с данными и изучите общую информацию. "
   ]
  },
  {
   "cell_type": "markdown",
   "metadata": {},
   "source": [
    "*1. Загрузите данные из файла в датафрейм.*"
   ]
  },
  {
   "cell_type": "code",
   "execution_count": 1,
   "metadata": {},
   "outputs": [],
   "source": [
    "import pandas as pd\n",
    "import matplotlib.pyplot as plt"
   ]
  },
  {
   "cell_type": "code",
   "execution_count": 2,
   "metadata": {},
   "outputs": [],
   "source": [
    "try:\n",
    "    data = pd.read_csv('C://Users/mrsag/Downloads/real_estate_data.csv', sep='\\t')\n",
    "except:\n",
    "    data = pd.read_csv('/datasets/real_estate_data.csv',sep='\\t')"
   ]
  },
  {
   "cell_type": "markdown",
   "metadata": {},
   "source": [
    "*2. Изучите общую информацию о полученном датафрейме.*"
   ]
  },
  {
   "cell_type": "code",
   "execution_count": 3,
   "metadata": {
    "scrolled": true
   },
   "outputs": [
    {
     "data": {
      "text/html": [
       "<div>\n",
       "<style scoped>\n",
       "    .dataframe tbody tr th:only-of-type {\n",
       "        vertical-align: middle;\n",
       "    }\n",
       "\n",
       "    .dataframe tbody tr th {\n",
       "        vertical-align: top;\n",
       "    }\n",
       "\n",
       "    .dataframe thead th {\n",
       "        text-align: right;\n",
       "    }\n",
       "</style>\n",
       "<table border=\"1\" class=\"dataframe\">\n",
       "  <thead>\n",
       "    <tr style=\"text-align: right;\">\n",
       "      <th></th>\n",
       "      <th>total_images</th>\n",
       "      <th>last_price</th>\n",
       "      <th>total_area</th>\n",
       "      <th>first_day_exposition</th>\n",
       "      <th>rooms</th>\n",
       "      <th>ceiling_height</th>\n",
       "      <th>floors_total</th>\n",
       "      <th>living_area</th>\n",
       "      <th>floor</th>\n",
       "      <th>is_apartment</th>\n",
       "      <th>studio</th>\n",
       "      <th>open_plan</th>\n",
       "      <th>kitchen_area</th>\n",
       "      <th>balcony</th>\n",
       "      <th>locality_name</th>\n",
       "      <th>airports_nearest</th>\n",
       "      <th>cityCenters_nearest</th>\n",
       "      <th>parks_around3000</th>\n",
       "      <th>parks_nearest</th>\n",
       "      <th>ponds_around3000</th>\n",
       "      <th>ponds_nearest</th>\n",
       "      <th>days_exposition</th>\n",
       "    </tr>\n",
       "  </thead>\n",
       "  <tbody>\n",
       "    <tr>\n",
       "      <th>0</th>\n",
       "      <td>20</td>\n",
       "      <td>13000000.0</td>\n",
       "      <td>108.0</td>\n",
       "      <td>2019-03-07T00:00:00</td>\n",
       "      <td>3</td>\n",
       "      <td>2.70</td>\n",
       "      <td>16.0</td>\n",
       "      <td>51.0</td>\n",
       "      <td>8</td>\n",
       "      <td>NaN</td>\n",
       "      <td>False</td>\n",
       "      <td>False</td>\n",
       "      <td>25.0</td>\n",
       "      <td>NaN</td>\n",
       "      <td>Санкт-Петербург</td>\n",
       "      <td>18863.0</td>\n",
       "      <td>16028.0</td>\n",
       "      <td>1.0</td>\n",
       "      <td>482.0</td>\n",
       "      <td>2.0</td>\n",
       "      <td>755.0</td>\n",
       "      <td>NaN</td>\n",
       "    </tr>\n",
       "    <tr>\n",
       "      <th>1</th>\n",
       "      <td>7</td>\n",
       "      <td>3350000.0</td>\n",
       "      <td>40.4</td>\n",
       "      <td>2018-12-04T00:00:00</td>\n",
       "      <td>1</td>\n",
       "      <td>NaN</td>\n",
       "      <td>11.0</td>\n",
       "      <td>18.6</td>\n",
       "      <td>1</td>\n",
       "      <td>NaN</td>\n",
       "      <td>False</td>\n",
       "      <td>False</td>\n",
       "      <td>11.0</td>\n",
       "      <td>2.0</td>\n",
       "      <td>посёлок Шушары</td>\n",
       "      <td>12817.0</td>\n",
       "      <td>18603.0</td>\n",
       "      <td>0.0</td>\n",
       "      <td>NaN</td>\n",
       "      <td>0.0</td>\n",
       "      <td>NaN</td>\n",
       "      <td>81.0</td>\n",
       "    </tr>\n",
       "    <tr>\n",
       "      <th>2</th>\n",
       "      <td>10</td>\n",
       "      <td>5196000.0</td>\n",
       "      <td>56.0</td>\n",
       "      <td>2015-08-20T00:00:00</td>\n",
       "      <td>2</td>\n",
       "      <td>NaN</td>\n",
       "      <td>5.0</td>\n",
       "      <td>34.3</td>\n",
       "      <td>4</td>\n",
       "      <td>NaN</td>\n",
       "      <td>False</td>\n",
       "      <td>False</td>\n",
       "      <td>8.3</td>\n",
       "      <td>0.0</td>\n",
       "      <td>Санкт-Петербург</td>\n",
       "      <td>21741.0</td>\n",
       "      <td>13933.0</td>\n",
       "      <td>1.0</td>\n",
       "      <td>90.0</td>\n",
       "      <td>2.0</td>\n",
       "      <td>574.0</td>\n",
       "      <td>558.0</td>\n",
       "    </tr>\n",
       "    <tr>\n",
       "      <th>3</th>\n",
       "      <td>0</td>\n",
       "      <td>64900000.0</td>\n",
       "      <td>159.0</td>\n",
       "      <td>2015-07-24T00:00:00</td>\n",
       "      <td>3</td>\n",
       "      <td>NaN</td>\n",
       "      <td>14.0</td>\n",
       "      <td>NaN</td>\n",
       "      <td>9</td>\n",
       "      <td>NaN</td>\n",
       "      <td>False</td>\n",
       "      <td>False</td>\n",
       "      <td>NaN</td>\n",
       "      <td>0.0</td>\n",
       "      <td>Санкт-Петербург</td>\n",
       "      <td>28098.0</td>\n",
       "      <td>6800.0</td>\n",
       "      <td>2.0</td>\n",
       "      <td>84.0</td>\n",
       "      <td>3.0</td>\n",
       "      <td>234.0</td>\n",
       "      <td>424.0</td>\n",
       "    </tr>\n",
       "    <tr>\n",
       "      <th>4</th>\n",
       "      <td>2</td>\n",
       "      <td>10000000.0</td>\n",
       "      <td>100.0</td>\n",
       "      <td>2018-06-19T00:00:00</td>\n",
       "      <td>2</td>\n",
       "      <td>3.03</td>\n",
       "      <td>14.0</td>\n",
       "      <td>32.0</td>\n",
       "      <td>13</td>\n",
       "      <td>NaN</td>\n",
       "      <td>False</td>\n",
       "      <td>False</td>\n",
       "      <td>41.0</td>\n",
       "      <td>NaN</td>\n",
       "      <td>Санкт-Петербург</td>\n",
       "      <td>31856.0</td>\n",
       "      <td>8098.0</td>\n",
       "      <td>2.0</td>\n",
       "      <td>112.0</td>\n",
       "      <td>1.0</td>\n",
       "      <td>48.0</td>\n",
       "      <td>121.0</td>\n",
       "    </tr>\n",
       "  </tbody>\n",
       "</table>\n",
       "</div>"
      ],
      "text/plain": [
       "   total_images  last_price  total_area first_day_exposition  rooms  \\\n",
       "0            20  13000000.0       108.0  2019-03-07T00:00:00      3   \n",
       "1             7   3350000.0        40.4  2018-12-04T00:00:00      1   \n",
       "2            10   5196000.0        56.0  2015-08-20T00:00:00      2   \n",
       "3             0  64900000.0       159.0  2015-07-24T00:00:00      3   \n",
       "4             2  10000000.0       100.0  2018-06-19T00:00:00      2   \n",
       "\n",
       "   ceiling_height  floors_total  living_area  floor is_apartment  studio  \\\n",
       "0            2.70          16.0         51.0      8          NaN   False   \n",
       "1             NaN          11.0         18.6      1          NaN   False   \n",
       "2             NaN           5.0         34.3      4          NaN   False   \n",
       "3             NaN          14.0          NaN      9          NaN   False   \n",
       "4            3.03          14.0         32.0     13          NaN   False   \n",
       "\n",
       "   open_plan  kitchen_area  balcony    locality_name  airports_nearest  \\\n",
       "0      False          25.0      NaN  Санкт-Петербург           18863.0   \n",
       "1      False          11.0      2.0   посёлок Шушары           12817.0   \n",
       "2      False           8.3      0.0  Санкт-Петербург           21741.0   \n",
       "3      False           NaN      0.0  Санкт-Петербург           28098.0   \n",
       "4      False          41.0      NaN  Санкт-Петербург           31856.0   \n",
       "\n",
       "   cityCenters_nearest  parks_around3000  parks_nearest  ponds_around3000  \\\n",
       "0              16028.0               1.0          482.0               2.0   \n",
       "1              18603.0               0.0            NaN               0.0   \n",
       "2              13933.0               1.0           90.0               2.0   \n",
       "3               6800.0               2.0           84.0               3.0   \n",
       "4               8098.0               2.0          112.0               1.0   \n",
       "\n",
       "   ponds_nearest  days_exposition  \n",
       "0          755.0              NaN  \n",
       "1            NaN             81.0  \n",
       "2          574.0            558.0  \n",
       "3          234.0            424.0  \n",
       "4           48.0            121.0  "
      ]
     },
     "execution_count": 3,
     "metadata": {},
     "output_type": "execute_result"
    }
   ],
   "source": [
    "pd.set_option('display.max_columns', None)\n",
    "data.head()"
   ]
  },
  {
   "cell_type": "code",
   "execution_count": 4,
   "metadata": {
    "scrolled": false
   },
   "outputs": [
    {
     "name": "stdout",
     "output_type": "stream",
     "text": [
      "<class 'pandas.core.frame.DataFrame'>\n",
      "RangeIndex: 23699 entries, 0 to 23698\n",
      "Data columns (total 22 columns):\n",
      " #   Column                Non-Null Count  Dtype  \n",
      "---  ------                --------------  -----  \n",
      " 0   total_images          23699 non-null  int64  \n",
      " 1   last_price            23699 non-null  float64\n",
      " 2   total_area            23699 non-null  float64\n",
      " 3   first_day_exposition  23699 non-null  object \n",
      " 4   rooms                 23699 non-null  int64  \n",
      " 5   ceiling_height        14504 non-null  float64\n",
      " 6   floors_total          23613 non-null  float64\n",
      " 7   living_area           21796 non-null  float64\n",
      " 8   floor                 23699 non-null  int64  \n",
      " 9   is_apartment          2775 non-null   object \n",
      " 10  studio                23699 non-null  bool   \n",
      " 11  open_plan             23699 non-null  bool   \n",
      " 12  kitchen_area          21421 non-null  float64\n",
      " 13  balcony               12180 non-null  float64\n",
      " 14  locality_name         23650 non-null  object \n",
      " 15  airports_nearest      18157 non-null  float64\n",
      " 16  cityCenters_nearest   18180 non-null  float64\n",
      " 17  parks_around3000      18181 non-null  float64\n",
      " 18  parks_nearest         8079 non-null   float64\n",
      " 19  ponds_around3000      18181 non-null  float64\n",
      " 20  ponds_nearest         9110 non-null   float64\n",
      " 21  days_exposition       20518 non-null  float64\n",
      "dtypes: bool(2), float64(14), int64(3), object(3)\n",
      "memory usage: 3.7+ MB\n"
     ]
    }
   ],
   "source": [
    "data.info()"
   ]
  },
  {
   "cell_type": "code",
   "execution_count": 5,
   "metadata": {},
   "outputs": [
    {
     "data": {
      "text/html": [
       "<div>\n",
       "<style scoped>\n",
       "    .dataframe tbody tr th:only-of-type {\n",
       "        vertical-align: middle;\n",
       "    }\n",
       "\n",
       "    .dataframe tbody tr th {\n",
       "        vertical-align: top;\n",
       "    }\n",
       "\n",
       "    .dataframe thead th {\n",
       "        text-align: right;\n",
       "    }\n",
       "</style>\n",
       "<table border=\"1\" class=\"dataframe\">\n",
       "  <thead>\n",
       "    <tr style=\"text-align: right;\">\n",
       "      <th></th>\n",
       "      <th>count</th>\n",
       "      <th>mean</th>\n",
       "      <th>std</th>\n",
       "      <th>min</th>\n",
       "      <th>25%</th>\n",
       "      <th>50%</th>\n",
       "      <th>75%</th>\n",
       "      <th>max</th>\n",
       "    </tr>\n",
       "  </thead>\n",
       "  <tbody>\n",
       "    <tr>\n",
       "      <th>total_images</th>\n",
       "      <td>23699.0</td>\n",
       "      <td>9.858475e+00</td>\n",
       "      <td>5.682529e+00</td>\n",
       "      <td>0.0</td>\n",
       "      <td>6.00</td>\n",
       "      <td>9.00</td>\n",
       "      <td>14.0</td>\n",
       "      <td>50.0</td>\n",
       "    </tr>\n",
       "    <tr>\n",
       "      <th>last_price</th>\n",
       "      <td>23699.0</td>\n",
       "      <td>6.541549e+06</td>\n",
       "      <td>1.088701e+07</td>\n",
       "      <td>12190.0</td>\n",
       "      <td>3400000.00</td>\n",
       "      <td>4650000.00</td>\n",
       "      <td>6800000.0</td>\n",
       "      <td>763000000.0</td>\n",
       "    </tr>\n",
       "    <tr>\n",
       "      <th>total_area</th>\n",
       "      <td>23699.0</td>\n",
       "      <td>6.034865e+01</td>\n",
       "      <td>3.565408e+01</td>\n",
       "      <td>12.0</td>\n",
       "      <td>40.00</td>\n",
       "      <td>52.00</td>\n",
       "      <td>69.9</td>\n",
       "      <td>900.0</td>\n",
       "    </tr>\n",
       "    <tr>\n",
       "      <th>rooms</th>\n",
       "      <td>23699.0</td>\n",
       "      <td>2.070636e+00</td>\n",
       "      <td>1.078405e+00</td>\n",
       "      <td>0.0</td>\n",
       "      <td>1.00</td>\n",
       "      <td>2.00</td>\n",
       "      <td>3.0</td>\n",
       "      <td>19.0</td>\n",
       "    </tr>\n",
       "    <tr>\n",
       "      <th>ceiling_height</th>\n",
       "      <td>14504.0</td>\n",
       "      <td>2.771499e+00</td>\n",
       "      <td>1.261056e+00</td>\n",
       "      <td>1.0</td>\n",
       "      <td>2.52</td>\n",
       "      <td>2.65</td>\n",
       "      <td>2.8</td>\n",
       "      <td>100.0</td>\n",
       "    </tr>\n",
       "    <tr>\n",
       "      <th>floors_total</th>\n",
       "      <td>23613.0</td>\n",
       "      <td>1.067382e+01</td>\n",
       "      <td>6.597173e+00</td>\n",
       "      <td>1.0</td>\n",
       "      <td>5.00</td>\n",
       "      <td>9.00</td>\n",
       "      <td>16.0</td>\n",
       "      <td>60.0</td>\n",
       "    </tr>\n",
       "    <tr>\n",
       "      <th>living_area</th>\n",
       "      <td>21796.0</td>\n",
       "      <td>3.445785e+01</td>\n",
       "      <td>2.203045e+01</td>\n",
       "      <td>2.0</td>\n",
       "      <td>18.60</td>\n",
       "      <td>30.00</td>\n",
       "      <td>42.3</td>\n",
       "      <td>409.7</td>\n",
       "    </tr>\n",
       "    <tr>\n",
       "      <th>floor</th>\n",
       "      <td>23699.0</td>\n",
       "      <td>5.892358e+00</td>\n",
       "      <td>4.885249e+00</td>\n",
       "      <td>1.0</td>\n",
       "      <td>2.00</td>\n",
       "      <td>4.00</td>\n",
       "      <td>8.0</td>\n",
       "      <td>33.0</td>\n",
       "    </tr>\n",
       "    <tr>\n",
       "      <th>kitchen_area</th>\n",
       "      <td>21421.0</td>\n",
       "      <td>1.056981e+01</td>\n",
       "      <td>5.905438e+00</td>\n",
       "      <td>1.3</td>\n",
       "      <td>7.00</td>\n",
       "      <td>9.10</td>\n",
       "      <td>12.0</td>\n",
       "      <td>112.0</td>\n",
       "    </tr>\n",
       "    <tr>\n",
       "      <th>balcony</th>\n",
       "      <td>12180.0</td>\n",
       "      <td>1.150082e+00</td>\n",
       "      <td>1.071300e+00</td>\n",
       "      <td>0.0</td>\n",
       "      <td>0.00</td>\n",
       "      <td>1.00</td>\n",
       "      <td>2.0</td>\n",
       "      <td>5.0</td>\n",
       "    </tr>\n",
       "    <tr>\n",
       "      <th>airports_nearest</th>\n",
       "      <td>18157.0</td>\n",
       "      <td>2.879367e+04</td>\n",
       "      <td>1.263088e+04</td>\n",
       "      <td>0.0</td>\n",
       "      <td>18585.00</td>\n",
       "      <td>26726.00</td>\n",
       "      <td>37273.0</td>\n",
       "      <td>84869.0</td>\n",
       "    </tr>\n",
       "    <tr>\n",
       "      <th>cityCenters_nearest</th>\n",
       "      <td>18180.0</td>\n",
       "      <td>1.419128e+04</td>\n",
       "      <td>8.608386e+03</td>\n",
       "      <td>181.0</td>\n",
       "      <td>9238.00</td>\n",
       "      <td>13098.50</td>\n",
       "      <td>16293.0</td>\n",
       "      <td>65968.0</td>\n",
       "    </tr>\n",
       "    <tr>\n",
       "      <th>parks_around3000</th>\n",
       "      <td>18181.0</td>\n",
       "      <td>6.114075e-01</td>\n",
       "      <td>8.020736e-01</td>\n",
       "      <td>0.0</td>\n",
       "      <td>0.00</td>\n",
       "      <td>0.00</td>\n",
       "      <td>1.0</td>\n",
       "      <td>3.0</td>\n",
       "    </tr>\n",
       "    <tr>\n",
       "      <th>parks_nearest</th>\n",
       "      <td>8079.0</td>\n",
       "      <td>4.908046e+02</td>\n",
       "      <td>3.423180e+02</td>\n",
       "      <td>1.0</td>\n",
       "      <td>288.00</td>\n",
       "      <td>455.00</td>\n",
       "      <td>612.0</td>\n",
       "      <td>3190.0</td>\n",
       "    </tr>\n",
       "    <tr>\n",
       "      <th>ponds_around3000</th>\n",
       "      <td>18181.0</td>\n",
       "      <td>7.702547e-01</td>\n",
       "      <td>9.383456e-01</td>\n",
       "      <td>0.0</td>\n",
       "      <td>0.00</td>\n",
       "      <td>1.00</td>\n",
       "      <td>1.0</td>\n",
       "      <td>3.0</td>\n",
       "    </tr>\n",
       "    <tr>\n",
       "      <th>ponds_nearest</th>\n",
       "      <td>9110.0</td>\n",
       "      <td>5.179809e+02</td>\n",
       "      <td>2.777206e+02</td>\n",
       "      <td>13.0</td>\n",
       "      <td>294.00</td>\n",
       "      <td>502.00</td>\n",
       "      <td>729.0</td>\n",
       "      <td>1344.0</td>\n",
       "    </tr>\n",
       "    <tr>\n",
       "      <th>days_exposition</th>\n",
       "      <td>20518.0</td>\n",
       "      <td>1.808886e+02</td>\n",
       "      <td>2.197280e+02</td>\n",
       "      <td>1.0</td>\n",
       "      <td>45.00</td>\n",
       "      <td>95.00</td>\n",
       "      <td>232.0</td>\n",
       "      <td>1580.0</td>\n",
       "    </tr>\n",
       "  </tbody>\n",
       "</table>\n",
       "</div>"
      ],
      "text/plain": [
       "                       count          mean           std      min         25%  \\\n",
       "total_images         23699.0  9.858475e+00  5.682529e+00      0.0        6.00   \n",
       "last_price           23699.0  6.541549e+06  1.088701e+07  12190.0  3400000.00   \n",
       "total_area           23699.0  6.034865e+01  3.565408e+01     12.0       40.00   \n",
       "rooms                23699.0  2.070636e+00  1.078405e+00      0.0        1.00   \n",
       "ceiling_height       14504.0  2.771499e+00  1.261056e+00      1.0        2.52   \n",
       "floors_total         23613.0  1.067382e+01  6.597173e+00      1.0        5.00   \n",
       "living_area          21796.0  3.445785e+01  2.203045e+01      2.0       18.60   \n",
       "floor                23699.0  5.892358e+00  4.885249e+00      1.0        2.00   \n",
       "kitchen_area         21421.0  1.056981e+01  5.905438e+00      1.3        7.00   \n",
       "balcony              12180.0  1.150082e+00  1.071300e+00      0.0        0.00   \n",
       "airports_nearest     18157.0  2.879367e+04  1.263088e+04      0.0    18585.00   \n",
       "cityCenters_nearest  18180.0  1.419128e+04  8.608386e+03    181.0     9238.00   \n",
       "parks_around3000     18181.0  6.114075e-01  8.020736e-01      0.0        0.00   \n",
       "parks_nearest         8079.0  4.908046e+02  3.423180e+02      1.0      288.00   \n",
       "ponds_around3000     18181.0  7.702547e-01  9.383456e-01      0.0        0.00   \n",
       "ponds_nearest         9110.0  5.179809e+02  2.777206e+02     13.0      294.00   \n",
       "days_exposition      20518.0  1.808886e+02  2.197280e+02      1.0       45.00   \n",
       "\n",
       "                            50%        75%          max  \n",
       "total_images               9.00       14.0         50.0  \n",
       "last_price           4650000.00  6800000.0  763000000.0  \n",
       "total_area                52.00       69.9        900.0  \n",
       "rooms                      2.00        3.0         19.0  \n",
       "ceiling_height             2.65        2.8        100.0  \n",
       "floors_total               9.00       16.0         60.0  \n",
       "living_area               30.00       42.3        409.7  \n",
       "floor                      4.00        8.0         33.0  \n",
       "kitchen_area               9.10       12.0        112.0  \n",
       "balcony                    1.00        2.0          5.0  \n",
       "airports_nearest       26726.00    37273.0      84869.0  \n",
       "cityCenters_nearest    13098.50    16293.0      65968.0  \n",
       "parks_around3000           0.00        1.0          3.0  \n",
       "parks_nearest            455.00      612.0       3190.0  \n",
       "ponds_around3000           1.00        1.0          3.0  \n",
       "ponds_nearest            502.00      729.0       1344.0  \n",
       "days_exposition           95.00      232.0       1580.0  "
      ]
     },
     "execution_count": 5,
     "metadata": {},
     "output_type": "execute_result"
    }
   ],
   "source": [
    "data.describe().T"
   ]
  },
  {
   "cell_type": "markdown",
   "metadata": {},
   "source": [
    "*3. Постройте общую гистограмму для всех числовых столбцов таблицы.*"
   ]
  },
  {
   "cell_type": "code",
   "execution_count": 6,
   "metadata": {},
   "outputs": [
    {
     "data": {
      "image/png": "[encoded data removed]",
      "text/plain": [
       "<Figure size 1080x1440 with 20 Axes>"
      ]
     },
     "metadata": {
      "needs_background": "light"
     },
     "output_type": "display_data"
    }
   ],
   "source": [
    "data.hist(figsize=(15,20));"
   ]
  },
  {
   "cell_type": "markdown",
   "metadata": {},
   "source": [
    "По данным таблицы я вижу проблемы с данными:  \n",
    "\n",
    "    1. Пропуски в столбцах: ceiling_height, living_area, is_apartment, kitchen_area, balcony, parks_nearest, ponds_nearest,            days_exposition  \n",
    "    2. Дубликаты в столбце locality_name  \n",
    "    3. Неверный тип данных: first_day_exposition  \n",
    "    4. Странные значения: ceiling_height - 100м, living_area - 2 кв м   \n",
    "    5. Неверное наименование столбцов: parks_around3000, ponds_around3000, cityCenters_nearest\n"
   ]
  },
  {
   "cell_type": "markdown",
   "metadata": {},
   "source": [
    "### Предобработка данных"
   ]
  },
  {
   "cell_type": "markdown",
   "metadata": {},
   "source": [
    "*1. Найдите и изучите пропущенные значения в столбцах:*"
   ]
  },
  {
   "cell_type": "code",
   "execution_count": 7,
   "metadata": {},
   "outputs": [
    {
     "data": {
      "text/plain": [
       "total_images                0\n",
       "last_price                  0\n",
       "total_area                  0\n",
       "first_day_exposition        0\n",
       "rooms                       0\n",
       "ceiling_height           9195\n",
       "floors_total               86\n",
       "living_area              1903\n",
       "floor                       0\n",
       "is_apartment            20924\n",
       "studio                      0\n",
       "open_plan                   0\n",
       "kitchen_area             2278\n",
       "balcony                 11519\n",
       "locality_name              49\n",
       "airports_nearest         5542\n",
       "cityCenters_nearest      5519\n",
       "parks_around3000         5518\n",
       "parks_nearest           15620\n",
       "ponds_around3000         5518\n",
       "ponds_nearest           14589\n",
       "days_exposition          3181\n",
       "dtype: int64"
      ]
     },
     "execution_count": 7,
     "metadata": {},
     "output_type": "execute_result"
    }
   ],
   "source": [
    "data.isna().sum()"
   ]
  },
  {
   "cell_type": "code",
   "execution_count": 8,
   "metadata": {},
   "outputs": [
    {
     "data": {
      "text/plain": [
       "is_apartment            88.290645\n",
       "parks_nearest           65.909954\n",
       "ponds_nearest           61.559559\n",
       "balcony                 48.605426\n",
       "ceiling_height          38.799105\n",
       "airports_nearest        23.384953\n",
       "cityCenters_nearest     23.287902\n",
       "ponds_around3000        23.283683\n",
       "parks_around3000        23.283683\n",
       "days_exposition         13.422507\n",
       "kitchen_area             9.612220\n",
       "living_area              8.029875\n",
       "floors_total             0.362885\n",
       "locality_name            0.206760\n",
       "total_images             0.000000\n",
       "last_price               0.000000\n",
       "studio                   0.000000\n",
       "floor                    0.000000\n",
       "rooms                    0.000000\n",
       "first_day_exposition     0.000000\n",
       "total_area               0.000000\n",
       "open_plan                0.000000\n",
       "dtype: float64"
      ]
     },
     "execution_count": 8,
     "metadata": {},
     "output_type": "execute_result"
    }
   ],
   "source": [
    "data.isna().mean().sort_values(ascending=False)*100"
   ]
  },
  {
   "cell_type": "markdown",
   "metadata": {},
   "source": [
    "Если есть пропуски в столбце балконы, можно заменить их на 0, в столбце высота потолков-медианой"
   ]
  },
  {
   "cell_type": "code",
   "execution_count": 9,
   "metadata": {},
   "outputs": [],
   "source": [
    "data['balcony'] = data['balcony'].fillna(0)"
   ]
  },
  {
   "cell_type": "code",
   "execution_count": 10,
   "metadata": {},
   "outputs": [],
   "source": [
    "data['ceiling_height'] = data['ceiling_height'].fillna(data['ceiling_height'].median())"
   ]
  },
  {
   "cell_type": "markdown",
   "metadata": {},
   "source": [
    "*2. Рассмотрите типы данных в каждом столбце*"
   ]
  },
  {
   "cell_type": "code",
   "execution_count": 11,
   "metadata": {},
   "outputs": [],
   "source": [
    "data = data.rename(columns={'parks_around3000':'parks_around_3000', \n",
    "             'ponds_around3000':'ponds_around_3000', \n",
    "             'cityCenters_nearest':'city_centers_nearest'})"
   ]
  },
  {
   "cell_type": "markdown",
   "metadata": {},
   "source": [
    "Привели столбцы в нижний и \"змеиный\" регистр"
   ]
  },
  {
   "cell_type": "markdown",
   "metadata": {},
   "source": [
    "Так как стоблец first_day_exposition был в формате object, его необходимо заменить в формат даты, balcony - на тип целые числа"
   ]
  },
  {
   "cell_type": "code",
   "execution_count": 12,
   "metadata": {},
   "outputs": [],
   "source": [
    "data['first_day_exposition'] = pd.to_datetime(data['first_day_exposition'], format='%Y-%m-%dT%H:%M:%S')"
   ]
  },
  {
   "cell_type": "code",
   "execution_count": 13,
   "metadata": {},
   "outputs": [],
   "source": [
    "data['balcony'] = data['balcony'].astype(int)"
   ]
  },
  {
   "cell_type": "markdown",
   "metadata": {},
   "source": [
    "*3. Изучите уникальные значения в столбце с названиями и устраните неявные дубликаты*"
   ]
  },
  {
   "cell_type": "code",
   "execution_count": 14,
   "metadata": {},
   "outputs": [
    {
     "data": {
      "text/plain": [
       "0"
      ]
     },
     "execution_count": 14,
     "metadata": {},
     "output_type": "execute_result"
    }
   ],
   "source": [
    "data.duplicated().sum()"
   ]
  },
  {
   "cell_type": "markdown",
   "metadata": {},
   "source": [
    "Явных дубликатов нет"
   ]
  },
  {
   "cell_type": "code",
   "execution_count": 15,
   "metadata": {
    "scrolled": false
   },
   "outputs": [
    {
     "data": {
      "text/plain": [
       "{nan,\n",
       " 'Бокситогорск',\n",
       " 'Волосово',\n",
       " 'Волхов',\n",
       " 'Всеволожск',\n",
       " 'Выборг',\n",
       " 'Высоцк',\n",
       " 'Гатчина',\n",
       " 'Зеленогорск',\n",
       " 'Ивангород',\n",
       " 'Каменногорск',\n",
       " 'Кингисепп',\n",
       " 'Кириши',\n",
       " 'Кировск',\n",
       " 'Колпино',\n",
       " 'Коммунар',\n",
       " 'Красное Село',\n",
       " 'Кронштадт',\n",
       " 'Кудрово',\n",
       " 'Лодейное Поле',\n",
       " 'Ломоносов',\n",
       " 'Луга',\n",
       " 'Любань',\n",
       " 'Мурино',\n",
       " 'Никольское',\n",
       " 'Новая Ладога',\n",
       " 'Отрадное',\n",
       " 'Павловск',\n",
       " 'Петергоф',\n",
       " 'Пикалёво',\n",
       " 'Подпорожье',\n",
       " 'Приморск',\n",
       " 'Приозерск',\n",
       " 'Пушкин',\n",
       " 'Санкт-Петербург',\n",
       " 'Светогорск',\n",
       " 'Сертолово',\n",
       " 'Сестрорецк',\n",
       " 'Сланцы',\n",
       " 'Сосновый Бор',\n",
       " 'Сясьстрой',\n",
       " 'Тихвин',\n",
       " 'Тосно',\n",
       " 'Шлиссельбург',\n",
       " 'городской поселок Большая Ижора',\n",
       " 'городской поселок Янино-1',\n",
       " 'городской посёлок Будогощь',\n",
       " 'городской посёлок Виллози',\n",
       " 'городской посёлок Лесогорский',\n",
       " 'городской посёлок Мга',\n",
       " 'городской посёлок Назия',\n",
       " 'городской посёлок Новоселье',\n",
       " 'городской посёлок Павлово',\n",
       " 'городской посёлок Рощино',\n",
       " 'городской посёлок Свирьстрой',\n",
       " 'городской посёлок Советский',\n",
       " 'городской посёлок Фёдоровское',\n",
       " 'городской посёлок Янино-1',\n",
       " 'деревня Агалатово',\n",
       " 'деревня Аро',\n",
       " 'деревня Батово',\n",
       " 'деревня Бегуницы',\n",
       " 'деревня Белогорка',\n",
       " 'деревня Большая Вруда',\n",
       " 'деревня Большая Пустомержа',\n",
       " 'деревня Большие Колпаны',\n",
       " 'деревня Большое Рейзино',\n",
       " 'деревня Большой Сабск',\n",
       " 'деревня Бор',\n",
       " 'деревня Борисова Грива',\n",
       " 'деревня Ваганово',\n",
       " 'деревня Вартемяги',\n",
       " 'деревня Вахнова Кара',\n",
       " 'деревня Выскатка',\n",
       " 'деревня Гарболово',\n",
       " 'деревня Глинка',\n",
       " 'деревня Горбунки',\n",
       " 'деревня Гостилицы',\n",
       " 'деревня Заклинье',\n",
       " 'деревня Заневка',\n",
       " 'деревня Зимитицы',\n",
       " 'деревня Извара',\n",
       " 'деревня Иссад',\n",
       " 'деревня Калитино',\n",
       " 'деревня Кальтино',\n",
       " 'деревня Камышовка',\n",
       " 'деревня Каськово',\n",
       " 'деревня Келози',\n",
       " 'деревня Кипень',\n",
       " 'деревня Кисельня',\n",
       " 'деревня Колтуши',\n",
       " 'деревня Коркино',\n",
       " 'деревня Котлы',\n",
       " 'деревня Кривко',\n",
       " 'деревня Кудрово',\n",
       " 'деревня Кузьмолово',\n",
       " 'деревня Курковицы',\n",
       " 'деревня Куровицы',\n",
       " 'деревня Куттузи',\n",
       " 'деревня Лаврики',\n",
       " 'деревня Лаголово',\n",
       " 'деревня Лампово',\n",
       " 'деревня Лесколово',\n",
       " 'деревня Лопухинка',\n",
       " 'деревня Лупполово',\n",
       " 'деревня Малая Романовка',\n",
       " 'деревня Малое Верево',\n",
       " 'деревня Малое Карлино',\n",
       " 'деревня Малые Колпаны',\n",
       " 'деревня Мануйлово',\n",
       " 'деревня Меньково',\n",
       " 'деревня Мины',\n",
       " 'деревня Мистолово',\n",
       " 'деревня Ненимяки',\n",
       " 'деревня Нижние Осельки',\n",
       " 'деревня Нижняя',\n",
       " 'деревня Низино',\n",
       " 'деревня Новое Девяткино',\n",
       " 'деревня Новолисино',\n",
       " 'деревня Нурма',\n",
       " 'деревня Оржицы',\n",
       " 'деревня Парицы',\n",
       " 'деревня Пельгора',\n",
       " 'деревня Пеники',\n",
       " 'деревня Пижма',\n",
       " 'деревня Пикколово',\n",
       " 'деревня Пудомяги',\n",
       " 'деревня Пустынка',\n",
       " 'деревня Пчева',\n",
       " 'деревня Рабитицы',\n",
       " 'деревня Разбегаево',\n",
       " 'деревня Раздолье',\n",
       " 'деревня Разметелево',\n",
       " 'деревня Рапполово',\n",
       " 'деревня Реброво',\n",
       " 'деревня Русско',\n",
       " 'деревня Сижно',\n",
       " 'деревня Снегирёвка',\n",
       " 'деревня Старая',\n",
       " 'деревня Старая Пустошь',\n",
       " 'деревня Старое Хинколово',\n",
       " 'деревня Старополье',\n",
       " 'деревня Старосиверская',\n",
       " 'деревня Старые Бегуницы',\n",
       " 'деревня Суоранда',\n",
       " 'деревня Сяськелево',\n",
       " 'деревня Тарасово',\n",
       " 'деревня Терпилицы',\n",
       " 'деревня Тихковицы',\n",
       " 'деревня Тойворово',\n",
       " 'деревня Торосово',\n",
       " 'деревня Торошковичи',\n",
       " 'деревня Трубников Бор',\n",
       " 'деревня Фалилеево',\n",
       " 'деревня Фёдоровское',\n",
       " 'деревня Хапо-Ое',\n",
       " 'деревня Хязельки',\n",
       " 'деревня Чудской Бор',\n",
       " 'деревня Шпаньково',\n",
       " 'деревня Щеглово',\n",
       " 'деревня Юкки',\n",
       " 'деревня Ялгино',\n",
       " 'деревня Яльгелево',\n",
       " 'деревня Ям-Тесово',\n",
       " 'коттеджный поселок Кивеннапа Север',\n",
       " 'коттеджный поселок Счастье',\n",
       " 'коттеджный посёлок Лесное',\n",
       " 'поселок Аннино',\n",
       " 'поселок Барышево',\n",
       " 'поселок Бугры',\n",
       " 'поселок Возрождение',\n",
       " 'поселок Войсковицы',\n",
       " 'поселок Володарское',\n",
       " 'поселок Гаврилово',\n",
       " 'поселок Гарболово',\n",
       " 'поселок Гладкое',\n",
       " 'поселок Глажево',\n",
       " 'поселок Глебычево',\n",
       " 'поселок Гончарово',\n",
       " 'поселок Громово',\n",
       " 'поселок Дружноселье',\n",
       " 'поселок Елизаветино',\n",
       " 'поселок Жилгородок',\n",
       " 'поселок Жилпосёлок',\n",
       " 'поселок Житково',\n",
       " 'поселок Заводской',\n",
       " 'поселок Запорожское',\n",
       " 'поселок Зимитицы',\n",
       " 'поселок Ильичёво',\n",
       " 'поселок Калитино',\n",
       " 'поселок Каложицы',\n",
       " 'поселок Кингисеппский',\n",
       " 'поселок Кирпичное',\n",
       " 'поселок Кобралово',\n",
       " 'поселок Кобринское',\n",
       " 'поселок Коммунары',\n",
       " 'поселок Коробицыно',\n",
       " 'поселок Котельский',\n",
       " 'поселок Красная Долина',\n",
       " 'поселок Красносельское',\n",
       " 'поселок Лесное',\n",
       " 'поселок Лисий Нос',\n",
       " 'поселок Лукаши',\n",
       " 'поселок Любань',\n",
       " 'поселок Мельниково',\n",
       " 'поселок Мичуринское',\n",
       " 'поселок Молодцово',\n",
       " 'поселок Мурино',\n",
       " 'поселок Новый Свет',\n",
       " 'поселок Новый Учхоз',\n",
       " 'поселок Оредеж',\n",
       " 'поселок Пансионат Зелёный Бор',\n",
       " 'поселок Первомайское',\n",
       " 'поселок Перово',\n",
       " 'поселок Петровское',\n",
       " 'поселок Победа',\n",
       " 'поселок Поляны',\n",
       " 'поселок Почап',\n",
       " 'поселок Починок',\n",
       " 'поселок Пушное',\n",
       " 'поселок Пчевжа',\n",
       " 'поселок Рабитицы',\n",
       " 'поселок Романовка',\n",
       " 'поселок Ромашки',\n",
       " 'поселок Рябово',\n",
       " 'поселок Севастьяново',\n",
       " 'поселок Селезнёво',\n",
       " 'поселок Сельцо',\n",
       " 'поселок Семиозерье',\n",
       " 'поселок Семрино',\n",
       " 'поселок Серебрянский',\n",
       " 'поселок Совхозный',\n",
       " 'поселок Старая Малукса',\n",
       " 'поселок Стеклянный',\n",
       " 'поселок Сумино',\n",
       " 'поселок Суходолье',\n",
       " 'поселок Тельмана',\n",
       " 'поселок Терволово',\n",
       " 'поселок Торковичи',\n",
       " 'поселок Тёсово-4',\n",
       " 'поселок Углово',\n",
       " 'поселок Усть-Луга',\n",
       " 'поселок Ушаки',\n",
       " 'поселок Цвелодубово',\n",
       " 'поселок Цвылёво',\n",
       " 'поселок городского типа Большая Ижора',\n",
       " 'поселок городского типа Вырица',\n",
       " 'поселок городского типа Дружная Горка',\n",
       " 'поселок городского типа Дубровка',\n",
       " 'поселок городского типа Ефимовский',\n",
       " 'поселок городского типа Кондратьево',\n",
       " 'поселок городского типа Красный Бор',\n",
       " 'поселок городского типа Кузьмоловский',\n",
       " 'поселок городского типа Лебяжье',\n",
       " 'поселок городского типа Лесогорский',\n",
       " 'поселок городского типа Назия',\n",
       " 'поселок городского типа Никольский',\n",
       " 'поселок городского типа Приладожский',\n",
       " 'поселок городского типа Рахья',\n",
       " 'поселок городского типа Рощино',\n",
       " 'поселок городского типа Рябово',\n",
       " 'поселок городского типа Синявино',\n",
       " 'поселок городского типа Советский',\n",
       " 'поселок городского типа Токсово',\n",
       " 'поселок городского типа Форносово',\n",
       " 'поселок городского типа имени Свердлова',\n",
       " 'поселок станции Вещево',\n",
       " 'поселок станции Корнево',\n",
       " 'поселок станции Лужайка',\n",
       " 'поселок станции Приветнинское',\n",
       " 'посёлок Александровская',\n",
       " 'посёлок Алексеевка',\n",
       " 'посёлок Аннино',\n",
       " 'посёлок Белоостров',\n",
       " 'посёлок Бугры',\n",
       " 'посёлок Возрождение',\n",
       " 'посёлок Войскорово',\n",
       " 'посёлок Высокоключевой',\n",
       " 'посёлок Гаврилово',\n",
       " 'посёлок Дзержинского',\n",
       " 'посёлок Жилгородок',\n",
       " 'посёлок Ильичёво',\n",
       " 'посёлок Кикерино',\n",
       " 'посёлок Кобралово',\n",
       " 'посёлок Коробицыно',\n",
       " 'посёлок Левашово',\n",
       " 'посёлок Ленинское',\n",
       " 'посёлок Лисий Нос',\n",
       " 'посёлок Мельниково',\n",
       " 'посёлок Металлострой',\n",
       " 'посёлок Мичуринское',\n",
       " 'посёлок Молодёжное',\n",
       " 'посёлок Мурино',\n",
       " 'посёлок Мыза-Ивановка',\n",
       " 'посёлок Новогорелово',\n",
       " 'посёлок Новый Свет',\n",
       " 'посёлок Пансионат Зелёный Бор',\n",
       " 'посёлок Парголово',\n",
       " 'посёлок Перово',\n",
       " 'посёлок Песочный',\n",
       " 'посёлок Петро-Славянка',\n",
       " 'посёлок Петровское',\n",
       " 'посёлок Платформа 69-й километр',\n",
       " 'посёлок Плодовое',\n",
       " 'посёлок Плоское',\n",
       " 'посёлок Победа',\n",
       " 'посёлок Поляны',\n",
       " 'посёлок Понтонный',\n",
       " 'посёлок Пригородный',\n",
       " 'посёлок Пудость',\n",
       " 'посёлок Репино',\n",
       " 'посёлок Ропша',\n",
       " 'посёлок Сапёрное',\n",
       " 'посёлок Сапёрный',\n",
       " 'посёлок Сосново',\n",
       " 'посёлок Старая Малукса',\n",
       " 'посёлок Стеклянный',\n",
       " 'посёлок Стрельна',\n",
       " 'посёлок Суйда',\n",
       " 'посёлок Сумино',\n",
       " 'посёлок Тельмана',\n",
       " 'посёлок Терволово',\n",
       " 'посёлок Торфяное',\n",
       " 'посёлок Усть-Ижора',\n",
       " 'посёлок Усть-Луга',\n",
       " 'посёлок Форт Красная Горка',\n",
       " 'посёлок Шугозеро',\n",
       " 'посёлок Шушары',\n",
       " 'посёлок Щеглово',\n",
       " 'посёлок городского типа Важины',\n",
       " 'посёлок городского типа Вознесенье',\n",
       " 'посёлок городского типа Вырица',\n",
       " 'посёлок городского типа Красный Бор',\n",
       " 'посёлок городского типа Кузнечное',\n",
       " 'посёлок городского типа Кузьмоловский',\n",
       " 'посёлок городского типа Лебяжье',\n",
       " 'посёлок городского типа Мга',\n",
       " 'посёлок городского типа Павлово',\n",
       " 'посёлок городского типа Рощино',\n",
       " 'посёлок городского типа Рябово',\n",
       " 'посёлок городского типа Сиверский',\n",
       " 'посёлок городского типа Тайцы',\n",
       " 'посёлок городского типа Токсово',\n",
       " 'посёлок городского типа Ульяновка',\n",
       " 'посёлок городского типа Форносово',\n",
       " 'посёлок городского типа имени Морозова',\n",
       " 'посёлок городского типа имени Свердлова',\n",
       " 'посёлок при железнодорожной станции Вещево',\n",
       " 'посёлок при железнодорожной станции Приветнинское',\n",
       " 'посёлок станции Громово',\n",
       " 'посёлок станции Свирь',\n",
       " 'садоводческое некоммерческое товарищество Лесная Поляна',\n",
       " 'садовое товарищество Новая Ропша',\n",
       " 'садовое товарищество Приладожский',\n",
       " 'садовое товарищество Рахья',\n",
       " 'садовое товарищество Садко',\n",
       " 'село Копорье',\n",
       " 'село Никольское',\n",
       " 'село Павлово',\n",
       " 'село Паша',\n",
       " 'село Путилово',\n",
       " 'село Рождествено',\n",
       " 'село Русско-Высоцкое',\n",
       " 'село Старая Ладога',\n",
       " 'село Шум'}"
      ]
     },
     "execution_count": 15,
     "metadata": {},
     "output_type": "execute_result"
    }
   ],
   "source": [
    "set(data['locality_name'].unique())"
   ]
  },
  {
   "cell_type": "code",
   "execution_count": 16,
   "metadata": {
    "scrolled": false
   },
   "outputs": [
    {
     "data": {
      "text/plain": [
       "{nan,\n",
       " 'Бокситогорск',\n",
       " 'Волосово',\n",
       " 'Волхов',\n",
       " 'Всеволожск',\n",
       " 'Выборг',\n",
       " 'Высоцк',\n",
       " 'Гатчина',\n",
       " 'Зеленогорск',\n",
       " 'Ивангород',\n",
       " 'Каменногорск',\n",
       " 'Кингисепп',\n",
       " 'Кириши',\n",
       " 'Кировск',\n",
       " 'Колпино',\n",
       " 'Коммунар',\n",
       " 'Красное Село',\n",
       " 'Кронштадт',\n",
       " 'Кудрово',\n",
       " 'Лодейное Поле',\n",
       " 'Ломоносов',\n",
       " 'Луга',\n",
       " 'Любань',\n",
       " 'Мурино',\n",
       " 'Никольское',\n",
       " 'Новая Ладога',\n",
       " 'Отрадное',\n",
       " 'Павловск',\n",
       " 'Петергоф',\n",
       " 'Пикалево',\n",
       " 'Подпорожье',\n",
       " 'Приморск',\n",
       " 'Приозерск',\n",
       " 'Пушкин',\n",
       " 'Санкт-Петербург',\n",
       " 'Светогорск',\n",
       " 'Сертолово',\n",
       " 'Сестрорецк',\n",
       " 'Сланцы',\n",
       " 'Сосновый Бор',\n",
       " 'Сясьстрой',\n",
       " 'Тихвин',\n",
       " 'Тосно',\n",
       " 'Шлиссельбург',\n",
       " 'деревня Агалатово',\n",
       " 'деревня Аро',\n",
       " 'деревня Батово',\n",
       " 'деревня Бегуницы',\n",
       " 'деревня Белогорка',\n",
       " 'деревня Большая Вруда',\n",
       " 'деревня Большая Пустомержа',\n",
       " 'деревня Большие Колпаны',\n",
       " 'деревня Большое Рейзино',\n",
       " 'деревня Большой Сабск',\n",
       " 'деревня Бор',\n",
       " 'деревня Борисова Грива',\n",
       " 'деревня Ваганово',\n",
       " 'деревня Вартемяги',\n",
       " 'деревня Вахнова Кара',\n",
       " 'деревня Выскатка',\n",
       " 'деревня Гарболово',\n",
       " 'деревня Глинка',\n",
       " 'деревня Горбунки',\n",
       " 'деревня Гостилицы',\n",
       " 'деревня Заклинье',\n",
       " 'деревня Заневка',\n",
       " 'деревня Зимитицы',\n",
       " 'деревня Извара',\n",
       " 'деревня Иссад',\n",
       " 'деревня Калитино',\n",
       " 'деревня Кальтино',\n",
       " 'деревня Камышовка',\n",
       " 'деревня Каськово',\n",
       " 'деревня Келози',\n",
       " 'деревня Кипень',\n",
       " 'деревня Кисельня',\n",
       " 'деревня Колтуши',\n",
       " 'деревня Коркино',\n",
       " 'деревня Котлы',\n",
       " 'деревня Кривко',\n",
       " 'деревня Кудрово',\n",
       " 'деревня Кузьмолово',\n",
       " 'деревня Курковицы',\n",
       " 'деревня Куровицы',\n",
       " 'деревня Куттузи',\n",
       " 'деревня Лаврики',\n",
       " 'деревня Лаголово',\n",
       " 'деревня Лампово',\n",
       " 'деревня Лесколово',\n",
       " 'деревня Лопухинка',\n",
       " 'деревня Лупполово',\n",
       " 'деревня Малая Романовка',\n",
       " 'деревня Малое Верево',\n",
       " 'деревня Малое Карлино',\n",
       " 'деревня Малые Колпаны',\n",
       " 'деревня Мануйлово',\n",
       " 'деревня Меньково',\n",
       " 'деревня Мины',\n",
       " 'деревня Мистолово',\n",
       " 'деревня Ненимяки',\n",
       " 'деревня Нижние Осельки',\n",
       " 'деревня Нижняя',\n",
       " 'деревня Низино',\n",
       " 'деревня Новое Девяткино',\n",
       " 'деревня Новолисино',\n",
       " 'деревня Нурма',\n",
       " 'деревня Оржицы',\n",
       " 'деревня Парицы',\n",
       " 'деревня Пельгора',\n",
       " 'деревня Пеники',\n",
       " 'деревня Пижма',\n",
       " 'деревня Пикколово',\n",
       " 'деревня Пудомяги',\n",
       " 'деревня Пустынка',\n",
       " 'деревня Пчева',\n",
       " 'деревня Рабитицы',\n",
       " 'деревня Разбегаево',\n",
       " 'деревня Раздолье',\n",
       " 'деревня Разметелево',\n",
       " 'деревня Рапполово',\n",
       " 'деревня Реброво',\n",
       " 'деревня Русско',\n",
       " 'деревня Сижно',\n",
       " 'деревня Снегиревка',\n",
       " 'деревня Старая',\n",
       " 'деревня Старая Пустошь',\n",
       " 'деревня Старое Хинколово',\n",
       " 'деревня Старополье',\n",
       " 'деревня Старосиверская',\n",
       " 'деревня Старые Бегуницы',\n",
       " 'деревня Суоранда',\n",
       " 'деревня Сяськелево',\n",
       " 'деревня Тарасово',\n",
       " 'деревня Терпилицы',\n",
       " 'деревня Тихковицы',\n",
       " 'деревня Тойворово',\n",
       " 'деревня Торосово',\n",
       " 'деревня Торошковичи',\n",
       " 'деревня Трубников Бор',\n",
       " 'деревня Фалилеево',\n",
       " 'деревня Федоровское',\n",
       " 'деревня Хапо-Ое',\n",
       " 'деревня Хязельки',\n",
       " 'деревня Чудской Бор',\n",
       " 'деревня Шпаньково',\n",
       " 'деревня Щеглово',\n",
       " 'деревня Юкки',\n",
       " 'деревня Ялгино',\n",
       " 'деревня Яльгелево',\n",
       " 'деревня Ям-Тесово',\n",
       " 'коттеджный поселок Кивеннапа Север',\n",
       " 'коттеджный поселок Лесное',\n",
       " 'коттеджный поселок Счастье',\n",
       " 'поселок Александровская',\n",
       " 'поселок Алексеевка',\n",
       " 'поселок Аннино',\n",
       " 'поселок Барышево',\n",
       " 'поселок Белоостров',\n",
       " 'поселок Большая Ижора',\n",
       " 'поселок Бугры',\n",
       " 'поселок Будогощь',\n",
       " 'поселок Важины',\n",
       " 'поселок Виллози',\n",
       " 'поселок Вознесенье',\n",
       " 'поселок Возрождение',\n",
       " 'поселок Войсковицы',\n",
       " 'поселок Войскорово',\n",
       " 'поселок Володарское',\n",
       " 'поселок Вырица',\n",
       " 'поселок Высокоключевой',\n",
       " 'поселок Гаврилово',\n",
       " 'поселок Гарболово',\n",
       " 'поселок Гладкое',\n",
       " 'поселок Глажево',\n",
       " 'поселок Глебычево',\n",
       " 'поселок Гончарово',\n",
       " 'поселок Громово',\n",
       " 'поселок Дзержинского',\n",
       " 'поселок Дружная Горка',\n",
       " 'поселок Дружноселье',\n",
       " 'поселок Дубровка',\n",
       " 'поселок Елизаветино',\n",
       " 'поселок Ефимовский',\n",
       " 'поселок Жилгородок',\n",
       " 'поселок Жилпоселок',\n",
       " 'поселок Житково',\n",
       " 'поселок Заводской',\n",
       " 'поселок Запорожское',\n",
       " 'поселок Зимитицы',\n",
       " 'поселок Ильичево',\n",
       " 'поселок Калитино',\n",
       " 'поселок Каложицы',\n",
       " 'поселок Кикерино',\n",
       " 'поселок Кингисеппский',\n",
       " 'поселок Кирпичное',\n",
       " 'поселок Кобралово',\n",
       " 'поселок Кобринское',\n",
       " 'поселок Коммунары',\n",
       " 'поселок Кондратьево',\n",
       " 'поселок Коробицыно',\n",
       " 'поселок Котельский',\n",
       " 'поселок Красная Долина',\n",
       " 'поселок Красносельское',\n",
       " 'поселок Красный Бор',\n",
       " 'поселок Кузнечное',\n",
       " 'поселок Кузьмоловский',\n",
       " 'поселок Лебяжье',\n",
       " 'поселок Левашово',\n",
       " 'поселок Ленинское',\n",
       " 'поселок Лесное',\n",
       " 'поселок Лесогорский',\n",
       " 'поселок Лисий Нос',\n",
       " 'поселок Лукаши',\n",
       " 'поселок Любань',\n",
       " 'поселок Мга',\n",
       " 'поселок Мельниково',\n",
       " 'поселок Металлострой',\n",
       " 'поселок Мичуринское',\n",
       " 'поселок Молодежное',\n",
       " 'поселок Молодцово',\n",
       " 'поселок Мурино',\n",
       " 'поселок Мыза-Ивановка',\n",
       " 'поселок Назия',\n",
       " 'поселок Никольский',\n",
       " 'поселок Новогорелово',\n",
       " 'поселок Новоселье',\n",
       " 'поселок Новый Свет',\n",
       " 'поселок Новый Учхоз',\n",
       " 'поселок Оредеж',\n",
       " 'поселок Павлово',\n",
       " 'поселок Пансионат Зеленый Бор',\n",
       " 'поселок Парголово',\n",
       " 'поселок Первомайское',\n",
       " 'поселок Перово',\n",
       " 'поселок Песочный',\n",
       " 'поселок Петро-Славянка',\n",
       " 'поселок Петровское',\n",
       " 'поселок Платформа 69-й километр',\n",
       " 'поселок Плодовое',\n",
       " 'поселок Плоское',\n",
       " 'поселок Победа',\n",
       " 'поселок Поляны',\n",
       " 'поселок Понтонный',\n",
       " 'поселок Почап',\n",
       " 'поселок Починок',\n",
       " 'поселок Пригородный',\n",
       " 'поселок Приладожский',\n",
       " 'поселок Пудость',\n",
       " 'поселок Пушное',\n",
       " 'поселок Пчевжа',\n",
       " 'поселок Рабитицы',\n",
       " 'поселок Рахья',\n",
       " 'поселок Репино',\n",
       " 'поселок Романовка',\n",
       " 'поселок Ромашки',\n",
       " 'поселок Ропша',\n",
       " 'поселок Рощино',\n",
       " 'поселок Рябово',\n",
       " 'поселок Саперное',\n",
       " 'поселок Саперный',\n",
       " 'поселок Свирьстрой',\n",
       " 'поселок Севастьяново',\n",
       " 'поселок Селезнево',\n",
       " 'поселок Сельцо',\n",
       " 'поселок Семиозерье',\n",
       " 'поселок Семрино',\n",
       " 'поселок Серебрянский',\n",
       " 'поселок Сиверский',\n",
       " 'поселок Синявино',\n",
       " 'поселок Советский',\n",
       " 'поселок Совхозный',\n",
       " 'поселок Сосново',\n",
       " 'поселок Старая Малукса',\n",
       " 'поселок Стеклянный',\n",
       " 'поселок Стрельна',\n",
       " 'поселок Суйда',\n",
       " 'поселок Сумино',\n",
       " 'поселок Суходолье',\n",
       " 'поселок Тайцы',\n",
       " 'поселок Тельмана',\n",
       " 'поселок Терволово',\n",
       " 'поселок Тесово-4',\n",
       " 'поселок Токсово',\n",
       " 'поселок Торковичи',\n",
       " 'поселок Торфяное',\n",
       " 'поселок Углово',\n",
       " 'поселок Ульяновка',\n",
       " 'поселок Усть-Ижора',\n",
       " 'поселок Усть-Луга',\n",
       " 'поселок Ушаки',\n",
       " 'поселок Федоровское',\n",
       " 'поселок Форносово',\n",
       " 'поселок Форт Красная Горка',\n",
       " 'поселок Цвелодубово',\n",
       " 'поселок Цвылево',\n",
       " 'поселок Шугозеро',\n",
       " 'поселок Шушары',\n",
       " 'поселок Щеглово',\n",
       " 'поселок Янино-1',\n",
       " 'поселок имени Морозова',\n",
       " 'поселок имени Свердлова',\n",
       " 'поселок при железнодорожной станции Вещево',\n",
       " 'поселок при железнодорожной станции Приветнинское',\n",
       " 'поселок станции Вещево',\n",
       " 'поселок станции Громово',\n",
       " 'поселок станции Корнево',\n",
       " 'поселок станции Лужайка',\n",
       " 'поселок станции Приветнинское',\n",
       " 'поселок станции Свирь',\n",
       " 'садоводческое некоммерческое товарищество Лесная Поляна',\n",
       " 'садовое товарищество Новая Ропша',\n",
       " 'садовое товарищество Приладожский',\n",
       " 'садовое товарищество Рахья',\n",
       " 'садовое товарищество Садко',\n",
       " 'село Копорье',\n",
       " 'село Никольское',\n",
       " 'село Павлово',\n",
       " 'село Паша',\n",
       " 'село Путилово',\n",
       " 'село Рождествено',\n",
       " 'село Русско-Высоцкое',\n",
       " 'село Старая Ладога',\n",
       " 'село Шум'}"
      ]
     },
     "execution_count": 16,
     "metadata": {},
     "output_type": "execute_result"
    }
   ],
   "source": [
    "data.locality_name = data.locality_name.str.replace('ё', 'е') \n",
    "data.locality_name = data.locality_name.str.replace('поселок городского типа', 'поселок') \n",
    "data.locality_name = data.locality_name.str.replace('городской поселок', 'поселок')\n",
    "set(data['locality_name'].unique())"
   ]
  },
  {
   "cell_type": "markdown",
   "metadata": {},
   "source": [
    "Устранили неявные дубликаты"
   ]
  },
  {
   "cell_type": "markdown",
   "metadata": {},
   "source": [
    "*4. Найдите и устраните редкие и выбивающиеся значения*"
   ]
  },
  {
   "cell_type": "code",
   "execution_count": 17,
   "metadata": {},
   "outputs": [
    {
     "data": {
      "text/plain": [
       "4"
      ]
     },
     "execution_count": 17,
     "metadata": {},
     "output_type": "execute_result"
    }
   ],
   "source": [
    "data.query('living_area<5')['living_area'].count()\n"
   ]
  },
  {
   "cell_type": "markdown",
   "metadata": {},
   "source": [
    "Так как жилая площадь менее 5 кв м выглядит аномальной, и таких значений всего 4 - удалим эти строки"
   ]
  },
  {
   "cell_type": "code",
   "execution_count": 18,
   "metadata": {},
   "outputs": [],
   "source": [
    "data.drop(index=data.query('living_area<5').index,inplace=True)"
   ]
  },
  {
   "cell_type": "code",
   "execution_count": 19,
   "metadata": {},
   "outputs": [],
   "source": [
    "data['ceiling_height'] = data['ceiling_height'].replace('25', '2,5')\n",
    "data['ceiling_height'] = data['ceiling_height'].replace('32', '3,2')"
   ]
  },
  {
   "cell_type": "markdown",
   "metadata": {},
   "source": [
    "Можно предположить, что 25 и 32 - это ошибка, восстановили корректное значение"
   ]
  },
  {
   "cell_type": "code",
   "execution_count": 20,
   "metadata": {
    "scrolled": true
   },
   "outputs": [
    {
     "data": {
      "image/png": "[encoded data removed]",
      "text/plain": [
       "<Figure size 432x288 with 1 Axes>"
      ]
     },
     "metadata": {
      "needs_background": "light"
     },
     "output_type": "display_data"
    }
   ],
   "source": [
    "data.boxplot(['ceiling_height']);"
   ]
  },
  {
   "cell_type": "code",
   "execution_count": 21,
   "metadata": {},
   "outputs": [
    {
     "data": {
      "text/plain": [
       "0.00422029964127453"
      ]
     },
     "execution_count": 21,
     "metadata": {},
     "output_type": "execute_result"
    }
   ],
   "source": [
    "(data.query('ceiling_height>50')['ceiling_height'].count()/data['ceiling_height'].count())*100"
   ]
  },
  {
   "cell_type": "code",
   "execution_count": 22,
   "metadata": {},
   "outputs": [
    {
     "data": {
      "image/png": "[encoded data removed]",
      "text/plain": [
       "<Figure size 432x288 with 1 Axes>"
      ]
     },
     "metadata": {
      "needs_background": "light"
     },
     "output_type": "display_data"
    }
   ],
   "source": [
    "data.boxplot(['living_area']);"
   ]
  },
  {
   "cell_type": "code",
   "execution_count": 23,
   "metadata": {},
   "outputs": [
    {
     "data": {
      "text/plain": [
       "0.06424375917767988"
      ]
     },
     "execution_count": 23,
     "metadata": {},
     "output_type": "execute_result"
    }
   ],
   "source": [
    "(data.query('living_area>250')['living_area'].count()/data['living_area'].count())*100"
   ]
  },
  {
   "cell_type": "code",
   "execution_count": 24,
   "metadata": {
    "scrolled": true
   },
   "outputs": [
    {
     "data": {
      "image/png": "[encoded data removed]",
      "text/plain": [
       "<Figure size 432x288 with 1 Axes>"
      ]
     },
     "metadata": {
      "needs_background": "light"
     },
     "output_type": "display_data"
    }
   ],
   "source": [
    "data.boxplot(['last_price']);"
   ]
  },
  {
   "cell_type": "code",
   "execution_count": 25,
   "metadata": {
    "scrolled": true
   },
   "outputs": [
    {
     "data": {
      "text/plain": [
       "0.03798269677147077"
      ]
     },
     "execution_count": 25,
     "metadata": {},
     "output_type": "execute_result"
    }
   ],
   "source": [
    "(data.query('last_price>200000000')['last_price'].count()/data['last_price'].count())*100"
   ]
  },
  {
   "cell_type": "code",
   "execution_count": 26,
   "metadata": {
    "scrolled": true
   },
   "outputs": [
    {
     "data": {
      "image/png": "[encoded data removed]",
      "text/plain": [
       "<Figure size 432x288 with 1 Axes>"
      ]
     },
     "metadata": {
      "needs_background": "light"
     },
     "output_type": "display_data"
    }
   ],
   "source": [
    "data.boxplot(['total_area']);"
   ]
  },
  {
   "cell_type": "code",
   "execution_count": 27,
   "metadata": {},
   "outputs": [
    {
     "data": {
      "text/plain": [
       "0.029542097488921712"
      ]
     },
     "execution_count": 27,
     "metadata": {},
     "output_type": "execute_result"
    }
   ],
   "source": [
    "(data.query('total_area>500')['total_area'].count()/data['total_area'].count())*100"
   ]
  },
  {
   "cell_type": "code",
   "execution_count": 28,
   "metadata": {
    "scrolled": true
   },
   "outputs": [
    {
     "data": {
      "image/png": "[encoded data removed]",
      "text/plain": [
       "<Figure size 432x288 with 1 Axes>"
      ]
     },
     "metadata": {
      "needs_background": "light"
     },
     "output_type": "display_data"
    }
   ],
   "source": [
    "data.boxplot(['rooms']);"
   ]
  },
  {
   "cell_type": "code",
   "execution_count": 29,
   "metadata": {},
   "outputs": [
    {
     "data": {
      "text/plain": [
       "0.03376239713019624"
      ]
     },
     "execution_count": 29,
     "metadata": {},
     "output_type": "execute_result"
    }
   ],
   "source": [
    "(data.query('rooms>10')['rooms'].count()/data['rooms'].count())*100"
   ]
  },
  {
   "cell_type": "markdown",
   "metadata": {},
   "source": [
    "По данным исследования можно удалить выбросы, т.к. они составляют менее 1%"
   ]
  },
  {
   "cell_type": "code",
   "execution_count": 30,
   "metadata": {},
   "outputs": [],
   "source": [
    "data.drop(index=data.query('rooms>10').index,inplace=True)\n",
    "data.drop(index=data.query('ceiling_height>50').index,inplace=True)\n",
    "data.drop(index=data.query('living_area>250').index,inplace=True)\n",
    "data.drop(index=data.query('total_area>500').index,inplace=True)\n",
    "data.drop(index=data.query('last_price>200000000').index,inplace=True)"
   ]
  },
  {
   "cell_type": "code",
   "execution_count": 31,
   "metadata": {},
   "outputs": [
    {
     "data": {
      "text/html": [
       "<div>\n",
       "<style scoped>\n",
       "    .dataframe tbody tr th:only-of-type {\n",
       "        vertical-align: middle;\n",
       "    }\n",
       "\n",
       "    .dataframe tbody tr th {\n",
       "        vertical-align: top;\n",
       "    }\n",
       "\n",
       "    .dataframe thead th {\n",
       "        text-align: right;\n",
       "    }\n",
       "</style>\n",
       "<table border=\"1\" class=\"dataframe\">\n",
       "  <thead>\n",
       "    <tr style=\"text-align: right;\">\n",
       "      <th></th>\n",
       "      <th>count</th>\n",
       "      <th>mean</th>\n",
       "      <th>std</th>\n",
       "      <th>min</th>\n",
       "      <th>25%</th>\n",
       "      <th>50%</th>\n",
       "      <th>75%</th>\n",
       "      <th>max</th>\n",
       "    </tr>\n",
       "  </thead>\n",
       "  <tbody>\n",
       "    <tr>\n",
       "      <th>total_images</th>\n",
       "      <td>23667.0</td>\n",
       "      <td>9.856298e+00</td>\n",
       "      <td>5.680083e+00</td>\n",
       "      <td>0.0</td>\n",
       "      <td>6.00</td>\n",
       "      <td>9.00</td>\n",
       "      <td>14.000</td>\n",
       "      <td>50.0</td>\n",
       "    </tr>\n",
       "    <tr>\n",
       "      <th>last_price</th>\n",
       "      <td>23667.0</td>\n",
       "      <td>6.359660e+06</td>\n",
       "      <td>7.610391e+06</td>\n",
       "      <td>12190.0</td>\n",
       "      <td>3400000.00</td>\n",
       "      <td>4644000.00</td>\n",
       "      <td>6760000.000</td>\n",
       "      <td>190870000.0</td>\n",
       "    </tr>\n",
       "    <tr>\n",
       "      <th>total_area</th>\n",
       "      <td>23667.0</td>\n",
       "      <td>5.993665e+01</td>\n",
       "      <td>3.304428e+01</td>\n",
       "      <td>12.0</td>\n",
       "      <td>40.00</td>\n",
       "      <td>52.00</td>\n",
       "      <td>69.700</td>\n",
       "      <td>500.0</td>\n",
       "    </tr>\n",
       "    <tr>\n",
       "      <th>rooms</th>\n",
       "      <td>23667.0</td>\n",
       "      <td>2.063675e+00</td>\n",
       "      <td>1.049019e+00</td>\n",
       "      <td>0.0</td>\n",
       "      <td>1.00</td>\n",
       "      <td>2.00</td>\n",
       "      <td>3.000</td>\n",
       "      <td>10.0</td>\n",
       "    </tr>\n",
       "    <tr>\n",
       "      <th>ceiling_height</th>\n",
       "      <td>23667.0</td>\n",
       "      <td>2.719561e+00</td>\n",
       "      <td>7.598862e-01</td>\n",
       "      <td>1.0</td>\n",
       "      <td>2.60</td>\n",
       "      <td>2.65</td>\n",
       "      <td>2.700</td>\n",
       "      <td>32.0</td>\n",
       "    </tr>\n",
       "    <tr>\n",
       "      <th>floors_total</th>\n",
       "      <td>23581.0</td>\n",
       "      <td>1.067792e+01</td>\n",
       "      <td>6.598143e+00</td>\n",
       "      <td>1.0</td>\n",
       "      <td>5.00</td>\n",
       "      <td>9.00</td>\n",
       "      <td>16.000</td>\n",
       "      <td>60.0</td>\n",
       "    </tr>\n",
       "    <tr>\n",
       "      <th>living_area</th>\n",
       "      <td>21766.0</td>\n",
       "      <td>3.422041e+01</td>\n",
       "      <td>2.061870e+01</td>\n",
       "      <td>5.0</td>\n",
       "      <td>18.60</td>\n",
       "      <td>30.00</td>\n",
       "      <td>42.245</td>\n",
       "      <td>250.0</td>\n",
       "    </tr>\n",
       "    <tr>\n",
       "      <th>floor</th>\n",
       "      <td>23667.0</td>\n",
       "      <td>5.891494e+00</td>\n",
       "      <td>4.884534e+00</td>\n",
       "      <td>1.0</td>\n",
       "      <td>2.00</td>\n",
       "      <td>4.00</td>\n",
       "      <td>8.000</td>\n",
       "      <td>33.0</td>\n",
       "    </tr>\n",
       "    <tr>\n",
       "      <th>kitchen_area</th>\n",
       "      <td>21391.0</td>\n",
       "      <td>1.053287e+01</td>\n",
       "      <td>5.749797e+00</td>\n",
       "      <td>1.3</td>\n",
       "      <td>7.00</td>\n",
       "      <td>9.10</td>\n",
       "      <td>12.000</td>\n",
       "      <td>107.0</td>\n",
       "    </tr>\n",
       "    <tr>\n",
       "      <th>balcony</th>\n",
       "      <td>23667.0</td>\n",
       "      <td>5.912029e-01</td>\n",
       "      <td>9.591039e-01</td>\n",
       "      <td>0.0</td>\n",
       "      <td>0.00</td>\n",
       "      <td>0.00</td>\n",
       "      <td>1.000</td>\n",
       "      <td>5.0</td>\n",
       "    </tr>\n",
       "    <tr>\n",
       "      <th>airports_nearest</th>\n",
       "      <td>18128.0</td>\n",
       "      <td>2.879648e+04</td>\n",
       "      <td>1.263857e+04</td>\n",
       "      <td>0.0</td>\n",
       "      <td>18574.75</td>\n",
       "      <td>26736.50</td>\n",
       "      <td>37288.000</td>\n",
       "      <td>84869.0</td>\n",
       "    </tr>\n",
       "    <tr>\n",
       "      <th>city_centers_nearest</th>\n",
       "      <td>18149.0</td>\n",
       "      <td>1.420703e+04</td>\n",
       "      <td>8.606241e+03</td>\n",
       "      <td>181.0</td>\n",
       "      <td>9265.00</td>\n",
       "      <td>13107.00</td>\n",
       "      <td>16296.000</td>\n",
       "      <td>65968.0</td>\n",
       "    </tr>\n",
       "    <tr>\n",
       "      <th>parks_around_3000</th>\n",
       "      <td>18150.0</td>\n",
       "      <td>6.104132e-01</td>\n",
       "      <td>8.010624e-01</td>\n",
       "      <td>0.0</td>\n",
       "      <td>0.00</td>\n",
       "      <td>0.00</td>\n",
       "      <td>1.000</td>\n",
       "      <td>3.0</td>\n",
       "    </tr>\n",
       "    <tr>\n",
       "      <th>parks_nearest</th>\n",
       "      <td>8059.0</td>\n",
       "      <td>4.908987e+02</td>\n",
       "      <td>3.425864e+02</td>\n",
       "      <td>1.0</td>\n",
       "      <td>288.00</td>\n",
       "      <td>454.00</td>\n",
       "      <td>612.000</td>\n",
       "      <td>3190.0</td>\n",
       "    </tr>\n",
       "    <tr>\n",
       "      <th>ponds_around_3000</th>\n",
       "      <td>18150.0</td>\n",
       "      <td>7.686501e-01</td>\n",
       "      <td>9.371559e-01</td>\n",
       "      <td>0.0</td>\n",
       "      <td>0.00</td>\n",
       "      <td>1.00</td>\n",
       "      <td>1.000</td>\n",
       "      <td>3.0</td>\n",
       "    </tr>\n",
       "    <tr>\n",
       "      <th>ponds_nearest</th>\n",
       "      <td>9087.0</td>\n",
       "      <td>5.185009e+02</td>\n",
       "      <td>2.776092e+02</td>\n",
       "      <td>13.0</td>\n",
       "      <td>295.00</td>\n",
       "      <td>503.00</td>\n",
       "      <td>730.000</td>\n",
       "      <td>1344.0</td>\n",
       "    </tr>\n",
       "    <tr>\n",
       "      <th>days_exposition</th>\n",
       "      <td>20491.0</td>\n",
       "      <td>1.807556e+02</td>\n",
       "      <td>2.194928e+02</td>\n",
       "      <td>1.0</td>\n",
       "      <td>45.00</td>\n",
       "      <td>95.00</td>\n",
       "      <td>231.500</td>\n",
       "      <td>1580.0</td>\n",
       "    </tr>\n",
       "  </tbody>\n",
       "</table>\n",
       "</div>"
      ],
      "text/plain": [
       "                        count          mean           std      min  \\\n",
       "total_images          23667.0  9.856298e+00  5.680083e+00      0.0   \n",
       "last_price            23667.0  6.359660e+06  7.610391e+06  12190.0   \n",
       "total_area            23667.0  5.993665e+01  3.304428e+01     12.0   \n",
       "rooms                 23667.0  2.063675e+00  1.049019e+00      0.0   \n",
       "ceiling_height        23667.0  2.719561e+00  7.598862e-01      1.0   \n",
       "floors_total          23581.0  1.067792e+01  6.598143e+00      1.0   \n",
       "living_area           21766.0  3.422041e+01  2.061870e+01      5.0   \n",
       "floor                 23667.0  5.891494e+00  4.884534e+00      1.0   \n",
       "kitchen_area          21391.0  1.053287e+01  5.749797e+00      1.3   \n",
       "balcony               23667.0  5.912029e-01  9.591039e-01      0.0   \n",
       "airports_nearest      18128.0  2.879648e+04  1.263857e+04      0.0   \n",
       "city_centers_nearest  18149.0  1.420703e+04  8.606241e+03    181.0   \n",
       "parks_around_3000     18150.0  6.104132e-01  8.010624e-01      0.0   \n",
       "parks_nearest          8059.0  4.908987e+02  3.425864e+02      1.0   \n",
       "ponds_around_3000     18150.0  7.686501e-01  9.371559e-01      0.0   \n",
       "ponds_nearest          9087.0  5.185009e+02  2.776092e+02     13.0   \n",
       "days_exposition       20491.0  1.807556e+02  2.194928e+02      1.0   \n",
       "\n",
       "                             25%         50%          75%          max  \n",
       "total_images                6.00        9.00       14.000         50.0  \n",
       "last_price            3400000.00  4644000.00  6760000.000  190870000.0  \n",
       "total_area                 40.00       52.00       69.700        500.0  \n",
       "rooms                       1.00        2.00        3.000         10.0  \n",
       "ceiling_height              2.60        2.65        2.700         32.0  \n",
       "floors_total                5.00        9.00       16.000         60.0  \n",
       "living_area                18.60       30.00       42.245        250.0  \n",
       "floor                       2.00        4.00        8.000         33.0  \n",
       "kitchen_area                7.00        9.10       12.000        107.0  \n",
       "balcony                     0.00        0.00        1.000          5.0  \n",
       "airports_nearest        18574.75    26736.50    37288.000      84869.0  \n",
       "city_centers_nearest     9265.00    13107.00    16296.000      65968.0  \n",
       "parks_around_3000           0.00        0.00        1.000          3.0  \n",
       "parks_nearest             288.00      454.00      612.000       3190.0  \n",
       "ponds_around_3000           0.00        1.00        1.000          3.0  \n",
       "ponds_nearest             295.00      503.00      730.000       1344.0  \n",
       "days_exposition            45.00       95.00      231.500       1580.0  "
      ]
     },
     "execution_count": 31,
     "metadata": {},
     "output_type": "execute_result"
    }
   ],
   "source": [
    "data.describe().T"
   ]
  },
  {
   "cell_type": "markdown",
   "metadata": {},
   "source": [
    "### Посчитайте и добавьте в таблицу новые столбцы"
   ]
  },
  {
   "cell_type": "markdown",
   "metadata": {},
   "source": [
    "Цена одного квадратного метра"
   ]
  },
  {
   "cell_type": "code",
   "execution_count": 32,
   "metadata": {},
   "outputs": [],
   "source": [
    "data['price_metr'] = data['last_price']/data['total_area']"
   ]
  },
  {
   "cell_type": "markdown",
   "metadata": {},
   "source": [
    "День недели публикации объявления"
   ]
  },
  {
   "cell_type": "code",
   "execution_count": 33,
   "metadata": {},
   "outputs": [],
   "source": [
    "data['weekday'] = data['first_day_exposition'].dt.weekday"
   ]
  },
  {
   "cell_type": "markdown",
   "metadata": {},
   "source": [
    "Месяц публикации объвления"
   ]
  },
  {
   "cell_type": "code",
   "execution_count": 34,
   "metadata": {},
   "outputs": [],
   "source": [
    "data['month'] = data['first_day_exposition'].dt.month"
   ]
  },
  {
   "cell_type": "markdown",
   "metadata": {},
   "source": [
    "Год публикации обявления"
   ]
  },
  {
   "cell_type": "code",
   "execution_count": 35,
   "metadata": {},
   "outputs": [],
   "source": [
    "data['year'] = data['first_day_exposition'].dt.year"
   ]
  },
  {
   "cell_type": "markdown",
   "metadata": {},
   "source": [
    "Тип этажа квартиры"
   ]
  },
  {
   "cell_type": "code",
   "execution_count": 36,
   "metadata": {},
   "outputs": [],
   "source": [
    "def floor_group(row):\n",
    "    if row['floor'] == 1:\n",
    "        return 'первый'\n",
    "    elif row['floor'] == row['floors_total']:\n",
    "        return 'последний'\n",
    "    else:\n",
    "        return 'другой'\n",
    "data['floor_type'] = data.apply(floor_group, axis=1)"
   ]
  },
  {
   "cell_type": "markdown",
   "metadata": {},
   "source": [
    "Расстояние до центра города в километрах"
   ]
  },
  {
   "cell_type": "code",
   "execution_count": 37,
   "metadata": {},
   "outputs": [],
   "source": [
    "data['center_distance'] = round(data['city_centers_nearest']/1000)"
   ]
  },
  {
   "cell_type": "markdown",
   "metadata": {},
   "source": [
    "Откроем таблицу с новыми столбцами"
   ]
  },
  {
   "cell_type": "code",
   "execution_count": 38,
   "metadata": {},
   "outputs": [
    {
     "data": {
      "text/html": [
       "<div>\n",
       "<style scoped>\n",
       "    .dataframe tbody tr th:only-of-type {\n",
       "        vertical-align: middle;\n",
       "    }\n",
       "\n",
       "    .dataframe tbody tr th {\n",
       "        vertical-align: top;\n",
       "    }\n",
       "\n",
       "    .dataframe thead th {\n",
       "        text-align: right;\n",
       "    }\n",
       "</style>\n",
       "<table border=\"1\" class=\"dataframe\">\n",
       "  <thead>\n",
       "    <tr style=\"text-align: right;\">\n",
       "      <th></th>\n",
       "      <th>total_images</th>\n",
       "      <th>last_price</th>\n",
       "      <th>total_area</th>\n",
       "      <th>first_day_exposition</th>\n",
       "      <th>rooms</th>\n",
       "      <th>ceiling_height</th>\n",
       "      <th>floors_total</th>\n",
       "      <th>living_area</th>\n",
       "      <th>floor</th>\n",
       "      <th>is_apartment</th>\n",
       "      <th>studio</th>\n",
       "      <th>open_plan</th>\n",
       "      <th>kitchen_area</th>\n",
       "      <th>balcony</th>\n",
       "      <th>locality_name</th>\n",
       "      <th>airports_nearest</th>\n",
       "      <th>city_centers_nearest</th>\n",
       "      <th>parks_around_3000</th>\n",
       "      <th>parks_nearest</th>\n",
       "      <th>ponds_around_3000</th>\n",
       "      <th>ponds_nearest</th>\n",
       "      <th>days_exposition</th>\n",
       "      <th>price_metr</th>\n",
       "      <th>weekday</th>\n",
       "      <th>month</th>\n",
       "      <th>year</th>\n",
       "      <th>floor_type</th>\n",
       "      <th>center_distance</th>\n",
       "    </tr>\n",
       "  </thead>\n",
       "  <tbody>\n",
       "    <tr>\n",
       "      <th>0</th>\n",
       "      <td>20</td>\n",
       "      <td>13000000.0</td>\n",
       "      <td>108.0</td>\n",
       "      <td>2019-03-07</td>\n",
       "      <td>3</td>\n",
       "      <td>2.70</td>\n",
       "      <td>16.0</td>\n",
       "      <td>51.0</td>\n",
       "      <td>8</td>\n",
       "      <td>NaN</td>\n",
       "      <td>False</td>\n",
       "      <td>False</td>\n",
       "      <td>25.0</td>\n",
       "      <td>0</td>\n",
       "      <td>Санкт-Петербург</td>\n",
       "      <td>18863.0</td>\n",
       "      <td>16028.0</td>\n",
       "      <td>1.0</td>\n",
       "      <td>482.0</td>\n",
       "      <td>2.0</td>\n",
       "      <td>755.0</td>\n",
       "      <td>NaN</td>\n",
       "      <td>120370.370370</td>\n",
       "      <td>3</td>\n",
       "      <td>3</td>\n",
       "      <td>2019</td>\n",
       "      <td>другой</td>\n",
       "      <td>16.0</td>\n",
       "    </tr>\n",
       "    <tr>\n",
       "      <th>1</th>\n",
       "      <td>7</td>\n",
       "      <td>3350000.0</td>\n",
       "      <td>40.4</td>\n",
       "      <td>2018-12-04</td>\n",
       "      <td>1</td>\n",
       "      <td>2.65</td>\n",
       "      <td>11.0</td>\n",
       "      <td>18.6</td>\n",
       "      <td>1</td>\n",
       "      <td>NaN</td>\n",
       "      <td>False</td>\n",
       "      <td>False</td>\n",
       "      <td>11.0</td>\n",
       "      <td>2</td>\n",
       "      <td>поселок Шушары</td>\n",
       "      <td>12817.0</td>\n",
       "      <td>18603.0</td>\n",
       "      <td>0.0</td>\n",
       "      <td>NaN</td>\n",
       "      <td>0.0</td>\n",
       "      <td>NaN</td>\n",
       "      <td>81.0</td>\n",
       "      <td>82920.792079</td>\n",
       "      <td>1</td>\n",
       "      <td>12</td>\n",
       "      <td>2018</td>\n",
       "      <td>первый</td>\n",
       "      <td>19.0</td>\n",
       "    </tr>\n",
       "    <tr>\n",
       "      <th>2</th>\n",
       "      <td>10</td>\n",
       "      <td>5196000.0</td>\n",
       "      <td>56.0</td>\n",
       "      <td>2015-08-20</td>\n",
       "      <td>2</td>\n",
       "      <td>2.65</td>\n",
       "      <td>5.0</td>\n",
       "      <td>34.3</td>\n",
       "      <td>4</td>\n",
       "      <td>NaN</td>\n",
       "      <td>False</td>\n",
       "      <td>False</td>\n",
       "      <td>8.3</td>\n",
       "      <td>0</td>\n",
       "      <td>Санкт-Петербург</td>\n",
       "      <td>21741.0</td>\n",
       "      <td>13933.0</td>\n",
       "      <td>1.0</td>\n",
       "      <td>90.0</td>\n",
       "      <td>2.0</td>\n",
       "      <td>574.0</td>\n",
       "      <td>558.0</td>\n",
       "      <td>92785.714286</td>\n",
       "      <td>3</td>\n",
       "      <td>8</td>\n",
       "      <td>2015</td>\n",
       "      <td>другой</td>\n",
       "      <td>14.0</td>\n",
       "    </tr>\n",
       "    <tr>\n",
       "      <th>3</th>\n",
       "      <td>0</td>\n",
       "      <td>64900000.0</td>\n",
       "      <td>159.0</td>\n",
       "      <td>2015-07-24</td>\n",
       "      <td>3</td>\n",
       "      <td>2.65</td>\n",
       "      <td>14.0</td>\n",
       "      <td>NaN</td>\n",
       "      <td>9</td>\n",
       "      <td>NaN</td>\n",
       "      <td>False</td>\n",
       "      <td>False</td>\n",
       "      <td>NaN</td>\n",
       "      <td>0</td>\n",
       "      <td>Санкт-Петербург</td>\n",
       "      <td>28098.0</td>\n",
       "      <td>6800.0</td>\n",
       "      <td>2.0</td>\n",
       "      <td>84.0</td>\n",
       "      <td>3.0</td>\n",
       "      <td>234.0</td>\n",
       "      <td>424.0</td>\n",
       "      <td>408176.100629</td>\n",
       "      <td>4</td>\n",
       "      <td>7</td>\n",
       "      <td>2015</td>\n",
       "      <td>другой</td>\n",
       "      <td>7.0</td>\n",
       "    </tr>\n",
       "    <tr>\n",
       "      <th>4</th>\n",
       "      <td>2</td>\n",
       "      <td>10000000.0</td>\n",
       "      <td>100.0</td>\n",
       "      <td>2018-06-19</td>\n",
       "      <td>2</td>\n",
       "      <td>3.03</td>\n",
       "      <td>14.0</td>\n",
       "      <td>32.0</td>\n",
       "      <td>13</td>\n",
       "      <td>NaN</td>\n",
       "      <td>False</td>\n",
       "      <td>False</td>\n",
       "      <td>41.0</td>\n",
       "      <td>0</td>\n",
       "      <td>Санкт-Петербург</td>\n",
       "      <td>31856.0</td>\n",
       "      <td>8098.0</td>\n",
       "      <td>2.0</td>\n",
       "      <td>112.0</td>\n",
       "      <td>1.0</td>\n",
       "      <td>48.0</td>\n",
       "      <td>121.0</td>\n",
       "      <td>100000.000000</td>\n",
       "      <td>1</td>\n",
       "      <td>6</td>\n",
       "      <td>2018</td>\n",
       "      <td>другой</td>\n",
       "      <td>8.0</td>\n",
       "    </tr>\n",
       "  </tbody>\n",
       "</table>\n",
       "</div>"
      ],
      "text/plain": [
       "   total_images  last_price  total_area first_day_exposition  rooms  \\\n",
       "0            20  13000000.0       108.0           2019-03-07      3   \n",
       "1             7   3350000.0        40.4           2018-12-04      1   \n",
       "2            10   5196000.0        56.0           2015-08-20      2   \n",
       "3             0  64900000.0       159.0           2015-07-24      3   \n",
       "4             2  10000000.0       100.0           2018-06-19      2   \n",
       "\n",
       "   ceiling_height  floors_total  living_area  floor is_apartment  studio  \\\n",
       "0            2.70          16.0         51.0      8          NaN   False   \n",
       "1            2.65          11.0         18.6      1          NaN   False   \n",
       "2            2.65           5.0         34.3      4          NaN   False   \n",
       "3            2.65          14.0          NaN      9          NaN   False   \n",
       "4            3.03          14.0         32.0     13          NaN   False   \n",
       "\n",
       "   open_plan  kitchen_area  balcony    locality_name  airports_nearest  \\\n",
       "0      False          25.0        0  Санкт-Петербург           18863.0   \n",
       "1      False          11.0        2   поселок Шушары           12817.0   \n",
       "2      False           8.3        0  Санкт-Петербург           21741.0   \n",
       "3      False           NaN        0  Санкт-Петербург           28098.0   \n",
       "4      False          41.0        0  Санкт-Петербург           31856.0   \n",
       "\n",
       "   city_centers_nearest  parks_around_3000  parks_nearest  ponds_around_3000  \\\n",
       "0               16028.0                1.0          482.0                2.0   \n",
       "1               18603.0                0.0            NaN                0.0   \n",
       "2               13933.0                1.0           90.0                2.0   \n",
       "3                6800.0                2.0           84.0                3.0   \n",
       "4                8098.0                2.0          112.0                1.0   \n",
       "\n",
       "   ponds_nearest  days_exposition     price_metr  weekday  month  year  \\\n",
       "0          755.0              NaN  120370.370370        3      3  2019   \n",
       "1            NaN             81.0   82920.792079        1     12  2018   \n",
       "2          574.0            558.0   92785.714286        3      8  2015   \n",
       "3          234.0            424.0  408176.100629        4      7  2015   \n",
       "4           48.0            121.0  100000.000000        1      6  2018   \n",
       "\n",
       "  floor_type  center_distance  \n",
       "0     другой             16.0  \n",
       "1     первый             19.0  \n",
       "2     другой             14.0  \n",
       "3     другой              7.0  \n",
       "4     другой              8.0  "
      ]
     },
     "execution_count": 38,
     "metadata": {},
     "output_type": "execute_result"
    }
   ],
   "source": [
    "data.head()"
   ]
  },
  {
   "cell_type": "markdown",
   "metadata": {},
   "source": [
    "### Проведите исследовательский анализ данных"
   ]
  },
  {
   "cell_type": "markdown",
   "metadata": {},
   "source": [
    "*1. Параметры объектов*"
   ]
  },
  {
   "cell_type": "code",
   "execution_count": 39,
   "metadata": {
    "scrolled": true
   },
   "outputs": [
    {
     "data": {
      "image/png": "[encoded data removed]",
      "text/plain": [
       "<Figure size 432x288 with 1 Axes>"
      ]
     },
     "metadata": {
      "needs_background": "light"
     },
     "output_type": "display_data"
    }
   ],
   "source": [
    "plt.hist(data['total_area'], bins=100, range=(10,200))\n",
    "plt.title('Площадь квартир')\n",
    "plt.xlabel('Квадратные метры')\n",
    "plt.ylabel('Количество квартир')\n",
    "plt.show()"
   ]
  },
  {
   "cell_type": "code",
   "execution_count": 40,
   "metadata": {
    "scrolled": false
   },
   "outputs": [
    {
     "data": {
      "image/png": "[encoded data removed]",
      "text/plain": [
       "<Figure size 432x288 with 1 Axes>"
      ]
     },
     "metadata": {
      "needs_background": "light"
     },
     "output_type": "display_data"
    }
   ],
   "source": [
    "plt.hist(data['living_area'], bins=70, range=(10,100))\n",
    "plt.title('Жилая площадь квартир')\n",
    "plt.xlabel('Квадратные метры')\n",
    "plt.ylabel('Количество квартир')\n",
    "plt.show()\n"
   ]
  },
  {
   "cell_type": "code",
   "execution_count": 41,
   "metadata": {
    "scrolled": false
   },
   "outputs": [
    {
     "data": {
      "image/png": "[encoded data removed]",
      "text/plain": [
       "<Figure size 432x288 with 1 Axes>"
      ]
     },
     "metadata": {
      "needs_background": "light"
     },
     "output_type": "display_data"
    }
   ],
   "source": [
    "plt.hist(data['kitchen_area'], bins=30, range=(0,30))\n",
    "plt.title('Площадь кухни')\n",
    "plt.xlabel('Квадратные метры')\n",
    "plt.ylabel('Количество квартир')\n",
    "plt.show()\n"
   ]
  },
  {
   "cell_type": "code",
   "execution_count": 42,
   "metadata": {
    "scrolled": true
   },
   "outputs": [
    {
     "data": {
      "image/png": "[encoded data removed]",
      "text/plain": [
       "<Figure size 432x288 with 1 Axes>"
      ]
     },
     "metadata": {
      "needs_background": "light"
     },
     "output_type": "display_data"
    }
   ],
   "source": [
    "data['last_price'] = data['last_price']/1000000\n",
    "plt.hist(data['last_price'], bins = 50, range=(0,20))\n",
    "plt.title('Стомость объекта')\n",
    "plt.xlabel('Стоимость')\n",
    "plt.ylabel('Количество квартир')\n",
    "plt.show()"
   ]
  },
  {
   "cell_type": "code",
   "execution_count": 43,
   "metadata": {
    "scrolled": true
   },
   "outputs": [
    {
     "data": {
      "image/png": "[encoded data removed]",
      "text/plain": [
       "<Figure size 432x288 with 1 Axes>"
      ]
     },
     "metadata": {
      "needs_background": "light"
     },
     "output_type": "display_data"
    }
   ],
   "source": [
    "plt.hist(data['rooms'], bins=7, range=(1,7))\n",
    "plt.title('Количество комнат')\n",
    "plt.xlabel('Комнаты')\n",
    "plt.ylabel('Количество квартир')\n",
    "plt.show()\n"
   ]
  },
  {
   "cell_type": "code",
   "execution_count": 44,
   "metadata": {
    "scrolled": false
   },
   "outputs": [
    {
     "data": {
      "image/png": "[encoded data removed]",
      "text/plain": [
       "<Figure size 432x288 with 1 Axes>"
      ]
     },
     "metadata": {
      "needs_background": "light"
     },
     "output_type": "display_data"
    },
    {
     "name": "stdout",
     "output_type": "stream",
     "text": [
      "Наибольшие по высоте потолков варианты:\n",
      "22336    32.0\n",
      "3148     32.0\n",
      "21377    27.5\n",
      "5246     27.0\n",
      "17857    27.0\n",
      "5807     27.0\n",
      "21824    27.0\n",
      "10773    27.0\n",
      "22938    27.0\n",
      "20478    27.0\n",
      "Name: ceiling_height, dtype: float64\n"
     ]
    }
   ],
   "source": [
    "plt.hist(data['ceiling_height'], bins=20, range=(2,4))\n",
    "plt.title('Высота потолков')\n",
    "plt.xlabel('Метры')\n",
    "plt.ylabel('Количество квартир')\n",
    "plt.show()\n",
    "print('Наибольшие по высоте потолков варианты:')\n",
    "print(data['ceiling_height'].sort_values(ascending=False).head(10))"
   ]
  },
  {
   "cell_type": "code",
   "execution_count": 45,
   "metadata": {
    "scrolled": true
   },
   "outputs": [
    {
     "data": {
      "image/png": "[encoded data removed]",
      "text/plain": [
       "<Figure size 432x288 with 1 Axes>"
      ]
     },
     "metadata": {
      "needs_background": "light"
     },
     "output_type": "display_data"
    },
    {
     "name": "stdout",
     "output_type": "stream",
     "text": [
      "Наибольшие по номеру этажа варианты:\n",
      "18218    33\n",
      "11575    32\n",
      "18629    31\n",
      "1917     30\n",
      "11079    29\n",
      "397      28\n",
      "113      27\n",
      "2629     27\n",
      "4091     27\n",
      "12888    27\n",
      "Name: floor, dtype: int64\n"
     ]
    }
   ],
   "source": [
    "plt.hist(data['floor'], range=(0,70))\n",
    "plt.title('Этаж квартиры')\n",
    "plt.xlabel('Этаж')\n",
    "plt.ylabel('Количество квартир')\n",
    "plt.show()\n",
    "print('Наибольшие по номеру этажа варианты:')\n",
    "print(data['floor'].sort_values(ascending=False).head(10))"
   ]
  },
  {
   "cell_type": "code",
   "execution_count": 46,
   "metadata": {
    "scrolled": true
   },
   "outputs": [
    {
     "data": {
      "image/png": "[encoded data removed]",
      "text/plain": [
       "<Figure size 432x288 with 1 Axes>"
      ]
     },
     "metadata": {
      "needs_background": "light"
     },
     "output_type": "display_data"
    }
   ],
   "source": [
    "plt.hist(data['floor_type'], bins=10)\n",
    "plt.title('Тип этажа квартиры')\n",
    "plt.xlabel('Тип этажа')\n",
    "plt.ylabel('Количество квартир')\n",
    "plt.show()"
   ]
  },
  {
   "cell_type": "code",
   "execution_count": 47,
   "metadata": {
    "scrolled": true
   },
   "outputs": [
    {
     "data": {
      "image/png": "[encoded data removed]",
      "text/plain": [
       "<Figure size 432x288 with 1 Axes>"
      ]
     },
     "metadata": {
      "needs_background": "light"
     },
     "output_type": "display_data"
    },
    {
     "name": "stdout",
     "output_type": "stream",
     "text": [
      "Наибольшие по количеству этажей варианты:\n",
      "2253     60.0\n",
      "16731    52.0\n",
      "16934    37.0\n",
      "11079    36.0\n",
      "397      36.0\n",
      "5807     36.0\n",
      "21599    35.0\n",
      "1060     35.0\n",
      "12888    35.0\n",
      "20938    35.0\n",
      "Name: floors_total, dtype: float64\n"
     ]
    }
   ],
   "source": [
    "plt.hist(data['floors_total'], range=(0,30))\n",
    "plt.title('Общее количество этажей в доме')\n",
    "plt.xlabel('Количество этажей')\n",
    "plt.ylabel('Количество квартир')\n",
    "plt.show()\n",
    "print('Наибольшие по количеству этажей варианты:')\n",
    "print(data['floors_total'].sort_values(ascending=False).head(10))"
   ]
  },
  {
   "cell_type": "code",
   "execution_count": 48,
   "metadata": {
    "scrolled": true
   },
   "outputs": [
    {
     "data": {
      "image/png": "[encoded data removed]",
      "text/plain": [
       "<Figure size 432x288 with 1 Axes>"
      ]
     },
     "metadata": {
      "needs_background": "light"
     },
     "output_type": "display_data"
    }
   ],
   "source": [
    "plt.hist(data['city_centers_nearest'], range=(0,40000))\n",
    "plt.title('Расстояние до центра города')\n",
    "plt.xlabel('Метры')\n",
    "plt.ylabel('Количество квартир')\n",
    "plt.show()"
   ]
  },
  {
   "cell_type": "code",
   "execution_count": 49,
   "metadata": {
    "scrolled": false
   },
   "outputs": [
    {
     "data": {
      "image/png": "[encoded data removed]",
      "text/plain": [
       "<Figure size 432x288 with 1 Axes>"
      ]
     },
     "metadata": {
      "needs_background": "light"
     },
     "output_type": "display_data"
    }
   ],
   "source": [
    "plt.hist(data['airports_nearest'], range=(0,70000))\n",
    "plt.title('Расстояние до ближайшего аэропорта')\n",
    "plt.xlabel('Метры')\n",
    "plt.ylabel('Количество квартир')\n",
    "plt.show()"
   ]
  },
  {
   "cell_type": "code",
   "execution_count": 50,
   "metadata": {},
   "outputs": [
    {
     "data": {
      "image/png": "[encoded data removed]",
      "text/plain": [
       "<Figure size 432x288 with 1 Axes>"
      ]
     },
     "metadata": {
      "needs_background": "light"
     },
     "output_type": "display_data"
    }
   ],
   "source": [
    "plt.hist(data['parks_nearest'], range=(0,1000))\n",
    "plt.title('Расстояние до ближайшего парка')\n",
    "plt.xlabel('Метры')\n",
    "plt.ylabel('Количество квартир')\n",
    "plt.show()\n"
   ]
  },
  {
   "cell_type": "code",
   "execution_count": 51,
   "metadata": {
    "scrolled": true
   },
   "outputs": [
    {
     "data": {
      "image/png": "[encoded data removed]",
      "text/plain": [
       "<Figure size 432x288 with 1 Axes>"
      ]
     },
     "metadata": {
      "needs_background": "light"
     },
     "output_type": "display_data"
    }
   ],
   "source": [
    "plt.hist(data['weekday'], bins = 15, range=(0,7))\n",
    "plt.title('День публикации объявления')\n",
    "plt.xlabel('День')\n",
    "plt.ylabel('Количество квартир')\n",
    "plt.show()"
   ]
  },
  {
   "cell_type": "code",
   "execution_count": 52,
   "metadata": {
    "scrolled": true
   },
   "outputs": [
    {
     "data": {
      "image/png": "[encoded data removed]",
      "text/plain": [
       "<Figure size 432x288 with 1 Axes>"
      ]
     },
     "metadata": {
      "needs_background": "light"
     },
     "output_type": "display_data"
    }
   ],
   "source": [
    "plt.hist(data['month'], bins = 30, range=(0,12))\n",
    "plt.title('Месяц публикации объявления')\n",
    "plt.xlabel('Месяц')\n",
    "plt.ylabel('Количество квартир')\n",
    "plt.show()"
   ]
  },
  {
   "cell_type": "markdown",
   "metadata": {},
   "source": [
    "**Вывод**: \n",
    "1. По общей площади: большинство квартир <60 м2, также встречаются варианты >150 м2, но их значительно меньше\n",
    "   По жилой площади: у большинства объявлений жилая площадь составляет не более 35 кв.м., также есть единичные случаи - > 80м2\n",
    "   По площади кухни: в среднем площадь кухни 5-10 м2, более 25 м2 - единичные случаи\n",
    "2. Стоимость: наиболее распространенная стоимость объекта - 4-5 млн рублей\n",
    "3. Количество комнат: самые популярные квартиры при продаже - однокомнатные, двухкомнатные и трехкомнатные. Есть варианты объектов >7 комнат, преположительно это частный дом\n",
    "4. Высота потолков: средняя высота - 2,5-2,75\n",
    "5. Этаж квартиры: в основном этаж не выше 10\n",
    "   Тип этажа квартиры: большинство квартир не на первом и не на последнем этажах\n",
    "   Общее количество этажей в доме: в среднем 5-10\n",
    "6. Расстояние до центра города: большая часть объектов находится в пределах 15 км от центра\n",
    "   Расстояние до ближайшего аэропорта: большая часть объектов находится в пределах 15-30 км от аэропорта\n",
    "   Расстояние до ближайшего парка: в среднем - 500 м\n",
    "7. День и месяц публикации объявления: наблюдается закономерность в публикации в будни, а именно с понедельника по четверг, и спад в начале, конца года и в мае"
   ]
  },
  {
   "cell_type": "markdown",
   "metadata": {},
   "source": [
    "*2. Как быстро продавались квартиры*"
   ]
  },
  {
   "cell_type": "code",
   "execution_count": 53,
   "metadata": {
    "scrolled": true
   },
   "outputs": [
    {
     "data": {
      "image/png": "[encoded data removed]",
      "text/plain": [
       "<Figure size 432x288 with 1 Axes>"
      ]
     },
     "metadata": {
      "needs_background": "light"
     },
     "output_type": "display_data"
    }
   ],
   "source": [
    "data['days_exposition'].plot(kind='hist', bins = 100,  range=(0,200));"
   ]
  },
  {
   "cell_type": "code",
   "execution_count": 54,
   "metadata": {},
   "outputs": [
    {
     "data": {
      "text/plain": [
       "181"
      ]
     },
     "execution_count": 54,
     "metadata": {},
     "output_type": "execute_result"
    }
   ],
   "source": [
    "round(data['days_exposition'].mean())"
   ]
  },
  {
   "cell_type": "code",
   "execution_count": 55,
   "metadata": {
    "scrolled": true
   },
   "outputs": [
    {
     "data": {
      "text/plain": [
       "95"
      ]
     },
     "execution_count": 55,
     "metadata": {},
     "output_type": "execute_result"
    }
   ],
   "source": [
    "round(data['days_exposition'].median())"
   ]
  },
  {
   "cell_type": "markdown",
   "metadata": {},
   "source": [
    "**Вывод:** \n",
    "на основании гистограммы и подсчета значений можно сказать, что в среднем продажа занимает 100 дней. \n",
    "Так как есть выбросы, мы видим, что есть сильная разница между средним значением и медианой. Быстрыми продажами можно считать продажи до месяца, необычно долгими - более полугода "
   ]
  },
  {
   "cell_type": "markdown",
   "metadata": {},
   "source": [
    "*3. Какие факторы влияют на общую стоимость объекта*"
   ]
  },
  {
   "cell_type": "code",
   "execution_count": 56,
   "metadata": {},
   "outputs": [
    {
     "name": "stdout",
     "output_type": "stream",
     "text": [
      "0.7305740618424812\n"
     ]
    },
    {
     "data": {
      "image/png": "[encoded data removed]",
      "text/plain": [
       "<Figure size 432x288 with 1 Axes>"
      ]
     },
     "metadata": {
      "needs_background": "light"
     },
     "output_type": "display_data"
    }
   ],
   "source": [
    "print(data['last_price'].corr(data['total_area']))\n",
    "data.pivot_table(index='total_area', values='last_price').plot(grid=True, style='o');"
   ]
  },
  {
   "cell_type": "markdown",
   "metadata": {},
   "source": [
    "Зависимость между общей площадью и стоимостью прослеживается "
   ]
  },
  {
   "cell_type": "code",
   "execution_count": 57,
   "metadata": {},
   "outputs": [
    {
     "name": "stdout",
     "output_type": "stream",
     "text": [
      "0.6468834697390042\n"
     ]
    },
    {
     "data": {
      "image/png": "[encoded data removed]",
      "text/plain": [
       "<Figure size 432x288 with 1 Axes>"
      ]
     },
     "metadata": {
      "needs_background": "light"
     },
     "output_type": "display_data"
    }
   ],
   "source": [
    "print(data['last_price'].corr(data['living_area']))\n",
    "data.pivot_table(index='living_area', values='last_price').plot(grid=True, style='o');"
   ]
  },
  {
   "cell_type": "markdown",
   "metadata": {},
   "source": [
    "Зависимость между жилой площадью и стоимостью прослеживается"
   ]
  },
  {
   "cell_type": "code",
   "execution_count": 58,
   "metadata": {},
   "outputs": [
    {
     "name": "stdout",
     "output_type": "stream",
     "text": [
      "0.5595502994792043\n"
     ]
    },
    {
     "data": {
      "image/png": "[encoded data removed]",
      "text/plain": [
       "<Figure size 432x288 with 1 Axes>"
      ]
     },
     "metadata": {
      "needs_background": "light"
     },
     "output_type": "display_data"
    }
   ],
   "source": [
    "print(data['last_price'].corr(data['kitchen_area']))\n",
    "data.pivot_table(index='kitchen_area', values='last_price').plot(grid=True, style='o');"
   ]
  },
  {
   "cell_type": "markdown",
   "metadata": {},
   "source": [
    "Незначительная зависимость между площадью кухни и стоимостью прослеживается"
   ]
  },
  {
   "cell_type": "code",
   "execution_count": 59,
   "metadata": {
    "scrolled": true
   },
   "outputs": [
    {
     "name": "stdout",
     "output_type": "stream",
     "text": [
      "0.4294947163408528\n"
     ]
    },
    {
     "data": {
      "image/png": "[encoded data removed]",
      "text/plain": [
       "<Figure size 432x288 with 1 Axes>"
      ]
     },
     "metadata": {
      "needs_background": "light"
     },
     "output_type": "display_data"
    }
   ],
   "source": [
    "print(data['last_price'].corr(data['rooms']))\n",
    "data.pivot_table(index='rooms', values='last_price').plot(grid=True, style='o');"
   ]
  },
  {
   "cell_type": "markdown",
   "metadata": {},
   "source": [
    "Зависимости между количеством комнат и стоимости нет"
   ]
  },
  {
   "cell_type": "code",
   "execution_count": 60,
   "metadata": {},
   "outputs": [
    {
     "data": {
      "image/png": "[encoded data removed]",
      "text/plain": [
       "<Figure size 432x288 with 1 Axes>"
      ]
     },
     "metadata": {
      "needs_background": "light"
     },
     "output_type": "display_data"
    }
   ],
   "source": [
    "data.pivot_table(index='floor_type', values='last_price', aggfunc = 'median').plot.bar(grid=True, style='o');\n",
    "\n",
    "\n"
   ]
  },
  {
   "cell_type": "markdown",
   "metadata": {},
   "source": [
    "По графику мы видим, зависимость незначительная"
   ]
  },
  {
   "cell_type": "code",
   "execution_count": 61,
   "metadata": {},
   "outputs": [
    {
     "data": {
      "image/png": "[encoded data removed]",
      "text/plain": [
       "<Figure size 432x288 with 1 Axes>"
      ]
     },
     "metadata": {
      "needs_background": "light"
     },
     "output_type": "display_data"
    }
   ],
   "source": [
    "data.pivot_table(index='weekday', values='last_price', aggfunc = 'median').plot.bar(grid=True, style='o');\n"
   ]
  },
  {
   "cell_type": "markdown",
   "metadata": {},
   "source": [
    "По графику мы видим, что день недели на стоимость не влияет"
   ]
  },
  {
   "cell_type": "code",
   "execution_count": 62,
   "metadata": {},
   "outputs": [
    {
     "data": {
      "image/png": "[encoded data removed]",
      "text/plain": [
       "<Figure size 432x288 with 1 Axes>"
      ]
     },
     "metadata": {
      "needs_background": "light"
     },
     "output_type": "display_data"
    }
   ],
   "source": [
    "data.pivot_table(index='month', values='last_price', aggfunc = 'median').plot.bar(grid=True, style='o');"
   ]
  },
  {
   "cell_type": "markdown",
   "metadata": {},
   "source": [
    "По графику мы видим, что месяц продажи на стоимость не влияет"
   ]
  },
  {
   "cell_type": "code",
   "execution_count": 63,
   "metadata": {
    "scrolled": false
   },
   "outputs": [
    {
     "data": {
      "image/png": "[encoded data removed]",
      "text/plain": [
       "<Figure size 432x288 with 1 Axes>"
      ]
     },
     "metadata": {
      "needs_background": "light"
     },
     "output_type": "display_data"
    }
   ],
   "source": [
    "data.pivot_table(index='year', values='last_price', aggfunc = 'median').plot.bar(grid=True, style='o');"
   ]
  },
  {
   "cell_type": "markdown",
   "metadata": {},
   "source": [
    "По графику мы видим, что в 2014 году был рост цен"
   ]
  },
  {
   "cell_type": "markdown",
   "metadata": {},
   "source": [
    "*4. Зависимость цены от населенного пункта*"
   ]
  },
  {
   "cell_type": "code",
   "execution_count": 64,
   "metadata": {},
   "outputs": [],
   "source": [
    "top_10 = data['locality_name'].value_counts().head(10)"
   ]
  },
  {
   "cell_type": "code",
   "execution_count": 65,
   "metadata": {},
   "outputs": [
    {
     "data": {
      "text/html": [
       "<div>\n",
       "<style scoped>\n",
       "    .dataframe tbody tr th:only-of-type {\n",
       "        vertical-align: middle;\n",
       "    }\n",
       "\n",
       "    .dataframe tbody tr th {\n",
       "        vertical-align: top;\n",
       "    }\n",
       "\n",
       "    .dataframe thead th {\n",
       "        text-align: right;\n",
       "    }\n",
       "</style>\n",
       "<table border=\"1\" class=\"dataframe\">\n",
       "  <thead>\n",
       "    <tr style=\"text-align: right;\">\n",
       "      <th></th>\n",
       "      <th>price_metr</th>\n",
       "    </tr>\n",
       "    <tr>\n",
       "      <th>locality_name</th>\n",
       "      <th></th>\n",
       "    </tr>\n",
       "  </thead>\n",
       "  <tbody>\n",
       "    <tr>\n",
       "      <th>Санкт-Петербург</th>\n",
       "      <td>114234</td>\n",
       "    </tr>\n",
       "    <tr>\n",
       "      <th>Пушкин</th>\n",
       "      <td>103125</td>\n",
       "    </tr>\n",
       "    <tr>\n",
       "      <th>деревня Кудрово</th>\n",
       "      <td>92473</td>\n",
       "    </tr>\n",
       "    <tr>\n",
       "      <th>поселок Парголово</th>\n",
       "      <td>90175</td>\n",
       "    </tr>\n",
       "    <tr>\n",
       "      <th>поселок Мурино</th>\n",
       "      <td>85653</td>\n",
       "    </tr>\n",
       "    <tr>\n",
       "      <th>поселок Шушары</th>\n",
       "      <td>78677</td>\n",
       "    </tr>\n",
       "    <tr>\n",
       "      <th>Колпино</th>\n",
       "      <td>75424</td>\n",
       "    </tr>\n",
       "    <tr>\n",
       "      <th>Гатчина</th>\n",
       "      <td>68746</td>\n",
       "    </tr>\n",
       "    <tr>\n",
       "      <th>Всеволожск</th>\n",
       "      <td>68654</td>\n",
       "    </tr>\n",
       "    <tr>\n",
       "      <th>Выборг</th>\n",
       "      <td>58141</td>\n",
       "    </tr>\n",
       "  </tbody>\n",
       "</table>\n",
       "</div>"
      ],
      "text/plain": [
       "                   price_metr\n",
       "locality_name                \n",
       "Санкт-Петербург        114234\n",
       "Пушкин                 103125\n",
       "деревня Кудрово         92473\n",
       "поселок Парголово       90175\n",
       "поселок Мурино          85653\n",
       "поселок Шушары          78677\n",
       "Колпино                 75424\n",
       "Гатчина                 68746\n",
       "Всеволожск              68654\n",
       "Выборг                  58141"
      ]
     },
     "metadata": {},
     "output_type": "display_data"
    }
   ],
   "source": [
    "sm_price = data.query('locality_name in (@top_10.index)').pivot_table(values='price_metr', index='locality_name')\n",
    "sm_price = sm_price.sort_values('price_metr', ascending=False)\n",
    "sm_price = sm_price.astype(int)\n",
    "display(sm_price)"
   ]
  },
  {
   "cell_type": "markdown",
   "metadata": {},
   "source": [
    "В результате вычислений: населеный пункт с самой высокой стоимостью - Санкт-Петербург, населеный пункт с самой низкой стоимостью - Выборг"
   ]
  },
  {
   "cell_type": "markdown",
   "metadata": {},
   "source": [
    "*5. Зависимость цены от расстояния до центра*"
   ]
  },
  {
   "cell_type": "code",
   "execution_count": 66,
   "metadata": {},
   "outputs": [
    {
     "data": {
      "text/html": [
       "<div>\n",
       "<style scoped>\n",
       "    .dataframe tbody tr th:only-of-type {\n",
       "        vertical-align: middle;\n",
       "    }\n",
       "\n",
       "    .dataframe tbody tr th {\n",
       "        vertical-align: top;\n",
       "    }\n",
       "\n",
       "    .dataframe thead th {\n",
       "        text-align: right;\n",
       "    }\n",
       "</style>\n",
       "<table border=\"1\" class=\"dataframe\">\n",
       "  <thead>\n",
       "    <tr style=\"text-align: right;\">\n",
       "      <th></th>\n",
       "      <th>mean</th>\n",
       "    </tr>\n",
       "    <tr>\n",
       "      <th>center_distance</th>\n",
       "      <th></th>\n",
       "    </tr>\n",
       "  </thead>\n",
       "  <tbody>\n",
       "    <tr>\n",
       "      <th>0.0</th>\n",
       "      <td>0.000031</td>\n",
       "    </tr>\n",
       "    <tr>\n",
       "      <th>1.0</th>\n",
       "      <td>0.000018</td>\n",
       "    </tr>\n",
       "    <tr>\n",
       "      <th>2.0</th>\n",
       "      <td>0.000016</td>\n",
       "    </tr>\n",
       "    <tr>\n",
       "      <th>3.0</th>\n",
       "      <td>0.000011</td>\n",
       "    </tr>\n",
       "    <tr>\n",
       "      <th>4.0</th>\n",
       "      <td>0.000012</td>\n",
       "    </tr>\n",
       "    <tr>\n",
       "      <th>5.0</th>\n",
       "      <td>0.000013</td>\n",
       "    </tr>\n",
       "    <tr>\n",
       "      <th>6.0</th>\n",
       "      <td>0.000015</td>\n",
       "    </tr>\n",
       "    <tr>\n",
       "      <th>7.0</th>\n",
       "      <td>0.000015</td>\n",
       "    </tr>\n",
       "    <tr>\n",
       "      <th>8.0</th>\n",
       "      <td>0.000009</td>\n",
       "    </tr>\n",
       "    <tr>\n",
       "      <th>9.0</th>\n",
       "      <td>0.000007</td>\n",
       "    </tr>\n",
       "    <tr>\n",
       "      <th>10.0</th>\n",
       "      <td>0.000007</td>\n",
       "    </tr>\n",
       "    <tr>\n",
       "      <th>11.0</th>\n",
       "      <td>0.000006</td>\n",
       "    </tr>\n",
       "    <tr>\n",
       "      <th>12.0</th>\n",
       "      <td>0.000006</td>\n",
       "    </tr>\n",
       "    <tr>\n",
       "      <th>13.0</th>\n",
       "      <td>0.000006</td>\n",
       "    </tr>\n",
       "    <tr>\n",
       "      <th>14.0</th>\n",
       "      <td>0.000006</td>\n",
       "    </tr>\n",
       "    <tr>\n",
       "      <th>15.0</th>\n",
       "      <td>0.000006</td>\n",
       "    </tr>\n",
       "    <tr>\n",
       "      <th>16.0</th>\n",
       "      <td>0.000005</td>\n",
       "    </tr>\n",
       "    <tr>\n",
       "      <th>17.0</th>\n",
       "      <td>0.000005</td>\n",
       "    </tr>\n",
       "    <tr>\n",
       "      <th>18.0</th>\n",
       "      <td>0.000005</td>\n",
       "    </tr>\n",
       "    <tr>\n",
       "      <th>19.0</th>\n",
       "      <td>0.000005</td>\n",
       "    </tr>\n",
       "    <tr>\n",
       "      <th>20.0</th>\n",
       "      <td>0.000006</td>\n",
       "    </tr>\n",
       "    <tr>\n",
       "      <th>21.0</th>\n",
       "      <td>0.000005</td>\n",
       "    </tr>\n",
       "    <tr>\n",
       "      <th>22.0</th>\n",
       "      <td>0.000005</td>\n",
       "    </tr>\n",
       "    <tr>\n",
       "      <th>23.0</th>\n",
       "      <td>0.000005</td>\n",
       "    </tr>\n",
       "    <tr>\n",
       "      <th>24.0</th>\n",
       "      <td>0.000004</td>\n",
       "    </tr>\n",
       "    <tr>\n",
       "      <th>25.0</th>\n",
       "      <td>0.000004</td>\n",
       "    </tr>\n",
       "    <tr>\n",
       "      <th>26.0</th>\n",
       "      <td>0.000004</td>\n",
       "    </tr>\n",
       "    <tr>\n",
       "      <th>27.0</th>\n",
       "      <td>0.000008</td>\n",
       "    </tr>\n",
       "    <tr>\n",
       "      <th>28.0</th>\n",
       "      <td>0.000005</td>\n",
       "    </tr>\n",
       "    <tr>\n",
       "      <th>29.0</th>\n",
       "      <td>0.000004</td>\n",
       "    </tr>\n",
       "  </tbody>\n",
       "</table>\n",
       "</div>"
      ],
      "text/plain": [
       "                     mean\n",
       "center_distance          \n",
       "0.0              0.000031\n",
       "1.0              0.000018\n",
       "2.0              0.000016\n",
       "3.0              0.000011\n",
       "4.0              0.000012\n",
       "5.0              0.000013\n",
       "6.0              0.000015\n",
       "7.0              0.000015\n",
       "8.0              0.000009\n",
       "9.0              0.000007\n",
       "10.0             0.000007\n",
       "11.0             0.000006\n",
       "12.0             0.000006\n",
       "13.0             0.000006\n",
       "14.0             0.000006\n",
       "15.0             0.000006\n",
       "16.0             0.000005\n",
       "17.0             0.000005\n",
       "18.0             0.000005\n",
       "19.0             0.000005\n",
       "20.0             0.000006\n",
       "21.0             0.000005\n",
       "22.0             0.000005\n",
       "23.0             0.000005\n",
       "24.0             0.000004\n",
       "25.0             0.000004\n",
       "26.0             0.000004\n",
       "27.0             0.000008\n",
       "28.0             0.000005\n",
       "29.0             0.000004"
      ]
     },
     "metadata": {},
     "output_type": "display_data"
    }
   ],
   "source": [
    "avg_km = data.loc[data['locality_name']=='Санкт-Петербург'].pivot_table(index='center_distance', values='last_price', aggfunc={'mean'})\n",
    "avg_km['mean'] = avg_km['mean']/1000000\n",
    "display(avg_km)"
   ]
  },
  {
   "cell_type": "code",
   "execution_count": 67,
   "metadata": {},
   "outputs": [
    {
     "data": {
      "image/png": "[encoded data removed]",
      "text/plain": [
       "<Figure size 432x288 with 1 Axes>"
      ]
     },
     "metadata": {
      "needs_background": "light"
     },
     "output_type": "display_data"
    }
   ],
   "source": [
    "avg_km.plot();"
   ]
  },
  {
   "cell_type": "markdown",
   "metadata": {},
   "source": [
    "На основании исследования можно сделать вывод, что чем больше расстояние от центра, тем стоимость объекта дешевле. Начиная с 9 км от центра и ближе цена сильно растет"
   ]
  },
  {
   "cell_type": "markdown",
   "metadata": {},
   "source": [
    "### Общий вывод"
   ]
  },
  {
   "cell_type": "markdown",
   "metadata": {},
   "source": [
    "В данном проекте я проанализировала предоставленные мне данные, устранила пролблемы связанные и пропущенными значениями, дубликатами и неправильно написанными столбцами, построила графики. На основанни этого провела исследовательский анализ:\n",
    "\n",
    "1. большинство квартир в объявлениях имеют общую площадь не больше 60 кв.м., из которых жилая - 35 кв.м. и кухня 5-10 кв. м., потолки - 2,5-2,75, количество комнат - до 3\n",
    "2. расположение квартир в основном не выше 10 этажа. Большая часть объектов находится в пределах 15 км от центра, в среднем в 20 км от аэропорта и 500 м от ближайщего парка \n",
    "3. средняя стоимость таких объектов 4-5 млн. руб.\n",
    "4. день недели, месяц на стоимость не влияют, можно отметить только рост в 2014 году\n",
    "5. в среднем квартиры продаются за 100 дней\n",
    "6. город с самой высокой стоимостью за кв.м. - Санкт-Петербург (113891 руб.), а самой низкой -  Выборг (58319 руб.)\n",
    "7. цена зависит от площади квартиры, а также от количества комнат (чем больше - тем дороже) и расстояние от центра (чем больше расстояние от центра, тем стоимость объекта дешевле).\n",
    "\n",
    "\n"
   ]
  }
 ],
 "metadata": {
  "ExecuteTimeLog": [
   {
    "duration": 828,
    "start_time": "2023-02-11T21:22:52.278Z"
   },
   {
    "duration": 36,
    "start_time": "2023-02-11T21:22:53.108Z"
   },
   {
    "duration": 23,
    "start_time": "2023-02-11T21:22:53.147Z"
   },
   {
    "duration": 104,
    "start_time": "2023-02-11T21:22:53.173Z"
   },
   {
    "duration": 2177,
    "start_time": "2023-02-11T21:22:53.280Z"
   },
   {
    "duration": 12,
    "start_time": "2023-02-11T21:22:55.459Z"
   },
   {
    "duration": 23,
    "start_time": "2023-02-11T21:22:55.473Z"
   },
   {
    "duration": 31,
    "start_time": "2023-02-11T21:22:55.498Z"
   },
   {
    "duration": 8,
    "start_time": "2023-02-11T21:22:55.534Z"
   },
   {
    "duration": 19,
    "start_time": "2023-02-11T21:22:55.551Z"
   },
   {
    "duration": 12,
    "start_time": "2023-02-11T21:22:55.572Z"
   },
   {
    "duration": 33,
    "start_time": "2023-02-11T21:22:55.586Z"
   },
   {
    "duration": 20,
    "start_time": "2023-02-11T21:22:55.620Z"
   },
   {
    "duration": 44,
    "start_time": "2023-02-11T21:22:55.645Z"
   },
   {
    "duration": 10,
    "start_time": "2023-02-11T21:22:55.691Z"
   },
   {
    "duration": 14,
    "start_time": "2023-02-11T21:22:55.702Z"
   },
   {
    "duration": 20,
    "start_time": "2023-02-11T21:22:55.727Z"
   },
   {
    "duration": 7,
    "start_time": "2023-02-11T21:22:55.749Z"
   },
   {
    "duration": 9,
    "start_time": "2023-02-11T21:22:55.758Z"
   },
   {
    "duration": 6,
    "start_time": "2023-02-11T21:22:55.768Z"
   },
   {
    "duration": 8,
    "start_time": "2023-02-11T21:22:55.776Z"
   },
   {
    "duration": 326,
    "start_time": "2023-02-11T21:22:55.786Z"
   },
   {
    "duration": 5,
    "start_time": "2023-02-11T21:22:56.114Z"
   },
   {
    "duration": 49,
    "start_time": "2023-02-11T21:22:56.121Z"
   },
   {
    "duration": 306,
    "start_time": "2023-02-11T21:22:56.172Z"
   },
   {
    "duration": 343,
    "start_time": "2023-02-11T21:22:56.480Z"
   },
   {
    "duration": 188,
    "start_time": "2023-02-11T21:22:56.824Z"
   },
   {
    "duration": 199,
    "start_time": "2023-02-11T21:22:57.017Z"
   },
   {
    "duration": 175,
    "start_time": "2023-02-11T21:22:57.218Z"
   },
   {
    "duration": 174,
    "start_time": "2023-02-11T21:22:57.395Z"
   },
   {
    "duration": 201,
    "start_time": "2023-02-11T21:22:57.571Z"
   },
   {
    "duration": 149,
    "start_time": "2023-02-11T21:22:57.774Z"
   },
   {
    "duration": 168,
    "start_time": "2023-02-11T21:22:57.926Z"
   },
   {
    "duration": 170,
    "start_time": "2023-02-11T21:22:58.097Z"
   },
   {
    "duration": 171,
    "start_time": "2023-02-11T21:22:58.268Z"
   },
   {
    "duration": 191,
    "start_time": "2023-02-11T21:22:58.442Z"
   },
   {
    "duration": 271,
    "start_time": "2023-02-11T21:22:58.637Z"
   },
   {
    "duration": 184,
    "start_time": "2023-02-11T21:22:58.910Z"
   },
   {
    "duration": 285,
    "start_time": "2023-02-11T21:22:59.096Z"
   },
   {
    "duration": 5,
    "start_time": "2023-02-11T21:22:59.383Z"
   },
   {
    "duration": 10,
    "start_time": "2023-02-11T21:22:59.390Z"
   },
   {
    "duration": 168,
    "start_time": "2023-02-11T21:22:59.402Z"
   },
   {
    "duration": 209,
    "start_time": "2023-02-11T21:22:59.572Z"
   },
   {
    "duration": 173,
    "start_time": "2023-02-11T21:22:59.783Z"
   },
   {
    "duration": 166,
    "start_time": "2023-02-11T21:22:59.958Z"
   },
   {
    "duration": 33608,
    "start_time": "2023-02-11T21:23:00.127Z"
   },
   {
    "duration": 36800,
    "start_time": "2023-02-11T21:23:33.737Z"
   },
   {
    "duration": 36473,
    "start_time": "2023-02-11T21:24:10.540Z"
   },
   {
    "duration": 36532,
    "start_time": "2023-02-11T21:24:47.015Z"
   },
   {
    "duration": 8,
    "start_time": "2023-02-11T21:25:23.550Z"
   },
   {
    "duration": 35,
    "start_time": "2023-02-11T21:25:23.560Z"
   },
   {
    "duration": 68,
    "start_time": "2023-02-11T21:25:23.597Z"
   },
   {
    "duration": 170,
    "start_time": "2023-02-11T21:25:23.669Z"
   },
   {
    "duration": 17,
    "start_time": "2023-02-11T21:25:23.843Z"
   },
   {
    "duration": 16,
    "start_time": "2023-02-11T21:28:28.296Z"
   },
   {
    "duration": 14,
    "start_time": "2023-02-11T21:29:20.096Z"
   },
   {
    "duration": 128,
    "start_time": "2023-02-11T21:29:56.349Z"
   },
   {
    "duration": 8,
    "start_time": "2023-02-11T21:30:23.556Z"
   },
   {
    "duration": 44,
    "start_time": "2023-02-12T09:50:09.780Z"
   },
   {
    "duration": 728,
    "start_time": "2023-02-12T09:50:13.963Z"
   },
   {
    "duration": 344,
    "start_time": "2023-02-12T09:50:14.693Z"
   },
   {
    "duration": 3,
    "start_time": "2023-02-12T09:50:16.985Z"
   },
   {
    "duration": 2,
    "start_time": "2023-02-12T09:50:23.604Z"
   },
   {
    "duration": 27,
    "start_time": "2023-02-12T09:50:32.505Z"
   },
   {
    "duration": 22,
    "start_time": "2023-02-12T09:50:35.737Z"
   },
   {
    "duration": 33,
    "start_time": "2023-02-12T10:00:33.331Z"
   },
   {
    "duration": 50,
    "start_time": "2023-02-12T10:04:51.300Z"
   },
   {
    "duration": 7,
    "start_time": "2023-02-12T10:05:09.287Z"
   },
   {
    "duration": 256,
    "start_time": "2023-02-12T10:05:23.157Z"
   },
   {
    "duration": 487,
    "start_time": "2023-02-12T10:11:39.181Z"
   },
   {
    "duration": 520,
    "start_time": "2023-02-12T10:11:43.540Z"
   },
   {
    "duration": 2,
    "start_time": "2023-02-12T10:11:55.309Z"
   },
   {
    "duration": 95,
    "start_time": "2023-02-12T10:11:55.313Z"
   },
   {
    "duration": 40,
    "start_time": "2023-02-12T10:11:55.410Z"
   },
   {
    "duration": 17,
    "start_time": "2023-02-12T10:11:55.452Z"
   },
   {
    "duration": 79,
    "start_time": "2023-02-12T10:11:55.471Z"
   },
   {
    "duration": 1762,
    "start_time": "2023-02-12T10:11:55.552Z"
   },
   {
    "duration": 11,
    "start_time": "2023-02-12T10:11:57.317Z"
   },
   {
    "duration": 25,
    "start_time": "2023-02-12T10:11:57.330Z"
   },
   {
    "duration": 3,
    "start_time": "2023-02-12T10:11:57.358Z"
   },
   {
    "duration": 543,
    "start_time": "2023-02-12T10:11:57.362Z"
   },
   {
    "duration": 5,
    "start_time": "2023-02-12T10:11:57.907Z"
   },
   {
    "duration": 9,
    "start_time": "2023-02-12T10:11:57.913Z"
   },
   {
    "duration": 45,
    "start_time": "2023-02-12T10:11:57.924Z"
   },
   {
    "duration": 8,
    "start_time": "2023-02-12T10:11:57.971Z"
   },
   {
    "duration": 41,
    "start_time": "2023-02-12T10:11:57.980Z"
   },
   {
    "duration": 29,
    "start_time": "2023-02-12T10:11:58.022Z"
   },
   {
    "duration": 8,
    "start_time": "2023-02-12T10:11:58.053Z"
   },
   {
    "duration": 4,
    "start_time": "2023-02-12T10:11:58.062Z"
   },
   {
    "duration": 6,
    "start_time": "2023-02-12T10:11:58.067Z"
   },
   {
    "duration": 10,
    "start_time": "2023-02-12T10:11:58.074Z"
   },
   {
    "duration": 14,
    "start_time": "2023-02-12T10:11:58.086Z"
   },
   {
    "duration": 5,
    "start_time": "2023-02-12T10:11:58.102Z"
   },
   {
    "duration": 315,
    "start_time": "2023-02-12T10:11:58.108Z"
   },
   {
    "duration": 4,
    "start_time": "2023-02-12T10:11:58.426Z"
   },
   {
    "duration": 36,
    "start_time": "2023-02-12T10:11:58.431Z"
   },
   {
    "duration": 248,
    "start_time": "2023-02-12T10:11:58.468Z"
   },
   {
    "duration": 201,
    "start_time": "2023-02-12T10:11:58.717Z"
   },
   {
    "duration": 151,
    "start_time": "2023-02-12T10:11:58.920Z"
   },
   {
    "duration": 214,
    "start_time": "2023-02-12T10:11:59.072Z"
   },
   {
    "duration": 141,
    "start_time": "2023-02-12T10:11:59.288Z"
   },
   {
    "duration": 153,
    "start_time": "2023-02-12T10:11:59.430Z"
   },
   {
    "duration": 150,
    "start_time": "2023-02-12T10:11:59.585Z"
   },
   {
    "duration": 122,
    "start_time": "2023-02-12T10:11:59.749Z"
   },
   {
    "duration": 153,
    "start_time": "2023-02-12T10:11:59.873Z"
   },
   {
    "duration": 150,
    "start_time": "2023-02-12T10:12:00.028Z"
   },
   {
    "duration": 157,
    "start_time": "2023-02-12T10:12:00.179Z"
   },
   {
    "duration": 155,
    "start_time": "2023-02-12T10:12:00.338Z"
   },
   {
    "duration": 144,
    "start_time": "2023-02-12T10:12:00.495Z"
   },
   {
    "duration": 159,
    "start_time": "2023-02-12T10:12:00.642Z"
   },
   {
    "duration": 307,
    "start_time": "2023-02-12T10:12:00.802Z"
   },
   {
    "duration": 4,
    "start_time": "2023-02-12T10:12:01.111Z"
   },
   {
    "duration": 21,
    "start_time": "2023-02-12T10:12:01.117Z"
   },
   {
    "duration": 151,
    "start_time": "2023-02-12T10:12:01.140Z"
   },
   {
    "duration": 157,
    "start_time": "2023-02-12T10:12:01.293Z"
   },
   {
    "duration": 148,
    "start_time": "2023-02-12T10:12:01.452Z"
   },
   {
    "duration": 152,
    "start_time": "2023-02-12T10:12:01.602Z"
   },
   {
    "duration": 31584,
    "start_time": "2023-02-12T10:12:01.755Z"
   },
   {
    "duration": 34248,
    "start_time": "2023-02-12T10:12:33.341Z"
   },
   {
    "duration": 34156,
    "start_time": "2023-02-12T10:13:07.590Z"
   },
   {
    "duration": 35514,
    "start_time": "2023-02-12T10:13:41.747Z"
   },
   {
    "duration": 8,
    "start_time": "2023-02-12T10:14:17.263Z"
   },
   {
    "duration": 27,
    "start_time": "2023-02-12T10:14:17.273Z"
   },
   {
    "duration": 23,
    "start_time": "2023-02-12T10:14:17.302Z"
   },
   {
    "duration": 165,
    "start_time": "2023-02-12T10:14:17.327Z"
   },
   {
    "duration": 302,
    "start_time": "2023-02-12T10:14:20.611Z"
   },
   {
    "duration": 300,
    "start_time": "2023-02-12T10:14:21.853Z"
   },
   {
    "duration": 21,
    "start_time": "2023-02-12T10:15:40.449Z"
   },
   {
    "duration": 9,
    "start_time": "2023-02-12T10:15:59.294Z"
   },
   {
    "duration": 14,
    "start_time": "2023-02-12T10:16:05.052Z"
   },
   {
    "duration": 5,
    "start_time": "2023-02-12T10:16:12.665Z"
   },
   {
    "duration": 630,
    "start_time": "2023-02-12T19:23:50.909Z"
   },
   {
    "duration": 95,
    "start_time": "2023-02-12T19:23:51.541Z"
   },
   {
    "duration": 25,
    "start_time": "2023-02-12T19:23:51.637Z"
   },
   {
    "duration": 16,
    "start_time": "2023-02-12T19:23:51.665Z"
   },
   {
    "duration": 86,
    "start_time": "2023-02-12T19:23:51.683Z"
   },
   {
    "duration": 1903,
    "start_time": "2023-02-12T19:23:51.771Z"
   },
   {
    "duration": 10,
    "start_time": "2023-02-12T19:23:53.677Z"
   },
   {
    "duration": 12,
    "start_time": "2023-02-12T19:23:53.689Z"
   },
   {
    "duration": 15,
    "start_time": "2023-02-12T19:23:53.702Z"
   },
   {
    "duration": 15,
    "start_time": "2023-02-12T19:23:53.721Z"
   },
   {
    "duration": 10,
    "start_time": "2023-02-12T19:23:53.737Z"
   },
   {
    "duration": 11,
    "start_time": "2023-02-12T19:23:53.749Z"
   },
   {
    "duration": 8,
    "start_time": "2023-02-12T19:23:53.762Z"
   },
   {
    "duration": 29,
    "start_time": "2023-02-12T19:23:53.772Z"
   },
   {
    "duration": 8,
    "start_time": "2023-02-12T19:23:53.803Z"
   },
   {
    "duration": 61,
    "start_time": "2023-02-12T19:23:53.813Z"
   },
   {
    "duration": 12,
    "start_time": "2023-02-12T19:23:53.876Z"
   },
   {
    "duration": 12,
    "start_time": "2023-02-12T19:23:53.889Z"
   },
   {
    "duration": 4,
    "start_time": "2023-02-12T19:23:53.902Z"
   },
   {
    "duration": 125,
    "start_time": "2023-02-12T19:23:53.908Z"
   },
   {
    "duration": 8,
    "start_time": "2023-02-12T19:23:54.035Z"
   },
   {
    "duration": 139,
    "start_time": "2023-02-12T19:23:54.044Z"
   },
   {
    "duration": 8,
    "start_time": "2023-02-12T19:23:54.185Z"
   },
   {
    "duration": 129,
    "start_time": "2023-02-12T19:23:54.195Z"
   },
   {
    "duration": 7,
    "start_time": "2023-02-12T19:23:54.326Z"
   },
   {
    "duration": 121,
    "start_time": "2023-02-12T19:23:54.334Z"
   },
   {
    "duration": 7,
    "start_time": "2023-02-12T19:23:54.457Z"
   },
   {
    "duration": 137,
    "start_time": "2023-02-12T19:23:54.468Z"
   },
   {
    "duration": 7,
    "start_time": "2023-02-12T19:23:54.607Z"
   },
   {
    "duration": 54,
    "start_time": "2023-02-12T19:23:54.616Z"
   },
   {
    "duration": 66,
    "start_time": "2023-02-12T19:23:54.672Z"
   },
   {
    "duration": 14,
    "start_time": "2023-02-12T19:23:54.740Z"
   },
   {
    "duration": 9,
    "start_time": "2023-02-12T19:23:54.756Z"
   },
   {
    "duration": 6,
    "start_time": "2023-02-12T19:23:54.766Z"
   },
   {
    "duration": 7,
    "start_time": "2023-02-12T19:23:54.773Z"
   },
   {
    "duration": 501,
    "start_time": "2023-02-12T19:23:54.781Z"
   },
   {
    "duration": 5,
    "start_time": "2023-02-12T19:23:55.283Z"
   },
   {
    "duration": 38,
    "start_time": "2023-02-12T19:23:55.290Z"
   },
   {
    "duration": 265,
    "start_time": "2023-02-12T19:23:55.330Z"
   },
   {
    "duration": 231,
    "start_time": "2023-02-12T19:23:55.597Z"
   },
   {
    "duration": 178,
    "start_time": "2023-02-12T19:23:55.830Z"
   },
   {
    "duration": 129,
    "start_time": "2023-02-12T19:23:56.010Z"
   },
   {
    "duration": 142,
    "start_time": "2023-02-12T19:23:56.141Z"
   },
   {
    "duration": 173,
    "start_time": "2023-02-12T19:23:56.285Z"
   },
   {
    "duration": 157,
    "start_time": "2023-02-12T19:23:56.460Z"
   },
   {
    "duration": 188,
    "start_time": "2023-02-12T19:23:56.619Z"
   },
   {
    "duration": 146,
    "start_time": "2023-02-12T19:23:56.808Z"
   },
   {
    "duration": 143,
    "start_time": "2023-02-12T19:23:56.956Z"
   },
   {
    "duration": 144,
    "start_time": "2023-02-12T19:23:57.101Z"
   },
   {
    "duration": 132,
    "start_time": "2023-02-12T19:23:57.246Z"
   },
   {
    "duration": 185,
    "start_time": "2023-02-12T19:23:57.379Z"
   },
   {
    "duration": 204,
    "start_time": "2023-02-12T19:23:57.566Z"
   },
   {
    "duration": 243,
    "start_time": "2023-02-12T19:23:57.772Z"
   },
   {
    "duration": 4,
    "start_time": "2023-02-12T19:23:58.018Z"
   },
   {
    "duration": 29,
    "start_time": "2023-02-12T19:23:58.024Z"
   },
   {
    "duration": 254,
    "start_time": "2023-02-12T19:23:58.055Z"
   },
   {
    "duration": 150,
    "start_time": "2023-02-12T19:23:58.310Z"
   },
   {
    "duration": 207,
    "start_time": "2023-02-12T19:23:58.461Z"
   },
   {
    "duration": 139,
    "start_time": "2023-02-12T19:23:58.670Z"
   },
   {
    "duration": 32377,
    "start_time": "2023-02-12T19:23:58.810Z"
   },
   {
    "duration": 36743,
    "start_time": "2023-02-12T19:24:31.189Z"
   },
   {
    "duration": 38349,
    "start_time": "2023-02-12T19:25:07.934Z"
   },
   {
    "duration": 50036,
    "start_time": "2023-02-12T19:25:46.285Z"
   },
   {
    "duration": 6,
    "start_time": "2023-02-12T19:26:36.323Z"
   },
   {
    "duration": 31,
    "start_time": "2023-02-12T19:26:36.330Z"
   },
   {
    "duration": 22,
    "start_time": "2023-02-12T19:26:36.362Z"
   },
   {
    "duration": 137,
    "start_time": "2023-02-12T19:26:36.385Z"
   },
   {
    "duration": 15,
    "start_time": "2023-02-12T19:26:36.526Z"
   },
   {
    "duration": 86,
    "start_time": "2023-02-12T19:27:10.270Z"
   },
   {
    "duration": 44,
    "start_time": "2023-02-12T19:33:54.081Z"
   },
   {
    "duration": 893,
    "start_time": "2023-02-12T19:36:33.450Z"
   },
   {
    "duration": 386,
    "start_time": "2023-02-12T19:36:34.345Z"
   },
   {
    "duration": 27,
    "start_time": "2023-02-12T19:36:34.733Z"
   },
   {
    "duration": 27,
    "start_time": "2023-02-12T19:36:34.763Z"
   },
   {
    "duration": 96,
    "start_time": "2023-02-12T19:36:34.792Z"
   },
   {
    "duration": 2358,
    "start_time": "2023-02-12T19:36:34.890Z"
   },
   {
    "duration": 10,
    "start_time": "2023-02-12T19:36:37.250Z"
   },
   {
    "duration": 26,
    "start_time": "2023-02-12T19:36:37.262Z"
   },
   {
    "duration": 4,
    "start_time": "2023-02-12T19:36:37.291Z"
   },
   {
    "duration": 7,
    "start_time": "2023-02-12T19:36:37.298Z"
   },
   {
    "duration": 8,
    "start_time": "2023-02-12T19:36:37.306Z"
   },
   {
    "duration": 8,
    "start_time": "2023-02-12T19:36:37.315Z"
   },
   {
    "duration": 5,
    "start_time": "2023-02-12T19:36:37.325Z"
   },
   {
    "duration": 52,
    "start_time": "2023-02-12T19:36:37.332Z"
   },
   {
    "duration": 10,
    "start_time": "2023-02-12T19:36:37.386Z"
   },
   {
    "duration": 41,
    "start_time": "2023-02-12T19:36:37.397Z"
   },
   {
    "duration": 29,
    "start_time": "2023-02-12T19:36:37.440Z"
   },
   {
    "duration": 11,
    "start_time": "2023-02-12T19:36:37.474Z"
   },
   {
    "duration": 4,
    "start_time": "2023-02-12T19:36:37.487Z"
   },
   {
    "duration": 133,
    "start_time": "2023-02-12T19:36:37.492Z"
   },
   {
    "duration": 8,
    "start_time": "2023-02-12T19:36:37.628Z"
   },
   {
    "duration": 143,
    "start_time": "2023-02-12T19:36:37.638Z"
   },
   {
    "duration": 8,
    "start_time": "2023-02-12T19:36:37.782Z"
   },
   {
    "duration": 134,
    "start_time": "2023-02-12T19:36:37.792Z"
   },
   {
    "duration": 7,
    "start_time": "2023-02-12T19:36:37.928Z"
   },
   {
    "duration": 116,
    "start_time": "2023-02-12T19:36:37.936Z"
   },
   {
    "duration": 13,
    "start_time": "2023-02-12T19:36:38.054Z"
   },
   {
    "duration": 134,
    "start_time": "2023-02-12T19:36:38.073Z"
   },
   {
    "duration": 9,
    "start_time": "2023-02-12T19:36:38.209Z"
   },
   {
    "duration": 31,
    "start_time": "2023-02-12T19:36:38.219Z"
   },
   {
    "duration": 86,
    "start_time": "2023-02-12T19:36:38.252Z"
   },
   {
    "duration": 3,
    "start_time": "2023-02-12T19:36:38.340Z"
   },
   {
    "duration": 9,
    "start_time": "2023-02-12T19:36:38.345Z"
   },
   {
    "duration": 7,
    "start_time": "2023-02-12T19:36:38.366Z"
   },
   {
    "duration": 17,
    "start_time": "2023-02-12T19:36:38.375Z"
   },
   {
    "duration": 435,
    "start_time": "2023-02-12T19:36:38.393Z"
   },
   {
    "duration": 4,
    "start_time": "2023-02-12T19:36:38.829Z"
   },
   {
    "duration": 36,
    "start_time": "2023-02-12T19:36:38.835Z"
   },
   {
    "duration": 311,
    "start_time": "2023-02-12T19:36:38.875Z"
   },
   {
    "duration": 219,
    "start_time": "2023-02-12T19:36:39.188Z"
   },
   {
    "duration": 172,
    "start_time": "2023-02-12T19:36:39.409Z"
   },
   {
    "duration": 159,
    "start_time": "2023-02-12T19:36:39.583Z"
   },
   {
    "duration": 157,
    "start_time": "2023-02-12T19:36:39.744Z"
   },
   {
    "duration": 178,
    "start_time": "2023-02-12T19:36:39.903Z"
   },
   {
    "duration": 165,
    "start_time": "2023-02-12T19:36:40.083Z"
   },
   {
    "duration": 214,
    "start_time": "2023-02-12T19:36:40.250Z"
   },
   {
    "duration": 157,
    "start_time": "2023-02-12T19:36:40.468Z"
   },
   {
    "duration": 162,
    "start_time": "2023-02-12T19:36:40.626Z"
   },
   {
    "duration": 165,
    "start_time": "2023-02-12T19:36:40.790Z"
   },
   {
    "duration": 153,
    "start_time": "2023-02-12T19:36:40.956Z"
   },
   {
    "duration": 151,
    "start_time": "2023-02-12T19:36:41.111Z"
   },
   {
    "duration": 166,
    "start_time": "2023-02-12T19:36:41.267Z"
   },
   {
    "duration": 270,
    "start_time": "2023-02-12T19:36:41.435Z"
   },
   {
    "duration": 5,
    "start_time": "2023-02-12T19:36:41.707Z"
   },
   {
    "duration": 11,
    "start_time": "2023-02-12T19:36:41.714Z"
   },
   {
    "duration": 187,
    "start_time": "2023-02-12T19:36:41.726Z"
   },
   {
    "duration": 183,
    "start_time": "2023-02-12T19:36:41.915Z"
   },
   {
    "duration": 230,
    "start_time": "2023-02-12T19:36:42.100Z"
   },
   {
    "duration": 155,
    "start_time": "2023-02-12T19:36:42.332Z"
   },
   {
    "duration": 36268,
    "start_time": "2023-02-12T19:36:42.488Z"
   },
   {
    "duration": 39543,
    "start_time": "2023-02-12T19:37:18.758Z"
   },
   {
    "duration": 37734,
    "start_time": "2023-02-12T19:37:58.303Z"
   },
   {
    "duration": 36901,
    "start_time": "2023-02-12T19:38:36.039Z"
   },
   {
    "duration": 6,
    "start_time": "2023-02-12T19:39:12.943Z"
   },
   {
    "duration": 41,
    "start_time": "2023-02-12T19:39:12.951Z"
   },
   {
    "duration": 22,
    "start_time": "2023-02-12T19:39:12.994Z"
   },
   {
    "duration": 169,
    "start_time": "2023-02-12T19:39:13.018Z"
   },
   {
    "duration": 154,
    "start_time": "2023-02-12T19:39:13.191Z"
   },
   {
    "duration": 3884,
    "start_time": "2023-02-12T19:39:40.355Z"
   },
   {
    "duration": 207,
    "start_time": "2023-02-12T19:39:54.505Z"
   },
   {
    "duration": 214,
    "start_time": "2023-02-12T19:40:03.129Z"
   },
   {
    "duration": 188,
    "start_time": "2023-02-12T19:40:08.449Z"
   },
   {
    "duration": 868,
    "start_time": "2023-02-12T19:40:16.136Z"
   },
   {
    "duration": 183,
    "start_time": "2023-02-12T19:40:29.623Z"
   },
   {
    "duration": 222,
    "start_time": "2023-02-12T19:40:50.808Z"
   },
   {
    "duration": 57,
    "start_time": "2023-02-12T19:41:29.193Z"
   },
   {
    "duration": 193,
    "start_time": "2023-02-12T19:41:38.318Z"
   },
   {
    "duration": 84,
    "start_time": "2023-02-12T19:51:32.323Z"
   },
   {
    "duration": 8,
    "start_time": "2023-02-12T19:51:41.693Z"
   },
   {
    "duration": 135,
    "start_time": "2023-02-12T19:51:46.635Z"
   },
   {
    "duration": 150,
    "start_time": "2023-02-12T19:52:30.226Z"
   },
   {
    "duration": 179,
    "start_time": "2023-02-12T19:52:53.962Z"
   },
   {
    "duration": 131,
    "start_time": "2023-02-12T19:53:04.392Z"
   },
   {
    "duration": 162,
    "start_time": "2023-02-12T19:53:09.994Z"
   },
   {
    "duration": 153,
    "start_time": "2023-02-12T19:55:29.992Z"
   },
   {
    "duration": 221,
    "start_time": "2023-02-12T19:55:35.758Z"
   },
   {
    "duration": 249,
    "start_time": "2023-02-12T19:55:38.759Z"
   },
   {
    "duration": 143,
    "start_time": "2023-02-12T19:55:43.493Z"
   },
   {
    "duration": 56,
    "start_time": "2023-02-12T19:59:42.193Z"
   },
   {
    "duration": 635,
    "start_time": "2023-02-12T20:01:25.603Z"
   },
   {
    "duration": 118,
    "start_time": "2023-02-12T20:01:26.239Z"
   },
   {
    "duration": 32,
    "start_time": "2023-02-12T20:01:26.358Z"
   },
   {
    "duration": 26,
    "start_time": "2023-02-12T20:01:26.392Z"
   },
   {
    "duration": 83,
    "start_time": "2023-02-12T20:01:26.420Z"
   },
   {
    "duration": 2139,
    "start_time": "2023-02-12T20:01:26.505Z"
   },
   {
    "duration": 10,
    "start_time": "2023-02-12T20:01:28.645Z"
   },
   {
    "duration": 22,
    "start_time": "2023-02-12T20:01:28.656Z"
   },
   {
    "duration": 19,
    "start_time": "2023-02-12T20:01:28.679Z"
   },
   {
    "duration": 5,
    "start_time": "2023-02-12T20:01:28.700Z"
   },
   {
    "duration": 7,
    "start_time": "2023-02-12T20:01:28.706Z"
   },
   {
    "duration": 7,
    "start_time": "2023-02-12T20:01:28.715Z"
   },
   {
    "duration": 7,
    "start_time": "2023-02-12T20:01:28.724Z"
   },
   {
    "duration": 28,
    "start_time": "2023-02-12T20:01:28.732Z"
   },
   {
    "duration": 15,
    "start_time": "2023-02-12T20:01:28.767Z"
   },
   {
    "duration": 55,
    "start_time": "2023-02-12T20:01:28.784Z"
   },
   {
    "duration": 8,
    "start_time": "2023-02-12T20:01:28.841Z"
   },
   {
    "duration": 10,
    "start_time": "2023-02-12T20:01:28.851Z"
   },
   {
    "duration": 6,
    "start_time": "2023-02-12T20:01:28.863Z"
   },
   {
    "duration": 147,
    "start_time": "2023-02-12T20:01:28.872Z"
   },
   {
    "duration": 12,
    "start_time": "2023-02-12T20:01:29.021Z"
   },
   {
    "duration": 139,
    "start_time": "2023-02-12T20:01:29.035Z"
   },
   {
    "duration": 12,
    "start_time": "2023-02-12T20:01:29.183Z"
   },
   {
    "duration": 119,
    "start_time": "2023-02-12T20:01:29.197Z"
   },
   {
    "duration": 6,
    "start_time": "2023-02-12T20:01:29.317Z"
   },
   {
    "duration": 126,
    "start_time": "2023-02-12T20:01:29.325Z"
   },
   {
    "duration": 7,
    "start_time": "2023-02-12T20:01:29.453Z"
   },
   {
    "duration": 142,
    "start_time": "2023-02-12T20:01:29.481Z"
   },
   {
    "duration": 8,
    "start_time": "2023-02-12T20:01:29.625Z"
   },
   {
    "duration": 45,
    "start_time": "2023-02-12T20:01:29.635Z"
   },
   {
    "duration": 70,
    "start_time": "2023-02-12T20:01:29.692Z"
   },
   {
    "duration": 8,
    "start_time": "2023-02-12T20:01:29.763Z"
   },
   {
    "duration": 29,
    "start_time": "2023-02-12T20:01:29.775Z"
   },
   {
    "duration": 7,
    "start_time": "2023-02-12T20:01:29.805Z"
   },
   {
    "duration": 6,
    "start_time": "2023-02-12T20:01:29.813Z"
   },
   {
    "duration": 445,
    "start_time": "2023-02-12T20:01:29.821Z"
   },
   {
    "duration": 9,
    "start_time": "2023-02-12T20:01:30.269Z"
   },
   {
    "duration": 45,
    "start_time": "2023-02-12T20:01:30.279Z"
   },
   {
    "duration": 294,
    "start_time": "2023-02-12T20:01:30.328Z"
   },
   {
    "duration": 226,
    "start_time": "2023-02-12T20:01:30.624Z"
   },
   {
    "duration": 181,
    "start_time": "2023-02-12T20:01:30.852Z"
   },
   {
    "duration": 200,
    "start_time": "2023-02-12T20:01:31.035Z"
   },
   {
    "duration": 151,
    "start_time": "2023-02-12T20:01:31.236Z"
   },
   {
    "duration": 163,
    "start_time": "2023-02-12T20:01:31.390Z"
   },
   {
    "duration": 252,
    "start_time": "2023-02-12T20:01:31.554Z"
   },
   {
    "duration": 131,
    "start_time": "2023-02-12T20:01:31.807Z"
   },
   {
    "duration": 166,
    "start_time": "2023-02-12T20:01:31.939Z"
   },
   {
    "duration": 164,
    "start_time": "2023-02-12T20:01:32.107Z"
   },
   {
    "duration": 168,
    "start_time": "2023-02-12T20:01:32.273Z"
   },
   {
    "duration": 152,
    "start_time": "2023-02-12T20:01:32.443Z"
   },
   {
    "duration": 148,
    "start_time": "2023-02-12T20:01:32.598Z"
   },
   {
    "duration": 172,
    "start_time": "2023-02-12T20:01:32.747Z"
   },
   {
    "duration": 296,
    "start_time": "2023-02-12T20:01:32.920Z"
   },
   {
    "duration": 4,
    "start_time": "2023-02-12T20:01:33.218Z"
   },
   {
    "duration": 6,
    "start_time": "2023-02-12T20:01:33.224Z"
   },
   {
    "duration": 201,
    "start_time": "2023-02-12T20:01:33.232Z"
   },
   {
    "duration": 269,
    "start_time": "2023-02-12T20:01:33.435Z"
   },
   {
    "duration": 165,
    "start_time": "2023-02-12T20:01:33.706Z"
   },
   {
    "duration": 154,
    "start_time": "2023-02-12T20:01:33.873Z"
   },
   {
    "duration": 129,
    "start_time": "2023-02-12T20:01:34.028Z"
   },
   {
    "duration": 164,
    "start_time": "2023-02-12T20:01:34.159Z"
   },
   {
    "duration": 196,
    "start_time": "2023-02-12T20:01:34.324Z"
   },
   {
    "duration": 180,
    "start_time": "2023-02-12T20:01:34.522Z"
   },
   {
    "duration": 6,
    "start_time": "2023-02-12T20:01:34.704Z"
   },
   {
    "duration": 23,
    "start_time": "2023-02-12T20:01:34.711Z"
   },
   {
    "duration": 22,
    "start_time": "2023-02-12T20:01:34.736Z"
   },
   {
    "duration": 171,
    "start_time": "2023-02-12T20:01:34.759Z"
   },
   {
    "duration": 780,
    "start_time": "2023-02-13T18:29:56.742Z"
   },
   {
    "duration": 300,
    "start_time": "2023-02-13T18:29:57.525Z"
   },
   {
    "duration": 23,
    "start_time": "2023-02-13T18:29:57.826Z"
   },
   {
    "duration": 13,
    "start_time": "2023-02-13T18:29:57.852Z"
   },
   {
    "duration": 67,
    "start_time": "2023-02-13T18:29:57.867Z"
   },
   {
    "duration": 1763,
    "start_time": "2023-02-13T18:29:57.948Z"
   },
   {
    "duration": 9,
    "start_time": "2023-02-13T18:29:59.712Z"
   },
   {
    "duration": 12,
    "start_time": "2023-02-13T18:29:59.723Z"
   },
   {
    "duration": 3,
    "start_time": "2023-02-13T18:29:59.737Z"
   },
   {
    "duration": 6,
    "start_time": "2023-02-13T18:29:59.742Z"
   },
   {
    "duration": 9,
    "start_time": "2023-02-13T18:29:59.749Z"
   },
   {
    "duration": 8,
    "start_time": "2023-02-13T18:29:59.759Z"
   },
   {
    "duration": 6,
    "start_time": "2023-02-13T18:29:59.768Z"
   },
   {
    "duration": 22,
    "start_time": "2023-02-13T18:29:59.775Z"
   },
   {
    "duration": 8,
    "start_time": "2023-02-13T18:29:59.798Z"
   },
   {
    "duration": 61,
    "start_time": "2023-02-13T18:29:59.807Z"
   },
   {
    "duration": 8,
    "start_time": "2023-02-13T18:29:59.869Z"
   },
   {
    "duration": 13,
    "start_time": "2023-02-13T18:29:59.878Z"
   },
   {
    "duration": 14,
    "start_time": "2023-02-13T18:29:59.894Z"
   },
   {
    "duration": 106,
    "start_time": "2023-02-13T18:29:59.910Z"
   },
   {
    "duration": 10,
    "start_time": "2023-02-13T18:30:00.019Z"
   },
   {
    "duration": 134,
    "start_time": "2023-02-13T18:30:00.031Z"
   },
   {
    "duration": 8,
    "start_time": "2023-02-13T18:30:00.167Z"
   },
   {
    "duration": 130,
    "start_time": "2023-02-13T18:30:00.177Z"
   },
   {
    "duration": 7,
    "start_time": "2023-02-13T18:30:00.309Z"
   },
   {
    "duration": 116,
    "start_time": "2023-02-13T18:30:00.318Z"
   },
   {
    "duration": 12,
    "start_time": "2023-02-13T18:30:00.436Z"
   },
   {
    "duration": 139,
    "start_time": "2023-02-13T18:30:00.452Z"
   },
   {
    "duration": 7,
    "start_time": "2023-02-13T18:30:00.592Z"
   },
   {
    "duration": 68,
    "start_time": "2023-02-13T18:30:00.600Z"
   },
   {
    "duration": 63,
    "start_time": "2023-02-13T18:30:00.670Z"
   },
   {
    "duration": 13,
    "start_time": "2023-02-13T18:30:00.735Z"
   },
   {
    "duration": 47,
    "start_time": "2023-02-13T18:30:00.750Z"
   },
   {
    "duration": 41,
    "start_time": "2023-02-13T18:30:00.798Z"
   },
   {
    "duration": 30,
    "start_time": "2023-02-13T18:30:00.840Z"
   },
   {
    "duration": 406,
    "start_time": "2023-02-13T18:30:00.871Z"
   },
   {
    "duration": 4,
    "start_time": "2023-02-13T18:30:01.279Z"
   },
   {
    "duration": 50,
    "start_time": "2023-02-13T18:30:01.285Z"
   },
   {
    "duration": 266,
    "start_time": "2023-02-13T18:30:01.336Z"
   },
   {
    "duration": 227,
    "start_time": "2023-02-13T18:30:01.604Z"
   },
   {
    "duration": 180,
    "start_time": "2023-02-13T18:30:01.833Z"
   },
   {
    "duration": 201,
    "start_time": "2023-02-13T18:30:02.015Z"
   },
   {
    "duration": 149,
    "start_time": "2023-02-13T18:30:02.218Z"
   },
   {
    "duration": 166,
    "start_time": "2023-02-13T18:30:02.369Z"
   },
   {
    "duration": 215,
    "start_time": "2023-02-13T18:30:02.537Z"
   },
   {
    "duration": 145,
    "start_time": "2023-02-13T18:30:02.754Z"
   },
   {
    "duration": 154,
    "start_time": "2023-02-13T18:30:02.900Z"
   },
   {
    "duration": 146,
    "start_time": "2023-02-13T18:30:03.056Z"
   },
   {
    "duration": 152,
    "start_time": "2023-02-13T18:30:03.204Z"
   },
   {
    "duration": 139,
    "start_time": "2023-02-13T18:30:03.358Z"
   },
   {
    "duration": 132,
    "start_time": "2023-02-13T18:30:03.499Z"
   },
   {
    "duration": 156,
    "start_time": "2023-02-13T18:30:03.632Z"
   },
   {
    "duration": 230,
    "start_time": "2023-02-13T18:30:03.790Z"
   },
   {
    "duration": 5,
    "start_time": "2023-02-13T18:30:04.021Z"
   },
   {
    "duration": 8,
    "start_time": "2023-02-13T18:30:04.027Z"
   },
   {
    "duration": 175,
    "start_time": "2023-02-13T18:30:04.037Z"
   },
   {
    "duration": 236,
    "start_time": "2023-02-13T18:30:04.214Z"
   },
   {
    "duration": 146,
    "start_time": "2023-02-13T18:30:04.451Z"
   },
   {
    "duration": 143,
    "start_time": "2023-02-13T18:30:04.599Z"
   },
   {
    "duration": 117,
    "start_time": "2023-02-13T18:30:04.748Z"
   },
   {
    "duration": 141,
    "start_time": "2023-02-13T18:30:04.866Z"
   },
   {
    "duration": 199,
    "start_time": "2023-02-13T18:30:05.008Z"
   },
   {
    "duration": 193,
    "start_time": "2023-02-13T18:30:05.209Z"
   },
   {
    "duration": 7,
    "start_time": "2023-02-13T18:30:05.404Z"
   },
   {
    "duration": 40,
    "start_time": "2023-02-13T18:30:05.413Z"
   },
   {
    "duration": 38,
    "start_time": "2023-02-13T18:30:05.455Z"
   },
   {
    "duration": 129,
    "start_time": "2023-02-13T18:30:05.495Z"
   }
  ],
  "kernelspec": {
   "display_name": "Python 3 (ipykernel)",
   "language": "python",
   "name": "python3"
  },
  "language_info": {
   "codemirror_mode": {
    "name": "ipython",
    "version": 3
   },
   "file_extension": ".py",
   "mimetype": "text/x-python",
   "name": "python",
   "nbconvert_exporter": "python",
   "pygments_lexer": "ipython3",
   "version": "3.9.13"
  },
  "toc": {
   "base_numbering": 1,
   "nav_menu": {},
   "number_sections": true,
   "sideBar": true,
   "skip_h1_title": true,
   "title_cell": "Table of Contents",
   "title_sidebar": "Contents",
   "toc_cell": false,
   "toc_position": {},
   "toc_section_display": true,
   "toc_window_display": false
  }
 },
 "nbformat": 4,
 "nbformat_minor": 2
}
